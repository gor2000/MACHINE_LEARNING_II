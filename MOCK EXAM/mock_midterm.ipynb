{
 "nbformat": 4,
 "nbformat_minor": 0,
 "metadata": {
  "colab": {
   "provenance": []
  },
  "kernelspec": {
   "name": "python3",
   "language": "python",
   "display_name": "Python 3 (ipykernel)"
  },
  "language_info": {
   "name": "python"
  }
 },
 "cells": [
  {
   "cell_type": "code",
   "execution_count": 65,
   "metadata": {
    "id": "_OKK2VwBbP81",
    "ExecuteTime": {
     "end_time": "2023-09-18T17:28:22.751882400Z",
     "start_time": "2023-09-18T17:28:22.728851600Z"
    }
   },
   "outputs": [],
   "source": [
    "# Load libraries\n",
    "import numpy as np\n",
    "import pandas as pd\n",
    "import io"
   ]
  },
  {
   "cell_type": "markdown",
   "source": [
    "#  Mock Midterm Exercise"
   ],
   "metadata": {
    "id": "VoFYQVQ0bVCN"
   }
  },
  {
   "cell_type": "markdown",
   "source": [
    "In this exercise you will have to implement code in the sections inside *Fill with Your Code* (*Load Data*, *Data Preprocessing* and *Create Model*) create a model to predict the column *exitus* in the dataset given. The dataset is already split into train, validation, and test subsets. To see to which subset belong each observation, you need to check the *dataset* column.\n",
    "\n",
    "The code that is already written in this notebook **CANNOT BE CHANGED**. You can only add code in the *Fill with Your Code* section.\n",
    "\n",
    "You must achieve in the last cell of this notebook an **AUC over test of at least 0.93**."
   ],
   "metadata": {
    "id": "xdYg4_U3bYH8"
   }
  },
  {
   "cell_type": "markdown",
   "source": [
    "# Fill With Your Code"
   ],
   "metadata": {
    "id": "_lpuKCkfb9do"
   }
  },
  {
   "cell_type": "markdown",
   "source": [
    "### [1] Load Data"
   ],
   "metadata": {
    "id": "66HBtc2Cbpm_"
   }
  },
  {
   "cell_type": "code",
   "source": [
    "dat = pd.read_csv('../data/healthcare_missing.csv', sep = \",\")"
   ],
   "metadata": {
    "id": "EtxuaDPHbWj1",
    "ExecuteTime": {
     "end_time": "2023-09-18T17:49:17.428076600Z",
     "start_time": "2023-09-18T17:49:17.380030300Z"
    }
   },
   "execution_count": 121,
   "outputs": []
  },
  {
   "cell_type": "code",
   "source": [
    "dat"
   ],
   "metadata": {
    "colab": {
     "base_uri": "https://localhost:8080/",
     "height": 423
    },
    "id": "Qq_JqH9bev9L",
    "outputId": "95b4918a-7f25-4969-9592-bc4d6b7649bd",
    "ExecuteTime": {
     "end_time": "2023-09-18T17:38:39.579529600Z",
     "start_time": "2023-09-18T17:38:39.557789400Z"
    }
   },
   "execution_count": 91,
   "outputs": [
    {
     "data": {
      "text/plain": "          date  severity  mortality_ratio      age  num_proc  ambulatory  \\\n0      2016-01       NaN         0.408730  12596.0      21.0         0.0   \n1      2016-01       NaN         0.306931  20973.0      22.0         NaN   \n2      2016-01       4.0         0.278481  19611.0      19.0         NaN   \n3      2016-01       3.0         0.150289  13583.0      22.0         NaN   \n4      2016-01       1.0         0.016573  18042.0       2.0         NaN   \n...        ...       ...              ...      ...       ...         ...   \n32701  2016-12       2.0         0.028365  23619.0       2.0         NaN   \n32702  2016-12       1.0         0.000606   3935.0       1.0         NaN   \n32703  2016-12       NaN         0.040452  30163.0       4.0         NaN   \n32704  2016-12       NaN         0.000000  29012.0       4.0         NaN   \n32705  2016-12       NaN         0.000000  13244.0       1.0         NaN   \n\n       origin  expected_length tip_grd  tip_adm  exitus  \n0         NaN            151.0       Q      1.0       0  \n1         NaN             99.0       Q      1.0       0  \n2         NaN             87.0     NaN      1.0       0  \n3         NaN            100.0       Q      NaN       0  \n4         NaN             44.0       Q      1.0       0  \n...       ...              ...     ...      ...     ...  \n32701     NaN              2.0     NaN      1.0       0  \n32702     1.0              2.0       M      1.0       0  \n32703     NaN              2.0       M      NaN       0  \n32704     NaN              0.0     NaN      1.0       0  \n32705     NaN              0.0       Q      1.0       0  \n\n[32706 rows x 11 columns]",
      "text/html": "<div>\n<style scoped>\n    .dataframe tbody tr th:only-of-type {\n        vertical-align: middle;\n    }\n\n    .dataframe tbody tr th {\n        vertical-align: top;\n    }\n\n    .dataframe thead th {\n        text-align: right;\n    }\n</style>\n<table border=\"1\" class=\"dataframe\">\n  <thead>\n    <tr style=\"text-align: right;\">\n      <th></th>\n      <th>date</th>\n      <th>severity</th>\n      <th>mortality_ratio</th>\n      <th>age</th>\n      <th>num_proc</th>\n      <th>ambulatory</th>\n      <th>origin</th>\n      <th>expected_length</th>\n      <th>tip_grd</th>\n      <th>tip_adm</th>\n      <th>exitus</th>\n    </tr>\n  </thead>\n  <tbody>\n    <tr>\n      <th>0</th>\n      <td>2016-01</td>\n      <td>NaN</td>\n      <td>0.408730</td>\n      <td>12596.0</td>\n      <td>21.0</td>\n      <td>0.0</td>\n      <td>NaN</td>\n      <td>151.0</td>\n      <td>Q</td>\n      <td>1.0</td>\n      <td>0</td>\n    </tr>\n    <tr>\n      <th>1</th>\n      <td>2016-01</td>\n      <td>NaN</td>\n      <td>0.306931</td>\n      <td>20973.0</td>\n      <td>22.0</td>\n      <td>NaN</td>\n      <td>NaN</td>\n      <td>99.0</td>\n      <td>Q</td>\n      <td>1.0</td>\n      <td>0</td>\n    </tr>\n    <tr>\n      <th>2</th>\n      <td>2016-01</td>\n      <td>4.0</td>\n      <td>0.278481</td>\n      <td>19611.0</td>\n      <td>19.0</td>\n      <td>NaN</td>\n      <td>NaN</td>\n      <td>87.0</td>\n      <td>NaN</td>\n      <td>1.0</td>\n      <td>0</td>\n    </tr>\n    <tr>\n      <th>3</th>\n      <td>2016-01</td>\n      <td>3.0</td>\n      <td>0.150289</td>\n      <td>13583.0</td>\n      <td>22.0</td>\n      <td>NaN</td>\n      <td>NaN</td>\n      <td>100.0</td>\n      <td>Q</td>\n      <td>NaN</td>\n      <td>0</td>\n    </tr>\n    <tr>\n      <th>4</th>\n      <td>2016-01</td>\n      <td>1.0</td>\n      <td>0.016573</td>\n      <td>18042.0</td>\n      <td>2.0</td>\n      <td>NaN</td>\n      <td>NaN</td>\n      <td>44.0</td>\n      <td>Q</td>\n      <td>1.0</td>\n      <td>0</td>\n    </tr>\n    <tr>\n      <th>...</th>\n      <td>...</td>\n      <td>...</td>\n      <td>...</td>\n      <td>...</td>\n      <td>...</td>\n      <td>...</td>\n      <td>...</td>\n      <td>...</td>\n      <td>...</td>\n      <td>...</td>\n      <td>...</td>\n    </tr>\n    <tr>\n      <th>32701</th>\n      <td>2016-12</td>\n      <td>2.0</td>\n      <td>0.028365</td>\n      <td>23619.0</td>\n      <td>2.0</td>\n      <td>NaN</td>\n      <td>NaN</td>\n      <td>2.0</td>\n      <td>NaN</td>\n      <td>1.0</td>\n      <td>0</td>\n    </tr>\n    <tr>\n      <th>32702</th>\n      <td>2016-12</td>\n      <td>1.0</td>\n      <td>0.000606</td>\n      <td>3935.0</td>\n      <td>1.0</td>\n      <td>NaN</td>\n      <td>1.0</td>\n      <td>2.0</td>\n      <td>M</td>\n      <td>1.0</td>\n      <td>0</td>\n    </tr>\n    <tr>\n      <th>32703</th>\n      <td>2016-12</td>\n      <td>NaN</td>\n      <td>0.040452</td>\n      <td>30163.0</td>\n      <td>4.0</td>\n      <td>NaN</td>\n      <td>NaN</td>\n      <td>2.0</td>\n      <td>M</td>\n      <td>NaN</td>\n      <td>0</td>\n    </tr>\n    <tr>\n      <th>32704</th>\n      <td>2016-12</td>\n      <td>NaN</td>\n      <td>0.000000</td>\n      <td>29012.0</td>\n      <td>4.0</td>\n      <td>NaN</td>\n      <td>NaN</td>\n      <td>0.0</td>\n      <td>NaN</td>\n      <td>1.0</td>\n      <td>0</td>\n    </tr>\n    <tr>\n      <th>32705</th>\n      <td>2016-12</td>\n      <td>NaN</td>\n      <td>0.000000</td>\n      <td>13244.0</td>\n      <td>1.0</td>\n      <td>NaN</td>\n      <td>NaN</td>\n      <td>0.0</td>\n      <td>Q</td>\n      <td>1.0</td>\n      <td>0</td>\n    </tr>\n  </tbody>\n</table>\n<p>32706 rows × 11 columns</p>\n</div>"
     },
     "execution_count": 91,
     "metadata": {},
     "output_type": "execute_result"
    }
   ]
  },
  {
   "cell_type": "code",
   "execution_count": 122,
   "outputs": [
    {
     "data": {
      "text/plain": "       severity  mortality_ratio      age  num_proc  ambulatory  origin  \\\n0           NaN         0.408730  12596.0      21.0         0.0     NaN   \n1           NaN         0.306931  20973.0      22.0         NaN     NaN   \n2           4.0         0.278481  19611.0      19.0         NaN     NaN   \n3           3.0         0.150289  13583.0      22.0         NaN     NaN   \n4           1.0         0.016573  18042.0       2.0         NaN     NaN   \n...         ...              ...      ...       ...         ...     ...   \n32701       2.0         0.028365  23619.0       2.0         NaN     NaN   \n32702       1.0         0.000606   3935.0       1.0         NaN     1.0   \n32703       NaN         0.040452  30163.0       4.0         NaN     NaN   \n32704       NaN         0.000000  29012.0       4.0         NaN     NaN   \n32705       NaN         0.000000  13244.0       1.0         NaN     NaN   \n\n       expected_length tip_grd  tip_adm  \n0                151.0       Q      1.0  \n1                 99.0       Q      1.0  \n2                 87.0     NaN      1.0  \n3                100.0       Q      NaN  \n4                 44.0       Q      1.0  \n...                ...     ...      ...  \n32701              2.0     NaN      1.0  \n32702              2.0       M      1.0  \n32703              2.0       M      NaN  \n32704              0.0     NaN      1.0  \n32705              0.0       Q      1.0  \n\n[32706 rows x 9 columns]",
      "text/html": "<div>\n<style scoped>\n    .dataframe tbody tr th:only-of-type {\n        vertical-align: middle;\n    }\n\n    .dataframe tbody tr th {\n        vertical-align: top;\n    }\n\n    .dataframe thead th {\n        text-align: right;\n    }\n</style>\n<table border=\"1\" class=\"dataframe\">\n  <thead>\n    <tr style=\"text-align: right;\">\n      <th></th>\n      <th>severity</th>\n      <th>mortality_ratio</th>\n      <th>age</th>\n      <th>num_proc</th>\n      <th>ambulatory</th>\n      <th>origin</th>\n      <th>expected_length</th>\n      <th>tip_grd</th>\n      <th>tip_adm</th>\n    </tr>\n  </thead>\n  <tbody>\n    <tr>\n      <th>0</th>\n      <td>NaN</td>\n      <td>0.408730</td>\n      <td>12596.0</td>\n      <td>21.0</td>\n      <td>0.0</td>\n      <td>NaN</td>\n      <td>151.0</td>\n      <td>Q</td>\n      <td>1.0</td>\n    </tr>\n    <tr>\n      <th>1</th>\n      <td>NaN</td>\n      <td>0.306931</td>\n      <td>20973.0</td>\n      <td>22.0</td>\n      <td>NaN</td>\n      <td>NaN</td>\n      <td>99.0</td>\n      <td>Q</td>\n      <td>1.0</td>\n    </tr>\n    <tr>\n      <th>2</th>\n      <td>4.0</td>\n      <td>0.278481</td>\n      <td>19611.0</td>\n      <td>19.0</td>\n      <td>NaN</td>\n      <td>NaN</td>\n      <td>87.0</td>\n      <td>NaN</td>\n      <td>1.0</td>\n    </tr>\n    <tr>\n      <th>3</th>\n      <td>3.0</td>\n      <td>0.150289</td>\n      <td>13583.0</td>\n      <td>22.0</td>\n      <td>NaN</td>\n      <td>NaN</td>\n      <td>100.0</td>\n      <td>Q</td>\n      <td>NaN</td>\n    </tr>\n    <tr>\n      <th>4</th>\n      <td>1.0</td>\n      <td>0.016573</td>\n      <td>18042.0</td>\n      <td>2.0</td>\n      <td>NaN</td>\n      <td>NaN</td>\n      <td>44.0</td>\n      <td>Q</td>\n      <td>1.0</td>\n    </tr>\n    <tr>\n      <th>...</th>\n      <td>...</td>\n      <td>...</td>\n      <td>...</td>\n      <td>...</td>\n      <td>...</td>\n      <td>...</td>\n      <td>...</td>\n      <td>...</td>\n      <td>...</td>\n    </tr>\n    <tr>\n      <th>32701</th>\n      <td>2.0</td>\n      <td>0.028365</td>\n      <td>23619.0</td>\n      <td>2.0</td>\n      <td>NaN</td>\n      <td>NaN</td>\n      <td>2.0</td>\n      <td>NaN</td>\n      <td>1.0</td>\n    </tr>\n    <tr>\n      <th>32702</th>\n      <td>1.0</td>\n      <td>0.000606</td>\n      <td>3935.0</td>\n      <td>1.0</td>\n      <td>NaN</td>\n      <td>1.0</td>\n      <td>2.0</td>\n      <td>M</td>\n      <td>1.0</td>\n    </tr>\n    <tr>\n      <th>32703</th>\n      <td>NaN</td>\n      <td>0.040452</td>\n      <td>30163.0</td>\n      <td>4.0</td>\n      <td>NaN</td>\n      <td>NaN</td>\n      <td>2.0</td>\n      <td>M</td>\n      <td>NaN</td>\n    </tr>\n    <tr>\n      <th>32704</th>\n      <td>NaN</td>\n      <td>0.000000</td>\n      <td>29012.0</td>\n      <td>4.0</td>\n      <td>NaN</td>\n      <td>NaN</td>\n      <td>0.0</td>\n      <td>NaN</td>\n      <td>1.0</td>\n    </tr>\n    <tr>\n      <th>32705</th>\n      <td>NaN</td>\n      <td>0.000000</td>\n      <td>13244.0</td>\n      <td>1.0</td>\n      <td>NaN</td>\n      <td>NaN</td>\n      <td>0.0</td>\n      <td>Q</td>\n      <td>1.0</td>\n    </tr>\n  </tbody>\n</table>\n<p>32706 rows × 9 columns</p>\n</div>"
     },
     "execution_count": 122,
     "metadata": {},
     "output_type": "execute_result"
    }
   ],
   "source": [
    "y = dat['exitus']\n",
    "X = dat.drop(['exitus', 'date'], axis = 1)\n",
    "X"
   ],
   "metadata": {
    "collapsed": false,
    "ExecuteTime": {
     "end_time": "2023-09-18T17:49:19.092001700Z",
     "start_time": "2023-09-18T17:49:19.066004600Z"
    }
   }
  },
  {
   "cell_type": "markdown",
   "source": [
    "### [2]  Data Preprocessing"
   ],
   "metadata": {
    "id": "bALdZkw9dzzv"
   }
  },
  {
   "cell_type": "code",
   "execution_count": 123,
   "outputs": [
    {
     "name": "stdout",
     "output_type": "stream",
     "text": [
      "['severity', 'origin', 'ambulatory', 'tip_grd', 'tip_adm']\n",
      "['num_proc', 'expected_length', 'mortality_ratio', 'age']\n"
     ]
    }
   ],
   "source": [
    "from sklearn.preprocessing import OneHotEncoder\n",
    "\n",
    "categorical_vars = ['severity', 'origin', 'ambulatory', 'tip_grd', 'tip_adm']\n",
    "non_categorical_vars = list(set(X.columns) - set(categorical_vars))\n",
    "print(categorical_vars)\n",
    "print(non_categorical_vars)"
   ],
   "metadata": {
    "collapsed": false,
    "ExecuteTime": {
     "end_time": "2023-09-18T17:49:34.588019400Z",
     "start_time": "2023-09-18T17:49:34.567281700Z"
    }
   }
  },
  {
   "cell_type": "code",
   "execution_count": 124,
   "outputs": [
    {
     "data": {
      "text/plain": "       num_proc  expected_length  mortality_ratio      age  severity_1.0  \\\n0          21.0            151.0         0.408730  12596.0           0.0   \n1          22.0             99.0         0.306931  20973.0           0.0   \n2          19.0             87.0         0.278481  19611.0           0.0   \n3          22.0            100.0         0.150289  13583.0           0.0   \n4           2.0             44.0         0.016573  18042.0           1.0   \n...         ...              ...              ...      ...           ...   \n32701       2.0              2.0         0.028365  23619.0           0.0   \n32702       1.0              2.0         0.000606   3935.0           1.0   \n32703       4.0              2.0         0.040452  30163.0           0.0   \n32704       4.0              0.0         0.000000  29012.0           0.0   \n32705       1.0              0.0         0.000000  13244.0           0.0   \n\n       severity_2.0  severity_3.0  severity_4.0  severity_nan  origin_1.0  \\\n0               0.0           0.0           0.0           1.0         0.0   \n1               0.0           0.0           0.0           1.0         0.0   \n2               0.0           0.0           1.0           0.0         0.0   \n3               0.0           1.0           0.0           0.0         0.0   \n4               0.0           0.0           0.0           0.0         0.0   \n...             ...           ...           ...           ...         ...   \n32701           1.0           0.0           0.0           0.0         0.0   \n32702           0.0           0.0           0.0           0.0         1.0   \n32703           0.0           0.0           0.0           1.0         0.0   \n32704           0.0           0.0           0.0           1.0         0.0   \n32705           0.0           0.0           0.0           1.0         0.0   \n\n       ...  ambulatory_0.0  ambulatory_1.0  ambulatory_nan  tip_grd_M  \\\n0      ...             1.0             0.0             0.0        0.0   \n1      ...             0.0             0.0             1.0        0.0   \n2      ...             0.0             0.0             1.0        0.0   \n3      ...             0.0             0.0             1.0        0.0   \n4      ...             0.0             0.0             1.0        0.0   \n...    ...             ...             ...             ...        ...   \n32701  ...             0.0             0.0             1.0        0.0   \n32702  ...             0.0             0.0             1.0        1.0   \n32703  ...             0.0             0.0             1.0        1.0   \n32704  ...             0.0             0.0             1.0        0.0   \n32705  ...             0.0             0.0             1.0        0.0   \n\n       tip_grd_Q  tip_grd_nan  tip_adm_1.0  tip_adm_2.0  tip_adm_3.0  \\\n0            1.0          0.0          1.0          0.0          0.0   \n1            1.0          0.0          1.0          0.0          0.0   \n2            0.0          1.0          1.0          0.0          0.0   \n3            1.0          0.0          0.0          0.0          0.0   \n4            1.0          0.0          1.0          0.0          0.0   \n...          ...          ...          ...          ...          ...   \n32701        0.0          1.0          1.0          0.0          0.0   \n32702        0.0          0.0          1.0          0.0          0.0   \n32703        0.0          0.0          0.0          0.0          0.0   \n32704        0.0          1.0          1.0          0.0          0.0   \n32705        1.0          0.0          1.0          0.0          0.0   \n\n       tip_adm_nan  \n0              0.0  \n1              0.0  \n2              0.0  \n3              1.0  \n4              0.0  \n...            ...  \n32701          0.0  \n32702          0.0  \n32703          1.0  \n32704          0.0  \n32705          0.0  \n\n[32706 rows x 27 columns]",
      "text/html": "<div>\n<style scoped>\n    .dataframe tbody tr th:only-of-type {\n        vertical-align: middle;\n    }\n\n    .dataframe tbody tr th {\n        vertical-align: top;\n    }\n\n    .dataframe thead th {\n        text-align: right;\n    }\n</style>\n<table border=\"1\" class=\"dataframe\">\n  <thead>\n    <tr style=\"text-align: right;\">\n      <th></th>\n      <th>num_proc</th>\n      <th>expected_length</th>\n      <th>mortality_ratio</th>\n      <th>age</th>\n      <th>severity_1.0</th>\n      <th>severity_2.0</th>\n      <th>severity_3.0</th>\n      <th>severity_4.0</th>\n      <th>severity_nan</th>\n      <th>origin_1.0</th>\n      <th>...</th>\n      <th>ambulatory_0.0</th>\n      <th>ambulatory_1.0</th>\n      <th>ambulatory_nan</th>\n      <th>tip_grd_M</th>\n      <th>tip_grd_Q</th>\n      <th>tip_grd_nan</th>\n      <th>tip_adm_1.0</th>\n      <th>tip_adm_2.0</th>\n      <th>tip_adm_3.0</th>\n      <th>tip_adm_nan</th>\n    </tr>\n  </thead>\n  <tbody>\n    <tr>\n      <th>0</th>\n      <td>21.0</td>\n      <td>151.0</td>\n      <td>0.408730</td>\n      <td>12596.0</td>\n      <td>0.0</td>\n      <td>0.0</td>\n      <td>0.0</td>\n      <td>0.0</td>\n      <td>1.0</td>\n      <td>0.0</td>\n      <td>...</td>\n      <td>1.0</td>\n      <td>0.0</td>\n      <td>0.0</td>\n      <td>0.0</td>\n      <td>1.0</td>\n      <td>0.0</td>\n      <td>1.0</td>\n      <td>0.0</td>\n      <td>0.0</td>\n      <td>0.0</td>\n    </tr>\n    <tr>\n      <th>1</th>\n      <td>22.0</td>\n      <td>99.0</td>\n      <td>0.306931</td>\n      <td>20973.0</td>\n      <td>0.0</td>\n      <td>0.0</td>\n      <td>0.0</td>\n      <td>0.0</td>\n      <td>1.0</td>\n      <td>0.0</td>\n      <td>...</td>\n      <td>0.0</td>\n      <td>0.0</td>\n      <td>1.0</td>\n      <td>0.0</td>\n      <td>1.0</td>\n      <td>0.0</td>\n      <td>1.0</td>\n      <td>0.0</td>\n      <td>0.0</td>\n      <td>0.0</td>\n    </tr>\n    <tr>\n      <th>2</th>\n      <td>19.0</td>\n      <td>87.0</td>\n      <td>0.278481</td>\n      <td>19611.0</td>\n      <td>0.0</td>\n      <td>0.0</td>\n      <td>0.0</td>\n      <td>1.0</td>\n      <td>0.0</td>\n      <td>0.0</td>\n      <td>...</td>\n      <td>0.0</td>\n      <td>0.0</td>\n      <td>1.0</td>\n      <td>0.0</td>\n      <td>0.0</td>\n      <td>1.0</td>\n      <td>1.0</td>\n      <td>0.0</td>\n      <td>0.0</td>\n      <td>0.0</td>\n    </tr>\n    <tr>\n      <th>3</th>\n      <td>22.0</td>\n      <td>100.0</td>\n      <td>0.150289</td>\n      <td>13583.0</td>\n      <td>0.0</td>\n      <td>0.0</td>\n      <td>1.0</td>\n      <td>0.0</td>\n      <td>0.0</td>\n      <td>0.0</td>\n      <td>...</td>\n      <td>0.0</td>\n      <td>0.0</td>\n      <td>1.0</td>\n      <td>0.0</td>\n      <td>1.0</td>\n      <td>0.0</td>\n      <td>0.0</td>\n      <td>0.0</td>\n      <td>0.0</td>\n      <td>1.0</td>\n    </tr>\n    <tr>\n      <th>4</th>\n      <td>2.0</td>\n      <td>44.0</td>\n      <td>0.016573</td>\n      <td>18042.0</td>\n      <td>1.0</td>\n      <td>0.0</td>\n      <td>0.0</td>\n      <td>0.0</td>\n      <td>0.0</td>\n      <td>0.0</td>\n      <td>...</td>\n      <td>0.0</td>\n      <td>0.0</td>\n      <td>1.0</td>\n      <td>0.0</td>\n      <td>1.0</td>\n      <td>0.0</td>\n      <td>1.0</td>\n      <td>0.0</td>\n      <td>0.0</td>\n      <td>0.0</td>\n    </tr>\n    <tr>\n      <th>...</th>\n      <td>...</td>\n      <td>...</td>\n      <td>...</td>\n      <td>...</td>\n      <td>...</td>\n      <td>...</td>\n      <td>...</td>\n      <td>...</td>\n      <td>...</td>\n      <td>...</td>\n      <td>...</td>\n      <td>...</td>\n      <td>...</td>\n      <td>...</td>\n      <td>...</td>\n      <td>...</td>\n      <td>...</td>\n      <td>...</td>\n      <td>...</td>\n      <td>...</td>\n      <td>...</td>\n    </tr>\n    <tr>\n      <th>32701</th>\n      <td>2.0</td>\n      <td>2.0</td>\n      <td>0.028365</td>\n      <td>23619.0</td>\n      <td>0.0</td>\n      <td>1.0</td>\n      <td>0.0</td>\n      <td>0.0</td>\n      <td>0.0</td>\n      <td>0.0</td>\n      <td>...</td>\n      <td>0.0</td>\n      <td>0.0</td>\n      <td>1.0</td>\n      <td>0.0</td>\n      <td>0.0</td>\n      <td>1.0</td>\n      <td>1.0</td>\n      <td>0.0</td>\n      <td>0.0</td>\n      <td>0.0</td>\n    </tr>\n    <tr>\n      <th>32702</th>\n      <td>1.0</td>\n      <td>2.0</td>\n      <td>0.000606</td>\n      <td>3935.0</td>\n      <td>1.0</td>\n      <td>0.0</td>\n      <td>0.0</td>\n      <td>0.0</td>\n      <td>0.0</td>\n      <td>1.0</td>\n      <td>...</td>\n      <td>0.0</td>\n      <td>0.0</td>\n      <td>1.0</td>\n      <td>1.0</td>\n      <td>0.0</td>\n      <td>0.0</td>\n      <td>1.0</td>\n      <td>0.0</td>\n      <td>0.0</td>\n      <td>0.0</td>\n    </tr>\n    <tr>\n      <th>32703</th>\n      <td>4.0</td>\n      <td>2.0</td>\n      <td>0.040452</td>\n      <td>30163.0</td>\n      <td>0.0</td>\n      <td>0.0</td>\n      <td>0.0</td>\n      <td>0.0</td>\n      <td>1.0</td>\n      <td>0.0</td>\n      <td>...</td>\n      <td>0.0</td>\n      <td>0.0</td>\n      <td>1.0</td>\n      <td>1.0</td>\n      <td>0.0</td>\n      <td>0.0</td>\n      <td>0.0</td>\n      <td>0.0</td>\n      <td>0.0</td>\n      <td>1.0</td>\n    </tr>\n    <tr>\n      <th>32704</th>\n      <td>4.0</td>\n      <td>0.0</td>\n      <td>0.000000</td>\n      <td>29012.0</td>\n      <td>0.0</td>\n      <td>0.0</td>\n      <td>0.0</td>\n      <td>0.0</td>\n      <td>1.0</td>\n      <td>0.0</td>\n      <td>...</td>\n      <td>0.0</td>\n      <td>0.0</td>\n      <td>1.0</td>\n      <td>0.0</td>\n      <td>0.0</td>\n      <td>1.0</td>\n      <td>1.0</td>\n      <td>0.0</td>\n      <td>0.0</td>\n      <td>0.0</td>\n    </tr>\n    <tr>\n      <th>32705</th>\n      <td>1.0</td>\n      <td>0.0</td>\n      <td>0.000000</td>\n      <td>13244.0</td>\n      <td>0.0</td>\n      <td>0.0</td>\n      <td>0.0</td>\n      <td>0.0</td>\n      <td>1.0</td>\n      <td>0.0</td>\n      <td>...</td>\n      <td>0.0</td>\n      <td>0.0</td>\n      <td>1.0</td>\n      <td>0.0</td>\n      <td>1.0</td>\n      <td>0.0</td>\n      <td>1.0</td>\n      <td>0.0</td>\n      <td>0.0</td>\n      <td>0.0</td>\n    </tr>\n  </tbody>\n</table>\n<p>32706 rows × 27 columns</p>\n</div>"
     },
     "execution_count": 124,
     "metadata": {},
     "output_type": "execute_result"
    }
   ],
   "source": [
    "# 3 defining the model\n",
    "ohe = OneHotEncoder(sparse_output = False)\n",
    "\n",
    "# 4) Training model\n",
    "ohe.fit(X)\n",
    "\n",
    "# 5) Predicting\n",
    "dat_ohe = pd.DataFrame(ohe.fit_transform(X[categorical_vars]))\n",
    "\n",
    "# Optional\n",
    "dat_ohe.columns = ohe.get_feature_names_out()\n",
    "\n",
    "# Combine numerical and categorical\n",
    "X_new = pd.concat((X[non_categorical_vars], dat_ohe), axis=1)\n",
    "\n",
    "X_new"
   ],
   "metadata": {
    "collapsed": false,
    "ExecuteTime": {
     "end_time": "2023-09-18T17:49:36.392636Z",
     "start_time": "2023-09-18T17:49:36.317370300Z"
    }
   }
  },
  {
   "cell_type": "code",
   "execution_count": 125,
   "outputs": [
    {
     "data": {
      "text/plain": "num_proc            True\nexpected_length     True\nmortality_ratio     True\nage                 True\nseverity_1.0       False\nseverity_2.0       False\nseverity_3.0       False\nseverity_4.0       False\nseverity_nan       False\norigin_1.0         False\norigin_2.0         False\norigin_3.0         False\norigin_4.0         False\norigin_6.0         False\norigin_8.0         False\norigin_9.0         False\norigin_nan         False\nambulatory_0.0     False\nambulatory_1.0     False\nambulatory_nan     False\ntip_grd_M          False\ntip_grd_Q          False\ntip_grd_nan        False\ntip_adm_1.0        False\ntip_adm_2.0        False\ntip_adm_3.0        False\ntip_adm_nan        False\ndtype: bool"
     },
     "execution_count": 125,
     "metadata": {},
     "output_type": "execute_result"
    }
   ],
   "source": [
    "X_new.isnull().any()"
   ],
   "metadata": {
    "collapsed": false,
    "ExecuteTime": {
     "end_time": "2023-09-18T17:49:38.870352100Z",
     "start_time": "2023-09-18T17:49:38.846764400Z"
    }
   }
  },
  {
   "cell_type": "code",
   "execution_count": 126,
   "outputs": [],
   "source": [
    "### Fill missing values\n",
    "from fancyimpute import IterativeImputer as MICE # pip install fancyimpute\n",
    "numerical_vars = list(set(X_new.columns) - {'exitus', 'dataset'})\n",
    "model = MICE()\n",
    "X_new[numerical_vars] = model.fit_transform(X_new[numerical_vars])"
   ],
   "metadata": {
    "collapsed": false,
    "ExecuteTime": {
     "end_time": "2023-09-18T17:49:52.087215300Z",
     "start_time": "2023-09-18T17:49:47.671678100Z"
    }
   }
  },
  {
   "cell_type": "markdown",
   "source": [
    "### [3] Create Model"
   ],
   "metadata": {
    "id": "5BczaKLlcKTl"
   }
  },
  {
   "cell_type": "code",
   "source": [
    "from sklearn.model_selection import train_test_split\n",
    "\n",
    "perc_values = [0.7, 0.15, 0.15]\n",
    "X_train, X_valtest, y_train, y_valtest = train_test_split(X_new, y, stratify = y, test_size=perc_values[1] + perc_values[2], random_state=1)\n",
    "X_val, X_test, y_val, y_test = train_test_split(X_valtest, y_valtest, stratify = y_valtest, test_size= perc_values[2] / (perc_values[1] + perc_values[2]), random_state=1)"
   ],
   "metadata": {
    "id": "YaAjN6unrxpN",
    "ExecuteTime": {
     "end_time": "2023-09-18T17:50:33.177632500Z",
     "start_time": "2023-09-18T17:50:33.123091700Z"
    }
   },
   "execution_count": 128,
   "outputs": []
  },
  {
   "cell_type": "code",
   "source": [
    "from sklearn.ensemble import RandomForestClassifier as model_constructor\n",
    "from sklearn.metrics import roc_auc_score as metric\n",
    "\n",
    "# Random Forest\n",
    "n_estimators_values = [10, 100, 1000]\n",
    "max_features_values = [2, 5, 10]\n",
    "max_samples_values = [100, 1000, X_train.shape[0]]\n",
    "\n",
    "params_grid = {'max_features': max_features_values,\n",
    "              'n_estimators': n_estimators_values,\n",
    "               'max_samples': max_samples_values}\n",
    "\n",
    "num_iter = 1;\n",
    "grid_results = pd.DataFrame(columns = ('max_features',\n",
    "                                       'n_estimators',\n",
    "                                       'max_samples',\n",
    "                                       'metric_train',\n",
    "                                       'metric_val'))\n",
    "\n",
    "for max_features in params_grid['max_features']:\n",
    "    for n_estimators in params_grid['n_estimators']:\n",
    "        for max_samples in params_grid['max_samples']:\n",
    "\n",
    "                        # Print trace\n",
    "                        print('Iteracion = ' + str(num_iter))\n",
    "\n",
    "                        # [3] Define model\n",
    "                        model = model_constructor(max_features = max_features,\n",
    "                                                  n_estimators = n_estimators,\n",
    "                                                  max_samples = max_samples,\n",
    "                                                  random_state = 0)\n",
    "\n",
    "                        # [4] Train model\n",
    "                        model.fit(X_train, y_train)\n",
    "\n",
    "\n",
    "                        # [5] Predict\n",
    "                        pred_train = model.predict(X_train) # predict!\n",
    "                        pred_val = model.predict(X_val) # predict!\n",
    "\n",
    "                        # [6] Compute metric\n",
    "                        metric_train = metric(y_train, pred_train)\n",
    "                        metric_val = metric(y_val, pred_val)\n",
    "\n",
    "                        # print error\n",
    "                        print('Metric train = %.2f - Metric validation = %.2f.'\n",
    "                              % (metric_train, metric_val))\n",
    "\n",
    "                        # Save iteration results\n",
    "                        grid_results.loc[num_iter]=[ max_features,\n",
    "                                                    n_estimators,\n",
    "                                                    max_samples,\n",
    "                                                 metric_train,\n",
    "                                                 metric_val]\n",
    "                        num_iter += 1\n",
    "\n",
    "\n"
   ],
   "metadata": {
    "id": "ZvVUKcO0k5dm",
    "ExecuteTime": {
     "end_time": "2023-09-18T17:58:25.948549300Z",
     "start_time": "2023-09-18T17:56:43.906650600Z"
    }
   },
   "execution_count": 131,
   "outputs": [
    {
     "name": "stdout",
     "output_type": "stream",
     "text": [
      "Iteracion = 1\n",
      "Metric train = 0.51 - Metric validation = 0.51.\n",
      "Iteracion = 2\n",
      "Metric train = 0.54 - Metric validation = 0.54.\n",
      "Iteracion = 3\n",
      "Metric train = 0.93 - Metric validation = 0.59.\n",
      "Iteracion = 4\n",
      "Metric train = 0.50 - Metric validation = 0.50.\n",
      "Iteracion = 5\n",
      "Metric train = 0.51 - Metric validation = 0.52.\n",
      "Iteracion = 6\n",
      "Metric train = 1.00 - Metric validation = 0.59.\n",
      "Iteracion = 7\n",
      "Metric train = 0.50 - Metric validation = 0.50.\n",
      "Iteracion = 8\n",
      "Metric train = 0.51 - Metric validation = 0.51.\n",
      "Iteracion = 9\n",
      "Metric train = 1.00 - Metric validation = 0.58.\n",
      "Iteracion = 10\n",
      "Metric train = 0.51 - Metric validation = 0.51.\n",
      "Iteracion = 11\n",
      "Metric train = 0.55 - Metric validation = 0.55.\n",
      "Iteracion = 12\n",
      "Metric train = 0.94 - Metric validation = 0.59.\n",
      "Iteracion = 13\n",
      "Metric train = 0.50 - Metric validation = 0.50.\n",
      "Iteracion = 14\n",
      "Metric train = 0.53 - Metric validation = 0.54.\n",
      "Iteracion = 15\n",
      "Metric train = 1.00 - Metric validation = 0.59.\n",
      "Iteracion = 16\n",
      "Metric train = 0.50 - Metric validation = 0.50.\n",
      "Iteracion = 17\n",
      "Metric train = 0.54 - Metric validation = 0.54.\n",
      "Iteracion = 18\n",
      "Metric train = 1.00 - Metric validation = 0.59.\n",
      "Iteracion = 19\n",
      "Metric train = 0.51 - Metric validation = 0.54.\n",
      "Iteracion = 20\n",
      "Metric train = 0.58 - Metric validation = 0.56.\n",
      "Iteracion = 21\n",
      "Metric train = 0.94 - Metric validation = 0.61.\n",
      "Iteracion = 22\n",
      "Metric train = 0.50 - Metric validation = 0.50.\n",
      "Iteracion = 23\n",
      "Metric train = 0.56 - Metric validation = 0.55.\n",
      "Iteracion = 24\n",
      "Metric train = 1.00 - Metric validation = 0.60.\n",
      "Iteracion = 25\n",
      "Metric train = 0.50 - Metric validation = 0.50.\n",
      "Iteracion = 26\n",
      "Metric train = 0.56 - Metric validation = 0.56.\n",
      "Iteracion = 27\n",
      "Metric train = 1.00 - Metric validation = 0.60.\n"
     ]
    }
   ]
  },
  {
   "cell_type": "code",
   "execution_count": 135,
   "outputs": [
    {
     "data": {
      "text/plain": "max_features       10.000000\nn_estimators       10.000000\nmax_samples     22894.000000\nmetric_train        0.936792\nmetric_val          0.606499\nName: 21, dtype: float64"
     },
     "execution_count": 135,
     "metadata": {},
     "output_type": "execute_result"
    }
   ],
   "source": [
    "grid_results = grid_results.sort_values(by = ['metric_val', 'metric_train'], ascending = [False, True])\n",
    "best_model = grid_results.iloc[0]\n",
    "best_model"
   ],
   "metadata": {
    "collapsed": false,
    "ExecuteTime": {
     "end_time": "2023-09-18T18:02:24.191422600Z",
     "start_time": "2023-09-18T18:02:24.173095700Z"
    }
   }
  },
  {
   "cell_type": "code",
   "execution_count": 136,
   "outputs": [
    {
     "name": "stdout",
     "output_type": "stream",
     "text": [
      "Old train data size = (22894, 27)\n",
      "Old train target size = (22894,)\n",
      "New train data size = (27800, 27)\n",
      "New train target size = (27800,)\n"
     ]
    }
   ],
   "source": [
    "print('Old train data size = ' + str(X_train.shape))\n",
    "print('Old train target size = ' + str(y_train.shape))\n",
    "\n",
    "# Combine train and validación\n",
    "X_train = np.concatenate((X_train, X_val), axis = 0)\n",
    "y_train = np.concatenate((y_train, y_val), axis = 0)\n",
    "\n",
    "print('New train data size = ' + str(X_train.shape))\n",
    "print('New train target size = ' + str(y_train.shape))"
   ],
   "metadata": {
    "collapsed": false,
    "ExecuteTime": {
     "end_time": "2023-09-18T18:02:28.340483900Z",
     "start_time": "2023-09-18T18:02:28.270544200Z"
    }
   }
  },
  {
   "cell_type": "code",
   "execution_count": 138,
   "outputs": [],
   "source": [
    "# [3] Define model\n",
    "model = model_constructor(criterion = 'gini',\n",
    "                          max_depth = None,\n",
    "                          min_samples_split = 2,\n",
    "                          min_samples_leaf = 1,\n",
    "                          max_features = int(best_model.max_features),\n",
    "                          n_estimators =  int(best_model.n_estimators),\n",
    "                          max_samples = int(best_model.max_samples),\n",
    "                          random_state = 0) # Use same random_state as in training!!!"
   ],
   "metadata": {
    "collapsed": false,
    "ExecuteTime": {
     "end_time": "2023-09-18T18:03:16.137337100Z",
     "start_time": "2023-09-18T18:03:16.095161300Z"
    }
   }
  },
  {
   "cell_type": "markdown",
   "source": [
    "# Evaluate Model"
   ],
   "metadata": {
    "id": "eAe2bKe7hK_c"
   }
  },
  {
   "cell_type": "code",
   "source": [
    "# [4] Train model\n",
    "# [4] Train model\n",
    "model.fit(X_train, y_train)\n",
    "\n",
    "# [5] Predict\n",
    "pred_train = model.predict(X_train)\n",
    "pred_test = model.predict(X_test)\n",
    "\n",
    "# [6] Compute metric\n",
    "metric_train = metric(y_train, pred_train)\n",
    "metric_test = metric(y_test, pred_test)"
   ],
   "metadata": {
    "id": "I0mwZ7GQhMIn",
    "ExecuteTime": {
     "end_time": "2023-09-18T18:07:55.241676500Z",
     "start_time": "2023-09-18T18:07:54.880298Z"
    }
   },
   "execution_count": 140,
   "outputs": [
    {
     "name": "stderr",
     "output_type": "stream",
     "text": [
      "J:\\IE\\SECOND TERM\\MLII\\venv\\Lib\\site-packages\\sklearn\\base.py:457: UserWarning: X has feature names, but RandomForestClassifier was fitted without feature names\n",
      "  warnings.warn(\n"
     ]
    }
   ]
  },
  {
   "cell_type": "code",
   "source": [
    "# print error\n",
    "print('Metric train = %.2f - Metric val = %.2f - Metric test = %.2f'\n",
    "      % (metric_train, metric_val, metric_test))"
   ],
   "metadata": {
    "colab": {
     "base_uri": "https://localhost:8080/"
    },
    "id": "T-EPli1DiYGX",
    "outputId": "8e007bc0-142b-424d-ea6c-bfdaae328444",
    "ExecuteTime": {
     "end_time": "2023-09-18T18:07:57.966364500Z",
     "start_time": "2023-09-18T18:07:57.913419500Z"
    }
   },
   "execution_count": 141,
   "outputs": [
    {
     "name": "stdout",
     "output_type": "stream",
     "text": [
      "Metric train = 0.90 - Metric val = 0.60 - Metric test = 0.58\n"
     ]
    }
   ]
  }
 ]
}
