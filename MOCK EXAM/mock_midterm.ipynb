{
 "nbformat": 4,
 "nbformat_minor": 0,
 "metadata": {
  "colab": {
   "provenance": []
  },
  "kernelspec": {
   "name": "python3",
   "language": "python",
   "display_name": "Python 3 (ipykernel)"
  },
  "language_info": {
   "name": "python"
  }
 },
 "cells": [
  {
   "cell_type": "code",
   "execution_count": 1,
   "metadata": {
    "id": "_OKK2VwBbP81",
    "ExecuteTime": {
     "end_time": "2023-09-19T17:00:50.490395600Z",
     "start_time": "2023-09-19T17:00:47.671668500Z"
    }
   },
   "outputs": [],
   "source": [
    "# Load libraries\n",
    "import numpy as np\n",
    "import pandas as pd\n",
    "import io"
   ]
  },
  {
   "cell_type": "markdown",
   "source": [
    "#  Mock Midterm Exercise"
   ],
   "metadata": {
    "id": "VoFYQVQ0bVCN"
   }
  },
  {
   "cell_type": "markdown",
   "source": [
    "In this exercise you will have to implement code in the sections inside *Fill with Your Code* (*Load Data*, *Data Preprocessing* and *Create Model*) create a model to predict the column *exitus* in the dataset given. The dataset is already split into train, validation, and test subsets. To see to which subset belong each observation, you need to check the *dataset* column.\n",
    "\n",
    "The code that is already written in this notebook **CANNOT BE CHANGED**. You can only add code in the *Fill with Your Code* section.\n",
    "\n",
    "You must achieve in the last cell of this notebook an **AUC over test of at least 0.93**."
   ],
   "metadata": {
    "id": "xdYg4_U3bYH8"
   }
  },
  {
   "cell_type": "markdown",
   "source": [
    "# Fill With Your Code"
   ],
   "metadata": {
    "id": "_lpuKCkfb9do"
   }
  },
  {
   "cell_type": "markdown",
   "source": [
    "### [1] Load Data"
   ],
   "metadata": {
    "id": "66HBtc2Cbpm_"
   }
  },
  {
   "cell_type": "code",
   "source": [
    "dat = pd.read_csv('../data/dat.csv', sep = \",\")"
   ],
   "metadata": {
    "id": "EtxuaDPHbWj1",
    "ExecuteTime": {
     "end_time": "2023-09-19T17:11:03.908741Z",
     "start_time": "2023-09-19T17:11:03.820311600Z"
    }
   },
   "execution_count": 13,
   "outputs": []
  },
  {
   "cell_type": "code",
   "source": [
    "dat"
   ],
   "metadata": {
    "colab": {
     "base_uri": "https://localhost:8080/",
     "height": 423
    },
    "id": "Qq_JqH9bev9L",
    "outputId": "95b4918a-7f25-4969-9592-bc4d6b7649bd",
    "ExecuteTime": {
     "end_time": "2023-09-19T17:11:06.312827700Z",
     "start_time": "2023-09-19T17:11:06.236176400Z"
    }
   },
   "execution_count": 14,
   "outputs": [
    {
     "data": {
      "text/plain": "          date  severity  mortality_ratio      age  num_proc  ambulatory  \\\n0      2016-01       NaN         0.408730  12596.0      21.0         0.0   \n1      2016-01       NaN         0.306931  20973.0      22.0         NaN   \n2      2016-01       4.0         0.278481  19611.0      19.0         NaN   \n3      2016-01       3.0         0.150289  13583.0      22.0         NaN   \n4      2016-01       1.0         0.016573  18042.0       2.0         NaN   \n...        ...       ...              ...      ...       ...         ...   \n32701  2016-12       2.0         0.028365  23619.0       2.0         NaN   \n32702  2016-12       1.0         0.000606   3935.0       1.0         NaN   \n32703  2016-12       NaN         0.040452  30163.0       4.0         NaN   \n32704  2016-12       NaN         0.000000  29012.0       4.0         NaN   \n32705  2016-12       NaN         0.000000  13244.0       1.0         NaN   \n\n       origin  expected_length tip_grd  tip_adm  exitus dataset  \n0         NaN            151.0       Q      1.0       0   train  \n1         NaN             99.0       Q      1.0       0   train  \n2         NaN             87.0     NaN      1.0       0   train  \n3         NaN            100.0       Q      NaN       0   train  \n4         NaN             44.0       Q      1.0       0   train  \n...       ...              ...     ...      ...     ...     ...  \n32701     NaN              2.0     NaN      1.0       0    test  \n32702     1.0              2.0       M      1.0       0    test  \n32703     NaN              2.0       M      NaN       0    test  \n32704     NaN              0.0     NaN      1.0       0    test  \n32705     NaN              0.0       Q      1.0       0    test  \n\n[32706 rows x 12 columns]",
      "text/html": "<div>\n<style scoped>\n    .dataframe tbody tr th:only-of-type {\n        vertical-align: middle;\n    }\n\n    .dataframe tbody tr th {\n        vertical-align: top;\n    }\n\n    .dataframe thead th {\n        text-align: right;\n    }\n</style>\n<table border=\"1\" class=\"dataframe\">\n  <thead>\n    <tr style=\"text-align: right;\">\n      <th></th>\n      <th>date</th>\n      <th>severity</th>\n      <th>mortality_ratio</th>\n      <th>age</th>\n      <th>num_proc</th>\n      <th>ambulatory</th>\n      <th>origin</th>\n      <th>expected_length</th>\n      <th>tip_grd</th>\n      <th>tip_adm</th>\n      <th>exitus</th>\n      <th>dataset</th>\n    </tr>\n  </thead>\n  <tbody>\n    <tr>\n      <th>0</th>\n      <td>2016-01</td>\n      <td>NaN</td>\n      <td>0.408730</td>\n      <td>12596.0</td>\n      <td>21.0</td>\n      <td>0.0</td>\n      <td>NaN</td>\n      <td>151.0</td>\n      <td>Q</td>\n      <td>1.0</td>\n      <td>0</td>\n      <td>train</td>\n    </tr>\n    <tr>\n      <th>1</th>\n      <td>2016-01</td>\n      <td>NaN</td>\n      <td>0.306931</td>\n      <td>20973.0</td>\n      <td>22.0</td>\n      <td>NaN</td>\n      <td>NaN</td>\n      <td>99.0</td>\n      <td>Q</td>\n      <td>1.0</td>\n      <td>0</td>\n      <td>train</td>\n    </tr>\n    <tr>\n      <th>2</th>\n      <td>2016-01</td>\n      <td>4.0</td>\n      <td>0.278481</td>\n      <td>19611.0</td>\n      <td>19.0</td>\n      <td>NaN</td>\n      <td>NaN</td>\n      <td>87.0</td>\n      <td>NaN</td>\n      <td>1.0</td>\n      <td>0</td>\n      <td>train</td>\n    </tr>\n    <tr>\n      <th>3</th>\n      <td>2016-01</td>\n      <td>3.0</td>\n      <td>0.150289</td>\n      <td>13583.0</td>\n      <td>22.0</td>\n      <td>NaN</td>\n      <td>NaN</td>\n      <td>100.0</td>\n      <td>Q</td>\n      <td>NaN</td>\n      <td>0</td>\n      <td>train</td>\n    </tr>\n    <tr>\n      <th>4</th>\n      <td>2016-01</td>\n      <td>1.0</td>\n      <td>0.016573</td>\n      <td>18042.0</td>\n      <td>2.0</td>\n      <td>NaN</td>\n      <td>NaN</td>\n      <td>44.0</td>\n      <td>Q</td>\n      <td>1.0</td>\n      <td>0</td>\n      <td>train</td>\n    </tr>\n    <tr>\n      <th>...</th>\n      <td>...</td>\n      <td>...</td>\n      <td>...</td>\n      <td>...</td>\n      <td>...</td>\n      <td>...</td>\n      <td>...</td>\n      <td>...</td>\n      <td>...</td>\n      <td>...</td>\n      <td>...</td>\n      <td>...</td>\n    </tr>\n    <tr>\n      <th>32701</th>\n      <td>2016-12</td>\n      <td>2.0</td>\n      <td>0.028365</td>\n      <td>23619.0</td>\n      <td>2.0</td>\n      <td>NaN</td>\n      <td>NaN</td>\n      <td>2.0</td>\n      <td>NaN</td>\n      <td>1.0</td>\n      <td>0</td>\n      <td>test</td>\n    </tr>\n    <tr>\n      <th>32702</th>\n      <td>2016-12</td>\n      <td>1.0</td>\n      <td>0.000606</td>\n      <td>3935.0</td>\n      <td>1.0</td>\n      <td>NaN</td>\n      <td>1.0</td>\n      <td>2.0</td>\n      <td>M</td>\n      <td>1.0</td>\n      <td>0</td>\n      <td>test</td>\n    </tr>\n    <tr>\n      <th>32703</th>\n      <td>2016-12</td>\n      <td>NaN</td>\n      <td>0.040452</td>\n      <td>30163.0</td>\n      <td>4.0</td>\n      <td>NaN</td>\n      <td>NaN</td>\n      <td>2.0</td>\n      <td>M</td>\n      <td>NaN</td>\n      <td>0</td>\n      <td>test</td>\n    </tr>\n    <tr>\n      <th>32704</th>\n      <td>2016-12</td>\n      <td>NaN</td>\n      <td>0.000000</td>\n      <td>29012.0</td>\n      <td>4.0</td>\n      <td>NaN</td>\n      <td>NaN</td>\n      <td>0.0</td>\n      <td>NaN</td>\n      <td>1.0</td>\n      <td>0</td>\n      <td>test</td>\n    </tr>\n    <tr>\n      <th>32705</th>\n      <td>2016-12</td>\n      <td>NaN</td>\n      <td>0.000000</td>\n      <td>13244.0</td>\n      <td>1.0</td>\n      <td>NaN</td>\n      <td>NaN</td>\n      <td>0.0</td>\n      <td>Q</td>\n      <td>1.0</td>\n      <td>0</td>\n      <td>test</td>\n    </tr>\n  </tbody>\n</table>\n<p>32706 rows × 12 columns</p>\n</div>"
     },
     "execution_count": 14,
     "metadata": {},
     "output_type": "execute_result"
    }
   ]
  },
  {
   "cell_type": "code",
   "execution_count": 15,
   "outputs": [
    {
     "data": {
      "text/plain": "dataset\ntrain    22894\ntest      4907\nval       4905\nName: count, dtype: int64"
     },
     "execution_count": 15,
     "metadata": {},
     "output_type": "execute_result"
    }
   ],
   "source": [
    "dat['dataset'].value_counts()"
   ],
   "metadata": {
    "collapsed": false,
    "ExecuteTime": {
     "end_time": "2023-09-19T17:11:08.823864700Z",
     "start_time": "2023-09-19T17:11:07.949999600Z"
    }
   }
  },
  {
   "cell_type": "code",
   "execution_count": 16,
   "outputs": [
    {
     "data": {
      "text/plain": "       severity  mortality_ratio      age  num_proc  ambulatory  origin  \\\n0           NaN         0.408730  12596.0      21.0         0.0     NaN   \n1           NaN         0.306931  20973.0      22.0         NaN     NaN   \n2           4.0         0.278481  19611.0      19.0         NaN     NaN   \n3           3.0         0.150289  13583.0      22.0         NaN     NaN   \n4           1.0         0.016573  18042.0       2.0         NaN     NaN   \n...         ...              ...      ...       ...         ...     ...   \n32701       2.0         0.028365  23619.0       2.0         NaN     NaN   \n32702       1.0         0.000606   3935.0       1.0         NaN     1.0   \n32703       NaN         0.040452  30163.0       4.0         NaN     NaN   \n32704       NaN         0.000000  29012.0       4.0         NaN     NaN   \n32705       NaN         0.000000  13244.0       1.0         NaN     NaN   \n\n       expected_length tip_grd  tip_adm dataset  \n0                151.0       Q      1.0   train  \n1                 99.0       Q      1.0   train  \n2                 87.0     NaN      1.0   train  \n3                100.0       Q      NaN   train  \n4                 44.0       Q      1.0   train  \n...                ...     ...      ...     ...  \n32701              2.0     NaN      1.0    test  \n32702              2.0       M      1.0    test  \n32703              2.0       M      NaN    test  \n32704              0.0     NaN      1.0    test  \n32705              0.0       Q      1.0    test  \n\n[32706 rows x 10 columns]",
      "text/html": "<div>\n<style scoped>\n    .dataframe tbody tr th:only-of-type {\n        vertical-align: middle;\n    }\n\n    .dataframe tbody tr th {\n        vertical-align: top;\n    }\n\n    .dataframe thead th {\n        text-align: right;\n    }\n</style>\n<table border=\"1\" class=\"dataframe\">\n  <thead>\n    <tr style=\"text-align: right;\">\n      <th></th>\n      <th>severity</th>\n      <th>mortality_ratio</th>\n      <th>age</th>\n      <th>num_proc</th>\n      <th>ambulatory</th>\n      <th>origin</th>\n      <th>expected_length</th>\n      <th>tip_grd</th>\n      <th>tip_adm</th>\n      <th>dataset</th>\n    </tr>\n  </thead>\n  <tbody>\n    <tr>\n      <th>0</th>\n      <td>NaN</td>\n      <td>0.408730</td>\n      <td>12596.0</td>\n      <td>21.0</td>\n      <td>0.0</td>\n      <td>NaN</td>\n      <td>151.0</td>\n      <td>Q</td>\n      <td>1.0</td>\n      <td>train</td>\n    </tr>\n    <tr>\n      <th>1</th>\n      <td>NaN</td>\n      <td>0.306931</td>\n      <td>20973.0</td>\n      <td>22.0</td>\n      <td>NaN</td>\n      <td>NaN</td>\n      <td>99.0</td>\n      <td>Q</td>\n      <td>1.0</td>\n      <td>train</td>\n    </tr>\n    <tr>\n      <th>2</th>\n      <td>4.0</td>\n      <td>0.278481</td>\n      <td>19611.0</td>\n      <td>19.0</td>\n      <td>NaN</td>\n      <td>NaN</td>\n      <td>87.0</td>\n      <td>NaN</td>\n      <td>1.0</td>\n      <td>train</td>\n    </tr>\n    <tr>\n      <th>3</th>\n      <td>3.0</td>\n      <td>0.150289</td>\n      <td>13583.0</td>\n      <td>22.0</td>\n      <td>NaN</td>\n      <td>NaN</td>\n      <td>100.0</td>\n      <td>Q</td>\n      <td>NaN</td>\n      <td>train</td>\n    </tr>\n    <tr>\n      <th>4</th>\n      <td>1.0</td>\n      <td>0.016573</td>\n      <td>18042.0</td>\n      <td>2.0</td>\n      <td>NaN</td>\n      <td>NaN</td>\n      <td>44.0</td>\n      <td>Q</td>\n      <td>1.0</td>\n      <td>train</td>\n    </tr>\n    <tr>\n      <th>...</th>\n      <td>...</td>\n      <td>...</td>\n      <td>...</td>\n      <td>...</td>\n      <td>...</td>\n      <td>...</td>\n      <td>...</td>\n      <td>...</td>\n      <td>...</td>\n      <td>...</td>\n    </tr>\n    <tr>\n      <th>32701</th>\n      <td>2.0</td>\n      <td>0.028365</td>\n      <td>23619.0</td>\n      <td>2.0</td>\n      <td>NaN</td>\n      <td>NaN</td>\n      <td>2.0</td>\n      <td>NaN</td>\n      <td>1.0</td>\n      <td>test</td>\n    </tr>\n    <tr>\n      <th>32702</th>\n      <td>1.0</td>\n      <td>0.000606</td>\n      <td>3935.0</td>\n      <td>1.0</td>\n      <td>NaN</td>\n      <td>1.0</td>\n      <td>2.0</td>\n      <td>M</td>\n      <td>1.0</td>\n      <td>test</td>\n    </tr>\n    <tr>\n      <th>32703</th>\n      <td>NaN</td>\n      <td>0.040452</td>\n      <td>30163.0</td>\n      <td>4.0</td>\n      <td>NaN</td>\n      <td>NaN</td>\n      <td>2.0</td>\n      <td>M</td>\n      <td>NaN</td>\n      <td>test</td>\n    </tr>\n    <tr>\n      <th>32704</th>\n      <td>NaN</td>\n      <td>0.000000</td>\n      <td>29012.0</td>\n      <td>4.0</td>\n      <td>NaN</td>\n      <td>NaN</td>\n      <td>0.0</td>\n      <td>NaN</td>\n      <td>1.0</td>\n      <td>test</td>\n    </tr>\n    <tr>\n      <th>32705</th>\n      <td>NaN</td>\n      <td>0.000000</td>\n      <td>13244.0</td>\n      <td>1.0</td>\n      <td>NaN</td>\n      <td>NaN</td>\n      <td>0.0</td>\n      <td>Q</td>\n      <td>1.0</td>\n      <td>test</td>\n    </tr>\n  </tbody>\n</table>\n<p>32706 rows × 10 columns</p>\n</div>"
     },
     "execution_count": 16,
     "metadata": {},
     "output_type": "execute_result"
    }
   ],
   "source": [
    "y = dat['exitus']\n",
    "X = dat.drop(['exitus', 'date'], axis = 1)\n",
    "X"
   ],
   "metadata": {
    "collapsed": false,
    "ExecuteTime": {
     "end_time": "2023-09-19T17:11:11.252295Z",
     "start_time": "2023-09-19T17:11:10.776194500Z"
    }
   }
  },
  {
   "cell_type": "markdown",
   "source": [
    "### [2]  Data Preprocessing"
   ],
   "metadata": {
    "id": "bALdZkw9dzzv"
   }
  },
  {
   "cell_type": "code",
   "execution_count": 17,
   "outputs": [
    {
     "name": "stdout",
     "output_type": "stream",
     "text": [
      "['severity', 'origin', 'ambulatory', 'tip_grd', 'tip_adm']\n",
      "['dataset', 'num_proc', 'mortality_ratio', 'expected_length', 'age']\n"
     ]
    }
   ],
   "source": [
    "from sklearn.preprocessing import OneHotEncoder\n",
    "\n",
    "categorical_vars = ['severity', 'origin', 'ambulatory', 'tip_grd', 'tip_adm']\n",
    "non_categorical_vars = list(set(X.columns) - set(categorical_vars))\n",
    "print(categorical_vars)\n",
    "print(non_categorical_vars)"
   ],
   "metadata": {
    "collapsed": false,
    "ExecuteTime": {
     "end_time": "2023-09-19T17:11:13.851472500Z",
     "start_time": "2023-09-19T17:11:13.423262Z"
    }
   }
  },
  {
   "cell_type": "code",
   "execution_count": 18,
   "outputs": [
    {
     "data": {
      "text/plain": "      dataset  num_proc  mortality_ratio  expected_length      age  \\\n0       train      21.0         0.408730            151.0  12596.0   \n1       train      22.0         0.306931             99.0  20973.0   \n2       train      19.0         0.278481             87.0  19611.0   \n3       train      22.0         0.150289            100.0  13583.0   \n4       train       2.0         0.016573             44.0  18042.0   \n...       ...       ...              ...              ...      ...   \n32701    test       2.0         0.028365              2.0  23619.0   \n32702    test       1.0         0.000606              2.0   3935.0   \n32703    test       4.0         0.040452              2.0  30163.0   \n32704    test       4.0         0.000000              0.0  29012.0   \n32705    test       1.0         0.000000              0.0  13244.0   \n\n       severity_1.0  severity_2.0  severity_3.0  severity_4.0  severity_nan  \\\n0               0.0           0.0           0.0           0.0           1.0   \n1               0.0           0.0           0.0           0.0           1.0   \n2               0.0           0.0           0.0           1.0           0.0   \n3               0.0           0.0           1.0           0.0           0.0   \n4               1.0           0.0           0.0           0.0           0.0   \n...             ...           ...           ...           ...           ...   \n32701           0.0           1.0           0.0           0.0           0.0   \n32702           1.0           0.0           0.0           0.0           0.0   \n32703           0.0           0.0           0.0           0.0           1.0   \n32704           0.0           0.0           0.0           0.0           1.0   \n32705           0.0           0.0           0.0           0.0           1.0   \n\n       ...  ambulatory_0.0  ambulatory_1.0  ambulatory_nan  tip_grd_M  \\\n0      ...             1.0             0.0             0.0        0.0   \n1      ...             0.0             0.0             1.0        0.0   \n2      ...             0.0             0.0             1.0        0.0   \n3      ...             0.0             0.0             1.0        0.0   \n4      ...             0.0             0.0             1.0        0.0   \n...    ...             ...             ...             ...        ...   \n32701  ...             0.0             0.0             1.0        0.0   \n32702  ...             0.0             0.0             1.0        1.0   \n32703  ...             0.0             0.0             1.0        1.0   \n32704  ...             0.0             0.0             1.0        0.0   \n32705  ...             0.0             0.0             1.0        0.0   \n\n       tip_grd_Q  tip_grd_nan  tip_adm_1.0  tip_adm_2.0  tip_adm_3.0  \\\n0            1.0          0.0          1.0          0.0          0.0   \n1            1.0          0.0          1.0          0.0          0.0   \n2            0.0          1.0          1.0          0.0          0.0   \n3            1.0          0.0          0.0          0.0          0.0   \n4            1.0          0.0          1.0          0.0          0.0   \n...          ...          ...          ...          ...          ...   \n32701        0.0          1.0          1.0          0.0          0.0   \n32702        0.0          0.0          1.0          0.0          0.0   \n32703        0.0          0.0          0.0          0.0          0.0   \n32704        0.0          1.0          1.0          0.0          0.0   \n32705        1.0          0.0          1.0          0.0          0.0   \n\n       tip_adm_nan  \n0              0.0  \n1              0.0  \n2              0.0  \n3              1.0  \n4              0.0  \n...            ...  \n32701          0.0  \n32702          0.0  \n32703          1.0  \n32704          0.0  \n32705          0.0  \n\n[32706 rows x 28 columns]",
      "text/html": "<div>\n<style scoped>\n    .dataframe tbody tr th:only-of-type {\n        vertical-align: middle;\n    }\n\n    .dataframe tbody tr th {\n        vertical-align: top;\n    }\n\n    .dataframe thead th {\n        text-align: right;\n    }\n</style>\n<table border=\"1\" class=\"dataframe\">\n  <thead>\n    <tr style=\"text-align: right;\">\n      <th></th>\n      <th>dataset</th>\n      <th>num_proc</th>\n      <th>mortality_ratio</th>\n      <th>expected_length</th>\n      <th>age</th>\n      <th>severity_1.0</th>\n      <th>severity_2.0</th>\n      <th>severity_3.0</th>\n      <th>severity_4.0</th>\n      <th>severity_nan</th>\n      <th>...</th>\n      <th>ambulatory_0.0</th>\n      <th>ambulatory_1.0</th>\n      <th>ambulatory_nan</th>\n      <th>tip_grd_M</th>\n      <th>tip_grd_Q</th>\n      <th>tip_grd_nan</th>\n      <th>tip_adm_1.0</th>\n      <th>tip_adm_2.0</th>\n      <th>tip_adm_3.0</th>\n      <th>tip_adm_nan</th>\n    </tr>\n  </thead>\n  <tbody>\n    <tr>\n      <th>0</th>\n      <td>train</td>\n      <td>21.0</td>\n      <td>0.408730</td>\n      <td>151.0</td>\n      <td>12596.0</td>\n      <td>0.0</td>\n      <td>0.0</td>\n      <td>0.0</td>\n      <td>0.0</td>\n      <td>1.0</td>\n      <td>...</td>\n      <td>1.0</td>\n      <td>0.0</td>\n      <td>0.0</td>\n      <td>0.0</td>\n      <td>1.0</td>\n      <td>0.0</td>\n      <td>1.0</td>\n      <td>0.0</td>\n      <td>0.0</td>\n      <td>0.0</td>\n    </tr>\n    <tr>\n      <th>1</th>\n      <td>train</td>\n      <td>22.0</td>\n      <td>0.306931</td>\n      <td>99.0</td>\n      <td>20973.0</td>\n      <td>0.0</td>\n      <td>0.0</td>\n      <td>0.0</td>\n      <td>0.0</td>\n      <td>1.0</td>\n      <td>...</td>\n      <td>0.0</td>\n      <td>0.0</td>\n      <td>1.0</td>\n      <td>0.0</td>\n      <td>1.0</td>\n      <td>0.0</td>\n      <td>1.0</td>\n      <td>0.0</td>\n      <td>0.0</td>\n      <td>0.0</td>\n    </tr>\n    <tr>\n      <th>2</th>\n      <td>train</td>\n      <td>19.0</td>\n      <td>0.278481</td>\n      <td>87.0</td>\n      <td>19611.0</td>\n      <td>0.0</td>\n      <td>0.0</td>\n      <td>0.0</td>\n      <td>1.0</td>\n      <td>0.0</td>\n      <td>...</td>\n      <td>0.0</td>\n      <td>0.0</td>\n      <td>1.0</td>\n      <td>0.0</td>\n      <td>0.0</td>\n      <td>1.0</td>\n      <td>1.0</td>\n      <td>0.0</td>\n      <td>0.0</td>\n      <td>0.0</td>\n    </tr>\n    <tr>\n      <th>3</th>\n      <td>train</td>\n      <td>22.0</td>\n      <td>0.150289</td>\n      <td>100.0</td>\n      <td>13583.0</td>\n      <td>0.0</td>\n      <td>0.0</td>\n      <td>1.0</td>\n      <td>0.0</td>\n      <td>0.0</td>\n      <td>...</td>\n      <td>0.0</td>\n      <td>0.0</td>\n      <td>1.0</td>\n      <td>0.0</td>\n      <td>1.0</td>\n      <td>0.0</td>\n      <td>0.0</td>\n      <td>0.0</td>\n      <td>0.0</td>\n      <td>1.0</td>\n    </tr>\n    <tr>\n      <th>4</th>\n      <td>train</td>\n      <td>2.0</td>\n      <td>0.016573</td>\n      <td>44.0</td>\n      <td>18042.0</td>\n      <td>1.0</td>\n      <td>0.0</td>\n      <td>0.0</td>\n      <td>0.0</td>\n      <td>0.0</td>\n      <td>...</td>\n      <td>0.0</td>\n      <td>0.0</td>\n      <td>1.0</td>\n      <td>0.0</td>\n      <td>1.0</td>\n      <td>0.0</td>\n      <td>1.0</td>\n      <td>0.0</td>\n      <td>0.0</td>\n      <td>0.0</td>\n    </tr>\n    <tr>\n      <th>...</th>\n      <td>...</td>\n      <td>...</td>\n      <td>...</td>\n      <td>...</td>\n      <td>...</td>\n      <td>...</td>\n      <td>...</td>\n      <td>...</td>\n      <td>...</td>\n      <td>...</td>\n      <td>...</td>\n      <td>...</td>\n      <td>...</td>\n      <td>...</td>\n      <td>...</td>\n      <td>...</td>\n      <td>...</td>\n      <td>...</td>\n      <td>...</td>\n      <td>...</td>\n      <td>...</td>\n    </tr>\n    <tr>\n      <th>32701</th>\n      <td>test</td>\n      <td>2.0</td>\n      <td>0.028365</td>\n      <td>2.0</td>\n      <td>23619.0</td>\n      <td>0.0</td>\n      <td>1.0</td>\n      <td>0.0</td>\n      <td>0.0</td>\n      <td>0.0</td>\n      <td>...</td>\n      <td>0.0</td>\n      <td>0.0</td>\n      <td>1.0</td>\n      <td>0.0</td>\n      <td>0.0</td>\n      <td>1.0</td>\n      <td>1.0</td>\n      <td>0.0</td>\n      <td>0.0</td>\n      <td>0.0</td>\n    </tr>\n    <tr>\n      <th>32702</th>\n      <td>test</td>\n      <td>1.0</td>\n      <td>0.000606</td>\n      <td>2.0</td>\n      <td>3935.0</td>\n      <td>1.0</td>\n      <td>0.0</td>\n      <td>0.0</td>\n      <td>0.0</td>\n      <td>0.0</td>\n      <td>...</td>\n      <td>0.0</td>\n      <td>0.0</td>\n      <td>1.0</td>\n      <td>1.0</td>\n      <td>0.0</td>\n      <td>0.0</td>\n      <td>1.0</td>\n      <td>0.0</td>\n      <td>0.0</td>\n      <td>0.0</td>\n    </tr>\n    <tr>\n      <th>32703</th>\n      <td>test</td>\n      <td>4.0</td>\n      <td>0.040452</td>\n      <td>2.0</td>\n      <td>30163.0</td>\n      <td>0.0</td>\n      <td>0.0</td>\n      <td>0.0</td>\n      <td>0.0</td>\n      <td>1.0</td>\n      <td>...</td>\n      <td>0.0</td>\n      <td>0.0</td>\n      <td>1.0</td>\n      <td>1.0</td>\n      <td>0.0</td>\n      <td>0.0</td>\n      <td>0.0</td>\n      <td>0.0</td>\n      <td>0.0</td>\n      <td>1.0</td>\n    </tr>\n    <tr>\n      <th>32704</th>\n      <td>test</td>\n      <td>4.0</td>\n      <td>0.000000</td>\n      <td>0.0</td>\n      <td>29012.0</td>\n      <td>0.0</td>\n      <td>0.0</td>\n      <td>0.0</td>\n      <td>0.0</td>\n      <td>1.0</td>\n      <td>...</td>\n      <td>0.0</td>\n      <td>0.0</td>\n      <td>1.0</td>\n      <td>0.0</td>\n      <td>0.0</td>\n      <td>1.0</td>\n      <td>1.0</td>\n      <td>0.0</td>\n      <td>0.0</td>\n      <td>0.0</td>\n    </tr>\n    <tr>\n      <th>32705</th>\n      <td>test</td>\n      <td>1.0</td>\n      <td>0.000000</td>\n      <td>0.0</td>\n      <td>13244.0</td>\n      <td>0.0</td>\n      <td>0.0</td>\n      <td>0.0</td>\n      <td>0.0</td>\n      <td>1.0</td>\n      <td>...</td>\n      <td>0.0</td>\n      <td>0.0</td>\n      <td>1.0</td>\n      <td>0.0</td>\n      <td>1.0</td>\n      <td>0.0</td>\n      <td>1.0</td>\n      <td>0.0</td>\n      <td>0.0</td>\n      <td>0.0</td>\n    </tr>\n  </tbody>\n</table>\n<p>32706 rows × 28 columns</p>\n</div>"
     },
     "execution_count": 18,
     "metadata": {},
     "output_type": "execute_result"
    }
   ],
   "source": [
    "# 3 defining the model\n",
    "ohe = OneHotEncoder(sparse_output = False)\n",
    "\n",
    "# 4) Training model\n",
    "ohe.fit(X)\n",
    "\n",
    "# 5) Predicting\n",
    "dat_ohe = pd.DataFrame(ohe.fit_transform(X[categorical_vars]))\n",
    "\n",
    "# Optional\n",
    "dat_ohe.columns = ohe.get_feature_names_out()\n",
    "\n",
    "# Combine numerical and categorical\n",
    "X_new = pd.concat((X[non_categorical_vars], dat_ohe), axis=1)\n",
    "\n",
    "X_new"
   ],
   "metadata": {
    "collapsed": false,
    "ExecuteTime": {
     "end_time": "2023-09-19T17:11:15.638848100Z",
     "start_time": "2023-09-19T17:11:15.564650400Z"
    }
   }
  },
  {
   "cell_type": "code",
   "execution_count": 19,
   "outputs": [
    {
     "data": {
      "text/plain": "dataset            False\nnum_proc            True\nmortality_ratio     True\nexpected_length     True\nage                 True\nseverity_1.0       False\nseverity_2.0       False\nseverity_3.0       False\nseverity_4.0       False\nseverity_nan       False\norigin_1.0         False\norigin_2.0         False\norigin_3.0         False\norigin_4.0         False\norigin_6.0         False\norigin_8.0         False\norigin_9.0         False\norigin_nan         False\nambulatory_0.0     False\nambulatory_1.0     False\nambulatory_nan     False\ntip_grd_M          False\ntip_grd_Q          False\ntip_grd_nan        False\ntip_adm_1.0        False\ntip_adm_2.0        False\ntip_adm_3.0        False\ntip_adm_nan        False\ndtype: bool"
     },
     "execution_count": 19,
     "metadata": {},
     "output_type": "execute_result"
    }
   ],
   "source": [
    "X_new.isnull().any()"
   ],
   "metadata": {
    "collapsed": false,
    "ExecuteTime": {
     "end_time": "2023-09-19T17:11:19.259068800Z",
     "start_time": "2023-09-19T17:11:19.234024700Z"
    }
   }
  },
  {
   "cell_type": "code",
   "execution_count": 20,
   "outputs": [],
   "source": [
    "### Fill missing values\n",
    "from fancyimpute import IterativeImputer as MICE # pip install fancyimpute\n",
    "numerical_vars = list(set(X_new.columns) - {'exitus', 'dataset'})\n",
    "model = MICE()\n",
    "X_new[numerical_vars] = model.fit_transform(X_new[numerical_vars])"
   ],
   "metadata": {
    "collapsed": false,
    "ExecuteTime": {
     "end_time": "2023-09-19T17:11:25.760642900Z",
     "start_time": "2023-09-19T17:11:21.294485300Z"
    }
   }
  },
  {
   "cell_type": "markdown",
   "source": [
    "### [3] Create Model"
   ],
   "metadata": {
    "id": "5BczaKLlcKTl"
   }
  },
  {
   "cell_type": "code",
   "source": [
    "from sklearn.model_selection import train_test_split\n",
    "\n",
    "X_train = X_new[dat['dataset'] == 'train'].drop('dataset', axis=1)\n",
    "y_train = y[dat['dataset'] == 'train']\n",
    "\n",
    "X_val = X_new[dat['dataset'] == 'val'].drop('dataset', axis=1)\n",
    "y_val = y[dat['dataset'] == 'val']\n",
    "\n",
    "X_test = X_new[dat['dataset'] == 'test'].drop('dataset', axis=1)\n",
    "y_test = y[dat['dataset'] == 'test']"
   ],
   "metadata": {
    "id": "YaAjN6unrxpN",
    "ExecuteTime": {
     "end_time": "2023-09-19T17:17:16.892999800Z",
     "start_time": "2023-09-19T17:17:16.814191500Z"
    }
   },
   "execution_count": 29,
   "outputs": []
  },
  {
   "cell_type": "code",
   "execution_count": 30,
   "outputs": [
    {
     "data": {
      "text/plain": "        num_proc  mortality_ratio  expected_length      age  severity_1.0  \\\n0      21.000000         0.408730            151.0  12596.0           0.0   \n1      22.000000         0.306931             99.0  20973.0           0.0   \n2      19.000000         0.278481             87.0  19611.0           0.0   \n3      22.000000         0.150289            100.0  13583.0           0.0   \n4       2.000000         0.016573             44.0  18042.0           1.0   \n...          ...              ...              ...      ...           ...   \n22889   3.257889         0.000000              3.0   9157.0           1.0   \n22890  11.000000         0.011334              5.0  25533.0           0.0   \n22891   2.000000         0.000000              5.0   8537.0           1.0   \n22892   9.000000         0.030427              5.0  21855.0           0.0   \n22893   4.000000         0.000000              6.0   8941.0           0.0   \n\n       severity_2.0  severity_3.0  severity_4.0  severity_nan  origin_1.0  \\\n0               0.0           0.0           0.0           1.0         0.0   \n1               0.0           0.0           0.0           1.0         0.0   \n2               0.0           0.0           1.0           0.0         0.0   \n3               0.0           1.0           0.0           0.0         0.0   \n4               0.0           0.0           0.0           0.0         0.0   \n...             ...           ...           ...           ...         ...   \n22889           0.0           0.0           0.0           0.0         1.0   \n22890           1.0           0.0           0.0           0.0         0.0   \n22891           0.0           0.0           0.0           0.0         1.0   \n22892           0.0           1.0           0.0           0.0         0.0   \n22893           0.0           0.0           0.0           1.0         0.0   \n\n       ...  ambulatory_0.0  ambulatory_1.0  ambulatory_nan  tip_grd_M  \\\n0      ...             1.0             0.0             0.0        0.0   \n1      ...             0.0             0.0             1.0        0.0   \n2      ...             0.0             0.0             1.0        0.0   \n3      ...             0.0             0.0             1.0        0.0   \n4      ...             0.0             0.0             1.0        0.0   \n...    ...             ...             ...             ...        ...   \n22889  ...             0.0             0.0             1.0        1.0   \n22890  ...             0.0             0.0             1.0        1.0   \n22891  ...             0.0             0.0             1.0        0.0   \n22892  ...             0.0             0.0             1.0        1.0   \n22893  ...             0.0             0.0             1.0        0.0   \n\n       tip_grd_Q  tip_grd_nan  tip_adm_1.0  tip_adm_2.0  tip_adm_3.0  \\\n0            1.0          0.0          1.0          0.0          0.0   \n1            1.0          0.0          1.0          0.0          0.0   \n2            0.0          1.0          1.0          0.0          0.0   \n3            1.0          0.0          0.0          0.0          0.0   \n4            1.0          0.0          1.0          0.0          0.0   \n...          ...          ...          ...          ...          ...   \n22889        0.0          0.0          1.0          0.0          0.0   \n22890        0.0          0.0          1.0          0.0          0.0   \n22891        1.0          0.0          1.0          0.0          0.0   \n22892        0.0          0.0          1.0          0.0          0.0   \n22893        0.0          1.0          1.0          0.0          0.0   \n\n       tip_adm_nan  \n0              0.0  \n1              0.0  \n2              0.0  \n3              1.0  \n4              0.0  \n...            ...  \n22889          0.0  \n22890          0.0  \n22891          0.0  \n22892          0.0  \n22893          0.0  \n\n[22894 rows x 27 columns]",
      "text/html": "<div>\n<style scoped>\n    .dataframe tbody tr th:only-of-type {\n        vertical-align: middle;\n    }\n\n    .dataframe tbody tr th {\n        vertical-align: top;\n    }\n\n    .dataframe thead th {\n        text-align: right;\n    }\n</style>\n<table border=\"1\" class=\"dataframe\">\n  <thead>\n    <tr style=\"text-align: right;\">\n      <th></th>\n      <th>num_proc</th>\n      <th>mortality_ratio</th>\n      <th>expected_length</th>\n      <th>age</th>\n      <th>severity_1.0</th>\n      <th>severity_2.0</th>\n      <th>severity_3.0</th>\n      <th>severity_4.0</th>\n      <th>severity_nan</th>\n      <th>origin_1.0</th>\n      <th>...</th>\n      <th>ambulatory_0.0</th>\n      <th>ambulatory_1.0</th>\n      <th>ambulatory_nan</th>\n      <th>tip_grd_M</th>\n      <th>tip_grd_Q</th>\n      <th>tip_grd_nan</th>\n      <th>tip_adm_1.0</th>\n      <th>tip_adm_2.0</th>\n      <th>tip_adm_3.0</th>\n      <th>tip_adm_nan</th>\n    </tr>\n  </thead>\n  <tbody>\n    <tr>\n      <th>0</th>\n      <td>21.000000</td>\n      <td>0.408730</td>\n      <td>151.0</td>\n      <td>12596.0</td>\n      <td>0.0</td>\n      <td>0.0</td>\n      <td>0.0</td>\n      <td>0.0</td>\n      <td>1.0</td>\n      <td>0.0</td>\n      <td>...</td>\n      <td>1.0</td>\n      <td>0.0</td>\n      <td>0.0</td>\n      <td>0.0</td>\n      <td>1.0</td>\n      <td>0.0</td>\n      <td>1.0</td>\n      <td>0.0</td>\n      <td>0.0</td>\n      <td>0.0</td>\n    </tr>\n    <tr>\n      <th>1</th>\n      <td>22.000000</td>\n      <td>0.306931</td>\n      <td>99.0</td>\n      <td>20973.0</td>\n      <td>0.0</td>\n      <td>0.0</td>\n      <td>0.0</td>\n      <td>0.0</td>\n      <td>1.0</td>\n      <td>0.0</td>\n      <td>...</td>\n      <td>0.0</td>\n      <td>0.0</td>\n      <td>1.0</td>\n      <td>0.0</td>\n      <td>1.0</td>\n      <td>0.0</td>\n      <td>1.0</td>\n      <td>0.0</td>\n      <td>0.0</td>\n      <td>0.0</td>\n    </tr>\n    <tr>\n      <th>2</th>\n      <td>19.000000</td>\n      <td>0.278481</td>\n      <td>87.0</td>\n      <td>19611.0</td>\n      <td>0.0</td>\n      <td>0.0</td>\n      <td>0.0</td>\n      <td>1.0</td>\n      <td>0.0</td>\n      <td>0.0</td>\n      <td>...</td>\n      <td>0.0</td>\n      <td>0.0</td>\n      <td>1.0</td>\n      <td>0.0</td>\n      <td>0.0</td>\n      <td>1.0</td>\n      <td>1.0</td>\n      <td>0.0</td>\n      <td>0.0</td>\n      <td>0.0</td>\n    </tr>\n    <tr>\n      <th>3</th>\n      <td>22.000000</td>\n      <td>0.150289</td>\n      <td>100.0</td>\n      <td>13583.0</td>\n      <td>0.0</td>\n      <td>0.0</td>\n      <td>1.0</td>\n      <td>0.0</td>\n      <td>0.0</td>\n      <td>0.0</td>\n      <td>...</td>\n      <td>0.0</td>\n      <td>0.0</td>\n      <td>1.0</td>\n      <td>0.0</td>\n      <td>1.0</td>\n      <td>0.0</td>\n      <td>0.0</td>\n      <td>0.0</td>\n      <td>0.0</td>\n      <td>1.0</td>\n    </tr>\n    <tr>\n      <th>4</th>\n      <td>2.000000</td>\n      <td>0.016573</td>\n      <td>44.0</td>\n      <td>18042.0</td>\n      <td>1.0</td>\n      <td>0.0</td>\n      <td>0.0</td>\n      <td>0.0</td>\n      <td>0.0</td>\n      <td>0.0</td>\n      <td>...</td>\n      <td>0.0</td>\n      <td>0.0</td>\n      <td>1.0</td>\n      <td>0.0</td>\n      <td>1.0</td>\n      <td>0.0</td>\n      <td>1.0</td>\n      <td>0.0</td>\n      <td>0.0</td>\n      <td>0.0</td>\n    </tr>\n    <tr>\n      <th>...</th>\n      <td>...</td>\n      <td>...</td>\n      <td>...</td>\n      <td>...</td>\n      <td>...</td>\n      <td>...</td>\n      <td>...</td>\n      <td>...</td>\n      <td>...</td>\n      <td>...</td>\n      <td>...</td>\n      <td>...</td>\n      <td>...</td>\n      <td>...</td>\n      <td>...</td>\n      <td>...</td>\n      <td>...</td>\n      <td>...</td>\n      <td>...</td>\n      <td>...</td>\n      <td>...</td>\n    </tr>\n    <tr>\n      <th>22889</th>\n      <td>3.257889</td>\n      <td>0.000000</td>\n      <td>3.0</td>\n      <td>9157.0</td>\n      <td>1.0</td>\n      <td>0.0</td>\n      <td>0.0</td>\n      <td>0.0</td>\n      <td>0.0</td>\n      <td>1.0</td>\n      <td>...</td>\n      <td>0.0</td>\n      <td>0.0</td>\n      <td>1.0</td>\n      <td>1.0</td>\n      <td>0.0</td>\n      <td>0.0</td>\n      <td>1.0</td>\n      <td>0.0</td>\n      <td>0.0</td>\n      <td>0.0</td>\n    </tr>\n    <tr>\n      <th>22890</th>\n      <td>11.000000</td>\n      <td>0.011334</td>\n      <td>5.0</td>\n      <td>25533.0</td>\n      <td>0.0</td>\n      <td>1.0</td>\n      <td>0.0</td>\n      <td>0.0</td>\n      <td>0.0</td>\n      <td>0.0</td>\n      <td>...</td>\n      <td>0.0</td>\n      <td>0.0</td>\n      <td>1.0</td>\n      <td>1.0</td>\n      <td>0.0</td>\n      <td>0.0</td>\n      <td>1.0</td>\n      <td>0.0</td>\n      <td>0.0</td>\n      <td>0.0</td>\n    </tr>\n    <tr>\n      <th>22891</th>\n      <td>2.000000</td>\n      <td>0.000000</td>\n      <td>5.0</td>\n      <td>8537.0</td>\n      <td>1.0</td>\n      <td>0.0</td>\n      <td>0.0</td>\n      <td>0.0</td>\n      <td>0.0</td>\n      <td>1.0</td>\n      <td>...</td>\n      <td>0.0</td>\n      <td>0.0</td>\n      <td>1.0</td>\n      <td>0.0</td>\n      <td>1.0</td>\n      <td>0.0</td>\n      <td>1.0</td>\n      <td>0.0</td>\n      <td>0.0</td>\n      <td>0.0</td>\n    </tr>\n    <tr>\n      <th>22892</th>\n      <td>9.000000</td>\n      <td>0.030427</td>\n      <td>5.0</td>\n      <td>21855.0</td>\n      <td>0.0</td>\n      <td>0.0</td>\n      <td>1.0</td>\n      <td>0.0</td>\n      <td>0.0</td>\n      <td>0.0</td>\n      <td>...</td>\n      <td>0.0</td>\n      <td>0.0</td>\n      <td>1.0</td>\n      <td>1.0</td>\n      <td>0.0</td>\n      <td>0.0</td>\n      <td>1.0</td>\n      <td>0.0</td>\n      <td>0.0</td>\n      <td>0.0</td>\n    </tr>\n    <tr>\n      <th>22893</th>\n      <td>4.000000</td>\n      <td>0.000000</td>\n      <td>6.0</td>\n      <td>8941.0</td>\n      <td>0.0</td>\n      <td>0.0</td>\n      <td>0.0</td>\n      <td>0.0</td>\n      <td>1.0</td>\n      <td>0.0</td>\n      <td>...</td>\n      <td>0.0</td>\n      <td>0.0</td>\n      <td>1.0</td>\n      <td>0.0</td>\n      <td>0.0</td>\n      <td>1.0</td>\n      <td>1.0</td>\n      <td>0.0</td>\n      <td>0.0</td>\n      <td>0.0</td>\n    </tr>\n  </tbody>\n</table>\n<p>22894 rows × 27 columns</p>\n</div>"
     },
     "execution_count": 30,
     "metadata": {},
     "output_type": "execute_result"
    }
   ],
   "source": [
    "X_train"
   ],
   "metadata": {
    "collapsed": false,
    "ExecuteTime": {
     "end_time": "2023-09-19T17:17:19.273545700Z",
     "start_time": "2023-09-19T17:17:19.189753300Z"
    }
   }
  },
  {
   "cell_type": "code",
   "source": [
    "from sklearn.ensemble import RandomForestClassifier as model_constructor\n",
    "from sklearn.metrics import roc_auc_score as metric\n",
    "\n",
    "# Random Forest\n",
    "n_estimators_values = [10, 100, 1000]\n",
    "max_features_values = [2, 5, 10]\n",
    "max_samples_values = [100, 1000, X_train.shape[0]]\n",
    "\n",
    "params_grid = {'max_features': max_features_values,\n",
    "              'n_estimators': n_estimators_values,\n",
    "               'max_samples': max_samples_values}\n",
    "\n",
    "num_iter = 1;\n",
    "grid_results = pd.DataFrame(columns = ('max_features',\n",
    "                                       'n_estimators',\n",
    "                                       'max_samples',\n",
    "                                       'metric_train',\n",
    "                                       'metric_val'))\n",
    "\n",
    "for max_features in params_grid['max_features']:\n",
    "    for n_estimators in params_grid['n_estimators']:\n",
    "        for max_samples in params_grid['max_samples']:\n",
    "\n",
    "                        # Print trace\n",
    "                        print('Iteracion = ' + str(num_iter))\n",
    "\n",
    "                        # [3] Define model\n",
    "                        model = model_constructor(max_features = max_features,\n",
    "                                                  n_estimators = n_estimators,\n",
    "                                                  max_samples = max_samples,\n",
    "                                                  random_state = 0)\n",
    "\n",
    "                        # [4] Train model\n",
    "                        model.fit(X_train, y_train)\n",
    "\n",
    "\n",
    "                        # [5] Predict\n",
    "                        pred_train = model.predict(X_train) # predict!\n",
    "                        pred_val = model.predict(X_val) # predict!\n",
    "\n",
    "                        # [6] Compute metric\n",
    "                        metric_train = metric(y_train, pred_train)\n",
    "                        metric_val = metric(y_val, pred_val)\n",
    "\n",
    "                        # print error\n",
    "                        print('Metric train = %.2f - Metric validation = %.2f.'\n",
    "                              % (metric_train, metric_val))\n",
    "\n",
    "                        # Save iteration results\n",
    "                        grid_results.loc[num_iter]=[ max_features,\n",
    "                                                    n_estimators,\n",
    "                                                    max_samples,\n",
    "                                                 metric_train,\n",
    "                                                 metric_val]\n",
    "                        num_iter += 1\n",
    "\n",
    "\n"
   ],
   "metadata": {
    "id": "ZvVUKcO0k5dm",
    "ExecuteTime": {
     "end_time": "2023-09-19T17:19:07.787699400Z",
     "start_time": "2023-09-19T17:17:21.138955600Z"
    }
   },
   "execution_count": 31,
   "outputs": [
    {
     "name": "stdout",
     "output_type": "stream",
     "text": [
      "Iteracion = 1\n",
      "Metric train = 0.50 - Metric validation = 0.50.\n",
      "Iteracion = 2\n",
      "Metric train = 0.54 - Metric validation = 0.53.\n",
      "Iteracion = 3\n",
      "Metric train = 0.94 - Metric validation = 0.56.\n",
      "Iteracion = 4\n",
      "Metric train = 0.50 - Metric validation = 0.50.\n",
      "Iteracion = 5\n",
      "Metric train = 0.52 - Metric validation = 0.51.\n",
      "Iteracion = 6\n",
      "Metric train = 1.00 - Metric validation = 0.57.\n",
      "Iteracion = 7\n",
      "Metric train = 0.50 - Metric validation = 0.50.\n",
      "Iteracion = 8\n",
      "Metric train = 0.52 - Metric validation = 0.51.\n",
      "Iteracion = 9\n",
      "Metric train = 1.00 - Metric validation = 0.57.\n",
      "Iteracion = 10\n",
      "Metric train = 0.54 - Metric validation = 0.54.\n",
      "Iteracion = 11\n",
      "Metric train = 0.55 - Metric validation = 0.54.\n",
      "Iteracion = 12\n",
      "Metric train = 0.94 - Metric validation = 0.57.\n",
      "Iteracion = 13\n",
      "Metric train = 0.50 - Metric validation = 0.50.\n",
      "Iteracion = 14\n",
      "Metric train = 0.54 - Metric validation = 0.53.\n",
      "Iteracion = 15\n",
      "Metric train = 1.00 - Metric validation = 0.58.\n",
      "Iteracion = 16\n",
      "Metric train = 0.50 - Metric validation = 0.50.\n",
      "Iteracion = 17\n",
      "Metric train = 0.54 - Metric validation = 0.53.\n",
      "Iteracion = 18\n",
      "Metric train = 1.00 - Metric validation = 0.57.\n",
      "Iteracion = 19\n",
      "Metric train = 0.53 - Metric validation = 0.53.\n",
      "Iteracion = 20\n",
      "Metric train = 0.58 - Metric validation = 0.56.\n",
      "Iteracion = 21\n",
      "Metric train = 0.94 - Metric validation = 0.57.\n",
      "Iteracion = 22\n",
      "Metric train = 0.50 - Metric validation = 0.50.\n",
      "Iteracion = 23\n",
      "Metric train = 0.57 - Metric validation = 0.56.\n",
      "Iteracion = 24\n",
      "Metric train = 1.00 - Metric validation = 0.59.\n",
      "Iteracion = 25\n",
      "Metric train = 0.50 - Metric validation = 0.50.\n",
      "Iteracion = 26\n",
      "Metric train = 0.57 - Metric validation = 0.55.\n",
      "Iteracion = 27\n",
      "Metric train = 1.00 - Metric validation = 0.58.\n"
     ]
    }
   ]
  },
  {
   "cell_type": "code",
   "execution_count": 32,
   "outputs": [
    {
     "data": {
      "text/plain": "max_features       10.000000\nn_estimators      100.000000\nmax_samples     22894.000000\nmetric_train        1.000000\nmetric_val          0.585164\nName: 24, dtype: float64"
     },
     "execution_count": 32,
     "metadata": {},
     "output_type": "execute_result"
    }
   ],
   "source": [
    "grid_results = grid_results.sort_values(by = ['metric_val', 'metric_train'], ascending = [False, True])\n",
    "best_model = grid_results.iloc[0]\n",
    "best_model"
   ],
   "metadata": {
    "collapsed": false,
    "ExecuteTime": {
     "end_time": "2023-09-19T17:19:12.628813100Z",
     "start_time": "2023-09-19T17:19:12.387829700Z"
    }
   }
  },
  {
   "cell_type": "code",
   "execution_count": 33,
   "outputs": [
    {
     "name": "stdout",
     "output_type": "stream",
     "text": [
      "Old train data size = (22894, 27)\n",
      "Old train target size = (22894,)\n",
      "New train data size = (27799, 27)\n",
      "New train target size = (27799,)\n"
     ]
    }
   ],
   "source": [
    "print('Old train data size = ' + str(X_train.shape))\n",
    "print('Old train target size = ' + str(y_train.shape))\n",
    "\n",
    "# Combine train and validación\n",
    "X_train = np.concatenate((X_train, X_val), axis = 0)\n",
    "y_train = np.concatenate((y_train, y_val), axis = 0)\n",
    "\n",
    "print('New train data size = ' + str(X_train.shape))\n",
    "print('New train target size = ' + str(y_train.shape))"
   ],
   "metadata": {
    "collapsed": false,
    "ExecuteTime": {
     "end_time": "2023-09-19T17:19:15.841211600Z",
     "start_time": "2023-09-19T17:19:15.820095100Z"
    }
   }
  },
  {
   "cell_type": "code",
   "execution_count": 34,
   "outputs": [],
   "source": [
    "# [3] Define model\n",
    "model = model_constructor(criterion = 'gini',\n",
    "                          max_depth = None,\n",
    "                          min_samples_split = 2,\n",
    "                          min_samples_leaf = 1,\n",
    "                          max_features = int(best_model.max_features),\n",
    "                          n_estimators =  int(best_model.n_estimators),\n",
    "                          max_samples = int(best_model.max_samples),\n",
    "                          random_state = 0) # Use same random_state as in training!!!"
   ],
   "metadata": {
    "collapsed": false,
    "ExecuteTime": {
     "end_time": "2023-09-19T17:19:18.229857800Z",
     "start_time": "2023-09-19T17:19:18.175540800Z"
    }
   }
  },
  {
   "cell_type": "markdown",
   "source": [
    "# Evaluate Model"
   ],
   "metadata": {
    "id": "eAe2bKe7hK_c"
   }
  },
  {
   "cell_type": "code",
   "source": [
    "# [4] Train model\n",
    "model.fit(X_train, y_train)"
   ],
   "metadata": {
    "id": "I0mwZ7GQhMIn",
    "ExecuteTime": {
     "end_time": "2023-09-19T17:23:44.375488200Z",
     "start_time": "2023-09-19T17:23:40.625153Z"
    }
   },
   "execution_count": 38,
   "outputs": [
    {
     "data": {
      "text/plain": "RandomForestClassifier(max_features=10, max_samples=22894, random_state=0)",
      "text/html": "<style>#sk-container-id-1 {color: black;}#sk-container-id-1 pre{padding: 0;}#sk-container-id-1 div.sk-toggleable {background-color: white;}#sk-container-id-1 label.sk-toggleable__label {cursor: pointer;display: block;width: 100%;margin-bottom: 0;padding: 0.3em;box-sizing: border-box;text-align: center;}#sk-container-id-1 label.sk-toggleable__label-arrow:before {content: \"▸\";float: left;margin-right: 0.25em;color: #696969;}#sk-container-id-1 label.sk-toggleable__label-arrow:hover:before {color: black;}#sk-container-id-1 div.sk-estimator:hover label.sk-toggleable__label-arrow:before {color: black;}#sk-container-id-1 div.sk-toggleable__content {max-height: 0;max-width: 0;overflow: hidden;text-align: left;background-color: #f0f8ff;}#sk-container-id-1 div.sk-toggleable__content pre {margin: 0.2em;color: black;border-radius: 0.25em;background-color: #f0f8ff;}#sk-container-id-1 input.sk-toggleable__control:checked~div.sk-toggleable__content {max-height: 200px;max-width: 100%;overflow: auto;}#sk-container-id-1 input.sk-toggleable__control:checked~label.sk-toggleable__label-arrow:before {content: \"▾\";}#sk-container-id-1 div.sk-estimator input.sk-toggleable__control:checked~label.sk-toggleable__label {background-color: #d4ebff;}#sk-container-id-1 div.sk-label input.sk-toggleable__control:checked~label.sk-toggleable__label {background-color: #d4ebff;}#sk-container-id-1 input.sk-hidden--visually {border: 0;clip: rect(1px 1px 1px 1px);clip: rect(1px, 1px, 1px, 1px);height: 1px;margin: -1px;overflow: hidden;padding: 0;position: absolute;width: 1px;}#sk-container-id-1 div.sk-estimator {font-family: monospace;background-color: #f0f8ff;border: 1px dotted black;border-radius: 0.25em;box-sizing: border-box;margin-bottom: 0.5em;}#sk-container-id-1 div.sk-estimator:hover {background-color: #d4ebff;}#sk-container-id-1 div.sk-parallel-item::after {content: \"\";width: 100%;border-bottom: 1px solid gray;flex-grow: 1;}#sk-container-id-1 div.sk-label:hover label.sk-toggleable__label {background-color: #d4ebff;}#sk-container-id-1 div.sk-serial::before {content: \"\";position: absolute;border-left: 1px solid gray;box-sizing: border-box;top: 0;bottom: 0;left: 50%;z-index: 0;}#sk-container-id-1 div.sk-serial {display: flex;flex-direction: column;align-items: center;background-color: white;padding-right: 0.2em;padding-left: 0.2em;position: relative;}#sk-container-id-1 div.sk-item {position: relative;z-index: 1;}#sk-container-id-1 div.sk-parallel {display: flex;align-items: stretch;justify-content: center;background-color: white;position: relative;}#sk-container-id-1 div.sk-item::before, #sk-container-id-1 div.sk-parallel-item::before {content: \"\";position: absolute;border-left: 1px solid gray;box-sizing: border-box;top: 0;bottom: 0;left: 50%;z-index: -1;}#sk-container-id-1 div.sk-parallel-item {display: flex;flex-direction: column;z-index: 1;position: relative;background-color: white;}#sk-container-id-1 div.sk-parallel-item:first-child::after {align-self: flex-end;width: 50%;}#sk-container-id-1 div.sk-parallel-item:last-child::after {align-self: flex-start;width: 50%;}#sk-container-id-1 div.sk-parallel-item:only-child::after {width: 0;}#sk-container-id-1 div.sk-dashed-wrapped {border: 1px dashed gray;margin: 0 0.4em 0.5em 0.4em;box-sizing: border-box;padding-bottom: 0.4em;background-color: white;}#sk-container-id-1 div.sk-label label {font-family: monospace;font-weight: bold;display: inline-block;line-height: 1.2em;}#sk-container-id-1 div.sk-label-container {text-align: center;}#sk-container-id-1 div.sk-container {/* jupyter's `normalize.less` sets `[hidden] { display: none; }` but bootstrap.min.css set `[hidden] { display: none !important; }` so we also need the `!important` here to be able to override the default hidden behavior on the sphinx rendered scikit-learn.org. See: https://github.com/scikit-learn/scikit-learn/issues/21755 */display: inline-block !important;position: relative;}#sk-container-id-1 div.sk-text-repr-fallback {display: none;}</style><div id=\"sk-container-id-1\" class=\"sk-top-container\"><div class=\"sk-text-repr-fallback\"><pre>RandomForestClassifier(max_features=10, max_samples=22894, random_state=0)</pre><b>In a Jupyter environment, please rerun this cell to show the HTML representation or trust the notebook. <br />On GitHub, the HTML representation is unable to render, please try loading this page with nbviewer.org.</b></div><div class=\"sk-container\" hidden><div class=\"sk-item\"><div class=\"sk-estimator sk-toggleable\"><input class=\"sk-toggleable__control sk-hidden--visually\" id=\"sk-estimator-id-1\" type=\"checkbox\" checked><label for=\"sk-estimator-id-1\" class=\"sk-toggleable__label sk-toggleable__label-arrow\">RandomForestClassifier</label><div class=\"sk-toggleable__content\"><pre>RandomForestClassifier(max_features=10, max_samples=22894, random_state=0)</pre></div></div></div></div></div>"
     },
     "execution_count": 38,
     "metadata": {},
     "output_type": "execute_result"
    }
   ]
  },
  {
   "cell_type": "code",
   "execution_count": 39,
   "outputs": [
    {
     "name": "stderr",
     "output_type": "stream",
     "text": [
      "J:\\IE\\SECOND TERM\\MLII\\venv\\Lib\\site-packages\\sklearn\\base.py:457: UserWarning: X has feature names, but RandomForestClassifier was fitted without feature names\n",
      "  warnings.warn(\n",
      "J:\\IE\\SECOND TERM\\MLII\\venv\\Lib\\site-packages\\sklearn\\base.py:457: UserWarning: X has feature names, but RandomForestClassifier was fitted without feature names\n",
      "  warnings.warn(\n"
     ]
    }
   ],
   "source": [
    "# [5] Predict\n",
    "pred_train = model.predict(X_train)\n",
    "pred_test = model.predict(X_test)\n",
    "pred_val = model.predict(X_val)"
   ],
   "metadata": {
    "collapsed": false,
    "ExecuteTime": {
     "end_time": "2023-09-19T17:23:53.691468600Z",
     "start_time": "2023-09-19T17:23:53.399232400Z"
    }
   }
  },
  {
   "cell_type": "code",
   "execution_count": 40,
   "outputs": [
    {
     "ename": "IndexError",
     "evalue": "too many indices for array: array is 1-dimensional, but 2 were indexed",
     "output_type": "error",
     "traceback": [
      "\u001B[1;31m---------------------------------------------------------------------------\u001B[0m",
      "\u001B[1;31mIndexError\u001B[0m                                Traceback (most recent call last)",
      "Cell \u001B[1;32mIn[40], line 2\u001B[0m\n\u001B[0;32m      1\u001B[0m \u001B[38;5;66;03m# [6] Compute metric\u001B[39;00m\n\u001B[1;32m----> 2\u001B[0m metric_train \u001B[38;5;241m=\u001B[39m metric(y_train, \u001B[43mpred_train\u001B[49m\u001B[43m[\u001B[49m\u001B[43m:\u001B[49m\u001B[43m,\u001B[49m\u001B[38;5;241;43m1\u001B[39;49m\u001B[43m]\u001B[49m)\n\u001B[0;32m      3\u001B[0m metric_val \u001B[38;5;241m=\u001B[39m metric(y_test, pred_val[:,\u001B[38;5;241m1\u001B[39m])\n\u001B[0;32m      4\u001B[0m metric_test \u001B[38;5;241m=\u001B[39m metric(y_val, pred_test[:,\u001B[38;5;241m1\u001B[39m])\n",
      "\u001B[1;31mIndexError\u001B[0m: too many indices for array: array is 1-dimensional, but 2 were indexed"
     ]
    }
   ],
   "source": [
    "# [6] Compute metric\n",
    "metric_train = metric(y_train, pred_train[:,1])\n",
    "metric_val = metric(y_test, pred_val[:,1])\n",
    "metric_test = metric(y_val, pred_test[:,1])"
   ],
   "metadata": {
    "collapsed": false,
    "ExecuteTime": {
     "end_time": "2023-09-19T17:24:11.133356500Z",
     "start_time": "2023-09-19T17:24:11.101467600Z"
    }
   }
  },
  {
   "cell_type": "code",
   "source": [
    "# print error\n",
    "print('Metric train = %.2f - Metric val = %.2f - Metric test = %.2f'\n",
    "      % (metric_train, metric_val, metric_test))"
   ],
   "metadata": {
    "colab": {
     "base_uri": "https://localhost:8080/"
    },
    "id": "T-EPli1DiYGX",
    "outputId": "8e007bc0-142b-424d-ea6c-bfdaae328444",
    "ExecuteTime": {
     "end_time": "2023-09-18T18:07:57.966364500Z",
     "start_time": "2023-09-18T18:07:57.913419500Z"
    }
   },
   "execution_count": 141,
   "outputs": [
    {
     "name": "stdout",
     "output_type": "stream",
     "text": [
      "Metric train = 0.90 - Metric val = 0.60 - Metric test = 0.58\n"
     ]
    }
   ]
  }
 ]
}
