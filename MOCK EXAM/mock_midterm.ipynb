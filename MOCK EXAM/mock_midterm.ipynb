{
 "nbformat": 4,
 "nbformat_minor": 0,
 "metadata": {
  "colab": {
   "provenance": []
  },
  "kernelspec": {
   "name": "python3",
   "language": "python",
   "display_name": "Python 3 (ipykernel)"
  },
  "language_info": {
   "name": "python"
  }
 },
 "cells": [
  {
   "cell_type": "code",
   "execution_count": 32,
   "metadata": {
    "id": "_OKK2VwBbP81",
    "ExecuteTime": {
     "end_time": "2023-09-17T20:33:36.411334900Z",
     "start_time": "2023-09-17T20:33:36.391304100Z"
    }
   },
   "outputs": [],
   "source": [
    "# Load libraries\n",
    "import numpy as np\n",
    "import pandas as pd\n",
    "import io"
   ]
  },
  {
   "cell_type": "markdown",
   "source": [
    "#  Mock Midterm Exercise"
   ],
   "metadata": {
    "id": "VoFYQVQ0bVCN"
   }
  },
  {
   "cell_type": "markdown",
   "source": [
    "In this exercise you will have to implement code in the sections inside *Fill with Your Code* (*Load Data*, *Data Preprocessing* and *Create Model*) create a model to predict the column *exitus* in the dataset given. The dataset is already split into train, validation, and test subsets. To see to which subset belong each observation, you need to check the *dataset* column.\n",
    "\n",
    "The code that is already written in this notebook **CANNOT BE CHANGED**. You can only add code in the *Fill with Your Code* section.\n",
    "\n",
    "You must achieve in the last cell of this notebook an **AUC over test of at least 0.93**."
   ],
   "metadata": {
    "id": "xdYg4_U3bYH8"
   }
  },
  {
   "cell_type": "markdown",
   "source": [
    "# Fill With Your Code"
   ],
   "metadata": {
    "id": "_lpuKCkfb9do"
   }
  },
  {
   "cell_type": "markdown",
   "source": [
    "### [1] Load Data"
   ],
   "metadata": {
    "id": "66HBtc2Cbpm_"
   }
  },
  {
   "cell_type": "code",
   "source": [
    "dat = pd.read_csv('../data/healthcare_missing.csv', sep = \",\")"
   ],
   "metadata": {
    "id": "EtxuaDPHbWj1",
    "ExecuteTime": {
     "end_time": "2023-09-17T20:33:37.971261400Z",
     "start_time": "2023-09-17T20:33:37.913956800Z"
    }
   },
   "execution_count": 33,
   "outputs": []
  },
  {
   "cell_type": "code",
   "source": [
    "dat"
   ],
   "metadata": {
    "colab": {
     "base_uri": "https://localhost:8080/",
     "height": 423
    },
    "id": "Qq_JqH9bev9L",
    "outputId": "95b4918a-7f25-4969-9592-bc4d6b7649bd",
    "ExecuteTime": {
     "end_time": "2023-09-17T20:33:38.902035500Z",
     "start_time": "2023-09-17T20:33:38.876638Z"
    }
   },
   "execution_count": 34,
   "outputs": [
    {
     "data": {
      "text/plain": "          date  severity  mortality_ratio      age  num_proc  ambulatory  \\\n0      2016-01       NaN         0.408730  12596.0      21.0         0.0   \n1      2016-01       NaN         0.306931  20973.0      22.0         NaN   \n2      2016-01       4.0         0.278481  19611.0      19.0         NaN   \n3      2016-01       3.0         0.150289  13583.0      22.0         NaN   \n4      2016-01       1.0         0.016573  18042.0       2.0         NaN   \n...        ...       ...              ...      ...       ...         ...   \n32701  2016-12       2.0         0.028365  23619.0       2.0         NaN   \n32702  2016-12       1.0         0.000606   3935.0       1.0         NaN   \n32703  2016-12       NaN         0.040452  30163.0       4.0         NaN   \n32704  2016-12       NaN         0.000000  29012.0       4.0         NaN   \n32705  2016-12       NaN         0.000000  13244.0       1.0         NaN   \n\n       origin  expected_length tip_grd  tip_adm  exitus  \n0         NaN            151.0       Q      1.0       0  \n1         NaN             99.0       Q      1.0       0  \n2         NaN             87.0     NaN      1.0       0  \n3         NaN            100.0       Q      NaN       0  \n4         NaN             44.0       Q      1.0       0  \n...       ...              ...     ...      ...     ...  \n32701     NaN              2.0     NaN      1.0       0  \n32702     1.0              2.0       M      1.0       0  \n32703     NaN              2.0       M      NaN       0  \n32704     NaN              0.0     NaN      1.0       0  \n32705     NaN              0.0       Q      1.0       0  \n\n[32706 rows x 11 columns]",
      "text/html": "<div>\n<style scoped>\n    .dataframe tbody tr th:only-of-type {\n        vertical-align: middle;\n    }\n\n    .dataframe tbody tr th {\n        vertical-align: top;\n    }\n\n    .dataframe thead th {\n        text-align: right;\n    }\n</style>\n<table border=\"1\" class=\"dataframe\">\n  <thead>\n    <tr style=\"text-align: right;\">\n      <th></th>\n      <th>date</th>\n      <th>severity</th>\n      <th>mortality_ratio</th>\n      <th>age</th>\n      <th>num_proc</th>\n      <th>ambulatory</th>\n      <th>origin</th>\n      <th>expected_length</th>\n      <th>tip_grd</th>\n      <th>tip_adm</th>\n      <th>exitus</th>\n    </tr>\n  </thead>\n  <tbody>\n    <tr>\n      <th>0</th>\n      <td>2016-01</td>\n      <td>NaN</td>\n      <td>0.408730</td>\n      <td>12596.0</td>\n      <td>21.0</td>\n      <td>0.0</td>\n      <td>NaN</td>\n      <td>151.0</td>\n      <td>Q</td>\n      <td>1.0</td>\n      <td>0</td>\n    </tr>\n    <tr>\n      <th>1</th>\n      <td>2016-01</td>\n      <td>NaN</td>\n      <td>0.306931</td>\n      <td>20973.0</td>\n      <td>22.0</td>\n      <td>NaN</td>\n      <td>NaN</td>\n      <td>99.0</td>\n      <td>Q</td>\n      <td>1.0</td>\n      <td>0</td>\n    </tr>\n    <tr>\n      <th>2</th>\n      <td>2016-01</td>\n      <td>4.0</td>\n      <td>0.278481</td>\n      <td>19611.0</td>\n      <td>19.0</td>\n      <td>NaN</td>\n      <td>NaN</td>\n      <td>87.0</td>\n      <td>NaN</td>\n      <td>1.0</td>\n      <td>0</td>\n    </tr>\n    <tr>\n      <th>3</th>\n      <td>2016-01</td>\n      <td>3.0</td>\n      <td>0.150289</td>\n      <td>13583.0</td>\n      <td>22.0</td>\n      <td>NaN</td>\n      <td>NaN</td>\n      <td>100.0</td>\n      <td>Q</td>\n      <td>NaN</td>\n      <td>0</td>\n    </tr>\n    <tr>\n      <th>4</th>\n      <td>2016-01</td>\n      <td>1.0</td>\n      <td>0.016573</td>\n      <td>18042.0</td>\n      <td>2.0</td>\n      <td>NaN</td>\n      <td>NaN</td>\n      <td>44.0</td>\n      <td>Q</td>\n      <td>1.0</td>\n      <td>0</td>\n    </tr>\n    <tr>\n      <th>...</th>\n      <td>...</td>\n      <td>...</td>\n      <td>...</td>\n      <td>...</td>\n      <td>...</td>\n      <td>...</td>\n      <td>...</td>\n      <td>...</td>\n      <td>...</td>\n      <td>...</td>\n      <td>...</td>\n    </tr>\n    <tr>\n      <th>32701</th>\n      <td>2016-12</td>\n      <td>2.0</td>\n      <td>0.028365</td>\n      <td>23619.0</td>\n      <td>2.0</td>\n      <td>NaN</td>\n      <td>NaN</td>\n      <td>2.0</td>\n      <td>NaN</td>\n      <td>1.0</td>\n      <td>0</td>\n    </tr>\n    <tr>\n      <th>32702</th>\n      <td>2016-12</td>\n      <td>1.0</td>\n      <td>0.000606</td>\n      <td>3935.0</td>\n      <td>1.0</td>\n      <td>NaN</td>\n      <td>1.0</td>\n      <td>2.0</td>\n      <td>M</td>\n      <td>1.0</td>\n      <td>0</td>\n    </tr>\n    <tr>\n      <th>32703</th>\n      <td>2016-12</td>\n      <td>NaN</td>\n      <td>0.040452</td>\n      <td>30163.0</td>\n      <td>4.0</td>\n      <td>NaN</td>\n      <td>NaN</td>\n      <td>2.0</td>\n      <td>M</td>\n      <td>NaN</td>\n      <td>0</td>\n    </tr>\n    <tr>\n      <th>32704</th>\n      <td>2016-12</td>\n      <td>NaN</td>\n      <td>0.000000</td>\n      <td>29012.0</td>\n      <td>4.0</td>\n      <td>NaN</td>\n      <td>NaN</td>\n      <td>0.0</td>\n      <td>NaN</td>\n      <td>1.0</td>\n      <td>0</td>\n    </tr>\n    <tr>\n      <th>32705</th>\n      <td>2016-12</td>\n      <td>NaN</td>\n      <td>0.000000</td>\n      <td>13244.0</td>\n      <td>1.0</td>\n      <td>NaN</td>\n      <td>NaN</td>\n      <td>0.0</td>\n      <td>Q</td>\n      <td>1.0</td>\n      <td>0</td>\n    </tr>\n  </tbody>\n</table>\n<p>32706 rows × 11 columns</p>\n</div>"
     },
     "execution_count": 34,
     "metadata": {},
     "output_type": "execute_result"
    }
   ]
  },
  {
   "cell_type": "code",
   "execution_count": 38,
   "outputs": [
    {
     "data": {
      "text/plain": "       severity  mortality_ratio      age  num_proc  ambulatory  origin  \\\n0           NaN         0.408730  12596.0      21.0         0.0     NaN   \n1           NaN         0.306931  20973.0      22.0         NaN     NaN   \n2           4.0         0.278481  19611.0      19.0         NaN     NaN   \n3           3.0         0.150289  13583.0      22.0         NaN     NaN   \n4           1.0         0.016573  18042.0       2.0         NaN     NaN   \n...         ...              ...      ...       ...         ...     ...   \n32701       2.0         0.028365  23619.0       2.0         NaN     NaN   \n32702       1.0         0.000606   3935.0       1.0         NaN     1.0   \n32703       NaN         0.040452  30163.0       4.0         NaN     NaN   \n32704       NaN         0.000000  29012.0       4.0         NaN     NaN   \n32705       NaN         0.000000  13244.0       1.0         NaN     NaN   \n\n       expected_length tip_grd  tip_adm  \n0                151.0       Q      1.0  \n1                 99.0       Q      1.0  \n2                 87.0     NaN      1.0  \n3                100.0       Q      NaN  \n4                 44.0       Q      1.0  \n...                ...     ...      ...  \n32701              2.0     NaN      1.0  \n32702              2.0       M      1.0  \n32703              2.0       M      NaN  \n32704              0.0     NaN      1.0  \n32705              0.0       Q      1.0  \n\n[32706 rows x 9 columns]",
      "text/html": "<div>\n<style scoped>\n    .dataframe tbody tr th:only-of-type {\n        vertical-align: middle;\n    }\n\n    .dataframe tbody tr th {\n        vertical-align: top;\n    }\n\n    .dataframe thead th {\n        text-align: right;\n    }\n</style>\n<table border=\"1\" class=\"dataframe\">\n  <thead>\n    <tr style=\"text-align: right;\">\n      <th></th>\n      <th>severity</th>\n      <th>mortality_ratio</th>\n      <th>age</th>\n      <th>num_proc</th>\n      <th>ambulatory</th>\n      <th>origin</th>\n      <th>expected_length</th>\n      <th>tip_grd</th>\n      <th>tip_adm</th>\n    </tr>\n  </thead>\n  <tbody>\n    <tr>\n      <th>0</th>\n      <td>NaN</td>\n      <td>0.408730</td>\n      <td>12596.0</td>\n      <td>21.0</td>\n      <td>0.0</td>\n      <td>NaN</td>\n      <td>151.0</td>\n      <td>Q</td>\n      <td>1.0</td>\n    </tr>\n    <tr>\n      <th>1</th>\n      <td>NaN</td>\n      <td>0.306931</td>\n      <td>20973.0</td>\n      <td>22.0</td>\n      <td>NaN</td>\n      <td>NaN</td>\n      <td>99.0</td>\n      <td>Q</td>\n      <td>1.0</td>\n    </tr>\n    <tr>\n      <th>2</th>\n      <td>4.0</td>\n      <td>0.278481</td>\n      <td>19611.0</td>\n      <td>19.0</td>\n      <td>NaN</td>\n      <td>NaN</td>\n      <td>87.0</td>\n      <td>NaN</td>\n      <td>1.0</td>\n    </tr>\n    <tr>\n      <th>3</th>\n      <td>3.0</td>\n      <td>0.150289</td>\n      <td>13583.0</td>\n      <td>22.0</td>\n      <td>NaN</td>\n      <td>NaN</td>\n      <td>100.0</td>\n      <td>Q</td>\n      <td>NaN</td>\n    </tr>\n    <tr>\n      <th>4</th>\n      <td>1.0</td>\n      <td>0.016573</td>\n      <td>18042.0</td>\n      <td>2.0</td>\n      <td>NaN</td>\n      <td>NaN</td>\n      <td>44.0</td>\n      <td>Q</td>\n      <td>1.0</td>\n    </tr>\n    <tr>\n      <th>...</th>\n      <td>...</td>\n      <td>...</td>\n      <td>...</td>\n      <td>...</td>\n      <td>...</td>\n      <td>...</td>\n      <td>...</td>\n      <td>...</td>\n      <td>...</td>\n    </tr>\n    <tr>\n      <th>32701</th>\n      <td>2.0</td>\n      <td>0.028365</td>\n      <td>23619.0</td>\n      <td>2.0</td>\n      <td>NaN</td>\n      <td>NaN</td>\n      <td>2.0</td>\n      <td>NaN</td>\n      <td>1.0</td>\n    </tr>\n    <tr>\n      <th>32702</th>\n      <td>1.0</td>\n      <td>0.000606</td>\n      <td>3935.0</td>\n      <td>1.0</td>\n      <td>NaN</td>\n      <td>1.0</td>\n      <td>2.0</td>\n      <td>M</td>\n      <td>1.0</td>\n    </tr>\n    <tr>\n      <th>32703</th>\n      <td>NaN</td>\n      <td>0.040452</td>\n      <td>30163.0</td>\n      <td>4.0</td>\n      <td>NaN</td>\n      <td>NaN</td>\n      <td>2.0</td>\n      <td>M</td>\n      <td>NaN</td>\n    </tr>\n    <tr>\n      <th>32704</th>\n      <td>NaN</td>\n      <td>0.000000</td>\n      <td>29012.0</td>\n      <td>4.0</td>\n      <td>NaN</td>\n      <td>NaN</td>\n      <td>0.0</td>\n      <td>NaN</td>\n      <td>1.0</td>\n    </tr>\n    <tr>\n      <th>32705</th>\n      <td>NaN</td>\n      <td>0.000000</td>\n      <td>13244.0</td>\n      <td>1.0</td>\n      <td>NaN</td>\n      <td>NaN</td>\n      <td>0.0</td>\n      <td>Q</td>\n      <td>1.0</td>\n    </tr>\n  </tbody>\n</table>\n<p>32706 rows × 9 columns</p>\n</div>"
     },
     "execution_count": 38,
     "metadata": {},
     "output_type": "execute_result"
    }
   ],
   "source": [
    "y = dat['exitus']\n",
    "X = dat.drop(['exitus', 'date'], axis = 1)\n",
    "X"
   ],
   "metadata": {
    "collapsed": false,
    "ExecuteTime": {
     "end_time": "2023-09-17T20:42:30.828086700Z",
     "start_time": "2023-09-17T20:42:30.745937Z"
    }
   }
  },
  {
   "cell_type": "markdown",
   "source": [
    "### [2]  Data Preprocessing"
   ],
   "metadata": {
    "id": "bALdZkw9dzzv"
   }
  },
  {
   "cell_type": "code",
   "execution_count": 37,
   "outputs": [],
   "source": [
    "from scipy import stats\n",
    "from imblearn.over_sampling import SMOTE\n",
    "\n",
    "def oversampling(X, y, p, type_value = 'SMOTE', k = 5, random_state = 0, n_jobs = 1):\n",
    "    if type_value == 'SMOTE':\n",
    "        sm = SMOTE(sampling_strategy = p,\n",
    "           random_state = random_state,\n",
    "           k_neighbors = k)\n",
    "        X, y = sm.fit_resample(X, y)\n",
    "        return X, y\n",
    "    elif type_value == 'duplicates':\n",
    "        majority_class = stats.mode(y, keepdims = False)[0]\n",
    "        oversampling_rows = pd.concat([pd.DataFrame(X[y != majority_class]),\n",
    "                                       pd.Series(y[y != majority_class])],\n",
    "                                      axis = 1).sample(frac = p,\n",
    "                                                                      replace = True,\n",
    "                                                                      random_state = random_state,\n",
    "                                                                      axis = 0)\n",
    "        X = pd.concat([pd.concat([pd.DataFrame(X), pd.Series(y)], axis = 1), oversampling_rows])\n",
    "        y = X.iloc[:, X.shape[1]-1]\n",
    "        return X, y"
   ],
   "metadata": {
    "collapsed": false,
    "ExecuteTime": {
     "end_time": "2023-09-17T20:37:01.569097500Z",
     "start_time": "2023-09-17T20:37:01.520067400Z"
    }
   }
  },
  {
   "cell_type": "code",
   "execution_count": null,
   "outputs": [],
   "source": [
    "X_new, y_new = oversampling(X, y, p = 0.25)"
   ],
   "metadata": {
    "collapsed": false
   }
  },
  {
   "cell_type": "code",
   "execution_count": 23,
   "outputs": [
    {
     "data": {
      "text/plain": "date                0.000000\nseverity           63.089341\nmortality_ratio     6.934507\nage                 1.296398\nnum_proc            4.127683\nambulatory         94.010273\norigin             62.557329\nexpected_length     5.726778\ntip_grd            41.631505\ntip_adm            18.617379\nexitus              0.000000\ndtype: float64"
     },
     "execution_count": 23,
     "metadata": {},
     "output_type": "execute_result"
    }
   ],
   "source": [
    "dat.apply(lambda x: 100*np.sum(x.isna())/len(x))"
   ],
   "metadata": {
    "collapsed": false,
    "ExecuteTime": {
     "end_time": "2023-09-17T20:27:15.226875500Z",
     "start_time": "2023-09-17T20:27:15.209366900Z"
    }
   }
  },
  {
   "cell_type": "code",
   "execution_count": 24,
   "outputs": [],
   "source": [
    "from fancyimpute import IterativeImputer as MICE\n",
    "def fill_missing_values(X, num_method = 'mean', cat_method = 'new_category',\n",
    "                estimator = None):\n",
    "    categorical_variables = X.columns.values[dat.dtypes == 'object'].tolist()\n",
    "    numerical_variables = X.columns.values[dat.dtypes == 'float64'].tolist()\n",
    "    if num_method == 'mean':\n",
    "        means = dat[numerical_variables].apply(lambda x: np.mean(x)).to_dict()\n",
    "        X = X.fillna(value = means, axis = 0)\n",
    "\n",
    "    elif num_method == 'mice':\n",
    "        if estimator is None:\n",
    "            X[numerical_variables] = MICE().fit_transform(X[numerical_variables])\n",
    "        else:\n",
    "            X[numerical_variables] = MICE(estimator = estimator).fit_transform(X[numerical_variables])\n",
    "    if cat_method == 'new_category':\n",
    "       X[categorical_variables] = X[categorical_variables].fillna(value = 'UNKNOWN', axis = 0)\n",
    "\n",
    "\n",
    "    elif cat_method == 'mode':\n",
    "        means = X[categorical_variables].apply(lambda x: np.mean(x)).to_dict()\n",
    "        X = X.fillna(value = means, axis = 0)\n",
    "\n",
    "    return X"
   ],
   "metadata": {
    "collapsed": false,
    "ExecuteTime": {
     "end_time": "2023-09-17T20:27:21.941949500Z",
     "start_time": "2023-09-17T20:27:21.921175700Z"
    }
   }
  },
  {
   "cell_type": "code",
   "execution_count": 25,
   "outputs": [
    {
     "data": {
      "text/plain": "          date  severity  mortality_ratio      age  num_proc  ambulatory  \\\n0      2016-01  1.618125         0.408730  12596.0      21.0    0.000000   \n1      2016-01  1.618125         0.306931  20973.0      22.0    0.069934   \n2      2016-01  4.000000         0.278481  19611.0      19.0    0.069934   \n3      2016-01  3.000000         0.150289  13583.0      22.0    0.069934   \n4      2016-01  1.000000         0.016573  18042.0       2.0    0.069934   \n...        ...       ...              ...      ...       ...         ...   \n32701  2016-12  2.000000         0.028365  23619.0       2.0    0.069934   \n32702  2016-12  1.000000         0.000606   3935.0       1.0    0.069934   \n32703  2016-12  1.618125         0.040452  30163.0       4.0    0.069934   \n32704  2016-12  1.618125         0.000000  29012.0       4.0    0.069934   \n32705  2016-12  1.618125         0.000000  13244.0       1.0    0.069934   \n\n         origin  expected_length  tip_grd   tip_adm  exitus  \n0      1.520088            151.0        Q  1.000000       0  \n1      1.520088             99.0        Q  1.000000       0  \n2      1.520088             87.0  UNKNOWN  1.000000       0  \n3      1.520088            100.0        Q  1.271931       0  \n4      1.520088             44.0        Q  1.000000       0  \n...         ...              ...      ...       ...     ...  \n32701  1.520088              2.0  UNKNOWN  1.000000       0  \n32702  1.000000              2.0        M  1.000000       0  \n32703  1.520088              2.0        M  1.271931       0  \n32704  1.520088              0.0  UNKNOWN  1.000000       0  \n32705  1.520088              0.0        Q  1.000000       0  \n\n[32706 rows x 11 columns]",
      "text/html": "<div>\n<style scoped>\n    .dataframe tbody tr th:only-of-type {\n        vertical-align: middle;\n    }\n\n    .dataframe tbody tr th {\n        vertical-align: top;\n    }\n\n    .dataframe thead th {\n        text-align: right;\n    }\n</style>\n<table border=\"1\" class=\"dataframe\">\n  <thead>\n    <tr style=\"text-align: right;\">\n      <th></th>\n      <th>date</th>\n      <th>severity</th>\n      <th>mortality_ratio</th>\n      <th>age</th>\n      <th>num_proc</th>\n      <th>ambulatory</th>\n      <th>origin</th>\n      <th>expected_length</th>\n      <th>tip_grd</th>\n      <th>tip_adm</th>\n      <th>exitus</th>\n    </tr>\n  </thead>\n  <tbody>\n    <tr>\n      <th>0</th>\n      <td>2016-01</td>\n      <td>1.618125</td>\n      <td>0.408730</td>\n      <td>12596.0</td>\n      <td>21.0</td>\n      <td>0.000000</td>\n      <td>1.520088</td>\n      <td>151.0</td>\n      <td>Q</td>\n      <td>1.000000</td>\n      <td>0</td>\n    </tr>\n    <tr>\n      <th>1</th>\n      <td>2016-01</td>\n      <td>1.618125</td>\n      <td>0.306931</td>\n      <td>20973.0</td>\n      <td>22.0</td>\n      <td>0.069934</td>\n      <td>1.520088</td>\n      <td>99.0</td>\n      <td>Q</td>\n      <td>1.000000</td>\n      <td>0</td>\n    </tr>\n    <tr>\n      <th>2</th>\n      <td>2016-01</td>\n      <td>4.000000</td>\n      <td>0.278481</td>\n      <td>19611.0</td>\n      <td>19.0</td>\n      <td>0.069934</td>\n      <td>1.520088</td>\n      <td>87.0</td>\n      <td>UNKNOWN</td>\n      <td>1.000000</td>\n      <td>0</td>\n    </tr>\n    <tr>\n      <th>3</th>\n      <td>2016-01</td>\n      <td>3.000000</td>\n      <td>0.150289</td>\n      <td>13583.0</td>\n      <td>22.0</td>\n      <td>0.069934</td>\n      <td>1.520088</td>\n      <td>100.0</td>\n      <td>Q</td>\n      <td>1.271931</td>\n      <td>0</td>\n    </tr>\n    <tr>\n      <th>4</th>\n      <td>2016-01</td>\n      <td>1.000000</td>\n      <td>0.016573</td>\n      <td>18042.0</td>\n      <td>2.0</td>\n      <td>0.069934</td>\n      <td>1.520088</td>\n      <td>44.0</td>\n      <td>Q</td>\n      <td>1.000000</td>\n      <td>0</td>\n    </tr>\n    <tr>\n      <th>...</th>\n      <td>...</td>\n      <td>...</td>\n      <td>...</td>\n      <td>...</td>\n      <td>...</td>\n      <td>...</td>\n      <td>...</td>\n      <td>...</td>\n      <td>...</td>\n      <td>...</td>\n      <td>...</td>\n    </tr>\n    <tr>\n      <th>32701</th>\n      <td>2016-12</td>\n      <td>2.000000</td>\n      <td>0.028365</td>\n      <td>23619.0</td>\n      <td>2.0</td>\n      <td>0.069934</td>\n      <td>1.520088</td>\n      <td>2.0</td>\n      <td>UNKNOWN</td>\n      <td>1.000000</td>\n      <td>0</td>\n    </tr>\n    <tr>\n      <th>32702</th>\n      <td>2016-12</td>\n      <td>1.000000</td>\n      <td>0.000606</td>\n      <td>3935.0</td>\n      <td>1.0</td>\n      <td>0.069934</td>\n      <td>1.000000</td>\n      <td>2.0</td>\n      <td>M</td>\n      <td>1.000000</td>\n      <td>0</td>\n    </tr>\n    <tr>\n      <th>32703</th>\n      <td>2016-12</td>\n      <td>1.618125</td>\n      <td>0.040452</td>\n      <td>30163.0</td>\n      <td>4.0</td>\n      <td>0.069934</td>\n      <td>1.520088</td>\n      <td>2.0</td>\n      <td>M</td>\n      <td>1.271931</td>\n      <td>0</td>\n    </tr>\n    <tr>\n      <th>32704</th>\n      <td>2016-12</td>\n      <td>1.618125</td>\n      <td>0.000000</td>\n      <td>29012.0</td>\n      <td>4.0</td>\n      <td>0.069934</td>\n      <td>1.520088</td>\n      <td>0.0</td>\n      <td>UNKNOWN</td>\n      <td>1.000000</td>\n      <td>0</td>\n    </tr>\n    <tr>\n      <th>32705</th>\n      <td>2016-12</td>\n      <td>1.618125</td>\n      <td>0.000000</td>\n      <td>13244.0</td>\n      <td>1.0</td>\n      <td>0.069934</td>\n      <td>1.520088</td>\n      <td>0.0</td>\n      <td>Q</td>\n      <td>1.000000</td>\n      <td>0</td>\n    </tr>\n  </tbody>\n</table>\n<p>32706 rows × 11 columns</p>\n</div>"
     },
     "execution_count": 25,
     "metadata": {},
     "output_type": "execute_result"
    }
   ],
   "source": [
    "dat = fill_missing_values(dat, 'mean', 'new_category')\n",
    "dat"
   ],
   "metadata": {
    "collapsed": false,
    "ExecuteTime": {
     "end_time": "2023-09-17T20:27:26.884664700Z",
     "start_time": "2023-09-17T20:27:26.791803100Z"
    }
   }
  },
  {
   "cell_type": "code",
   "source": [
    "# Oversampling\n",
    "100*dat.groupby(['exitus'])['exitus'].agg(['count'])/dat.shape[0]"
   ],
   "metadata": {
    "id": "zBr3_3ZnrvIo",
    "ExecuteTime": {
     "end_time": "2023-09-17T20:30:43.161149200Z",
     "start_time": "2023-09-17T20:30:43.097766Z"
    }
   },
   "execution_count": 26,
   "outputs": [
    {
     "data": {
      "text/plain": "            count\nexitus           \n0       96.159726\n1        3.840274",
      "text/html": "<div>\n<style scoped>\n    .dataframe tbody tr th:only-of-type {\n        vertical-align: middle;\n    }\n\n    .dataframe tbody tr th {\n        vertical-align: top;\n    }\n\n    .dataframe thead th {\n        text-align: right;\n    }\n</style>\n<table border=\"1\" class=\"dataframe\">\n  <thead>\n    <tr style=\"text-align: right;\">\n      <th></th>\n      <th>count</th>\n    </tr>\n    <tr>\n      <th>exitus</th>\n      <th></th>\n    </tr>\n  </thead>\n  <tbody>\n    <tr>\n      <th>0</th>\n      <td>96.159726</td>\n    </tr>\n    <tr>\n      <th>1</th>\n      <td>3.840274</td>\n    </tr>\n  </tbody>\n</table>\n</div>"
     },
     "execution_count": 26,
     "metadata": {},
     "output_type": "execute_result"
    }
   ]
  },
  {
   "cell_type": "code",
   "execution_count": 27,
   "outputs": [
    {
     "data": {
      "text/plain": "exitus\n0    31450\n1     1256\nName: count, dtype: int64"
     },
     "execution_count": 27,
     "metadata": {},
     "output_type": "execute_result"
    }
   ],
   "source": [
    "# As we can see, it is an unbalance problem\n",
    "dat['exitus'].value_counts()"
   ],
   "metadata": {
    "collapsed": false,
    "ExecuteTime": {
     "end_time": "2023-09-17T20:30:45.828632300Z",
     "start_time": "2023-09-17T20:30:45.777451100Z"
    }
   }
  },
  {
   "cell_type": "markdown",
   "source": [
    "### [3] Create Model"
   ],
   "metadata": {
    "id": "5BczaKLlcKTl"
   }
  },
  {
   "cell_type": "code",
   "source": [
    "FILL"
   ],
   "metadata": {
    "id": "YaAjN6unrxpN"
   },
   "execution_count": null,
   "outputs": []
  },
  {
   "cell_type": "code",
   "source": [
    "model =  FILL"
   ],
   "metadata": {
    "id": "ZvVUKcO0k5dm"
   },
   "execution_count": null,
   "outputs": []
  },
  {
   "cell_type": "markdown",
   "source": [
    "# Evaluate Model"
   ],
   "metadata": {
    "id": "eAe2bKe7hK_c"
   }
  },
  {
   "cell_type": "code",
   "source": [
    "# [4] Train model\n",
    "model.fit(dat[dat['dataset'] == 'train'].drop(['exitus', 'dataset'], axis = 1), dat[dat['dataset'] == 'train'].exitus.values)\n",
    "\n",
    "\n",
    "# [5] Predict\n",
    "pred_train = model.predict_proba(dat[dat['dataset'] == 'train'].drop(['exitus', 'dataset'], axis = 1)) # predict!\n",
    "pred_val = model.predict_proba(dat[dat['dataset'] == 'val'].drop(['exitus', 'dataset'], axis = 1)) # predict!\n",
    "pred_test = model.predict_proba(dat[dat['dataset'] == 'test'].drop(['exitus', 'dataset'], axis = 1)) # predict!\n",
    "\n",
    "\n",
    "# [6] Compute metric\n",
    "metric_train = metric(dat[dat['dataset'] == 'train'].exitus.values, pred_train[:,1])\n",
    "metric_val = metric(dat[dat['dataset'] == 'val'].exitus.values, pred_val[:,1])\n",
    "metric_test = metric(dat[dat['dataset'] == 'test'].exitus.values, pred_test[:,1])"
   ],
   "metadata": {
    "id": "I0mwZ7GQhMIn"
   },
   "execution_count": null,
   "outputs": []
  },
  {
   "cell_type": "code",
   "source": [
    "# print error\n",
    "print('Metric train = %.2f - Metric val = %.2f - Metric test = %.2f'\n",
    "      % (metric_train, metric_val, metric_test))"
   ],
   "metadata": {
    "colab": {
     "base_uri": "https://localhost:8080/"
    },
    "id": "T-EPli1DiYGX",
    "outputId": "8e007bc0-142b-424d-ea6c-bfdaae328444"
   },
   "execution_count": null,
   "outputs": [
    {
     "output_type": "stream",
     "name": "stdout",
     "text": [
      "Metric train = 0.96 - Metric val = 0.94 - Metric test = 0.93\n"
     ]
    }
   ]
  }
 ]
}
