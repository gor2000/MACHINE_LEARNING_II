{
 "cells": [
  {
   "cell_type": "code",
   "execution_count": 8,
   "metadata": {
    "id": "9HXZ38ffR9X9",
    "ExecuteTime": {
     "end_time": "2023-09-17T15:36:15.330956700Z",
     "start_time": "2023-09-17T15:36:15.265526500Z"
    }
   },
   "outputs": [],
   "source": [
    "# Load libraries\n",
    "import numpy as np\n",
    "import pandas as pd"
   ]
  },
  {
   "cell_type": "markdown",
   "metadata": {
    "id": "Aj_m9dY1R9X_"
   },
   "source": [
    "# Intro to Scikit-Learn\n",
    "\n",
    "This notebook is a brief introduction to scikit-learn, one of the most popular libraries, and probably the most complete, that Python has to perform Machine Learning computations. For more information visit http://scikit-learn.org."
   ]
  },
  {
   "cell_type": "markdown",
   "metadata": {
    "id": "D_Yse2UjR9YA"
   },
   "source": [
    "## About Scikit-Learn\n",
    "\n",
    "Scikit-Learn is a Python package designed to give access to popular machine learning algorithms, through a clean and well thought out API. It was built by hundreds of collaborators around the world and is used throughout industry and academia.\n",
    "\n",
    "Scikit-Learn is based on Python's NumPy (Numerical Python) and SciPy (Scientific Python) libraries, which enable efficient numerical and scientific computing through Python.\n",
    "\n"
   ]
  },
  {
   "cell_type": "markdown",
   "metadata": {
    "id": "lHmkHbpqR9YB"
   },
   "source": [
    "## Datasets in Scikit-Learn\n",
    "\n",
    "Most of the machine learning algorithms implemented in scikit-learn expect the data to be stored in a two-dimensional array. The arrays will normally be numpy arrays. The size of the array is expected to be [n_samples, n_features], where:\n",
    "\n",
    "- **n_samples:** the number of samples. Each sample is an instance to process. A sample can be a document, an image, a sound, a video, an astronomical object, a row in the database, or anything you can describe with a fixed set of quantitative or categorical traits.\n",
    "    \n",
    "- **n_features:** the number of different characteristics or traits that can be used to describe each instance. Features generally have a real value, but can be Boolean or discrete for some models."
   ]
  },
  {
   "cell_type": "markdown",
   "metadata": {
    "id": "XzOSXtYOR9YB"
   },
   "source": [
    "### Example: Iris dataset\n",
    "\n",
    "Scikit-Learn has several datasets pre-loaded ready to be used: https://scikit-learn.org/stable/datasets.html"
   ]
  },
  {
   "cell_type": "markdown",
   "metadata": {
    "id": "wz4qeLTeR9YB"
   },
   "source": [
    "One of the best known is the iris dataset. Let's import it."
   ]
  },
  {
   "cell_type": "code",
   "execution_count": 9,
   "metadata": {
    "colab": {
     "base_uri": "https://localhost:8080/",
     "height": 364
    },
    "id": "WBG2TlAxR9YB",
    "executionInfo": {
     "status": "ok",
     "timestamp": 1693827485093,
     "user_tz": -120,
     "elapsed": 16,
     "user": {
      "displayName": "Jesus Prada",
      "userId": "01990672692810654269"
     }
    },
    "outputId": "a4e9d434-8420-4f3a-80cb-657083d21ded",
    "ExecuteTime": {
     "end_time": "2023-09-17T15:36:15.417575200Z",
     "start_time": "2023-09-17T15:36:15.282800500Z"
    }
   },
   "outputs": [
    {
     "data": {
      "text/plain": "     sepal length (cm)  sepal width (cm)  petal length (cm)  petal width (cm)  \\\n0                  5.1               3.5                1.4               0.2   \n1                  4.9               3.0                1.4               0.2   \n2                  4.7               3.2                1.3               0.2   \n3                  4.6               3.1                1.5               0.2   \n4                  5.0               3.6                1.4               0.2   \n..                 ...               ...                ...               ...   \n145                6.7               3.0                5.2               2.3   \n146                6.3               2.5                5.0               1.9   \n147                6.5               3.0                5.2               2.0   \n148                6.2               3.4                5.4               2.3   \n149                5.9               3.0                5.1               1.8   \n\n     Species  \n0          0  \n1          0  \n2          0  \n3          0  \n4          0  \n..       ...  \n145        2  \n146        2  \n147        2  \n148        2  \n149        2  \n\n[150 rows x 5 columns]",
      "text/html": "<div>\n<style scoped>\n    .dataframe tbody tr th:only-of-type {\n        vertical-align: middle;\n    }\n\n    .dataframe tbody tr th {\n        vertical-align: top;\n    }\n\n    .dataframe thead th {\n        text-align: right;\n    }\n</style>\n<table border=\"1\" class=\"dataframe\">\n  <thead>\n    <tr style=\"text-align: right;\">\n      <th></th>\n      <th>sepal length (cm)</th>\n      <th>sepal width (cm)</th>\n      <th>petal length (cm)</th>\n      <th>petal width (cm)</th>\n      <th>Species</th>\n    </tr>\n  </thead>\n  <tbody>\n    <tr>\n      <th>0</th>\n      <td>5.1</td>\n      <td>3.5</td>\n      <td>1.4</td>\n      <td>0.2</td>\n      <td>0</td>\n    </tr>\n    <tr>\n      <th>1</th>\n      <td>4.9</td>\n      <td>3.0</td>\n      <td>1.4</td>\n      <td>0.2</td>\n      <td>0</td>\n    </tr>\n    <tr>\n      <th>2</th>\n      <td>4.7</td>\n      <td>3.2</td>\n      <td>1.3</td>\n      <td>0.2</td>\n      <td>0</td>\n    </tr>\n    <tr>\n      <th>3</th>\n      <td>4.6</td>\n      <td>3.1</td>\n      <td>1.5</td>\n      <td>0.2</td>\n      <td>0</td>\n    </tr>\n    <tr>\n      <th>4</th>\n      <td>5.0</td>\n      <td>3.6</td>\n      <td>1.4</td>\n      <td>0.2</td>\n      <td>0</td>\n    </tr>\n    <tr>\n      <th>...</th>\n      <td>...</td>\n      <td>...</td>\n      <td>...</td>\n      <td>...</td>\n      <td>...</td>\n    </tr>\n    <tr>\n      <th>145</th>\n      <td>6.7</td>\n      <td>3.0</td>\n      <td>5.2</td>\n      <td>2.3</td>\n      <td>2</td>\n    </tr>\n    <tr>\n      <th>146</th>\n      <td>6.3</td>\n      <td>2.5</td>\n      <td>5.0</td>\n      <td>1.9</td>\n      <td>2</td>\n    </tr>\n    <tr>\n      <th>147</th>\n      <td>6.5</td>\n      <td>3.0</td>\n      <td>5.2</td>\n      <td>2.0</td>\n      <td>2</td>\n    </tr>\n    <tr>\n      <th>148</th>\n      <td>6.2</td>\n      <td>3.4</td>\n      <td>5.4</td>\n      <td>2.3</td>\n      <td>2</td>\n    </tr>\n    <tr>\n      <th>149</th>\n      <td>5.9</td>\n      <td>3.0</td>\n      <td>5.1</td>\n      <td>1.8</td>\n      <td>2</td>\n    </tr>\n  </tbody>\n</table>\n<p>150 rows × 5 columns</p>\n</div>"
     },
     "execution_count": 9,
     "metadata": {},
     "output_type": "execute_result"
    }
   ],
   "source": [
    "from sklearn.datasets import load_iris\n",
    "iris = load_iris()\n",
    "dat = pd.DataFrame(iris.data)\n",
    "dat.columns = iris.feature_names\n",
    "dat[\"Species\"] = iris.target\n",
    "dat"
   ]
  },
  {
   "cell_type": "code",
   "execution_count": 10,
   "metadata": {
    "id": "v0dDaqySR9YB",
    "ExecuteTime": {
     "end_time": "2023-09-17T15:36:15.435193100Z",
     "start_time": "2023-09-17T15:36:15.298700600Z"
    }
   },
   "outputs": [],
   "source": [
    "from sklearn.model_selection import train_test_split"
   ]
  },
  {
   "cell_type": "code",
   "source": [
    "?train_test_split"
   ],
   "metadata": {
    "id": "_j0HADWT_jW-",
    "ExecuteTime": {
     "end_time": "2023-09-17T15:36:15.511327Z",
     "start_time": "2023-09-17T15:36:15.308408100Z"
    }
   },
   "execution_count": 11,
   "outputs": []
  },
  {
   "cell_type": "code",
   "execution_count": 12,
   "metadata": {
    "id": "2F8Tm0viR9YC",
    "ExecuteTime": {
     "end_time": "2023-09-17T15:36:15.513325300Z",
     "start_time": "2023-09-17T15:36:15.355954Z"
    }
   },
   "outputs": [],
   "source": [
    "X_train, X_test = train_test_split(dat, test_size = 0.5)"
   ]
  },
  {
   "cell_type": "code",
   "execution_count": 13,
   "metadata": {
    "colab": {
     "base_uri": "https://localhost:8080/"
    },
    "id": "_9k6eWfOR9YD",
    "executionInfo": {
     "status": "ok",
     "timestamp": 1693766808621,
     "user_tz": -120,
     "elapsed": 393,
     "user": {
      "displayName": "Jesus Prada",
      "userId": "01990672692810654269"
     }
    },
    "outputId": "70282289-8dff-4b3d-b1f8-10f465667f85",
    "ExecuteTime": {
     "end_time": "2023-09-17T15:36:15.513325300Z",
     "start_time": "2023-09-17T15:36:15.360948800Z"
    }
   },
   "outputs": [
    {
     "data": {
      "text/plain": "(75, 5)"
     },
     "execution_count": 13,
     "metadata": {},
     "output_type": "execute_result"
    }
   ],
   "source": [
    "X_test.shape"
   ]
  },
  {
   "cell_type": "markdown",
   "metadata": {
    "id": "G4eGaWjUR9YI"
   },
   "source": [
    "## Models\n",
    "\n",
    "Scikit-Learn has an extensive battery of Machine Learning models available, this being one of the great advantages of using this library.\n",
    "\n",
    "Another reason for its popularity is that it provides a general-purpose framework for all types of models. It basically consists of 6 steps:\n",
    "\n",
    "1. Import model that you want to use.\n",
    "\n",
    "      - See list of supervised models at: https://scikit-learn.org/stable/supervised_learning.html\n",
    "      - See list of unsupervised models at: https://scikit-learn.org/stable/unsupervised_learning.html\n",
    "      \n",
    "\n",
    "2. It matters metric to use. See list of available metrics at https://scikit-learn.org/stable/modules/classes.html#module-sklearn.metrics.\n",
    "\n",
    "3. Define model.\n",
    "\n",
    "4. Call the fit method to train the model.\n",
    "\n",
    "5. Call the predict method to generate the predictions.\n",
    "\n",
    "6. Calculate metric using the predictions obtained in the previous step.\n",
    "\n",
    "Let's see all these steps with a simple example"
   ]
  },
  {
   "cell_type": "markdown",
   "metadata": {
    "id": "XLJU4uXLR9YI"
   },
   "source": [
    "### Example: KNN"
   ]
  },
  {
   "cell_type": "markdown",
   "metadata": {
    "id": "Kqmxb2s3R9YI"
   },
   "source": [
    "When using a k-nearest neighbors, KNN classification model, the prediction assigned to a point is the most common class among the k closest (or similar, according to some kind of similarity distance). If k = 1, then each sample is simply assigned the class of the closest instance.\n",
    "\n",
    "![knn.png](data:image/png;base64,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)\n",
    "\n",
    "Applied to regression, the operation is the same only that instead of the most common class, each instance will be assigned the mean of the target for the k closest neighbors."
   ]
  },
  {
   "cell_type": "markdown",
   "metadata": {
    "id": "Da3lwx6WR9YI"
   },
   "source": [
    "Let's now train a KNN classification model for the iris dataset following the 6 steps above (**note**: we will only divide into train / test set as this is a purely illustrative example):"
   ]
  },
  {
   "cell_type": "markdown",
   "metadata": {
    "id": "9g7mfyiOR9YJ"
   },
   "source": [
    "1) Import model."
   ]
  },
  {
   "cell_type": "code",
   "execution_count": 14,
   "metadata": {
    "id": "5qjZTDCmR9YJ",
    "ExecuteTime": {
     "end_time": "2023-09-17T15:36:15.513325300Z",
     "start_time": "2023-09-17T15:36:15.373468100Z"
    }
   },
   "outputs": [],
   "source": [
    "from sklearn.neighbors import KNeighborsClassifier as model_constructor"
   ]
  },
  {
   "cell_type": "markdown",
   "metadata": {
    "id": "CZjkTTdtR9YJ"
   },
   "source": [
    "2) Import metric."
   ]
  },
  {
   "cell_type": "code",
   "execution_count": 15,
   "metadata": {
    "id": "l4PnvRyrR9YJ",
    "ExecuteTime": {
     "end_time": "2023-09-17T15:36:15.514324400Z",
     "start_time": "2023-09-17T15:36:15.384473400Z"
    }
   },
   "outputs": [],
   "source": [
    "from sklearn.metrics import accuracy_score as metric"
   ]
  },
  {
   "cell_type": "markdown",
   "metadata": {
    "id": "b7GNARyjR9YJ"
   },
   "source": [
    "3) Define model."
   ]
  },
  {
   "cell_type": "code",
   "execution_count": 16,
   "metadata": {
    "id": "FRJow3g_R9YK",
    "ExecuteTime": {
     "end_time": "2023-09-17T15:36:15.518325Z",
     "start_time": "2023-09-17T15:36:15.397113900Z"
    }
   },
   "outputs": [],
   "source": [
    "?model_constructor"
   ]
  },
  {
   "cell_type": "code",
   "execution_count": 17,
   "metadata": {
    "colab": {
     "base_uri": "https://localhost:8080/",
     "height": 74
    },
    "id": "AC1tOe24R9YK",
    "executionInfo": {
     "status": "ok",
     "timestamp": 1693766808640,
     "user_tz": -120,
     "elapsed": 32,
     "user": {
      "displayName": "Jesus Prada",
      "userId": "01990672692810654269"
     }
    },
    "outputId": "89ed9d01-2da3-42ca-8c4e-0a17fa6f7ce4",
    "ExecuteTime": {
     "end_time": "2023-09-17T15:36:15.597097700Z",
     "start_time": "2023-09-17T15:36:15.412577Z"
    }
   },
   "outputs": [
    {
     "data": {
      "text/plain": "KNeighborsClassifier()",
      "text/html": "<style>#sk-container-id-1 {color: black;}#sk-container-id-1 pre{padding: 0;}#sk-container-id-1 div.sk-toggleable {background-color: white;}#sk-container-id-1 label.sk-toggleable__label {cursor: pointer;display: block;width: 100%;margin-bottom: 0;padding: 0.3em;box-sizing: border-box;text-align: center;}#sk-container-id-1 label.sk-toggleable__label-arrow:before {content: \"▸\";float: left;margin-right: 0.25em;color: #696969;}#sk-container-id-1 label.sk-toggleable__label-arrow:hover:before {color: black;}#sk-container-id-1 div.sk-estimator:hover label.sk-toggleable__label-arrow:before {color: black;}#sk-container-id-1 div.sk-toggleable__content {max-height: 0;max-width: 0;overflow: hidden;text-align: left;background-color: #f0f8ff;}#sk-container-id-1 div.sk-toggleable__content pre {margin: 0.2em;color: black;border-radius: 0.25em;background-color: #f0f8ff;}#sk-container-id-1 input.sk-toggleable__control:checked~div.sk-toggleable__content {max-height: 200px;max-width: 100%;overflow: auto;}#sk-container-id-1 input.sk-toggleable__control:checked~label.sk-toggleable__label-arrow:before {content: \"▾\";}#sk-container-id-1 div.sk-estimator input.sk-toggleable__control:checked~label.sk-toggleable__label {background-color: #d4ebff;}#sk-container-id-1 div.sk-label input.sk-toggleable__control:checked~label.sk-toggleable__label {background-color: #d4ebff;}#sk-container-id-1 input.sk-hidden--visually {border: 0;clip: rect(1px 1px 1px 1px);clip: rect(1px, 1px, 1px, 1px);height: 1px;margin: -1px;overflow: hidden;padding: 0;position: absolute;width: 1px;}#sk-container-id-1 div.sk-estimator {font-family: monospace;background-color: #f0f8ff;border: 1px dotted black;border-radius: 0.25em;box-sizing: border-box;margin-bottom: 0.5em;}#sk-container-id-1 div.sk-estimator:hover {background-color: #d4ebff;}#sk-container-id-1 div.sk-parallel-item::after {content: \"\";width: 100%;border-bottom: 1px solid gray;flex-grow: 1;}#sk-container-id-1 div.sk-label:hover label.sk-toggleable__label {background-color: #d4ebff;}#sk-container-id-1 div.sk-serial::before {content: \"\";position: absolute;border-left: 1px solid gray;box-sizing: border-box;top: 0;bottom: 0;left: 50%;z-index: 0;}#sk-container-id-1 div.sk-serial {display: flex;flex-direction: column;align-items: center;background-color: white;padding-right: 0.2em;padding-left: 0.2em;position: relative;}#sk-container-id-1 div.sk-item {position: relative;z-index: 1;}#sk-container-id-1 div.sk-parallel {display: flex;align-items: stretch;justify-content: center;background-color: white;position: relative;}#sk-container-id-1 div.sk-item::before, #sk-container-id-1 div.sk-parallel-item::before {content: \"\";position: absolute;border-left: 1px solid gray;box-sizing: border-box;top: 0;bottom: 0;left: 50%;z-index: -1;}#sk-container-id-1 div.sk-parallel-item {display: flex;flex-direction: column;z-index: 1;position: relative;background-color: white;}#sk-container-id-1 div.sk-parallel-item:first-child::after {align-self: flex-end;width: 50%;}#sk-container-id-1 div.sk-parallel-item:last-child::after {align-self: flex-start;width: 50%;}#sk-container-id-1 div.sk-parallel-item:only-child::after {width: 0;}#sk-container-id-1 div.sk-dashed-wrapped {border: 1px dashed gray;margin: 0 0.4em 0.5em 0.4em;box-sizing: border-box;padding-bottom: 0.4em;background-color: white;}#sk-container-id-1 div.sk-label label {font-family: monospace;font-weight: bold;display: inline-block;line-height: 1.2em;}#sk-container-id-1 div.sk-label-container {text-align: center;}#sk-container-id-1 div.sk-container {/* jupyter's `normalize.less` sets `[hidden] { display: none; }` but bootstrap.min.css set `[hidden] { display: none !important; }` so we also need the `!important` here to be able to override the default hidden behavior on the sphinx rendered scikit-learn.org. See: https://github.com/scikit-learn/scikit-learn/issues/21755 */display: inline-block !important;position: relative;}#sk-container-id-1 div.sk-text-repr-fallback {display: none;}</style><div id=\"sk-container-id-1\" class=\"sk-top-container\"><div class=\"sk-text-repr-fallback\"><pre>KNeighborsClassifier()</pre><b>In a Jupyter environment, please rerun this cell to show the HTML representation or trust the notebook. <br />On GitHub, the HTML representation is unable to render, please try loading this page with nbviewer.org.</b></div><div class=\"sk-container\" hidden><div class=\"sk-item\"><div class=\"sk-estimator sk-toggleable\"><input class=\"sk-toggleable__control sk-hidden--visually\" id=\"sk-estimator-id-1\" type=\"checkbox\" checked><label for=\"sk-estimator-id-1\" class=\"sk-toggleable__label sk-toggleable__label-arrow\">KNeighborsClassifier</label><div class=\"sk-toggleable__content\"><pre>KNeighborsClassifier()</pre></div></div></div></div></div>"
     },
     "execution_count": 17,
     "metadata": {},
     "output_type": "execute_result"
    }
   ],
   "source": [
    "model = model_constructor()\n",
    "model"
   ]
  },
  {
   "cell_type": "markdown",
   "metadata": {
    "id": "QJcGgLDIR9YK"
   },
   "source": [
    "4) Call fit method to train the model."
   ]
  },
  {
   "cell_type": "code",
   "execution_count": 18,
   "metadata": {
    "colab": {
     "base_uri": "https://localhost:8080/",
     "height": 74
    },
    "id": "Thm28bVpR9YK",
    "executionInfo": {
     "status": "ok",
     "timestamp": 1693766808641,
     "user_tz": -120,
     "elapsed": 32,
     "user": {
      "displayName": "Jesus Prada",
      "userId": "01990672692810654269"
     }
    },
    "outputId": "5d7f92d5-16a7-48bb-dc94-eea6485a7cd4",
    "ExecuteTime": {
     "end_time": "2023-09-17T15:36:15.599094500Z",
     "start_time": "2023-09-17T15:36:15.476190600Z"
    }
   },
   "outputs": [
    {
     "data": {
      "text/plain": "KNeighborsClassifier()",
      "text/html": "<style>#sk-container-id-2 {color: black;}#sk-container-id-2 pre{padding: 0;}#sk-container-id-2 div.sk-toggleable {background-color: white;}#sk-container-id-2 label.sk-toggleable__label {cursor: pointer;display: block;width: 100%;margin-bottom: 0;padding: 0.3em;box-sizing: border-box;text-align: center;}#sk-container-id-2 label.sk-toggleable__label-arrow:before {content: \"▸\";float: left;margin-right: 0.25em;color: #696969;}#sk-container-id-2 label.sk-toggleable__label-arrow:hover:before {color: black;}#sk-container-id-2 div.sk-estimator:hover label.sk-toggleable__label-arrow:before {color: black;}#sk-container-id-2 div.sk-toggleable__content {max-height: 0;max-width: 0;overflow: hidden;text-align: left;background-color: #f0f8ff;}#sk-container-id-2 div.sk-toggleable__content pre {margin: 0.2em;color: black;border-radius: 0.25em;background-color: #f0f8ff;}#sk-container-id-2 input.sk-toggleable__control:checked~div.sk-toggleable__content {max-height: 200px;max-width: 100%;overflow: auto;}#sk-container-id-2 input.sk-toggleable__control:checked~label.sk-toggleable__label-arrow:before {content: \"▾\";}#sk-container-id-2 div.sk-estimator input.sk-toggleable__control:checked~label.sk-toggleable__label {background-color: #d4ebff;}#sk-container-id-2 div.sk-label input.sk-toggleable__control:checked~label.sk-toggleable__label {background-color: #d4ebff;}#sk-container-id-2 input.sk-hidden--visually {border: 0;clip: rect(1px 1px 1px 1px);clip: rect(1px, 1px, 1px, 1px);height: 1px;margin: -1px;overflow: hidden;padding: 0;position: absolute;width: 1px;}#sk-container-id-2 div.sk-estimator {font-family: monospace;background-color: #f0f8ff;border: 1px dotted black;border-radius: 0.25em;box-sizing: border-box;margin-bottom: 0.5em;}#sk-container-id-2 div.sk-estimator:hover {background-color: #d4ebff;}#sk-container-id-2 div.sk-parallel-item::after {content: \"\";width: 100%;border-bottom: 1px solid gray;flex-grow: 1;}#sk-container-id-2 div.sk-label:hover label.sk-toggleable__label {background-color: #d4ebff;}#sk-container-id-2 div.sk-serial::before {content: \"\";position: absolute;border-left: 1px solid gray;box-sizing: border-box;top: 0;bottom: 0;left: 50%;z-index: 0;}#sk-container-id-2 div.sk-serial {display: flex;flex-direction: column;align-items: center;background-color: white;padding-right: 0.2em;padding-left: 0.2em;position: relative;}#sk-container-id-2 div.sk-item {position: relative;z-index: 1;}#sk-container-id-2 div.sk-parallel {display: flex;align-items: stretch;justify-content: center;background-color: white;position: relative;}#sk-container-id-2 div.sk-item::before, #sk-container-id-2 div.sk-parallel-item::before {content: \"\";position: absolute;border-left: 1px solid gray;box-sizing: border-box;top: 0;bottom: 0;left: 50%;z-index: -1;}#sk-container-id-2 div.sk-parallel-item {display: flex;flex-direction: column;z-index: 1;position: relative;background-color: white;}#sk-container-id-2 div.sk-parallel-item:first-child::after {align-self: flex-end;width: 50%;}#sk-container-id-2 div.sk-parallel-item:last-child::after {align-self: flex-start;width: 50%;}#sk-container-id-2 div.sk-parallel-item:only-child::after {width: 0;}#sk-container-id-2 div.sk-dashed-wrapped {border: 1px dashed gray;margin: 0 0.4em 0.5em 0.4em;box-sizing: border-box;padding-bottom: 0.4em;background-color: white;}#sk-container-id-2 div.sk-label label {font-family: monospace;font-weight: bold;display: inline-block;line-height: 1.2em;}#sk-container-id-2 div.sk-label-container {text-align: center;}#sk-container-id-2 div.sk-container {/* jupyter's `normalize.less` sets `[hidden] { display: none; }` but bootstrap.min.css set `[hidden] { display: none !important; }` so we also need the `!important` here to be able to override the default hidden behavior on the sphinx rendered scikit-learn.org. See: https://github.com/scikit-learn/scikit-learn/issues/21755 */display: inline-block !important;position: relative;}#sk-container-id-2 div.sk-text-repr-fallback {display: none;}</style><div id=\"sk-container-id-2\" class=\"sk-top-container\"><div class=\"sk-text-repr-fallback\"><pre>KNeighborsClassifier()</pre><b>In a Jupyter environment, please rerun this cell to show the HTML representation or trust the notebook. <br />On GitHub, the HTML representation is unable to render, please try loading this page with nbviewer.org.</b></div><div class=\"sk-container\" hidden><div class=\"sk-item\"><div class=\"sk-estimator sk-toggleable\"><input class=\"sk-toggleable__control sk-hidden--visually\" id=\"sk-estimator-id-2\" type=\"checkbox\" checked><label for=\"sk-estimator-id-2\" class=\"sk-toggleable__label sk-toggleable__label-arrow\">KNeighborsClassifier</label><div class=\"sk-toggleable__content\"><pre>KNeighborsClassifier()</pre></div></div></div></div></div>"
     },
     "execution_count": 18,
     "metadata": {},
     "output_type": "execute_result"
    }
   ],
   "source": [
    "model.fit(X_train.drop('Species', axis = 1), X_train['Species'])"
   ]
  },
  {
   "cell_type": "markdown",
   "metadata": {
    "id": "fe7IzXQ4R9YL"
   },
   "source": [
    "5) Call predict method to generate predictions."
   ]
  },
  {
   "cell_type": "code",
   "execution_count": 19,
   "metadata": {
    "colab": {
     "base_uri": "https://localhost:8080/"
    },
    "id": "gm4t638JR9YL",
    "executionInfo": {
     "status": "ok",
     "timestamp": 1693766808641,
     "user_tz": -120,
     "elapsed": 31,
     "user": {
      "displayName": "Jesus Prada",
      "userId": "01990672692810654269"
     }
    },
    "outputId": "69a0e2b3-d56b-4827-8465-61de95dcbf78",
    "ExecuteTime": {
     "end_time": "2023-09-17T15:36:15.599094500Z",
     "start_time": "2023-09-17T15:36:15.482967600Z"
    }
   },
   "outputs": [
    {
     "data": {
      "text/plain": "array([2, 2, 0, 1, 0])"
     },
     "execution_count": 19,
     "metadata": {},
     "output_type": "execute_result"
    }
   ],
   "source": [
    "pred_test = model.predict(X_test.drop('Species', axis = 1))\n",
    "pred_test[0:5]"
   ]
  },
  {
   "cell_type": "markdown",
   "metadata": {
    "id": "sexpSXRiR9YL"
   },
   "source": [
    "6) Compute metric using predictions from the previous step."
   ]
  },
  {
   "cell_type": "code",
   "execution_count": 20,
   "metadata": {
    "colab": {
     "base_uri": "https://localhost:8080/"
    },
    "id": "GPixIIF7R9YL",
    "executionInfo": {
     "status": "ok",
     "timestamp": 1693766808641,
     "user_tz": -120,
     "elapsed": 29,
     "user": {
      "displayName": "Jesus Prada",
      "userId": "01990672692810654269"
     }
    },
    "outputId": "41720eaf-6bf7-4024-9366-93dc32f1c0c7",
    "ExecuteTime": {
     "end_time": "2023-09-17T15:36:15.600091700Z",
     "start_time": "2023-09-17T15:36:15.497629600Z"
    }
   },
   "outputs": [
    {
     "data": {
      "text/plain": "0.9733333333333334"
     },
     "execution_count": 20,
     "metadata": {},
     "output_type": "execute_result"
    }
   ],
   "source": [
    "metric(X_test['Species'], pred_test)"
   ]
  }
 ],
 "metadata": {
  "kernelspec": {
   "display_name": "Python 3",
   "language": "python",
   "name": "python3"
  },
  "language_info": {
   "codemirror_mode": {
    "name": "ipython",
    "version": 3
   },
   "file_extension": ".py",
   "mimetype": "text/x-python",
   "name": "python",
   "nbconvert_exporter": "python",
   "pygments_lexer": "ipython3",
   "version": "3.8.5"
  },
  "colab": {
   "provenance": []
  }
 },
 "nbformat": 4,
 "nbformat_minor": 0
}
