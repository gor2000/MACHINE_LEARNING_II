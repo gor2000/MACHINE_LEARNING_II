{
 "cells": [
  {
   "cell_type": "markdown",
   "metadata": {
    "id": "zHKmACzmwDW8"
   },
   "source": [
    "# Categorical Handling with XGBoost"
   ]
  },
  {
   "cell_type": "code",
   "execution_count": 2,
   "metadata": {
    "id": "OYdytp7FwDXC",
    "executionInfo": {
     "status": "ok",
     "timestamp": 1695639412828,
     "user_tz": -120,
     "elapsed": 2024,
     "user": {
      "displayName": "Jesus Prada",
      "userId": "01990672692810654269"
     }
    },
    "ExecuteTime": {
     "end_time": "2023-10-07T21:20:25.723944800Z",
     "start_time": "2023-10-07T21:20:25.530447700Z"
    }
   },
   "outputs": [],
   "source": [
    "# Load Libraries\n",
    "%matplotlib inline\n",
    "import numpy as np\n",
    "import matplotlib.pyplot as plt\n",
    "from scipy import stats\n",
    "import pandas as pd\n",
    "import multiprocessing\n",
    "import random\n",
    "import io\n",
    "\n",
    "\n",
    "\n",
    "\n",
    "from sklearn.preprocessing import scale\n",
    "from sklearn.preprocessing import OneHotEncoder\n",
    "import timeit"
   ]
  },
  {
   "cell_type": "markdown",
   "metadata": {
    "id": "J9mPB8mowDXE"
   },
   "source": [
    "## Dataset"
   ]
  },
  {
   "cell_type": "markdown",
   "metadata": {
    "id": "wrWCYC2twDXG"
   },
   "source": [
    "Leamos el dataset a utilizar."
   ]
  },
  {
   "cell_type": "code",
   "source": [
    "X = pd.read_csv('../data/healthcare.csv', sep = \";\")\n",
    "y = X['exitus']\n",
    "X = X.drop(['exitus'], axis = 1)"
   ],
   "metadata": {
    "id": "spdPftZ42DW0",
    "executionInfo": {
     "status": "ok",
     "timestamp": 1695639447046,
     "user_tz": -120,
     "elapsed": 271,
     "user": {
      "displayName": "Jesus Prada",
      "userId": "01990672692810654269"
     }
    },
    "ExecuteTime": {
     "end_time": "2023-10-07T21:20:26.177942200Z",
     "start_time": "2023-10-07T21:20:25.538218800Z"
    }
   },
   "execution_count": 3,
   "outputs": []
  },
  {
   "cell_type": "code",
   "execution_count": 4,
   "metadata": {
    "id": "1edXu2lPwDXU",
    "executionInfo": {
     "status": "ok",
     "timestamp": 1695639451311,
     "user_tz": -120,
     "elapsed": 310,
     "user": {
      "displayName": "Jesus Prada",
      "userId": "01990672692810654269"
     }
    },
    "ExecuteTime": {
     "end_time": "2023-10-07T21:20:26.182881100Z",
     "start_time": "2023-10-07T21:20:26.179365200Z"
    }
   },
   "outputs": [],
   "source": [
    "perc_values = [0.7, 0.15, 0.15];"
   ]
  },
  {
   "cell_type": "markdown",
   "metadata": {
    "id": "efVjK_EOwDXW"
   },
   "source": [
    "Split **based on time**."
   ]
  },
  {
   "cell_type": "code",
   "execution_count": 5,
   "metadata": {
    "id": "TGjboCMGwDXX",
    "executionInfo": {
     "status": "ok",
     "timestamp": 1695639454029,
     "user_tz": -120,
     "elapsed": 10,
     "user": {
      "displayName": "Jesus Prada",
      "userId": "01990672692810654269"
     }
    },
    "ExecuteTime": {
     "end_time": "2023-10-07T21:20:26.197451500Z",
     "start_time": "2023-10-07T21:20:26.182881100Z"
    }
   },
   "outputs": [],
   "source": [
    "# dimensiones de los conjuntos de train y test\n",
    "n_train = int(X.shape[0] * perc_values[0])\n",
    "n_val = int(X.shape[0] * perc_values[1])\n",
    "n_test = int(X.shape[0] * perc_values[2])"
   ]
  },
  {
   "cell_type": "code",
   "execution_count": 6,
   "metadata": {
    "id": "M8QqPwKMwDXb",
    "executionInfo": {
     "status": "ok",
     "timestamp": 1695639454651,
     "user_tz": -120,
     "elapsed": 356,
     "user": {
      "displayName": "Jesus Prada",
      "userId": "01990672692810654269"
     }
    },
    "ExecuteTime": {
     "end_time": "2023-10-07T21:20:26.240550100Z",
     "start_time": "2023-10-07T21:20:26.199968Z"
    }
   },
   "outputs": [],
   "source": [
    "categorical_vars = set(['severity', 'origin', 'tip_adm', 'tip_grd', 'date'])\n",
    "numerical_vars = set(X.columns) - categorical_vars\n",
    "categorical_vars = list(categorical_vars)\n",
    "numerical_vars = list(numerical_vars)\n",
    "ohe = OneHotEncoder(sparse_output = False)\n",
    "ohe_fit = ohe.fit(X[categorical_vars])\n",
    "X_ohe = pd.DataFrame(ohe.fit_transform(X[categorical_vars]))\n",
    "X_ohe.columns = pd.DataFrame(ohe_fit.get_feature_names_out())\n",
    "X = pd.concat((X_ohe, X[numerical_vars].reset_index()), axis=1)\n",
    "\n",
    "\n",
    "# selección del conjunto de train\n",
    "X_train = X.iloc[:n_train]\n",
    "y_train = y.iloc[:n_train]\n",
    "\n",
    "# selección del conjunto de validación\n",
    "X_val = X.iloc[(n_train):(n_train+n_val)]\n",
    "y_val = y.iloc[(n_train):(n_train+n_val)]\n",
    "\n",
    "# selección del conjunto de test\n",
    "X_test = X.iloc[(n_train+n_val):]\n",
    "y_test = y.iloc[(n_train+n_val):]"
   ]
  },
  {
   "cell_type": "markdown",
   "metadata": {
    "id": "FrfwJLqswDXe"
   },
   "source": [
    "\n",
    "1) Import model."
   ]
  },
  {
   "cell_type": "code",
   "execution_count": 7,
   "metadata": {
    "id": "HBZq-DO6wDXe",
    "executionInfo": {
     "status": "ok",
     "timestamp": 1695639456489,
     "user_tz": -120,
     "elapsed": 503,
     "user": {
      "displayName": "Jesus Prada",
      "userId": "01990672692810654269"
     }
    },
    "ExecuteTime": {
     "end_time": "2023-10-07T21:20:26.320198900Z",
     "start_time": "2023-10-07T21:20:26.242550900Z"
    }
   },
   "outputs": [],
   "source": [
    "from xgboost import XGBClassifier as model_constructor"
   ]
  },
  {
   "cell_type": "markdown",
   "metadata": {
    "id": "D-OVSJU3wDXf"
   },
   "source": [
    "2) Import metric."
   ]
  },
  {
   "cell_type": "code",
   "execution_count": 8,
   "metadata": {
    "id": "UeVLNXsfwDXg",
    "executionInfo": {
     "status": "ok",
     "timestamp": 1695639456958,
     "user_tz": -120,
     "elapsed": 11,
     "user": {
      "displayName": "Jesus Prada",
      "userId": "01990672692810654269"
     }
    },
    "ExecuteTime": {
     "end_time": "2023-10-07T21:20:26.323712900Z",
     "start_time": "2023-10-07T21:20:26.320198900Z"
    }
   },
   "outputs": [],
   "source": [
    "from sklearn.metrics import roc_auc_score as metric"
   ]
  },
  {
   "cell_type": "markdown",
   "metadata": {
    "id": "BWm2mupbwDXg"
   },
   "source": [
    "3) Define model."
   ]
  },
  {
   "cell_type": "code",
   "execution_count": 9,
   "metadata": {
    "id": "hPu2gFF8wDXh",
    "executionInfo": {
     "status": "ok",
     "timestamp": 1695639462594,
     "user_tz": -120,
     "elapsed": 314,
     "user": {
      "displayName": "Jesus Prada",
      "userId": "01990672692810654269"
     }
    },
    "ExecuteTime": {
     "end_time": "2023-10-07T21:20:26.336792600Z",
     "start_time": "2023-10-07T21:20:26.323712900Z"
    }
   },
   "outputs": [],
   "source": [
    "model = model_constructor(eval_metric = \"auc\",\n",
    "                          early_stopping_rounds = 100,\n",
    "                          random_state = 1)"
   ]
  },
  {
   "cell_type": "markdown",
   "metadata": {
    "id": "TTqWrwxlwDXh"
   },
   "source": [
    "4) Train model."
   ]
  },
  {
   "cell_type": "code",
   "execution_count": 10,
   "metadata": {
    "colab": {
     "base_uri": "https://localhost:8080/"
    },
    "id": "jbfo55EcwDXi",
    "executionInfo": {
     "status": "ok",
     "timestamp": 1695639468962,
     "user_tz": -120,
     "elapsed": 5247,
     "user": {
      "displayName": "Jesus Prada",
      "userId": "01990672692810654269"
     }
    },
    "outputId": "ad1b7867-dc60-452b-a222-9e5e2b764bf4",
    "ExecuteTime": {
     "end_time": "2023-10-07T21:20:26.847085100Z",
     "start_time": "2023-10-07T21:20:26.333795800Z"
    }
   },
   "outputs": [
    {
     "name": "stdout",
     "output_type": "stream",
     "text": [
      "[0]\tvalidation_0-auc:0.90745\n",
      "[1]\tvalidation_0-auc:0.91764\n",
      "[2]\tvalidation_0-auc:0.92186\n",
      "[3]\tvalidation_0-auc:0.91785\n",
      "[4]\tvalidation_0-auc:0.92261\n",
      "[5]\tvalidation_0-auc:0.92548\n",
      "[6]\tvalidation_0-auc:0.92795\n",
      "[7]\tvalidation_0-auc:0.92986\n",
      "[8]\tvalidation_0-auc:0.93292\n",
      "[9]\tvalidation_0-auc:0.93425\n",
      "[10]\tvalidation_0-auc:0.93548\n",
      "[11]\tvalidation_0-auc:0.93418\n",
      "[12]\tvalidation_0-auc:0.93407\n",
      "[13]\tvalidation_0-auc:0.93579\n",
      "[14]\tvalidation_0-auc:0.93759\n",
      "[15]\tvalidation_0-auc:0.93796\n",
      "[16]\tvalidation_0-auc:0.93776\n",
      "[17]\tvalidation_0-auc:0.93711\n",
      "[18]\tvalidation_0-auc:0.93732\n",
      "[19]\tvalidation_0-auc:0.93680\n",
      "[20]\tvalidation_0-auc:0.93680\n",
      "[21]\tvalidation_0-auc:0.93709\n",
      "[22]\tvalidation_0-auc:0.93704\n",
      "[23]\tvalidation_0-auc:0.93703\n",
      "[24]\tvalidation_0-auc:0.93636\n",
      "[25]\tvalidation_0-auc:0.93670\n",
      "[26]\tvalidation_0-auc:0.93702\n",
      "[27]\tvalidation_0-auc:0.93700\n",
      "[28]\tvalidation_0-auc:0.93695\n",
      "[29]\tvalidation_0-auc:0.93609\n",
      "[30]\tvalidation_0-auc:0.93653\n",
      "[31]\tvalidation_0-auc:0.93626\n",
      "[32]\tvalidation_0-auc:0.93607\n",
      "[33]\tvalidation_0-auc:0.93607\n",
      "[34]\tvalidation_0-auc:0.93535\n",
      "[35]\tvalidation_0-auc:0.93537\n",
      "[36]\tvalidation_0-auc:0.93532\n",
      "[37]\tvalidation_0-auc:0.93233\n",
      "[38]\tvalidation_0-auc:0.93230\n",
      "[39]\tvalidation_0-auc:0.92972\n",
      "[40]\tvalidation_0-auc:0.92928\n",
      "[41]\tvalidation_0-auc:0.92902\n",
      "[42]\tvalidation_0-auc:0.92908\n",
      "[43]\tvalidation_0-auc:0.92902\n",
      "[44]\tvalidation_0-auc:0.92881\n",
      "[45]\tvalidation_0-auc:0.92860\n"
     ]
    },
    {
     "name": "stderr",
     "output_type": "stream",
     "text": [
      "J:\\IE\\SECOND TERM\\MLII\\venv\\Lib\\site-packages\\xgboost\\data.py:335: FutureWarning: is_sparse is deprecated and will be removed in a future version. Check `isinstance(dtype, pd.SparseDtype)` instead.\n",
      "  if is_sparse(dtype):\n",
      "J:\\IE\\SECOND TERM\\MLII\\venv\\Lib\\site-packages\\xgboost\\data.py:338: FutureWarning: is_categorical_dtype is deprecated and will be removed in a future version. Use isinstance(dtype, CategoricalDtype) instead\n",
      "  is_categorical_dtype(dtype) or is_pa_ext_categorical_dtype(dtype)\n",
      "J:\\IE\\SECOND TERM\\MLII\\venv\\Lib\\site-packages\\xgboost\\data.py:384: FutureWarning: is_categorical_dtype is deprecated and will be removed in a future version. Use isinstance(dtype, CategoricalDtype) instead\n",
      "  if is_categorical_dtype(dtype):\n",
      "J:\\IE\\SECOND TERM\\MLII\\venv\\Lib\\site-packages\\xgboost\\data.py:359: FutureWarning: is_categorical_dtype is deprecated and will be removed in a future version. Use isinstance(dtype, CategoricalDtype) instead\n",
      "  return is_int or is_bool or is_float or is_categorical_dtype(dtype)\n",
      "J:\\IE\\SECOND TERM\\MLII\\venv\\Lib\\site-packages\\xgboost\\data.py:335: FutureWarning: is_sparse is deprecated and will be removed in a future version. Check `isinstance(dtype, pd.SparseDtype)` instead.\n",
      "  if is_sparse(dtype):\n",
      "J:\\IE\\SECOND TERM\\MLII\\venv\\Lib\\site-packages\\xgboost\\data.py:338: FutureWarning: is_categorical_dtype is deprecated and will be removed in a future version. Use isinstance(dtype, CategoricalDtype) instead\n",
      "  is_categorical_dtype(dtype) or is_pa_ext_categorical_dtype(dtype)\n",
      "J:\\IE\\SECOND TERM\\MLII\\venv\\Lib\\site-packages\\xgboost\\data.py:384: FutureWarning: is_categorical_dtype is deprecated and will be removed in a future version. Use isinstance(dtype, CategoricalDtype) instead\n",
      "  if is_categorical_dtype(dtype):\n",
      "J:\\IE\\SECOND TERM\\MLII\\venv\\Lib\\site-packages\\xgboost\\data.py:359: FutureWarning: is_categorical_dtype is deprecated and will be removed in a future version. Use isinstance(dtype, CategoricalDtype) instead\n",
      "  return is_int or is_bool or is_float or is_categorical_dtype(dtype)\n",
      "J:\\IE\\SECOND TERM\\MLII\\venv\\Lib\\site-packages\\xgboost\\data.py:520: FutureWarning: is_sparse is deprecated and will be removed in a future version. Check `isinstance(dtype, pd.SparseDtype)` instead.\n",
      "  if is_sparse(data):\n"
     ]
    },
    {
     "name": "stdout",
     "output_type": "stream",
     "text": [
      "[46]\tvalidation_0-auc:0.92874\n",
      "[47]\tvalidation_0-auc:0.92872\n",
      "[48]\tvalidation_0-auc:0.92856\n",
      "[49]\tvalidation_0-auc:0.92809\n",
      "[50]\tvalidation_0-auc:0.92867\n",
      "[51]\tvalidation_0-auc:0.92853\n",
      "[52]\tvalidation_0-auc:0.92877\n",
      "[53]\tvalidation_0-auc:0.92824\n",
      "[54]\tvalidation_0-auc:0.92818\n",
      "[55]\tvalidation_0-auc:0.92769\n",
      "[56]\tvalidation_0-auc:0.92805\n",
      "[57]\tvalidation_0-auc:0.92811\n",
      "[58]\tvalidation_0-auc:0.92818\n",
      "[59]\tvalidation_0-auc:0.92819\n",
      "[60]\tvalidation_0-auc:0.92847\n",
      "[61]\tvalidation_0-auc:0.92770\n",
      "[62]\tvalidation_0-auc:0.92783\n",
      "[63]\tvalidation_0-auc:0.92768\n",
      "[64]\tvalidation_0-auc:0.92763\n",
      "[65]\tvalidation_0-auc:0.92772\n",
      "[66]\tvalidation_0-auc:0.92715\n",
      "[67]\tvalidation_0-auc:0.92763\n",
      "[68]\tvalidation_0-auc:0.92763\n",
      "[69]\tvalidation_0-auc:0.92774\n",
      "[70]\tvalidation_0-auc:0.92766\n",
      "[71]\tvalidation_0-auc:0.92800\n",
      "[72]\tvalidation_0-auc:0.92804\n",
      "[73]\tvalidation_0-auc:0.92830\n",
      "[74]\tvalidation_0-auc:0.92830\n",
      "[75]\tvalidation_0-auc:0.92802\n",
      "[76]\tvalidation_0-auc:0.92802\n",
      "[77]\tvalidation_0-auc:0.92836\n",
      "[78]\tvalidation_0-auc:0.92724\n",
      "[79]\tvalidation_0-auc:0.92751\n",
      "[80]\tvalidation_0-auc:0.92649\n",
      "[81]\tvalidation_0-auc:0.92655\n",
      "[82]\tvalidation_0-auc:0.92650\n",
      "[83]\tvalidation_0-auc:0.92636\n",
      "[84]\tvalidation_0-auc:0.92638\n",
      "[85]\tvalidation_0-auc:0.92681\n",
      "[86]\tvalidation_0-auc:0.92638\n",
      "[87]\tvalidation_0-auc:0.92646\n",
      "[88]\tvalidation_0-auc:0.92672\n",
      "[89]\tvalidation_0-auc:0.92683\n",
      "[90]\tvalidation_0-auc:0.92625\n",
      "[91]\tvalidation_0-auc:0.92618\n",
      "[92]\tvalidation_0-auc:0.92605\n",
      "[93]\tvalidation_0-auc:0.92598\n",
      "[94]\tvalidation_0-auc:0.92584\n",
      "[95]\tvalidation_0-auc:0.92600\n",
      "[96]\tvalidation_0-auc:0.92445\n",
      "[97]\tvalidation_0-auc:0.92445\n",
      "[98]\tvalidation_0-auc:0.92451\n",
      "[99]\tvalidation_0-auc:0.92560\n"
     ]
    }
   ],
   "source": [
    "start = timeit.default_timer()\n",
    "model.fit(X_train,\n",
    "          np.array(y_train),\n",
    "          eval_set=[(X_val, y_val)],\n",
    "          verbose=True)\n",
    "time = timeit.default_timer() - start"
   ]
  },
  {
   "cell_type": "markdown",
   "metadata": {
    "id": "z4cbv4u8wDXj"
   },
   "source": [
    "5) Predict."
   ]
  },
  {
   "cell_type": "code",
   "source": [
    "model.best_iteration"
   ],
   "metadata": {
    "id": "4LW0hJ7m_aAa",
    "executionInfo": {
     "status": "ok",
     "timestamp": 1695639521101,
     "user_tz": -120,
     "elapsed": 13,
     "user": {
      "displayName": "Jesus Prada",
      "userId": "01990672692810654269"
     }
    },
    "outputId": "5e79dac9-bcc4-414b-cd81-7cbdef3de60c",
    "colab": {
     "base_uri": "https://localhost:8080/"
    },
    "ExecuteTime": {
     "end_time": "2023-10-07T21:20:26.873624700Z",
     "start_time": "2023-10-07T21:20:26.715164900Z"
    }
   },
   "execution_count": 11,
   "outputs": [
    {
     "data": {
      "text/plain": "15"
     },
     "execution_count": 11,
     "metadata": {},
     "output_type": "execute_result"
    }
   ]
  },
  {
   "cell_type": "code",
   "execution_count": 12,
   "metadata": {
    "id": "XMUXlXO7wDXk",
    "ExecuteTime": {
     "end_time": "2023-10-07T21:20:27.009087100Z",
     "start_time": "2023-10-07T21:20:26.722193600Z"
    }
   },
   "outputs": [
    {
     "name": "stderr",
     "output_type": "stream",
     "text": [
      "J:\\IE\\SECOND TERM\\MLII\\venv\\Lib\\site-packages\\xgboost\\data.py:335: FutureWarning: is_sparse is deprecated and will be removed in a future version. Check `isinstance(dtype, pd.SparseDtype)` instead.\n",
      "  if is_sparse(dtype):\n",
      "J:\\IE\\SECOND TERM\\MLII\\venv\\Lib\\site-packages\\xgboost\\data.py:338: FutureWarning: is_categorical_dtype is deprecated and will be removed in a future version. Use isinstance(dtype, CategoricalDtype) instead\n",
      "  is_categorical_dtype(dtype) or is_pa_ext_categorical_dtype(dtype)\n",
      "J:\\IE\\SECOND TERM\\MLII\\venv\\Lib\\site-packages\\xgboost\\data.py:384: FutureWarning: is_categorical_dtype is deprecated and will be removed in a future version. Use isinstance(dtype, CategoricalDtype) instead\n",
      "  if is_categorical_dtype(dtype):\n",
      "J:\\IE\\SECOND TERM\\MLII\\venv\\Lib\\site-packages\\xgboost\\data.py:359: FutureWarning: is_categorical_dtype is deprecated and will be removed in a future version. Use isinstance(dtype, CategoricalDtype) instead\n",
      "  return is_int or is_bool or is_float or is_categorical_dtype(dtype)\n",
      "J:\\IE\\SECOND TERM\\MLII\\venv\\Lib\\site-packages\\xgboost\\data.py:335: FutureWarning: is_sparse is deprecated and will be removed in a future version. Check `isinstance(dtype, pd.SparseDtype)` instead.\n",
      "  if is_sparse(dtype):\n",
      "J:\\IE\\SECOND TERM\\MLII\\venv\\Lib\\site-packages\\xgboost\\data.py:338: FutureWarning: is_categorical_dtype is deprecated and will be removed in a future version. Use isinstance(dtype, CategoricalDtype) instead\n",
      "  is_categorical_dtype(dtype) or is_pa_ext_categorical_dtype(dtype)\n",
      "J:\\IE\\SECOND TERM\\MLII\\venv\\Lib\\site-packages\\xgboost\\data.py:384: FutureWarning: is_categorical_dtype is deprecated and will be removed in a future version. Use isinstance(dtype, CategoricalDtype) instead\n",
      "  if is_categorical_dtype(dtype):\n",
      "J:\\IE\\SECOND TERM\\MLII\\venv\\Lib\\site-packages\\xgboost\\data.py:359: FutureWarning: is_categorical_dtype is deprecated and will be removed in a future version. Use isinstance(dtype, CategoricalDtype) instead\n",
      "  return is_int or is_bool or is_float or is_categorical_dtype(dtype)\n",
      "J:\\IE\\SECOND TERM\\MLII\\venv\\Lib\\site-packages\\xgboost\\data.py:335: FutureWarning: is_sparse is deprecated and will be removed in a future version. Check `isinstance(dtype, pd.SparseDtype)` instead.\n",
      "  if is_sparse(dtype):\n",
      "J:\\IE\\SECOND TERM\\MLII\\venv\\Lib\\site-packages\\xgboost\\data.py:338: FutureWarning: is_categorical_dtype is deprecated and will be removed in a future version. Use isinstance(dtype, CategoricalDtype) instead\n",
      "  is_categorical_dtype(dtype) or is_pa_ext_categorical_dtype(dtype)\n",
      "J:\\IE\\SECOND TERM\\MLII\\venv\\Lib\\site-packages\\xgboost\\data.py:384: FutureWarning: is_categorical_dtype is deprecated and will be removed in a future version. Use isinstance(dtype, CategoricalDtype) instead\n",
      "  if is_categorical_dtype(dtype):\n",
      "J:\\IE\\SECOND TERM\\MLII\\venv\\Lib\\site-packages\\xgboost\\data.py:359: FutureWarning: is_categorical_dtype is deprecated and will be removed in a future version. Use isinstance(dtype, CategoricalDtype) instead\n",
      "  return is_int or is_bool or is_float or is_categorical_dtype(dtype)\n"
     ]
    }
   ],
   "source": [
    "pred_train_p = model.predict_proba(X_train)\n",
    "pred_val_p = model.predict_proba(X_val)\n",
    "pred_test_p = model.predict_proba(X_test)"
   ]
  },
  {
   "cell_type": "markdown",
   "metadata": {
    "id": "XteT91bFwDXk"
   },
   "source": [
    "6) Evaluate."
   ]
  },
  {
   "cell_type": "code",
   "execution_count": 15,
   "outputs": [
    {
     "data": {
      "text/plain": "array([[0.99882853, 0.0011715 ],\n       [0.99882853, 0.0011715 ],\n       [0.9730702 , 0.02692979],\n       ...,\n       [0.9468656 , 0.05313437],\n       [0.99882853, 0.0011715 ],\n       [0.99882853, 0.0011715 ]], dtype=float32)"
     },
     "execution_count": 15,
     "metadata": {},
     "output_type": "execute_result"
    }
   ],
   "source": [
    "pred_test_p"
   ],
   "metadata": {
    "collapsed": false,
    "ExecuteTime": {
     "end_time": "2023-10-07T21:27:34.474213900Z",
     "start_time": "2023-10-07T21:27:34.436473400Z"
    }
   }
  },
  {
   "cell_type": "code",
   "execution_count": 14,
   "metadata": {
    "colab": {
     "base_uri": "https://localhost:8080/",
     "height": 116
    },
    "id": "5VIFaG2KwDXl",
    "executionInfo": {
     "status": "ok",
     "timestamp": 1695201903030,
     "user_tz": -120,
     "elapsed": 13,
     "user": {
      "displayName": "Jesus Prada",
      "userId": "01990672692810654269"
     }
    },
    "outputId": "4d1474f4-c449-45d7-f389-b76856d32a4d",
    "ExecuteTime": {
     "end_time": "2023-10-07T21:21:06.286235700Z",
     "start_time": "2023-10-07T21:21:06.226737300Z"
    }
   },
   "outputs": [
    {
     "data": {
      "text/plain": "               model  mse_train   mse_val  mse_test\n0  XGBoost (Default)   0.969774  0.937958  0.932429",
      "text/html": "<div>\n<style scoped>\n    .dataframe tbody tr th:only-of-type {\n        vertical-align: middle;\n    }\n\n    .dataframe tbody tr th {\n        vertical-align: top;\n    }\n\n    .dataframe thead th {\n        text-align: right;\n    }\n</style>\n<table border=\"1\" class=\"dataframe\">\n  <thead>\n    <tr style=\"text-align: right;\">\n      <th></th>\n      <th>model</th>\n      <th>mse_train</th>\n      <th>mse_val</th>\n      <th>mse_test</th>\n    </tr>\n  </thead>\n  <tbody>\n    <tr>\n      <th>0</th>\n      <td>XGBoost (Default)</td>\n      <td>0.969774</td>\n      <td>0.937958</td>\n      <td>0.932429</td>\n    </tr>\n  </tbody>\n</table>\n</div>"
     },
     "execution_count": 14,
     "metadata": {},
     "output_type": "execute_result"
    }
   ],
   "source": [
    "# Calcular métricas de evaluación\n",
    "auc_train = metric(y_train, pred_train_p[:,1]);\n",
    "auc_val = metric(y_val, pred_val_p[:,1]);\n",
    "auc_test = metric(y_test, pred_test_p[:,1]);\n",
    "results = pd.DataFrame()\n",
    "\n",
    "new_data = pd.DataFrame(data={'model': ['XGBoost (Default)'], 'mse_train': [auc_train], 'mse_val': [auc_val], 'mse_test': [auc_test]}, columns=['model', 'mse_train', 'mse_val', 'mse_test'])\n",
    "\n",
    "results = pd.concat([results, new_data], ignore_index=True)\n",
    "\n",
    "results"
   ]
  },
  {
   "cell_type": "markdown",
   "metadata": {
    "id": "F2CLzSNbwDXn"
   },
   "source": [
    "### Versión 2: OHE + tree_method = 'hist'"
   ]
  },
  {
   "cell_type": "markdown",
   "metadata": {
    "id": "vsq9uAedwDXo"
   },
   "source": [
    "XGBoost offers different ways to choose partitions and build trees. A very popular one is **tree_method = 'hist'**, which allows to speed up models when working with large datasets (similar approach to LightGBM).\n",
    "\n",
    "Predictive performance may change, but there is not a clear winner between using 'hist' or other three_methods."
   ]
  },
  {
   "cell_type": "markdown",
   "metadata": {
    "id": "slshAaF5wDXp"
   },
   "source": [
    "3) Define model."
   ]
  },
  {
   "cell_type": "code",
   "execution_count": null,
   "metadata": {
    "id": "ItmL7XF2wDXq",
    "ExecuteTime": {
     "end_time": "2023-10-07T21:20:27.161520200Z",
     "start_time": "2023-10-07T21:20:27.160521100Z"
    }
   },
   "outputs": [],
   "source": [
    "model = model_constructor(eval_metric = \"auc\",\n",
    "                          early_stopping_rounds = 10,\n",
    "                          random_state = 1,\n",
    "                          tree_method = 'hist')"
   ]
  },
  {
   "cell_type": "markdown",
   "metadata": {
    "id": "a3g1ZSb9wDXr"
   },
   "source": [
    "4) Train the model."
   ]
  },
  {
   "cell_type": "code",
   "execution_count": null,
   "metadata": {
    "colab": {
     "base_uri": "https://localhost:8080/"
    },
    "id": "Sng8fAfDwDXs",
    "executionInfo": {
     "status": "ok",
     "timestamp": 1695201903354,
     "user_tz": -120,
     "elapsed": 334,
     "user": {
      "displayName": "Jesus Prada",
      "userId": "01990672692810654269"
     }
    },
    "outputId": "c62dcab4-5e61-4230-f0fd-bda47b8eb363",
    "ExecuteTime": {
     "end_time": "2023-10-07T21:20:27.163520100Z",
     "start_time": "2023-10-07T21:20:27.161520200Z"
    }
   },
   "outputs": [],
   "source": [
    "start = timeit.default_timer()\n",
    "model.fit(X_train,\n",
    "          np.array(y_train),\n",
    "          eval_set=[(X_val, y_val)],\n",
    "          verbose=True)\n",
    "time = timeit.default_timer() - start"
   ]
  },
  {
   "cell_type": "markdown",
   "metadata": {
    "id": "Itw__4GWwDXt"
   },
   "source": [
    "5) Predict."
   ]
  },
  {
   "cell_type": "code",
   "execution_count": null,
   "metadata": {
    "id": "4ZaEX2qAwDXu",
    "ExecuteTime": {
     "start_time": "2023-10-07T21:20:27.163520100Z"
    }
   },
   "outputs": [],
   "source": [
    "pred_train_p = model.predict_proba(X_train)\n",
    "pred_val_p = model.predict_proba(X_val)\n",
    "pred_test_p = model.predict_proba(X_test)"
   ]
  },
  {
   "cell_type": "markdown",
   "metadata": {
    "id": "-oX3MnzYwDXu"
   },
   "source": [
    "6) Evaluate."
   ]
  },
  {
   "cell_type": "code",
   "execution_count": null,
   "metadata": {
    "colab": {
     "base_uri": "https://localhost:8080/",
     "height": 147
    },
    "id": "MKdWXQ--wDXv",
    "executionInfo": {
     "status": "ok",
     "timestamp": 1695201903355,
     "user_tz": -120,
     "elapsed": 17,
     "user": {
      "displayName": "Jesus Prada",
      "userId": "01990672692810654269"
     }
    },
    "outputId": "c477c061-15d1-478b-aeac-d31f90751aab",
    "ExecuteTime": {
     "end_time": "2023-10-07T21:20:27.166520100Z",
     "start_time": "2023-10-07T21:20:27.164519900Z"
    }
   },
   "outputs": [],
   "source": [
    "# Calcular métricas de evaluación\n",
    "auc_train = metric(y_train, pred_train_p[:,1]);\n",
    "auc_val = metric(y_val, pred_val_p[:,1]);\n",
    "auc_test = metric(y_test, pred_test_p[:,1]);\n",
    "results = results.append(pd.DataFrame(data={'model':['XGBoost OHE + hist'],'auc_train':[auc_train],\n",
    "                                            'auc_val':[auc_val],\n",
    "                                            'auc_test':[auc_test],\n",
    "                                            'time':[time]}, columns=['model',  'auc_train','auc_val', 'auc_test', 'time']),\n",
    "                         ignore_index=True)\n",
    "results"
   ]
  },
  {
   "cell_type": "markdown",
   "metadata": {
    "id": "BUeHd0odwDXx"
   },
   "source": [
    "### Versión 3: tree_method = 'hist'"
   ]
  },
  {
   "cell_type": "markdown",
   "metadata": {
    "id": "HiIzrErowDXy"
   },
   "source": [
    "This time we will not perform any preprocessing step, so **we will not perform encoding**. For this we must indicate that the variables are categorical."
   ]
  },
  {
   "cell_type": "code",
   "execution_count": null,
   "metadata": {
    "id": "NXnXalkjwDXy",
    "ExecuteTime": {
     "end_time": "2023-10-07T21:20:27.167522100Z",
     "start_time": "2023-10-07T21:20:27.166520100Z"
    }
   },
   "outputs": [],
   "source": [
    "X = pd.read_csv(io.BytesIO(uploaded['healthcare.csv']), sep = \";\")\n",
    "y = X['exitus']\n",
    "X = X.drop(['exitus'], axis = 1)"
   ]
  },
  {
   "cell_type": "code",
   "execution_count": null,
   "metadata": {
    "colab": {
     "base_uri": "https://localhost:8080/"
    },
    "id": "r3vQqpYrwDXz",
    "executionInfo": {
     "status": "ok",
     "timestamp": 1695201903355,
     "user_tz": -120,
     "elapsed": 14,
     "user": {
      "displayName": "Jesus Prada",
      "userId": "01990672692810654269"
     }
    },
    "outputId": "fd630df2-3d6b-4bb1-eca5-120dc33a5d8e",
    "ExecuteTime": {
     "end_time": "2023-10-07T21:20:27.179543400Z",
     "start_time": "2023-10-07T21:20:27.167522100Z"
    }
   },
   "outputs": [],
   "source": [
    "X[['severity', 'origin', 'tip_adm', 'tip_grd', 'date']] = X[['severity', 'origin', 'tip_adm', 'tip_grd', 'date']].astype(\"category\")\n",
    "X.dtypes"
   ]
  },
  {
   "cell_type": "code",
   "execution_count": null,
   "metadata": {
    "id": "ZV8JoQdKwDX0",
    "ExecuteTime": {
     "start_time": "2023-10-07T21:20:27.169028800Z"
    }
   },
   "outputs": [],
   "source": [
    "# selección del conjunto de train\n",
    "X_train = X.iloc[:n_train]\n",
    "y_train = y.iloc[:n_train]\n",
    "\n",
    "# selección del conjunto de validación\n",
    "X_val = X.iloc[(n_train):(n_train+n_val)]\n",
    "y_val = y.iloc[(n_train):(n_train+n_val)]\n",
    "\n",
    "# selección del conjunto de test\n",
    "X_test = X.iloc[(n_train+n_val):]\n",
    "y_test = y.iloc[(n_train+n_val):]"
   ]
  },
  {
   "cell_type": "markdown",
   "metadata": {
    "id": "QRoAhYoNwDX1"
   },
   "source": [
    "3) Define model\n",
    "\n",
    "To enable categorical variable handling we have to set the *enable_categorical* flag. For it to work it is mandatory to set tree_method = 'hist', or tree_method = 'gpu_hist'."
   ]
  },
  {
   "cell_type": "code",
   "execution_count": null,
   "metadata": {
    "id": "kVeezROgwDX1",
    "ExecuteTime": {
     "start_time": "2023-10-07T21:20:27.170039200Z"
    }
   },
   "outputs": [],
   "source": [
    "model = model_constructor(eval_metric = \"auc\",\n",
    "                        early_stopping_rounds = 10,\n",
    "                        tree_method = 'hist',\n",
    "                        enable_categorical = True,\n",
    "                        random_state = 1,)"
   ]
  },
  {
   "cell_type": "markdown",
   "metadata": {
    "id": "KtjtQNkvwDX2"
   },
   "source": [
    "4) Train model.\n"
   ]
  },
  {
   "cell_type": "code",
   "execution_count": null,
   "metadata": {
    "colab": {
     "base_uri": "https://localhost:8080/"
    },
    "id": "EAUAeDR8wDX3",
    "executionInfo": {
     "status": "ok",
     "timestamp": 1695201904237,
     "user_tz": -120,
     "elapsed": 892,
     "user": {
      "displayName": "Jesus Prada",
      "userId": "01990672692810654269"
     }
    },
    "outputId": "02fe4eec-8678-4922-ce24-b96315323820",
    "ExecuteTime": {
     "start_time": "2023-10-07T21:20:27.171036300Z"
    }
   },
   "outputs": [],
   "source": [
    "start = timeit.default_timer()\n",
    "model.fit(X_train,\n",
    "          np.array(y_train),\n",
    "          eval_set=[(X_val, y_val)],\n",
    "          verbose=True)\n",
    "time = timeit.default_timer() - start"
   ]
  },
  {
   "cell_type": "markdown",
   "metadata": {
    "id": "cE0aBJ41wDX4"
   },
   "source": [
    "5) Predict."
   ]
  },
  {
   "cell_type": "code",
   "execution_count": null,
   "metadata": {
    "id": "6oLFF6SnwDX5",
    "ExecuteTime": {
     "start_time": "2023-10-07T21:20:27.172038500Z"
    }
   },
   "outputs": [],
   "source": [
    "pred_train_p = model.predict_proba(X_train)\n",
    "pred_val_p = model.predict_proba(X_val)\n",
    "pred_test_p = model.predict_proba(X_test)"
   ]
  },
  {
   "cell_type": "markdown",
   "metadata": {
    "id": "YD2uI2pPwDX6"
   },
   "source": [
    "6) Evaluate."
   ]
  },
  {
   "cell_type": "code",
   "execution_count": null,
   "metadata": {
    "colab": {
     "base_uri": "https://localhost:8080/",
     "height": 179
    },
    "id": "vEAQcOIawDX6",
    "executionInfo": {
     "status": "ok",
     "timestamp": 1695201904237,
     "user_tz": -120,
     "elapsed": 9,
     "user": {
      "displayName": "Jesus Prada",
      "userId": "01990672692810654269"
     }
    },
    "outputId": "2de6a97d-655d-4abf-91d4-27d6da278f76",
    "ExecuteTime": {
     "start_time": "2023-10-07T21:20:27.173037200Z"
    }
   },
   "outputs": [],
   "source": [
    "# Calcular métricas de evaluación\n",
    "auc_train = metric(y_train, pred_train_p[:,1]);\n",
    "auc_val = metric(y_val, pred_val_p[:,1]);\n",
    "auc_test = metric(y_test, pred_test_p[:,1]);\n",
    "results = results.append(pd.DataFrame(data={'model':['XGBoost internal handling + hist'],'auc_train':[auc_train],\n",
    "                                            'auc_val':[auc_val],\n",
    "                                            'auc_test':[auc_test],\n",
    "                                            'time':[time]}, columns=['model',  'auc_train','auc_val', 'auc_test', 'time']), ignore_index=True)\n",
    "results"
   ]
  },
  {
   "cell_type": "markdown",
   "metadata": {
    "id": "pa-x4FfSwDX9"
   },
   "source": [
    "Let's see what is the best approach...."
   ]
  },
  {
   "cell_type": "code",
   "execution_count": null,
   "metadata": {
    "colab": {
     "base_uri": "https://localhost:8080/",
     "height": 35
    },
    "id": "Y2TogwU2wDX-",
    "executionInfo": {
     "status": "ok",
     "timestamp": 1695201904238,
     "user_tz": -120,
     "elapsed": 8,
     "user": {
      "displayName": "Jesus Prada",
      "userId": "01990672692810654269"
     }
    },
    "outputId": "c44dfedb-d8b0-49d6-a2a1-a037cbf8aae6",
    "ExecuteTime": {
     "start_time": "2023-10-07T21:20:27.174038600Z"
    }
   },
   "outputs": [],
   "source": [
    "results['model'][results['auc_test'].idxmax()]"
   ]
  }
 ],
 "metadata": {
  "kernelspec": {
   "display_name": "Python 3",
   "language": "python",
   "name": "python3"
  },
  "language_info": {
   "codemirror_mode": {
    "name": "ipython",
    "version": 3
   },
   "file_extension": ".py",
   "mimetype": "text/x-python",
   "name": "python",
   "nbconvert_exporter": "python",
   "pygments_lexer": "ipython3",
   "version": "3.8.5"
  },
  "colab": {
   "provenance": []
  }
 },
 "nbformat": 4,
 "nbformat_minor": 0
}
