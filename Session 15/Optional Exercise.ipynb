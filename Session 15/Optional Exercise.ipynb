{
 "cells": [
  {
   "cell_type": "code",
   "execution_count": 1,
   "id": "initial_id",
   "metadata": {
    "collapsed": true,
    "ExecuteTime": {
     "end_time": "2023-10-04T15:51:06.956816200Z",
     "start_time": "2023-10-04T15:51:06.495701500Z"
    }
   },
   "outputs": [],
   "source": [
    "import pandas as pd\n",
    "\n",
    "dat = pd.read_csv('../data/mtcars_missing.csv', sep = \",\")"
   ]
  },
  {
   "cell_type": "code",
   "execution_count": 2,
   "outputs": [],
   "source": [
    "# Select numerical variables\n",
    "\n",
    "numerical_vars = list(set(dat.columns) - {'model'})\n",
    "\n",
    "from fancyimpute import IterativeImputer as MICE"
   ],
   "metadata": {
    "collapsed": false,
    "ExecuteTime": {
     "end_time": "2023-10-04T16:22:33.371142200Z",
     "start_time": "2023-10-04T16:22:32.585717400Z"
    }
   },
   "id": "dd02add7911ddf25"
  },
  {
   "cell_type": "code",
   "execution_count": 7,
   "outputs": [
    {
     "name": "stderr",
     "output_type": "stream",
     "text": [
      "J:\\IE\\SECOND TERM\\MLII\\venv\\Lib\\site-packages\\sklearn\\impute\\_iterative.py:796: ConvergenceWarning: [IterativeImputer] Early stopping criterion not reached.\n",
      "  warnings.warn(\n"
     ]
    },
    {
     "data": {
      "text/plain": "    cyl       mpg  qsec  drat   vs        wt  disp  carb  gear   hp        am\n0   0.0  0.000000   0.0   0.0  0.0  0.000000   0.0   0.0   0.0  0.0 -0.429502\n1   0.0  0.000000   0.0   0.0  0.0  0.000000   0.0   0.0   0.0  0.0  0.000000\n2   0.0  0.000000   0.0   0.0  0.0  0.000000   0.0   0.0   0.0  0.0  0.000000\n3   0.0  0.000000   0.0   0.0  0.0  0.000000   0.0   0.0   0.0  0.0  0.000000\n4   0.0  0.737186   0.0   0.0  0.0  0.000000   0.0   0.0   0.0  0.0  0.000000\n5   0.0  2.562402   0.0   0.0  0.0  0.000000   0.0   0.0   0.0  0.0  0.000000\n6   0.0 -0.863973   0.0   0.0  0.0  0.000000   0.0   0.0   0.0  0.0  0.000000\n7   0.0  0.000000   0.0   0.0  0.0  0.000000   0.0   0.0   0.0  0.0  0.000000\n8   0.0  0.000000   0.0   0.0  0.0  1.030265   0.0   0.0   0.0  0.0  0.000000\n9   0.0  0.000000   0.0   0.0  0.0  0.000000   0.0   0.0   0.0  0.0  0.000000\n10  0.0  3.944215   0.0   0.0  0.0  0.000000   0.0   0.0   0.0  0.0  0.000000\n11  0.0  0.000000   0.0   0.0  0.0  0.000000   0.0   0.0   0.0  0.0  0.000000\n12  0.0  0.000000   0.0   0.0  0.0  0.000000   0.0   0.0   0.0  0.0  0.000000\n13  0.0  0.000000   0.0   0.0  0.0  0.000000   0.0   0.0   0.0  0.0  0.000000\n14  0.0 -3.457517   0.0   0.0  0.0  0.000000   0.0   0.0   0.0  0.0  0.000000\n15  0.0 -3.310626   0.0   0.0  0.0  0.000000   0.0   0.0   0.0  0.0  0.000000\n16  0.0  0.000000   0.0   0.0  0.0  0.000000   0.0   0.0   0.0  0.0  0.000000\n17  0.0  0.000000   0.0   0.0  0.0  0.000000   0.0   0.0   0.0  0.0  0.000000\n18  0.0  0.000000   0.0   0.0  0.0  0.000000   0.0   0.0   0.0  0.0  0.000000\n19  0.0  0.000000   0.0   0.0  0.0  0.000000   0.0   0.0   0.0  0.0  0.000000\n20  0.0  0.000000   0.0   0.0  0.0  0.000000   0.0   0.0   0.0  0.0  0.000000\n21  0.0  0.521229   0.0   0.0  0.0  0.000000   0.0   0.0   0.0  0.0  0.000000\n22  0.0  0.000000   0.0   0.0  0.0  0.000000   0.0   0.0   0.0  0.0  0.000000\n23  0.0  0.000000   0.0   0.0  0.0  0.000000   0.0   0.0   0.0  0.0  0.000000\n24  0.0  0.000000   0.0   0.0  0.0  0.000000   0.0   0.0   0.0  0.0  0.185011\n25  0.0  0.000000   0.0   0.0  0.0  0.000000   0.0   0.0   0.0  0.0  0.000000\n26  0.0 -5.033467   0.0   0.0  0.0  0.000000   0.0   0.0   0.0  0.0  0.000000\n27  0.0  0.000000   0.0   0.0  0.0  0.000000   0.0   0.0   0.0  0.0  0.000000\n28  0.0  0.000000   0.0   0.0  0.0  0.000000   0.0   0.0   0.0  0.0  0.000000\n29  0.0  7.664557   0.0   0.0  0.0  0.000000   0.0   0.0   0.0  0.0  0.000000\n30  0.0  0.000000   0.0   0.0  0.0  0.000000   0.0   0.0   0.0  0.0  0.000000\n31  0.0  3.431217   0.0   0.0  0.0  0.000000   0.0   0.0   0.0  0.0  0.000000",
      "text/html": "<div>\n<style scoped>\n    .dataframe tbody tr th:only-of-type {\n        vertical-align: middle;\n    }\n\n    .dataframe tbody tr th {\n        vertical-align: top;\n    }\n\n    .dataframe thead th {\n        text-align: right;\n    }\n</style>\n<table border=\"1\" class=\"dataframe\">\n  <thead>\n    <tr style=\"text-align: right;\">\n      <th></th>\n      <th>cyl</th>\n      <th>mpg</th>\n      <th>qsec</th>\n      <th>drat</th>\n      <th>vs</th>\n      <th>wt</th>\n      <th>disp</th>\n      <th>carb</th>\n      <th>gear</th>\n      <th>hp</th>\n      <th>am</th>\n    </tr>\n  </thead>\n  <tbody>\n    <tr>\n      <th>0</th>\n      <td>0.0</td>\n      <td>0.000000</td>\n      <td>0.0</td>\n      <td>0.0</td>\n      <td>0.0</td>\n      <td>0.000000</td>\n      <td>0.0</td>\n      <td>0.0</td>\n      <td>0.0</td>\n      <td>0.0</td>\n      <td>-0.429502</td>\n    </tr>\n    <tr>\n      <th>1</th>\n      <td>0.0</td>\n      <td>0.000000</td>\n      <td>0.0</td>\n      <td>0.0</td>\n      <td>0.0</td>\n      <td>0.000000</td>\n      <td>0.0</td>\n      <td>0.0</td>\n      <td>0.0</td>\n      <td>0.0</td>\n      <td>0.000000</td>\n    </tr>\n    <tr>\n      <th>2</th>\n      <td>0.0</td>\n      <td>0.000000</td>\n      <td>0.0</td>\n      <td>0.0</td>\n      <td>0.0</td>\n      <td>0.000000</td>\n      <td>0.0</td>\n      <td>0.0</td>\n      <td>0.0</td>\n      <td>0.0</td>\n      <td>0.000000</td>\n    </tr>\n    <tr>\n      <th>3</th>\n      <td>0.0</td>\n      <td>0.000000</td>\n      <td>0.0</td>\n      <td>0.0</td>\n      <td>0.0</td>\n      <td>0.000000</td>\n      <td>0.0</td>\n      <td>0.0</td>\n      <td>0.0</td>\n      <td>0.0</td>\n      <td>0.000000</td>\n    </tr>\n    <tr>\n      <th>4</th>\n      <td>0.0</td>\n      <td>0.737186</td>\n      <td>0.0</td>\n      <td>0.0</td>\n      <td>0.0</td>\n      <td>0.000000</td>\n      <td>0.0</td>\n      <td>0.0</td>\n      <td>0.0</td>\n      <td>0.0</td>\n      <td>0.000000</td>\n    </tr>\n    <tr>\n      <th>5</th>\n      <td>0.0</td>\n      <td>2.562402</td>\n      <td>0.0</td>\n      <td>0.0</td>\n      <td>0.0</td>\n      <td>0.000000</td>\n      <td>0.0</td>\n      <td>0.0</td>\n      <td>0.0</td>\n      <td>0.0</td>\n      <td>0.000000</td>\n    </tr>\n    <tr>\n      <th>6</th>\n      <td>0.0</td>\n      <td>-0.863973</td>\n      <td>0.0</td>\n      <td>0.0</td>\n      <td>0.0</td>\n      <td>0.000000</td>\n      <td>0.0</td>\n      <td>0.0</td>\n      <td>0.0</td>\n      <td>0.0</td>\n      <td>0.000000</td>\n    </tr>\n    <tr>\n      <th>7</th>\n      <td>0.0</td>\n      <td>0.000000</td>\n      <td>0.0</td>\n      <td>0.0</td>\n      <td>0.0</td>\n      <td>0.000000</td>\n      <td>0.0</td>\n      <td>0.0</td>\n      <td>0.0</td>\n      <td>0.0</td>\n      <td>0.000000</td>\n    </tr>\n    <tr>\n      <th>8</th>\n      <td>0.0</td>\n      <td>0.000000</td>\n      <td>0.0</td>\n      <td>0.0</td>\n      <td>0.0</td>\n      <td>1.030265</td>\n      <td>0.0</td>\n      <td>0.0</td>\n      <td>0.0</td>\n      <td>0.0</td>\n      <td>0.000000</td>\n    </tr>\n    <tr>\n      <th>9</th>\n      <td>0.0</td>\n      <td>0.000000</td>\n      <td>0.0</td>\n      <td>0.0</td>\n      <td>0.0</td>\n      <td>0.000000</td>\n      <td>0.0</td>\n      <td>0.0</td>\n      <td>0.0</td>\n      <td>0.0</td>\n      <td>0.000000</td>\n    </tr>\n    <tr>\n      <th>10</th>\n      <td>0.0</td>\n      <td>3.944215</td>\n      <td>0.0</td>\n      <td>0.0</td>\n      <td>0.0</td>\n      <td>0.000000</td>\n      <td>0.0</td>\n      <td>0.0</td>\n      <td>0.0</td>\n      <td>0.0</td>\n      <td>0.000000</td>\n    </tr>\n    <tr>\n      <th>11</th>\n      <td>0.0</td>\n      <td>0.000000</td>\n      <td>0.0</td>\n      <td>0.0</td>\n      <td>0.0</td>\n      <td>0.000000</td>\n      <td>0.0</td>\n      <td>0.0</td>\n      <td>0.0</td>\n      <td>0.0</td>\n      <td>0.000000</td>\n    </tr>\n    <tr>\n      <th>12</th>\n      <td>0.0</td>\n      <td>0.000000</td>\n      <td>0.0</td>\n      <td>0.0</td>\n      <td>0.0</td>\n      <td>0.000000</td>\n      <td>0.0</td>\n      <td>0.0</td>\n      <td>0.0</td>\n      <td>0.0</td>\n      <td>0.000000</td>\n    </tr>\n    <tr>\n      <th>13</th>\n      <td>0.0</td>\n      <td>0.000000</td>\n      <td>0.0</td>\n      <td>0.0</td>\n      <td>0.0</td>\n      <td>0.000000</td>\n      <td>0.0</td>\n      <td>0.0</td>\n      <td>0.0</td>\n      <td>0.0</td>\n      <td>0.000000</td>\n    </tr>\n    <tr>\n      <th>14</th>\n      <td>0.0</td>\n      <td>-3.457517</td>\n      <td>0.0</td>\n      <td>0.0</td>\n      <td>0.0</td>\n      <td>0.000000</td>\n      <td>0.0</td>\n      <td>0.0</td>\n      <td>0.0</td>\n      <td>0.0</td>\n      <td>0.000000</td>\n    </tr>\n    <tr>\n      <th>15</th>\n      <td>0.0</td>\n      <td>-3.310626</td>\n      <td>0.0</td>\n      <td>0.0</td>\n      <td>0.0</td>\n      <td>0.000000</td>\n      <td>0.0</td>\n      <td>0.0</td>\n      <td>0.0</td>\n      <td>0.0</td>\n      <td>0.000000</td>\n    </tr>\n    <tr>\n      <th>16</th>\n      <td>0.0</td>\n      <td>0.000000</td>\n      <td>0.0</td>\n      <td>0.0</td>\n      <td>0.0</td>\n      <td>0.000000</td>\n      <td>0.0</td>\n      <td>0.0</td>\n      <td>0.0</td>\n      <td>0.0</td>\n      <td>0.000000</td>\n    </tr>\n    <tr>\n      <th>17</th>\n      <td>0.0</td>\n      <td>0.000000</td>\n      <td>0.0</td>\n      <td>0.0</td>\n      <td>0.0</td>\n      <td>0.000000</td>\n      <td>0.0</td>\n      <td>0.0</td>\n      <td>0.0</td>\n      <td>0.0</td>\n      <td>0.000000</td>\n    </tr>\n    <tr>\n      <th>18</th>\n      <td>0.0</td>\n      <td>0.000000</td>\n      <td>0.0</td>\n      <td>0.0</td>\n      <td>0.0</td>\n      <td>0.000000</td>\n      <td>0.0</td>\n      <td>0.0</td>\n      <td>0.0</td>\n      <td>0.0</td>\n      <td>0.000000</td>\n    </tr>\n    <tr>\n      <th>19</th>\n      <td>0.0</td>\n      <td>0.000000</td>\n      <td>0.0</td>\n      <td>0.0</td>\n      <td>0.0</td>\n      <td>0.000000</td>\n      <td>0.0</td>\n      <td>0.0</td>\n      <td>0.0</td>\n      <td>0.0</td>\n      <td>0.000000</td>\n    </tr>\n    <tr>\n      <th>20</th>\n      <td>0.0</td>\n      <td>0.000000</td>\n      <td>0.0</td>\n      <td>0.0</td>\n      <td>0.0</td>\n      <td>0.000000</td>\n      <td>0.0</td>\n      <td>0.0</td>\n      <td>0.0</td>\n      <td>0.0</td>\n      <td>0.000000</td>\n    </tr>\n    <tr>\n      <th>21</th>\n      <td>0.0</td>\n      <td>0.521229</td>\n      <td>0.0</td>\n      <td>0.0</td>\n      <td>0.0</td>\n      <td>0.000000</td>\n      <td>0.0</td>\n      <td>0.0</td>\n      <td>0.0</td>\n      <td>0.0</td>\n      <td>0.000000</td>\n    </tr>\n    <tr>\n      <th>22</th>\n      <td>0.0</td>\n      <td>0.000000</td>\n      <td>0.0</td>\n      <td>0.0</td>\n      <td>0.0</td>\n      <td>0.000000</td>\n      <td>0.0</td>\n      <td>0.0</td>\n      <td>0.0</td>\n      <td>0.0</td>\n      <td>0.000000</td>\n    </tr>\n    <tr>\n      <th>23</th>\n      <td>0.0</td>\n      <td>0.000000</td>\n      <td>0.0</td>\n      <td>0.0</td>\n      <td>0.0</td>\n      <td>0.000000</td>\n      <td>0.0</td>\n      <td>0.0</td>\n      <td>0.0</td>\n      <td>0.0</td>\n      <td>0.000000</td>\n    </tr>\n    <tr>\n      <th>24</th>\n      <td>0.0</td>\n      <td>0.000000</td>\n      <td>0.0</td>\n      <td>0.0</td>\n      <td>0.0</td>\n      <td>0.000000</td>\n      <td>0.0</td>\n      <td>0.0</td>\n      <td>0.0</td>\n      <td>0.0</td>\n      <td>0.185011</td>\n    </tr>\n    <tr>\n      <th>25</th>\n      <td>0.0</td>\n      <td>0.000000</td>\n      <td>0.0</td>\n      <td>0.0</td>\n      <td>0.0</td>\n      <td>0.000000</td>\n      <td>0.0</td>\n      <td>0.0</td>\n      <td>0.0</td>\n      <td>0.0</td>\n      <td>0.000000</td>\n    </tr>\n    <tr>\n      <th>26</th>\n      <td>0.0</td>\n      <td>-5.033467</td>\n      <td>0.0</td>\n      <td>0.0</td>\n      <td>0.0</td>\n      <td>0.000000</td>\n      <td>0.0</td>\n      <td>0.0</td>\n      <td>0.0</td>\n      <td>0.0</td>\n      <td>0.000000</td>\n    </tr>\n    <tr>\n      <th>27</th>\n      <td>0.0</td>\n      <td>0.000000</td>\n      <td>0.0</td>\n      <td>0.0</td>\n      <td>0.0</td>\n      <td>0.000000</td>\n      <td>0.0</td>\n      <td>0.0</td>\n      <td>0.0</td>\n      <td>0.0</td>\n      <td>0.000000</td>\n    </tr>\n    <tr>\n      <th>28</th>\n      <td>0.0</td>\n      <td>0.000000</td>\n      <td>0.0</td>\n      <td>0.0</td>\n      <td>0.0</td>\n      <td>0.000000</td>\n      <td>0.0</td>\n      <td>0.0</td>\n      <td>0.0</td>\n      <td>0.0</td>\n      <td>0.000000</td>\n    </tr>\n    <tr>\n      <th>29</th>\n      <td>0.0</td>\n      <td>7.664557</td>\n      <td>0.0</td>\n      <td>0.0</td>\n      <td>0.0</td>\n      <td>0.000000</td>\n      <td>0.0</td>\n      <td>0.0</td>\n      <td>0.0</td>\n      <td>0.0</td>\n      <td>0.000000</td>\n    </tr>\n    <tr>\n      <th>30</th>\n      <td>0.0</td>\n      <td>0.000000</td>\n      <td>0.0</td>\n      <td>0.0</td>\n      <td>0.0</td>\n      <td>0.000000</td>\n      <td>0.0</td>\n      <td>0.0</td>\n      <td>0.0</td>\n      <td>0.0</td>\n      <td>0.000000</td>\n    </tr>\n    <tr>\n      <th>31</th>\n      <td>0.0</td>\n      <td>3.431217</td>\n      <td>0.0</td>\n      <td>0.0</td>\n      <td>0.0</td>\n      <td>0.000000</td>\n      <td>0.0</td>\n      <td>0.0</td>\n      <td>0.0</td>\n      <td>0.0</td>\n      <td>0.000000</td>\n    </tr>\n  </tbody>\n</table>\n</div>"
     },
     "execution_count": 7,
     "metadata": {},
     "output_type": "execute_result"
    }
   ],
   "source": [
    "from sklearn.tree import DecisionTreeRegressor\n",
    "\n",
    "original_missing = dat.copy()\n",
    "\n",
    "mice_model_default = MICE()\n",
    "mice_model_default.fit(dat[numerical_vars])\n",
    "dat_default_imputed = dat.copy()\n",
    "dat_default_imputed[numerical_vars] = mice_model_default.transform(dat[numerical_vars])\n",
    "\n",
    "dat = original_missing.copy()\n",
    "\n",
    "mice_model_tree = MICE(estimator=DecisionTreeRegressor())\n",
    "mice_model_tree.fit(dat[numerical_vars])\n",
    "dat_tree_imputed = dat.copy()\n",
    "dat_tree_imputed[numerical_vars] = mice_model_tree.transform(dat[numerical_vars])\n",
    "\n",
    "dat_default_imputed[numerical_vars] - dat_tree_imputed[numerical_vars]"
   ],
   "metadata": {
    "collapsed": false,
    "ExecuteTime": {
     "end_time": "2023-10-04T16:28:55.588057500Z",
     "start_time": "2023-10-04T16:28:55.468810Z"
    }
   },
   "id": "8ae73b8cbb7ac78f"
  },
  {
   "cell_type": "markdown",
   "source": [
    "# Exercise 2"
   ],
   "metadata": {
    "collapsed": false
   },
   "id": "b64e59fdc170b52"
  },
  {
   "cell_type": "code",
   "execution_count": 22,
   "outputs": [],
   "source": [
    "# Load libraries\n",
    "\n",
    "import numpy as np\n",
    "\n",
    "import pandas as pd\n",
    "\n",
    "dat = pd.read_csv('../data/dataset_mock_midterm.csv', sep = \",\")\n",
    "\n",
    "dat.drop('date', axis = 1, inplace = True)\n",
    "\n",
    "\n",
    "\n",
    "# Select categorical variables\n",
    "\n",
    "categorical_vars = ['severity', 'origin', 'ambulatory', 'tip_grd', 'tip_adm']\n",
    "\n",
    "non_categorical_vars = list(set(dat.columns) - set(categorical_vars))\n",
    "\n",
    "\n",
    "# Import One Hot Encoding (OHE) method\n",
    "\n",
    "from sklearn.preprocessing import OneHotEncoder\n",
    "\n",
    "\n",
    "# 3) Define \"model\"\n",
    "\n",
    "ohe = OneHotEncoder(sparse_output = False)\n",
    "\n",
    "\n",
    "# 4) Train \"model\"\n",
    "\n",
    "ohe.fit(dat[categorical_vars])\n",
    "\n",
    "\n",
    "# 5) \"Predict\"\n",
    "\n",
    "dat_ohe = pd.DataFrame(ohe.transform(dat[categorical_vars]))\n",
    "\n",
    "\n",
    "# Optional\n",
    "\n",
    "dat_ohe.columns = ohe.get_feature_names_out()\n",
    "\n",
    "\n",
    "# Combine numerical and categorical\n",
    "\n",
    "dat_1 = pd.concat((dat[non_categorical_vars], dat_ohe), axis=1)"
   ],
   "metadata": {
    "collapsed": false,
    "ExecuteTime": {
     "end_time": "2023-10-04T16:34:57.216483200Z",
     "start_time": "2023-10-04T16:34:57.158399200Z"
    }
   },
   "id": "938c27c1991cca23"
  },
  {
   "cell_type": "code",
   "execution_count": 18,
   "outputs": [
    {
     "data": {
      "text/plain": "      dataset  mortality_ratio      age  num_proc  exitus  expected_length  \\\n0       train         0.408730  12596.0      21.0       0            151.0   \n1       train         0.306931  20973.0      22.0       0             99.0   \n2       train         0.278481  19611.0      19.0       0             87.0   \n3       train         0.150289  13583.0      22.0       0            100.0   \n4       train         0.016573  18042.0       2.0       0             44.0   \n...       ...              ...      ...       ...     ...              ...   \n32701    test         0.028365  23619.0       2.0       0              2.0   \n32702    test         0.000606   3935.0       1.0       0              2.0   \n32703    test         0.040452  30163.0       4.0       0              2.0   \n32704    test         0.000000  29012.0       4.0       0              0.0   \n32705    test         0.000000  13244.0       1.0       0              0.0   \n\n       severity_1.0  severity_2.0  severity_3.0  severity_4.0  ...  \\\n0               0.0           0.0           0.0           0.0  ...   \n1               0.0           0.0           0.0           0.0  ...   \n2               0.0           0.0           0.0           1.0  ...   \n3               0.0           0.0           1.0           0.0  ...   \n4               1.0           0.0           0.0           0.0  ...   \n...             ...           ...           ...           ...  ...   \n32701           0.0           1.0           0.0           0.0  ...   \n32702           1.0           0.0           0.0           0.0  ...   \n32703           0.0           0.0           0.0           0.0  ...   \n32704           0.0           0.0           0.0           0.0  ...   \n32705           0.0           0.0           0.0           0.0  ...   \n\n       ambulatory_0.0  ambulatory_1.0  ambulatory_nan  tip_grd_M  tip_grd_Q  \\\n0                 1.0             0.0             0.0        0.0        1.0   \n1                 0.0             0.0             1.0        0.0        1.0   \n2                 0.0             0.0             1.0        0.0        0.0   \n3                 0.0             0.0             1.0        0.0        1.0   \n4                 0.0             0.0             1.0        0.0        1.0   \n...               ...             ...             ...        ...        ...   \n32701             0.0             0.0             1.0        0.0        0.0   \n32702             0.0             0.0             1.0        1.0        0.0   \n32703             0.0             0.0             1.0        1.0        0.0   \n32704             0.0             0.0             1.0        0.0        0.0   \n32705             0.0             0.0             1.0        0.0        1.0   \n\n       tip_grd_nan  tip_adm_1.0  tip_adm_2.0  tip_adm_3.0  tip_adm_nan  \n0              0.0          1.0          0.0          0.0          0.0  \n1              0.0          1.0          0.0          0.0          0.0  \n2              1.0          1.0          0.0          0.0          0.0  \n3              0.0          0.0          0.0          0.0          1.0  \n4              0.0          1.0          0.0          0.0          0.0  \n...            ...          ...          ...          ...          ...  \n32701          1.0          1.0          0.0          0.0          0.0  \n32702          0.0          1.0          0.0          0.0          0.0  \n32703          0.0          0.0          0.0          0.0          1.0  \n32704          1.0          1.0          0.0          0.0          0.0  \n32705          0.0          1.0          0.0          0.0          0.0  \n\n[32706 rows x 29 columns]",
      "text/html": "<div>\n<style scoped>\n    .dataframe tbody tr th:only-of-type {\n        vertical-align: middle;\n    }\n\n    .dataframe tbody tr th {\n        vertical-align: top;\n    }\n\n    .dataframe thead th {\n        text-align: right;\n    }\n</style>\n<table border=\"1\" class=\"dataframe\">\n  <thead>\n    <tr style=\"text-align: right;\">\n      <th></th>\n      <th>dataset</th>\n      <th>mortality_ratio</th>\n      <th>age</th>\n      <th>num_proc</th>\n      <th>exitus</th>\n      <th>expected_length</th>\n      <th>severity_1.0</th>\n      <th>severity_2.0</th>\n      <th>severity_3.0</th>\n      <th>severity_4.0</th>\n      <th>...</th>\n      <th>ambulatory_0.0</th>\n      <th>ambulatory_1.0</th>\n      <th>ambulatory_nan</th>\n      <th>tip_grd_M</th>\n      <th>tip_grd_Q</th>\n      <th>tip_grd_nan</th>\n      <th>tip_adm_1.0</th>\n      <th>tip_adm_2.0</th>\n      <th>tip_adm_3.0</th>\n      <th>tip_adm_nan</th>\n    </tr>\n  </thead>\n  <tbody>\n    <tr>\n      <th>0</th>\n      <td>train</td>\n      <td>0.408730</td>\n      <td>12596.0</td>\n      <td>21.0</td>\n      <td>0</td>\n      <td>151.0</td>\n      <td>0.0</td>\n      <td>0.0</td>\n      <td>0.0</td>\n      <td>0.0</td>\n      <td>...</td>\n      <td>1.0</td>\n      <td>0.0</td>\n      <td>0.0</td>\n      <td>0.0</td>\n      <td>1.0</td>\n      <td>0.0</td>\n      <td>1.0</td>\n      <td>0.0</td>\n      <td>0.0</td>\n      <td>0.0</td>\n    </tr>\n    <tr>\n      <th>1</th>\n      <td>train</td>\n      <td>0.306931</td>\n      <td>20973.0</td>\n      <td>22.0</td>\n      <td>0</td>\n      <td>99.0</td>\n      <td>0.0</td>\n      <td>0.0</td>\n      <td>0.0</td>\n      <td>0.0</td>\n      <td>...</td>\n      <td>0.0</td>\n      <td>0.0</td>\n      <td>1.0</td>\n      <td>0.0</td>\n      <td>1.0</td>\n      <td>0.0</td>\n      <td>1.0</td>\n      <td>0.0</td>\n      <td>0.0</td>\n      <td>0.0</td>\n    </tr>\n    <tr>\n      <th>2</th>\n      <td>train</td>\n      <td>0.278481</td>\n      <td>19611.0</td>\n      <td>19.0</td>\n      <td>0</td>\n      <td>87.0</td>\n      <td>0.0</td>\n      <td>0.0</td>\n      <td>0.0</td>\n      <td>1.0</td>\n      <td>...</td>\n      <td>0.0</td>\n      <td>0.0</td>\n      <td>1.0</td>\n      <td>0.0</td>\n      <td>0.0</td>\n      <td>1.0</td>\n      <td>1.0</td>\n      <td>0.0</td>\n      <td>0.0</td>\n      <td>0.0</td>\n    </tr>\n    <tr>\n      <th>3</th>\n      <td>train</td>\n      <td>0.150289</td>\n      <td>13583.0</td>\n      <td>22.0</td>\n      <td>0</td>\n      <td>100.0</td>\n      <td>0.0</td>\n      <td>0.0</td>\n      <td>1.0</td>\n      <td>0.0</td>\n      <td>...</td>\n      <td>0.0</td>\n      <td>0.0</td>\n      <td>1.0</td>\n      <td>0.0</td>\n      <td>1.0</td>\n      <td>0.0</td>\n      <td>0.0</td>\n      <td>0.0</td>\n      <td>0.0</td>\n      <td>1.0</td>\n    </tr>\n    <tr>\n      <th>4</th>\n      <td>train</td>\n      <td>0.016573</td>\n      <td>18042.0</td>\n      <td>2.0</td>\n      <td>0</td>\n      <td>44.0</td>\n      <td>1.0</td>\n      <td>0.0</td>\n      <td>0.0</td>\n      <td>0.0</td>\n      <td>...</td>\n      <td>0.0</td>\n      <td>0.0</td>\n      <td>1.0</td>\n      <td>0.0</td>\n      <td>1.0</td>\n      <td>0.0</td>\n      <td>1.0</td>\n      <td>0.0</td>\n      <td>0.0</td>\n      <td>0.0</td>\n    </tr>\n    <tr>\n      <th>...</th>\n      <td>...</td>\n      <td>...</td>\n      <td>...</td>\n      <td>...</td>\n      <td>...</td>\n      <td>...</td>\n      <td>...</td>\n      <td>...</td>\n      <td>...</td>\n      <td>...</td>\n      <td>...</td>\n      <td>...</td>\n      <td>...</td>\n      <td>...</td>\n      <td>...</td>\n      <td>...</td>\n      <td>...</td>\n      <td>...</td>\n      <td>...</td>\n      <td>...</td>\n      <td>...</td>\n    </tr>\n    <tr>\n      <th>32701</th>\n      <td>test</td>\n      <td>0.028365</td>\n      <td>23619.0</td>\n      <td>2.0</td>\n      <td>0</td>\n      <td>2.0</td>\n      <td>0.0</td>\n      <td>1.0</td>\n      <td>0.0</td>\n      <td>0.0</td>\n      <td>...</td>\n      <td>0.0</td>\n      <td>0.0</td>\n      <td>1.0</td>\n      <td>0.0</td>\n      <td>0.0</td>\n      <td>1.0</td>\n      <td>1.0</td>\n      <td>0.0</td>\n      <td>0.0</td>\n      <td>0.0</td>\n    </tr>\n    <tr>\n      <th>32702</th>\n      <td>test</td>\n      <td>0.000606</td>\n      <td>3935.0</td>\n      <td>1.0</td>\n      <td>0</td>\n      <td>2.0</td>\n      <td>1.0</td>\n      <td>0.0</td>\n      <td>0.0</td>\n      <td>0.0</td>\n      <td>...</td>\n      <td>0.0</td>\n      <td>0.0</td>\n      <td>1.0</td>\n      <td>1.0</td>\n      <td>0.0</td>\n      <td>0.0</td>\n      <td>1.0</td>\n      <td>0.0</td>\n      <td>0.0</td>\n      <td>0.0</td>\n    </tr>\n    <tr>\n      <th>32703</th>\n      <td>test</td>\n      <td>0.040452</td>\n      <td>30163.0</td>\n      <td>4.0</td>\n      <td>0</td>\n      <td>2.0</td>\n      <td>0.0</td>\n      <td>0.0</td>\n      <td>0.0</td>\n      <td>0.0</td>\n      <td>...</td>\n      <td>0.0</td>\n      <td>0.0</td>\n      <td>1.0</td>\n      <td>1.0</td>\n      <td>0.0</td>\n      <td>0.0</td>\n      <td>0.0</td>\n      <td>0.0</td>\n      <td>0.0</td>\n      <td>1.0</td>\n    </tr>\n    <tr>\n      <th>32704</th>\n      <td>test</td>\n      <td>0.000000</td>\n      <td>29012.0</td>\n      <td>4.0</td>\n      <td>0</td>\n      <td>0.0</td>\n      <td>0.0</td>\n      <td>0.0</td>\n      <td>0.0</td>\n      <td>0.0</td>\n      <td>...</td>\n      <td>0.0</td>\n      <td>0.0</td>\n      <td>1.0</td>\n      <td>0.0</td>\n      <td>0.0</td>\n      <td>1.0</td>\n      <td>1.0</td>\n      <td>0.0</td>\n      <td>0.0</td>\n      <td>0.0</td>\n    </tr>\n    <tr>\n      <th>32705</th>\n      <td>test</td>\n      <td>0.000000</td>\n      <td>13244.0</td>\n      <td>1.0</td>\n      <td>0</td>\n      <td>0.0</td>\n      <td>0.0</td>\n      <td>0.0</td>\n      <td>0.0</td>\n      <td>0.0</td>\n      <td>...</td>\n      <td>0.0</td>\n      <td>0.0</td>\n      <td>1.0</td>\n      <td>0.0</td>\n      <td>1.0</td>\n      <td>0.0</td>\n      <td>1.0</td>\n      <td>0.0</td>\n      <td>0.0</td>\n      <td>0.0</td>\n    </tr>\n  </tbody>\n</table>\n<p>32706 rows × 29 columns</p>\n</div>"
     },
     "execution_count": 18,
     "metadata": {},
     "output_type": "execute_result"
    }
   ],
   "source": [
    "dat_1"
   ],
   "metadata": {
    "collapsed": false,
    "ExecuteTime": {
     "end_time": "2023-10-04T16:34:12.961855600Z",
     "start_time": "2023-10-04T16:34:12.902444800Z"
    }
   },
   "id": "efbaa1dd66f79b57"
  },
  {
   "cell_type": "code",
   "execution_count": 23,
   "outputs": [],
   "source": [
    "\n",
    "dat = pd.read_csv('../data/dataset_mock_midterm.csv', sep = \",\")\n",
    "\n",
    "dat.drop('date', axis = 1, inplace = True)\n",
    "\n",
    "\n",
    "\n",
    "# Select categorical variables\n",
    "\n",
    "categorical_vars = ['severity', 'origin', 'ambulatory', 'tip_grd', 'tip_adm']\n",
    "\n",
    "non_categorical_vars = list(set(dat.columns) - set(categorical_vars))\n",
    "\n",
    "\n",
    "# Import One Hot Encoding (OHE) method\n",
    "\n",
    "from sklearn.preprocessing import OneHotEncoder\n",
    "\n",
    "\n",
    "# 3) Define \"model\"\n",
    "\n",
    "ohe = OneHotEncoder(sparse_output = False, drop='first')\n",
    "\n",
    "\n",
    "# 4) Train \"model\"\n",
    "\n",
    "ohe.fit(dat[categorical_vars][dat['dataset'] == 'train'])\n",
    "\n",
    "\n",
    "# 5) \"Predict\"\n",
    "\n",
    "dat_ohe = pd.DataFrame(ohe.transform(dat[categorical_vars]))\n",
    "\n",
    "\n",
    "# Optional\n",
    "\n",
    "dat_ohe.columns = ohe.get_feature_names_out()\n",
    "\n",
    "\n",
    "# Combine numerical and categorical\n",
    "\n",
    "dat_2 = pd.concat((dat[non_categorical_vars], dat_ohe), axis=1)"
   ],
   "metadata": {
    "collapsed": false,
    "ExecuteTime": {
     "end_time": "2023-10-04T16:35:00.218711Z",
     "start_time": "2023-10-04T16:35:00.155060300Z"
    }
   },
   "id": "e930e2b50c97f533"
  },
  {
   "cell_type": "code",
   "execution_count": 20,
   "outputs": [
    {
     "data": {
      "text/plain": "      dataset  mortality_ratio      age  num_proc  exitus  expected_length  \\\n0       train         0.408730  12596.0      21.0       0            151.0   \n1       train         0.306931  20973.0      22.0       0             99.0   \n2       train         0.278481  19611.0      19.0       0             87.0   \n3       train         0.150289  13583.0      22.0       0            100.0   \n4       train         0.016573  18042.0       2.0       0             44.0   \n...       ...              ...      ...       ...     ...              ...   \n32701    test         0.028365  23619.0       2.0       0              2.0   \n32702    test         0.000606   3935.0       1.0       0              2.0   \n32703    test         0.040452  30163.0       4.0       0              2.0   \n32704    test         0.000000  29012.0       4.0       0              0.0   \n32705    test         0.000000  13244.0       1.0       0              0.0   \n\n       severity_2.0  severity_3.0  severity_4.0  severity_nan  ...  \\\n0               0.0           0.0           0.0           1.0  ...   \n1               0.0           0.0           0.0           1.0  ...   \n2               0.0           0.0           1.0           0.0  ...   \n3               0.0           1.0           0.0           0.0  ...   \n4               0.0           0.0           0.0           0.0  ...   \n...             ...           ...           ...           ...  ...   \n32701           1.0           0.0           0.0           0.0  ...   \n32702           0.0           0.0           0.0           0.0  ...   \n32703           0.0           0.0           0.0           1.0  ...   \n32704           0.0           0.0           0.0           1.0  ...   \n32705           0.0           0.0           0.0           1.0  ...   \n\n       origin_8.0  origin_9.0  origin_nan  ambulatory_1.0  ambulatory_nan  \\\n0             0.0         0.0         1.0             0.0             0.0   \n1             0.0         0.0         1.0             0.0             1.0   \n2             0.0         0.0         1.0             0.0             1.0   \n3             0.0         0.0         1.0             0.0             1.0   \n4             0.0         0.0         1.0             0.0             1.0   \n...           ...         ...         ...             ...             ...   \n32701         0.0         0.0         1.0             0.0             1.0   \n32702         0.0         0.0         0.0             0.0             1.0   \n32703         0.0         0.0         1.0             0.0             1.0   \n32704         0.0         0.0         1.0             0.0             1.0   \n32705         0.0         0.0         1.0             0.0             1.0   \n\n       tip_grd_Q  tip_grd_nan  tip_adm_2.0  tip_adm_3.0  tip_adm_nan  \n0            1.0          0.0          0.0          0.0          0.0  \n1            1.0          0.0          0.0          0.0          0.0  \n2            0.0          1.0          0.0          0.0          0.0  \n3            1.0          0.0          0.0          0.0          1.0  \n4            1.0          0.0          0.0          0.0          0.0  \n...          ...          ...          ...          ...          ...  \n32701        0.0          1.0          0.0          0.0          0.0  \n32702        0.0          0.0          0.0          0.0          0.0  \n32703        0.0          0.0          0.0          0.0          1.0  \n32704        0.0          1.0          0.0          0.0          0.0  \n32705        1.0          0.0          0.0          0.0          0.0  \n\n[32706 rows x 24 columns]",
      "text/html": "<div>\n<style scoped>\n    .dataframe tbody tr th:only-of-type {\n        vertical-align: middle;\n    }\n\n    .dataframe tbody tr th {\n        vertical-align: top;\n    }\n\n    .dataframe thead th {\n        text-align: right;\n    }\n</style>\n<table border=\"1\" class=\"dataframe\">\n  <thead>\n    <tr style=\"text-align: right;\">\n      <th></th>\n      <th>dataset</th>\n      <th>mortality_ratio</th>\n      <th>age</th>\n      <th>num_proc</th>\n      <th>exitus</th>\n      <th>expected_length</th>\n      <th>severity_2.0</th>\n      <th>severity_3.0</th>\n      <th>severity_4.0</th>\n      <th>severity_nan</th>\n      <th>...</th>\n      <th>origin_8.0</th>\n      <th>origin_9.0</th>\n      <th>origin_nan</th>\n      <th>ambulatory_1.0</th>\n      <th>ambulatory_nan</th>\n      <th>tip_grd_Q</th>\n      <th>tip_grd_nan</th>\n      <th>tip_adm_2.0</th>\n      <th>tip_adm_3.0</th>\n      <th>tip_adm_nan</th>\n    </tr>\n  </thead>\n  <tbody>\n    <tr>\n      <th>0</th>\n      <td>train</td>\n      <td>0.408730</td>\n      <td>12596.0</td>\n      <td>21.0</td>\n      <td>0</td>\n      <td>151.0</td>\n      <td>0.0</td>\n      <td>0.0</td>\n      <td>0.0</td>\n      <td>1.0</td>\n      <td>...</td>\n      <td>0.0</td>\n      <td>0.0</td>\n      <td>1.0</td>\n      <td>0.0</td>\n      <td>0.0</td>\n      <td>1.0</td>\n      <td>0.0</td>\n      <td>0.0</td>\n      <td>0.0</td>\n      <td>0.0</td>\n    </tr>\n    <tr>\n      <th>1</th>\n      <td>train</td>\n      <td>0.306931</td>\n      <td>20973.0</td>\n      <td>22.0</td>\n      <td>0</td>\n      <td>99.0</td>\n      <td>0.0</td>\n      <td>0.0</td>\n      <td>0.0</td>\n      <td>1.0</td>\n      <td>...</td>\n      <td>0.0</td>\n      <td>0.0</td>\n      <td>1.0</td>\n      <td>0.0</td>\n      <td>1.0</td>\n      <td>1.0</td>\n      <td>0.0</td>\n      <td>0.0</td>\n      <td>0.0</td>\n      <td>0.0</td>\n    </tr>\n    <tr>\n      <th>2</th>\n      <td>train</td>\n      <td>0.278481</td>\n      <td>19611.0</td>\n      <td>19.0</td>\n      <td>0</td>\n      <td>87.0</td>\n      <td>0.0</td>\n      <td>0.0</td>\n      <td>1.0</td>\n      <td>0.0</td>\n      <td>...</td>\n      <td>0.0</td>\n      <td>0.0</td>\n      <td>1.0</td>\n      <td>0.0</td>\n      <td>1.0</td>\n      <td>0.0</td>\n      <td>1.0</td>\n      <td>0.0</td>\n      <td>0.0</td>\n      <td>0.0</td>\n    </tr>\n    <tr>\n      <th>3</th>\n      <td>train</td>\n      <td>0.150289</td>\n      <td>13583.0</td>\n      <td>22.0</td>\n      <td>0</td>\n      <td>100.0</td>\n      <td>0.0</td>\n      <td>1.0</td>\n      <td>0.0</td>\n      <td>0.0</td>\n      <td>...</td>\n      <td>0.0</td>\n      <td>0.0</td>\n      <td>1.0</td>\n      <td>0.0</td>\n      <td>1.0</td>\n      <td>1.0</td>\n      <td>0.0</td>\n      <td>0.0</td>\n      <td>0.0</td>\n      <td>1.0</td>\n    </tr>\n    <tr>\n      <th>4</th>\n      <td>train</td>\n      <td>0.016573</td>\n      <td>18042.0</td>\n      <td>2.0</td>\n      <td>0</td>\n      <td>44.0</td>\n      <td>0.0</td>\n      <td>0.0</td>\n      <td>0.0</td>\n      <td>0.0</td>\n      <td>...</td>\n      <td>0.0</td>\n      <td>0.0</td>\n      <td>1.0</td>\n      <td>0.0</td>\n      <td>1.0</td>\n      <td>1.0</td>\n      <td>0.0</td>\n      <td>0.0</td>\n      <td>0.0</td>\n      <td>0.0</td>\n    </tr>\n    <tr>\n      <th>...</th>\n      <td>...</td>\n      <td>...</td>\n      <td>...</td>\n      <td>...</td>\n      <td>...</td>\n      <td>...</td>\n      <td>...</td>\n      <td>...</td>\n      <td>...</td>\n      <td>...</td>\n      <td>...</td>\n      <td>...</td>\n      <td>...</td>\n      <td>...</td>\n      <td>...</td>\n      <td>...</td>\n      <td>...</td>\n      <td>...</td>\n      <td>...</td>\n      <td>...</td>\n      <td>...</td>\n    </tr>\n    <tr>\n      <th>32701</th>\n      <td>test</td>\n      <td>0.028365</td>\n      <td>23619.0</td>\n      <td>2.0</td>\n      <td>0</td>\n      <td>2.0</td>\n      <td>1.0</td>\n      <td>0.0</td>\n      <td>0.0</td>\n      <td>0.0</td>\n      <td>...</td>\n      <td>0.0</td>\n      <td>0.0</td>\n      <td>1.0</td>\n      <td>0.0</td>\n      <td>1.0</td>\n      <td>0.0</td>\n      <td>1.0</td>\n      <td>0.0</td>\n      <td>0.0</td>\n      <td>0.0</td>\n    </tr>\n    <tr>\n      <th>32702</th>\n      <td>test</td>\n      <td>0.000606</td>\n      <td>3935.0</td>\n      <td>1.0</td>\n      <td>0</td>\n      <td>2.0</td>\n      <td>0.0</td>\n      <td>0.0</td>\n      <td>0.0</td>\n      <td>0.0</td>\n      <td>...</td>\n      <td>0.0</td>\n      <td>0.0</td>\n      <td>0.0</td>\n      <td>0.0</td>\n      <td>1.0</td>\n      <td>0.0</td>\n      <td>0.0</td>\n      <td>0.0</td>\n      <td>0.0</td>\n      <td>0.0</td>\n    </tr>\n    <tr>\n      <th>32703</th>\n      <td>test</td>\n      <td>0.040452</td>\n      <td>30163.0</td>\n      <td>4.0</td>\n      <td>0</td>\n      <td>2.0</td>\n      <td>0.0</td>\n      <td>0.0</td>\n      <td>0.0</td>\n      <td>1.0</td>\n      <td>...</td>\n      <td>0.0</td>\n      <td>0.0</td>\n      <td>1.0</td>\n      <td>0.0</td>\n      <td>1.0</td>\n      <td>0.0</td>\n      <td>0.0</td>\n      <td>0.0</td>\n      <td>0.0</td>\n      <td>1.0</td>\n    </tr>\n    <tr>\n      <th>32704</th>\n      <td>test</td>\n      <td>0.000000</td>\n      <td>29012.0</td>\n      <td>4.0</td>\n      <td>0</td>\n      <td>0.0</td>\n      <td>0.0</td>\n      <td>0.0</td>\n      <td>0.0</td>\n      <td>1.0</td>\n      <td>...</td>\n      <td>0.0</td>\n      <td>0.0</td>\n      <td>1.0</td>\n      <td>0.0</td>\n      <td>1.0</td>\n      <td>0.0</td>\n      <td>1.0</td>\n      <td>0.0</td>\n      <td>0.0</td>\n      <td>0.0</td>\n    </tr>\n    <tr>\n      <th>32705</th>\n      <td>test</td>\n      <td>0.000000</td>\n      <td>13244.0</td>\n      <td>1.0</td>\n      <td>0</td>\n      <td>0.0</td>\n      <td>0.0</td>\n      <td>0.0</td>\n      <td>0.0</td>\n      <td>1.0</td>\n      <td>...</td>\n      <td>0.0</td>\n      <td>0.0</td>\n      <td>1.0</td>\n      <td>0.0</td>\n      <td>1.0</td>\n      <td>1.0</td>\n      <td>0.0</td>\n      <td>0.0</td>\n      <td>0.0</td>\n      <td>0.0</td>\n    </tr>\n  </tbody>\n</table>\n<p>32706 rows × 24 columns</p>\n</div>"
     },
     "execution_count": 20,
     "metadata": {},
     "output_type": "execute_result"
    }
   ],
   "source": [
    "dat_2"
   ],
   "metadata": {
    "collapsed": false,
    "ExecuteTime": {
     "end_time": "2023-10-04T16:34:17.955367400Z",
     "start_time": "2023-10-04T16:34:17.918203100Z"
    }
   },
   "id": "614e24cd2354030b"
  },
  {
   "cell_type": "code",
   "execution_count": 28,
   "outputs": [
    {
     "name": "stdout",
     "output_type": "stream",
     "text": [
      "Columns in dat_2 but not in dat_1: set()\n",
      "Columns in dat_1 but not in dat_2: {'tip_grd_M', 'origin_1.0', 'severity_1.0', 'tip_adm_1.0', 'ambulatory_0.0'}\n"
     ]
    },
    {
     "data": {
      "text/plain": "age                 424\nambulatory_1.0        0\nambulatory_nan        0\ndataset               0\nexitus                0\nexpected_length    1873\nmortality_ratio    2268\nnum_proc           1350\norigin_2.0            0\norigin_3.0            0\norigin_4.0            0\norigin_6.0            0\norigin_8.0            0\norigin_9.0            0\norigin_nan            0\nseverity_2.0          0\nseverity_3.0          0\nseverity_4.0          0\nseverity_nan          0\ntip_adm_2.0           0\ntip_adm_3.0           0\ntip_adm_nan           0\ntip_grd_Q             0\ntip_grd_nan           0\ndtype: int64"
     },
     "execution_count": 28,
     "metadata": {},
     "output_type": "execute_result"
    }
   ],
   "source": [
    "columns_dat_1 = set(dat_1.columns)\n",
    "columns_dat_2 = set(dat_2.columns)\n",
    "\n",
    "missing_in_dat_1 = columns_dat_2 - columns_dat_1\n",
    "missing_in_dat_2 = columns_dat_1 - columns_dat_2\n",
    "\n",
    "print(f\"Columns in dat_2 but not in dat_1: {missing_in_dat_1}\")\n",
    "print(f\"Columns in dat_1 but not in dat_2: {missing_in_dat_2}\")\n",
    "\n",
    "common_columns = sorted(columns_dat_1.intersection(columns_dat_2))\n",
    "dat_1_common = dat_1[common_columns]\n",
    "dat_2_common = dat_2[common_columns]\n",
    "\n",
    "mismatch = (dat_1_common != dat_2_common)\n",
    "\n",
    "mismatch.sum()\n"
   ],
   "metadata": {
    "collapsed": false,
    "ExecuteTime": {
     "end_time": "2023-10-04T16:37:52.327283200Z",
     "start_time": "2023-10-04T16:37:52.294079300Z"
    }
   },
   "id": "5f67552c0b43746f"
  }
 ],
 "metadata": {
  "kernelspec": {
   "display_name": "Python 3",
   "language": "python",
   "name": "python3"
  },
  "language_info": {
   "codemirror_mode": {
    "name": "ipython",
    "version": 2
   },
   "file_extension": ".py",
   "mimetype": "text/x-python",
   "name": "python",
   "nbconvert_exporter": "python",
   "pygments_lexer": "ipython2",
   "version": "2.7.6"
  }
 },
 "nbformat": 4,
 "nbformat_minor": 5
}
