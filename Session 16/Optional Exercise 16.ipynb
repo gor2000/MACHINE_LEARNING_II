{
 "cells": [
  {
   "cell_type": "markdown",
   "source": [
    "# Question 1"
   ],
   "metadata": {
    "collapsed": false
   },
   "id": "c4d2edc5a0cec5d8"
  },
  {
   "cell_type": "code",
   "execution_count": 60,
   "outputs": [],
   "source": [
    "# Load Libraries\n",
    "%matplotlib inline\n",
    "\n",
    "import pandas as pd\n",
    "\n",
    "from imblearn.over_sampling import SMOTE\n",
    "\n",
    "dat = pd.read_csv('../data/dataset_mock_midterm.csv', sep = \",\")\n",
    "\n",
    "dat = dat.drop(['date', 'severity', 'origin', 'tip_grd', 'tip_adm'], axis = 1).fillna(0) # Remove non-numerical variables and fill missing values for this notebook\n"
   ],
   "metadata": {
    "collapsed": false,
    "ExecuteTime": {
     "end_time": "2023-10-04T21:47:39.556896100Z",
     "start_time": "2023-10-04T21:47:39.523610900Z"
    }
   },
   "id": "254489dfa0d8fa9d"
  },
  {
   "cell_type": "code",
   "execution_count": 33,
   "outputs": [
    {
     "name": "stdout",
     "output_type": "stream",
     "text": [
      "1256 31450\n"
     ]
    }
   ],
   "source": [
    "minority_count = sum(dat['exitus'] == 1)\n",
    "majority_count = sum(dat['exitus'] == 0)\n",
    "print(minority_count, majority_count)"
   ],
   "metadata": {
    "collapsed": false,
    "ExecuteTime": {
     "end_time": "2023-10-04T21:45:44.322429800Z",
     "start_time": "2023-10-04T21:45:44.303872700Z"
    }
   },
   "id": "aeda93075cbc35cf"
  },
  {
   "cell_type": "code",
   "execution_count": 34,
   "outputs": [
    {
     "data": {
      "text/plain": "6.259952229299363"
     },
     "execution_count": 34,
     "metadata": {},
     "output_type": "execute_result"
    }
   ],
   "source": [
    "desired_ratio = 2/8\n",
    "current_ratio = minority_count / majority_count\n",
    "sampling_strategy = desired_ratio / current_ratio\n",
    "sampling_strategy"
   ],
   "metadata": {
    "collapsed": false,
    "ExecuteTime": {
     "end_time": "2023-10-04T21:45:45.230752300Z",
     "start_time": "2023-10-04T21:45:45.220488500Z"
    }
   },
   "id": "6f44be025296b5d7"
  },
  {
   "cell_type": "code",
   "execution_count": 61,
   "outputs": [
    {
     "data": {
      "text/plain": "       mortality_ratio      age  num_proc  ambulatory  expected_length  \\\n0             0.408730  12596.0      21.0         0.0            151.0   \n1             0.306931  20973.0      22.0         0.0             99.0   \n2             0.278481  19611.0      19.0         0.0             87.0   \n3             0.150289  13583.0      22.0         0.0            100.0   \n4             0.016573  18042.0       2.0         0.0             44.0   \n...                ...      ...       ...         ...              ...   \n32701         0.028365  23619.0       2.0         0.0              2.0   \n32702         0.000606   3935.0       1.0         0.0              2.0   \n32703         0.040452  30163.0       4.0         0.0              2.0   \n32704         0.000000  29012.0       4.0         0.0              0.0   \n32705         0.000000  13244.0       1.0         0.0              0.0   \n\n       exitus dataset  \n0           0   train  \n1           0   train  \n2           0   train  \n3           0   train  \n4           0   train  \n...       ...     ...  \n32701       0    test  \n32702       0    test  \n32703       0    test  \n32704       0    test  \n32705       0    test  \n\n[39304 rows x 7 columns]",
      "text/html": "<div>\n<style scoped>\n    .dataframe tbody tr th:only-of-type {\n        vertical-align: middle;\n    }\n\n    .dataframe tbody tr th {\n        vertical-align: top;\n    }\n\n    .dataframe thead th {\n        text-align: right;\n    }\n</style>\n<table border=\"1\" class=\"dataframe\">\n  <thead>\n    <tr style=\"text-align: right;\">\n      <th></th>\n      <th>mortality_ratio</th>\n      <th>age</th>\n      <th>num_proc</th>\n      <th>ambulatory</th>\n      <th>expected_length</th>\n      <th>exitus</th>\n      <th>dataset</th>\n    </tr>\n  </thead>\n  <tbody>\n    <tr>\n      <th>0</th>\n      <td>0.408730</td>\n      <td>12596.0</td>\n      <td>21.0</td>\n      <td>0.0</td>\n      <td>151.0</td>\n      <td>0</td>\n      <td>train</td>\n    </tr>\n    <tr>\n      <th>1</th>\n      <td>0.306931</td>\n      <td>20973.0</td>\n      <td>22.0</td>\n      <td>0.0</td>\n      <td>99.0</td>\n      <td>0</td>\n      <td>train</td>\n    </tr>\n    <tr>\n      <th>2</th>\n      <td>0.278481</td>\n      <td>19611.0</td>\n      <td>19.0</td>\n      <td>0.0</td>\n      <td>87.0</td>\n      <td>0</td>\n      <td>train</td>\n    </tr>\n    <tr>\n      <th>3</th>\n      <td>0.150289</td>\n      <td>13583.0</td>\n      <td>22.0</td>\n      <td>0.0</td>\n      <td>100.0</td>\n      <td>0</td>\n      <td>train</td>\n    </tr>\n    <tr>\n      <th>4</th>\n      <td>0.016573</td>\n      <td>18042.0</td>\n      <td>2.0</td>\n      <td>0.0</td>\n      <td>44.0</td>\n      <td>0</td>\n      <td>train</td>\n    </tr>\n    <tr>\n      <th>...</th>\n      <td>...</td>\n      <td>...</td>\n      <td>...</td>\n      <td>...</td>\n      <td>...</td>\n      <td>...</td>\n      <td>...</td>\n    </tr>\n    <tr>\n      <th>32701</th>\n      <td>0.028365</td>\n      <td>23619.0</td>\n      <td>2.0</td>\n      <td>0.0</td>\n      <td>2.0</td>\n      <td>0</td>\n      <td>test</td>\n    </tr>\n    <tr>\n      <th>32702</th>\n      <td>0.000606</td>\n      <td>3935.0</td>\n      <td>1.0</td>\n      <td>0.0</td>\n      <td>2.0</td>\n      <td>0</td>\n      <td>test</td>\n    </tr>\n    <tr>\n      <th>32703</th>\n      <td>0.040452</td>\n      <td>30163.0</td>\n      <td>4.0</td>\n      <td>0.0</td>\n      <td>2.0</td>\n      <td>0</td>\n      <td>test</td>\n    </tr>\n    <tr>\n      <th>32704</th>\n      <td>0.000000</td>\n      <td>29012.0</td>\n      <td>4.0</td>\n      <td>0.0</td>\n      <td>0.0</td>\n      <td>0</td>\n      <td>test</td>\n    </tr>\n    <tr>\n      <th>32705</th>\n      <td>0.000000</td>\n      <td>13244.0</td>\n      <td>1.0</td>\n      <td>0.0</td>\n      <td>0.0</td>\n      <td>0</td>\n      <td>test</td>\n    </tr>\n  </tbody>\n</table>\n<p>39304 rows × 7 columns</p>\n</div>"
     },
     "execution_count": 61,
     "metadata": {},
     "output_type": "execute_result"
    }
   ],
   "source": [
    "sm = SMOTE(sampling_strategy =0.34,\n",
    "      random_state = 0,\n",
    "      k_neighbors = 5)\n",
    "\n",
    "X_res, y_res = sm.fit_resample(dat[dat['dataset'] == 'train'].drop(['dataset', 'exitus'], axis = 1), dat[dat['dataset'] == 'train']['exitus'])\n",
    "\n",
    "\n",
    "# Add dataset and exitus columns\n",
    "\n",
    "X_res['exitus'] = y_res\n",
    "\n",
    "X_res['dataset'] = 'train'\n",
    "dat = pd.concat([X_res, dat[dat['dataset'] == 'val'], dat[dat['dataset'] == 'test']])\n",
    "dat"
   ],
   "metadata": {
    "collapsed": false,
    "ExecuteTime": {
     "end_time": "2023-10-04T21:47:41.418805900Z",
     "start_time": "2023-10-04T21:47:41.387129900Z"
    }
   },
   "id": "dbe147679c90fa5"
  },
  {
   "cell_type": "code",
   "execution_count": 62,
   "outputs": [
    {
     "data": {
      "text/plain": "            count\nexitus           \n0       80.017301\n1       19.982699",
      "text/html": "<div>\n<style scoped>\n    .dataframe tbody tr th:only-of-type {\n        vertical-align: middle;\n    }\n\n    .dataframe tbody tr th {\n        vertical-align: top;\n    }\n\n    .dataframe thead th {\n        text-align: right;\n    }\n</style>\n<table border=\"1\" class=\"dataframe\">\n  <thead>\n    <tr style=\"text-align: right;\">\n      <th></th>\n      <th>count</th>\n    </tr>\n    <tr>\n      <th>exitus</th>\n      <th></th>\n    </tr>\n  </thead>\n  <tbody>\n    <tr>\n      <th>0</th>\n      <td>80.017301</td>\n    </tr>\n    <tr>\n      <th>1</th>\n      <td>19.982699</td>\n    </tr>\n  </tbody>\n</table>\n</div>"
     },
     "execution_count": 62,
     "metadata": {},
     "output_type": "execute_result"
    }
   ],
   "source": [
    "100*dat.groupby(['exitus'])['exitus'].agg(['count'])/dat.shape[0]"
   ],
   "metadata": {
    "collapsed": false,
    "ExecuteTime": {
     "end_time": "2023-10-04T21:47:42.678535100Z",
     "start_time": "2023-10-04T21:47:42.662389500Z"
    }
   },
   "id": "6568acda7715063d"
  }
 ],
 "metadata": {
  "kernelspec": {
   "display_name": "Python 3",
   "language": "python",
   "name": "python3"
  },
  "language_info": {
   "codemirror_mode": {
    "name": "ipython",
    "version": 2
   },
   "file_extension": ".py",
   "mimetype": "text/x-python",
   "name": "python",
   "nbconvert_exporter": "python",
   "pygments_lexer": "ipython2",
   "version": "2.7.6"
  }
 },
 "nbformat": 4,
 "nbformat_minor": 5
}
