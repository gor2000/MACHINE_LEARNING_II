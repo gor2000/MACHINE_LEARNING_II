{
 "cells": [
  {
   "cell_type": "code",
   "execution_count": 30,
   "id": "initial_id",
   "metadata": {
    "collapsed": true,
    "ExecuteTime": {
     "end_time": "2023-10-10T08:35:44.777867400Z",
     "start_time": "2023-10-10T08:35:44.757860600Z"
    }
   },
   "outputs": [],
   "source": [
    "import pandas as pd\n",
    "\n",
    "dat = pd.read_csv('../data/dataset_midterm.csv', sep = \",\")"
   ]
  },
  {
   "cell_type": "code",
   "execution_count": 3,
   "outputs": [
    {
     "data": {
      "text/plain": "      CRIM    ZN  INDUS  CHAS    NOX     RM   AGE     DIS  RAD  TAX  PTRATIO  \\\n0  0.00632  18.0   2.31   0.0    NaN  6.575  65.2  4.0900    1  296     15.3   \n1  0.02731   NaN   7.07   0.0  0.469  6.421  78.9  4.9671    2  242     17.8   \n2  0.02729   NaN   7.07   NaN  0.469  7.185  61.1  4.9671    2  242     17.8   \n3  0.03237   NaN   2.18   0.0  0.458  6.998  45.8  6.0622    3  222     18.7   \n4  0.06905   0.0   2.18   0.0    NaN  7.147  54.2  6.0622    3  222     18.7   \n\n        B  LSTAT  MEDV dataset  \n0  396.90   4.98  24.0   train  \n1  396.90   9.14  21.6   train  \n2  392.83   4.03  34.7   train  \n3  394.63   2.94  33.4   train  \n4  396.90    NaN  36.2    test  ",
      "text/html": "<div>\n<style scoped>\n    .dataframe tbody tr th:only-of-type {\n        vertical-align: middle;\n    }\n\n    .dataframe tbody tr th {\n        vertical-align: top;\n    }\n\n    .dataframe thead th {\n        text-align: right;\n    }\n</style>\n<table border=\"1\" class=\"dataframe\">\n  <thead>\n    <tr style=\"text-align: right;\">\n      <th></th>\n      <th>CRIM</th>\n      <th>ZN</th>\n      <th>INDUS</th>\n      <th>CHAS</th>\n      <th>NOX</th>\n      <th>RM</th>\n      <th>AGE</th>\n      <th>DIS</th>\n      <th>RAD</th>\n      <th>TAX</th>\n      <th>PTRATIO</th>\n      <th>B</th>\n      <th>LSTAT</th>\n      <th>MEDV</th>\n      <th>dataset</th>\n    </tr>\n  </thead>\n  <tbody>\n    <tr>\n      <th>0</th>\n      <td>0.00632</td>\n      <td>18.0</td>\n      <td>2.31</td>\n      <td>0.0</td>\n      <td>NaN</td>\n      <td>6.575</td>\n      <td>65.2</td>\n      <td>4.0900</td>\n      <td>1</td>\n      <td>296</td>\n      <td>15.3</td>\n      <td>396.90</td>\n      <td>4.98</td>\n      <td>24.0</td>\n      <td>train</td>\n    </tr>\n    <tr>\n      <th>1</th>\n      <td>0.02731</td>\n      <td>NaN</td>\n      <td>7.07</td>\n      <td>0.0</td>\n      <td>0.469</td>\n      <td>6.421</td>\n      <td>78.9</td>\n      <td>4.9671</td>\n      <td>2</td>\n      <td>242</td>\n      <td>17.8</td>\n      <td>396.90</td>\n      <td>9.14</td>\n      <td>21.6</td>\n      <td>train</td>\n    </tr>\n    <tr>\n      <th>2</th>\n      <td>0.02729</td>\n      <td>NaN</td>\n      <td>7.07</td>\n      <td>NaN</td>\n      <td>0.469</td>\n      <td>7.185</td>\n      <td>61.1</td>\n      <td>4.9671</td>\n      <td>2</td>\n      <td>242</td>\n      <td>17.8</td>\n      <td>392.83</td>\n      <td>4.03</td>\n      <td>34.7</td>\n      <td>train</td>\n    </tr>\n    <tr>\n      <th>3</th>\n      <td>0.03237</td>\n      <td>NaN</td>\n      <td>2.18</td>\n      <td>0.0</td>\n      <td>0.458</td>\n      <td>6.998</td>\n      <td>45.8</td>\n      <td>6.0622</td>\n      <td>3</td>\n      <td>222</td>\n      <td>18.7</td>\n      <td>394.63</td>\n      <td>2.94</td>\n      <td>33.4</td>\n      <td>train</td>\n    </tr>\n    <tr>\n      <th>4</th>\n      <td>0.06905</td>\n      <td>0.0</td>\n      <td>2.18</td>\n      <td>0.0</td>\n      <td>NaN</td>\n      <td>7.147</td>\n      <td>54.2</td>\n      <td>6.0622</td>\n      <td>3</td>\n      <td>222</td>\n      <td>18.7</td>\n      <td>396.90</td>\n      <td>NaN</td>\n      <td>36.2</td>\n      <td>test</td>\n    </tr>\n  </tbody>\n</table>\n</div>"
     },
     "execution_count": 3,
     "metadata": {},
     "output_type": "execute_result"
    }
   ],
   "source": [
    "dat.head()"
   ],
   "metadata": {
    "collapsed": false,
    "ExecuteTime": {
     "end_time": "2023-10-10T08:27:13.774120900Z",
     "start_time": "2023-10-10T08:27:13.762354Z"
    }
   },
   "id": "38bba40c32170642"
  },
  {
   "cell_type": "code",
   "execution_count": 16,
   "outputs": [
    {
     "data": {
      "text/plain": "MEDV\n50.0    16\n25.0     8\n22.0     7\n21.7     7\n23.1     7\n        ..\n32.9     1\n34.6     1\n30.3     1\n33.3     1\n8.1      1\nName: count, Length: 229, dtype: int64"
     },
     "execution_count": 16,
     "metadata": {},
     "output_type": "execute_result"
    }
   ],
   "source": [
    "dat['MEDV'].value_counts()"
   ],
   "metadata": {
    "collapsed": false,
    "ExecuteTime": {
     "end_time": "2023-10-10T08:30:42.412674400Z",
     "start_time": "2023-10-10T08:30:42.401171700Z"
    }
   },
   "id": "1bffe7f4a2fe856a"
  },
  {
   "cell_type": "code",
   "execution_count": 31,
   "outputs": [],
   "source": [
    "categorical_variables = ['CHAS', 'RAD']\n",
    "non_cat_var = list(set(dat.columns) - set(categorical_variables))"
   ],
   "metadata": {
    "collapsed": false,
    "ExecuteTime": {
     "end_time": "2023-10-10T08:37:00.115687200Z",
     "start_time": "2023-10-10T08:37:00.102147700Z"
    }
   },
   "id": "d3cbdf79ac35bbb5"
  },
  {
   "cell_type": "code",
   "execution_count": 32,
   "outputs": [],
   "source": [
    "from sklearn.preprocessing import OneHotEncoder"
   ],
   "metadata": {
    "collapsed": false,
    "ExecuteTime": {
     "end_time": "2023-10-10T08:37:01.537482500Z",
     "start_time": "2023-10-10T08:37:01.532960500Z"
    }
   },
   "id": "7dcb27ae2514d2bb"
  },
  {
   "cell_type": "code",
   "execution_count": 33,
   "outputs": [],
   "source": [
    "# 3) Define \"model\"\n",
    "ohe = OneHotEncoder(sparse_output = False, drop = 'first')\n",
    "\n",
    "# 4) Train \"model\"\n",
    "ohe.fit(dat[categorical_variables][dat['dataset'] == 'train'])\n",
    "\n",
    "# 5) \"Predict\"\n",
    "dat_ohe = pd.DataFrame(ohe.transform(dat[categorical_variables]))\n",
    "\n",
    "# Optional\n",
    "dat_ohe.columns = ohe.get_feature_names_out()\n",
    "\n",
    "# Combine numerical and categorical\n",
    "dat = pd.concat((dat[non_cat_var], dat_ohe), axis=1)"
   ],
   "metadata": {
    "collapsed": false,
    "ExecuteTime": {
     "end_time": "2023-10-10T08:37:02.827694100Z",
     "start_time": "2023-10-10T08:37:02.795690Z"
    }
   },
   "id": "c83c8a1b7dd1d564"
  },
  {
   "cell_type": "code",
   "execution_count": 34,
   "outputs": [],
   "source": [
    "from fancyimpute import IterativeImputer as MICE\n",
    "from sklearn.ensemble import RandomForestRegressor"
   ],
   "metadata": {
    "collapsed": false,
    "ExecuteTime": {
     "end_time": "2023-10-10T08:37:05.895667800Z",
     "start_time": "2023-10-10T08:37:05.884520700Z"
    }
   },
   "id": "7f39a7ba35782e71"
  },
  {
   "cell_type": "code",
   "execution_count": 35,
   "outputs": [
    {
     "name": "stderr",
     "output_type": "stream",
     "text": [
      "J:\\IE\\SECOND TERM\\MLII\\venv\\Lib\\site-packages\\sklearn\\impute\\_iterative.py:796: ConvergenceWarning: [IterativeImputer] Early stopping criterion not reached.\n",
      "  warnings.warn(\n"
     ]
    }
   ],
   "source": [
    "numerical_variables = list(set(dat.columns) - {'dataset', 'MEDV'})\n",
    "# 3) Define \"model\"\n",
    "model = MICE(RandomForestRegressor())\n",
    "\n",
    "# 4) Train \"model\"\n",
    "model.fit(dat[numerical_variables][dat['dataset'] == 'train'])\n",
    "\n",
    "# 5) \"Predict\"\n",
    "dat[numerical_variables] = model.transform(dat[numerical_variables])"
   ],
   "metadata": {
    "collapsed": false,
    "ExecuteTime": {
     "end_time": "2023-10-10T08:38:42.789577100Z",
     "start_time": "2023-10-10T08:37:37.514145700Z"
    }
   },
   "id": "a36dfac996c0cb02"
  },
  {
   "cell_type": "code",
   "execution_count": 37,
   "outputs": [],
   "source": [
    "from sklearn.ensemble import RandomForestRegressor as model_constructor\n",
    "from sklearn.metrics import mean_absolute_error as metric"
   ],
   "metadata": {
    "collapsed": false,
    "ExecuteTime": {
     "end_time": "2023-10-10T08:40:34.561506400Z",
     "start_time": "2023-10-10T08:40:34.546291900Z"
    }
   },
   "id": "895dbba8f48e61f0"
  },
  {
   "cell_type": "code",
   "execution_count": 56,
   "outputs": [],
   "source": [
    "# Random Forest\n",
    "n_estimators_values = [250,500, 1000]\n",
    "max_features_values = [8, 10, 12]\n",
    "max_samples_values = [200, dat[dat['dataset'] == 'train'].shape[0]]\n",
    "\n",
    "params_grid = {'max_features': max_features_values,\n",
    "              'n_estimators': n_estimators_values,\n",
    "               'max_samples': max_samples_values}\n"
   ],
   "metadata": {
    "collapsed": false,
    "ExecuteTime": {
     "end_time": "2023-10-10T08:47:03.119350800Z",
     "start_time": "2023-10-10T08:47:03.092271600Z"
    }
   },
   "id": "fc3ee6c5a04058e5"
  },
  {
   "cell_type": "code",
   "execution_count": 57,
   "outputs": [
    {
     "name": "stdout",
     "output_type": "stream",
     "text": [
      "Iteracion = 1\n",
      "Metric train = 1.31 - Metric validation = 2.30.\n",
      "Iteracion = 2\n",
      "Metric train = 0.83 - Metric validation = 2.22.\n",
      "Iteracion = 3\n",
      "Metric train = 1.29 - Metric validation = 2.31.\n",
      "Iteracion = 4\n",
      "Metric train = 0.82 - Metric validation = 2.22.\n",
      "Iteracion = 5\n",
      "Metric train = 1.29 - Metric validation = 2.29.\n",
      "Iteracion = 6\n",
      "Metric train = 0.81 - Metric validation = 2.21.\n",
      "Iteracion = 7\n",
      "Metric train = 1.31 - Metric validation = 2.32.\n",
      "Iteracion = 8\n",
      "Metric train = 0.83 - Metric validation = 2.21.\n",
      "Iteracion = 9\n",
      "Metric train = 1.29 - Metric validation = 2.28.\n",
      "Iteracion = 10\n",
      "Metric train = 0.82 - Metric validation = 2.21.\n",
      "Iteracion = 11\n",
      "Metric train = 1.29 - Metric validation = 2.27.\n",
      "Iteracion = 12\n",
      "Metric train = 0.82 - Metric validation = 2.18.\n",
      "Iteracion = 13\n",
      "Metric train = 1.30 - Metric validation = 2.32.\n",
      "Iteracion = 14\n",
      "Metric train = 0.84 - Metric validation = 2.23.\n",
      "Iteracion = 15\n",
      "Metric train = 1.29 - Metric validation = 2.30.\n",
      "Iteracion = 16\n",
      "Metric train = 0.84 - Metric validation = 2.21.\n",
      "Iteracion = 17\n",
      "Metric train = 1.30 - Metric validation = 2.29.\n",
      "Iteracion = 18\n",
      "Metric train = 0.83 - Metric validation = 2.20.\n"
     ]
    }
   ],
   "source": [
    "num_iter = 1\n",
    "grid_results = pd.DataFrame(columns = ('max_features',\n",
    "                                       'n_estimators',\n",
    "                                       'max_samples',\n",
    "                                       'metric_train',\n",
    "                                       'metric_val'))\n",
    "\n",
    "for max_features in params_grid['max_features']:\n",
    "    for n_estimators in params_grid['n_estimators']:\n",
    "        for max_samples in params_grid['max_samples']:\n",
    "\n",
    "                        # Print trace\n",
    "                        print('Iteracion = ' + str(num_iter))\n",
    "\n",
    "                        # [3] Define model\n",
    "                        model = model_constructor(max_features = max_features,\n",
    "                                                  n_estimators = n_estimators,\n",
    "                                                  max_samples = max_samples,\n",
    "                                                  random_state = 0)\n",
    "\n",
    "                        # [4] Train model\n",
    "                        model.fit(dat[dat['dataset'] == 'train'].drop(['MEDV', 'dataset'], axis = 1),\n",
    "                                  dat[dat['dataset'] == 'train'].MEDV.values)\n",
    "\n",
    "\n",
    "                        # [5] Predict\n",
    "                        pred_train = model.predict(dat[dat['dataset'] == 'train'].drop(['MEDV', 'dataset'], axis = 1)) # predict!\n",
    "                        pred_val = model.predict(dat[dat['dataset'] == 'val'].drop(['MEDV', 'dataset'], axis = 1)) # predict!\n",
    "\n",
    "                        # [6] Compute metric\n",
    "                        metric_train = metric(dat[dat['dataset'] == 'train'].MEDV.values, pred_train)\n",
    "                        metric_val = metric(dat[dat['dataset'] == 'val'].MEDV.values, pred_val)\n",
    "\n",
    "                        # print error\n",
    "                        print('Metric train = %.2f - Metric validation = %.2f.'\n",
    "                              % (metric_train, metric_val))\n",
    "\n",
    "                        # Save iteration results\n",
    "                        grid_results.loc[num_iter]=[ max_features,\n",
    "                                                    n_estimators,\n",
    "                                                    max_samples,\n",
    "                                                 metric_train,\n",
    "                                                 metric_val]\n",
    "                        num_iter += 1\n",
    "\n"
   ],
   "metadata": {
    "collapsed": false,
    "ExecuteTime": {
     "end_time": "2023-10-10T08:47:33.440376Z",
     "start_time": "2023-10-10T08:47:04.037778900Z"
    }
   },
   "id": "e8b7eac7367494c7"
  },
  {
   "cell_type": "code",
   "execution_count": 58,
   "outputs": [
    {
     "data": {
      "text/plain": "max_features      10.000000\nn_estimators    1000.000000\nmax_samples      354.000000\nmetric_train       0.823285\nmetric_val         2.181443\nName: 12, dtype: float64"
     },
     "execution_count": 58,
     "metadata": {},
     "output_type": "execute_result"
    }
   ],
   "source": [
    "grid_results_rf = grid_results.sort_values(by = ['metric_val', 'metric_train'], ascending = [True, True])\n",
    "best_model_rf = grid_results_rf.iloc[0]\n",
    "best_model_rf"
   ],
   "metadata": {
    "collapsed": false,
    "ExecuteTime": {
     "end_time": "2023-10-10T08:48:19.502651900Z",
     "start_time": "2023-10-10T08:48:19.485988100Z"
    }
   },
   "id": "b040614d856fe392"
  },
  {
   "cell_type": "code",
   "execution_count": 59,
   "outputs": [],
   "source": [
    "# [3] define model\n",
    "model = model_constructor(max_features = int(best_model_rf.max_features),\n",
    "                          n_estimators = int(best_model_rf.n_estimators),\n",
    "                          max_samples = int(best_model_rf.max_samples),\n",
    "                          random_state = 0)"
   ],
   "metadata": {
    "collapsed": false,
    "ExecuteTime": {
     "end_time": "2023-10-10T08:48:21.987321800Z",
     "start_time": "2023-10-10T08:48:21.968882Z"
    }
   },
   "id": "816f2c5bc9c5b942"
  },
  {
   "cell_type": "code",
   "execution_count": 61,
   "outputs": [
    {
     "data": {
      "text/plain": "RandomForestRegressor(max_features=10, max_samples=354, n_estimators=1000,\n                      random_state=0)",
      "text/html": "<style>#sk-container-id-3 {color: black;}#sk-container-id-3 pre{padding: 0;}#sk-container-id-3 div.sk-toggleable {background-color: white;}#sk-container-id-3 label.sk-toggleable__label {cursor: pointer;display: block;width: 100%;margin-bottom: 0;padding: 0.3em;box-sizing: border-box;text-align: center;}#sk-container-id-3 label.sk-toggleable__label-arrow:before {content: \"▸\";float: left;margin-right: 0.25em;color: #696969;}#sk-container-id-3 label.sk-toggleable__label-arrow:hover:before {color: black;}#sk-container-id-3 div.sk-estimator:hover label.sk-toggleable__label-arrow:before {color: black;}#sk-container-id-3 div.sk-toggleable__content {max-height: 0;max-width: 0;overflow: hidden;text-align: left;background-color: #f0f8ff;}#sk-container-id-3 div.sk-toggleable__content pre {margin: 0.2em;color: black;border-radius: 0.25em;background-color: #f0f8ff;}#sk-container-id-3 input.sk-toggleable__control:checked~div.sk-toggleable__content {max-height: 200px;max-width: 100%;overflow: auto;}#sk-container-id-3 input.sk-toggleable__control:checked~label.sk-toggleable__label-arrow:before {content: \"▾\";}#sk-container-id-3 div.sk-estimator input.sk-toggleable__control:checked~label.sk-toggleable__label {background-color: #d4ebff;}#sk-container-id-3 div.sk-label input.sk-toggleable__control:checked~label.sk-toggleable__label {background-color: #d4ebff;}#sk-container-id-3 input.sk-hidden--visually {border: 0;clip: rect(1px 1px 1px 1px);clip: rect(1px, 1px, 1px, 1px);height: 1px;margin: -1px;overflow: hidden;padding: 0;position: absolute;width: 1px;}#sk-container-id-3 div.sk-estimator {font-family: monospace;background-color: #f0f8ff;border: 1px dotted black;border-radius: 0.25em;box-sizing: border-box;margin-bottom: 0.5em;}#sk-container-id-3 div.sk-estimator:hover {background-color: #d4ebff;}#sk-container-id-3 div.sk-parallel-item::after {content: \"\";width: 100%;border-bottom: 1px solid gray;flex-grow: 1;}#sk-container-id-3 div.sk-label:hover label.sk-toggleable__label {background-color: #d4ebff;}#sk-container-id-3 div.sk-serial::before {content: \"\";position: absolute;border-left: 1px solid gray;box-sizing: border-box;top: 0;bottom: 0;left: 50%;z-index: 0;}#sk-container-id-3 div.sk-serial {display: flex;flex-direction: column;align-items: center;background-color: white;padding-right: 0.2em;padding-left: 0.2em;position: relative;}#sk-container-id-3 div.sk-item {position: relative;z-index: 1;}#sk-container-id-3 div.sk-parallel {display: flex;align-items: stretch;justify-content: center;background-color: white;position: relative;}#sk-container-id-3 div.sk-item::before, #sk-container-id-3 div.sk-parallel-item::before {content: \"\";position: absolute;border-left: 1px solid gray;box-sizing: border-box;top: 0;bottom: 0;left: 50%;z-index: -1;}#sk-container-id-3 div.sk-parallel-item {display: flex;flex-direction: column;z-index: 1;position: relative;background-color: white;}#sk-container-id-3 div.sk-parallel-item:first-child::after {align-self: flex-end;width: 50%;}#sk-container-id-3 div.sk-parallel-item:last-child::after {align-self: flex-start;width: 50%;}#sk-container-id-3 div.sk-parallel-item:only-child::after {width: 0;}#sk-container-id-3 div.sk-dashed-wrapped {border: 1px dashed gray;margin: 0 0.4em 0.5em 0.4em;box-sizing: border-box;padding-bottom: 0.4em;background-color: white;}#sk-container-id-3 div.sk-label label {font-family: monospace;font-weight: bold;display: inline-block;line-height: 1.2em;}#sk-container-id-3 div.sk-label-container {text-align: center;}#sk-container-id-3 div.sk-container {/* jupyter's `normalize.less` sets `[hidden] { display: none; }` but bootstrap.min.css set `[hidden] { display: none !important; }` so we also need the `!important` here to be able to override the default hidden behavior on the sphinx rendered scikit-learn.org. See: https://github.com/scikit-learn/scikit-learn/issues/21755 */display: inline-block !important;position: relative;}#sk-container-id-3 div.sk-text-repr-fallback {display: none;}</style><div id=\"sk-container-id-3\" class=\"sk-top-container\"><div class=\"sk-text-repr-fallback\"><pre>RandomForestRegressor(max_features=10, max_samples=354, n_estimators=1000,\n                      random_state=0)</pre><b>In a Jupyter environment, please rerun this cell to show the HTML representation or trust the notebook. <br />On GitHub, the HTML representation is unable to render, please try loading this page with nbviewer.org.</b></div><div class=\"sk-container\" hidden><div class=\"sk-item\"><div class=\"sk-estimator sk-toggleable\"><input class=\"sk-toggleable__control sk-hidden--visually\" id=\"sk-estimator-id-3\" type=\"checkbox\" checked><label for=\"sk-estimator-id-3\" class=\"sk-toggleable__label sk-toggleable__label-arrow\">RandomForestRegressor</label><div class=\"sk-toggleable__content\"><pre>RandomForestRegressor(max_features=10, max_samples=354, n_estimators=1000,\n                      random_state=0)</pre></div></div></div></div></div>"
     },
     "execution_count": 61,
     "metadata": {},
     "output_type": "execute_result"
    }
   ],
   "source": [
    "# [4] Train model\n",
    "model.fit(dat[dat['dataset'] != 'test'].drop(['MEDV', 'dataset'], axis = 1), dat[dat['dataset'] != 'test'].MEDV.values)"
   ],
   "metadata": {
    "collapsed": false,
    "ExecuteTime": {
     "end_time": "2023-10-10T08:48:31.426491700Z",
     "start_time": "2023-10-10T08:48:28.094385200Z"
    }
   },
   "id": "4c20989174dc37c0"
  },
  {
   "cell_type": "code",
   "execution_count": 62,
   "outputs": [],
   "source": [
    "# [5] Predict\n",
    "pred_train = model.predict(dat[dat['dataset'] == 'train'].drop(['MEDV', 'dataset'], axis = 1)) # predict!\n",
    "pred_val = model.predict(dat[dat['dataset'] == 'val'].drop(['MEDV', 'dataset'], axis = 1)) # predict!\n",
    "pred_test = model.predict(dat[dat['dataset'] == 'test'].drop(['MEDV', 'dataset'], axis = 1)) # predict!"
   ],
   "metadata": {
    "collapsed": false,
    "ExecuteTime": {
     "end_time": "2023-10-10T08:48:33.241416300Z",
     "start_time": "2023-10-10T08:48:33.102166Z"
    }
   },
   "id": "51bd8e2b609dcb2a"
  },
  {
   "cell_type": "code",
   "execution_count": 63,
   "outputs": [],
   "source": [
    "# [6] Compute metric\n",
    "metric_train = metric(dat[dat['dataset'] == 'train'].MEDV.values, pred_train)\n",
    "metric_val = metric(dat[dat['dataset'] == 'val'].MEDV.values, pred_val)\n",
    "metric_test = metric(dat[dat['dataset'] == 'test'].MEDV.values, pred_test)"
   ],
   "metadata": {
    "collapsed": false,
    "ExecuteTime": {
     "end_time": "2023-10-10T08:48:34.393037400Z",
     "start_time": "2023-10-10T08:48:34.375556700Z"
    }
   },
   "id": "e311819bd8805926"
  },
  {
   "cell_type": "code",
   "execution_count": 64,
   "outputs": [
    {
     "name": "stdout",
     "output_type": "stream",
     "text": [
      "Metric train = 0.96 - Metric val = 0.95 - Metric test = 2.83\n"
     ]
    }
   ],
   "source": [
    "# print error\n",
    "print('Metric train = %.2f - Metric val = %.2f - Metric test = %.2f'\n",
    "      % (metric_train, metric_val, metric_test))"
   ],
   "metadata": {
    "collapsed": false,
    "ExecuteTime": {
     "end_time": "2023-10-10T08:48:36.670265700Z",
     "start_time": "2023-10-10T08:48:36.657186500Z"
    }
   },
   "id": "658c7afb212cb330"
  },
  {
   "cell_type": "markdown",
   "source": [
    "# XGBoost"
   ],
   "metadata": {
    "collapsed": false
   },
   "id": "ee12ea3e64e52b6e"
  },
  {
   "cell_type": "code",
   "execution_count": 68,
   "outputs": [],
   "source": [
    "from xgboost import XGBRegressor as model_constructor"
   ],
   "metadata": {
    "collapsed": false,
    "ExecuteTime": {
     "end_time": "2023-10-10T08:54:04.248527Z",
     "start_time": "2023-10-10T08:54:04.231976900Z"
    }
   },
   "id": "9b56112f3cb1cff1"
  },
  {
   "cell_type": "code",
   "execution_count": 89,
   "outputs": [],
   "source": [
    "# Xgboost\n",
    "n_estimators_values = [1000]\n",
    "learning_rate_values = [0.3, 0.5, 1]\n",
    "gamma_values = [0, 1, 10]\n",
    "max_depth_values = [6, 10, 20]\n",
    "min_child_weight_values = [1, 20, 50]\n",
    "subsample_values = [0.1, 1]\n",
    "colsample_bytree_values = [0.5, 1]\n",
    "num_parallel_tree_values = [10]\n",
    "\n",
    "params_grid = {'n_estimators': n_estimators_values,\n",
    "                  'learning_rate': learning_rate_values,\n",
    "                 'gamma': gamma_values,\n",
    "                 'max_depth': max_depth_values,\n",
    "                 'min_child_weight': min_child_weight_values,\n",
    "                 'subsample': subsample_values,\n",
    "                 'colsample_bytree': colsample_bytree_values,\n",
    "                 'num_parallel_tree': num_parallel_tree_values}"
   ],
   "metadata": {
    "collapsed": false,
    "ExecuteTime": {
     "end_time": "2023-10-10T09:06:06.042349100Z",
     "start_time": "2023-10-10T09:06:06.025801200Z"
    }
   },
   "id": "2e98b979cbb09621"
  },
  {
   "cell_type": "code",
   "execution_count": 97,
   "outputs": [],
   "source": [
    "%%capture\n",
    "num_iter = 1\n",
    "grid_results = pd.DataFrame(columns = ('n_estimators',\n",
    "                                       'learning_rate',\n",
    "                                       'gamma',\n",
    "                                       'max_depth',\n",
    "                                       'min_child_weight',\n",
    "                                       'subsample',\n",
    "                                       'colsample_bytree',\n",
    "                                       'num_parallel_tree',\n",
    "                                       'best_iteration',\n",
    "                                       'metric_train',\n",
    "                                       'metric_val'))\n",
    "\n",
    "for n_estimators in params_grid['n_estimators']:\n",
    "    for learning_rate in params_grid['learning_rate']:\n",
    "        for gamma in params_grid['gamma']:\n",
    "            for max_depth in params_grid['max_depth']:\n",
    "                for min_child_weight in params_grid['min_child_weight']:\n",
    "                    for subsample in params_grid['subsample']:\n",
    "                        for colsample_bytree in params_grid['colsample_bytree']:\n",
    "                            for num_parallel_tree in params_grid['num_parallel_tree']:\n",
    "\n",
    "\n",
    "\n",
    "\n",
    "                                                # Print trace\n",
    "                                                print('Iteration = ' + str(num_iter))\n",
    "\n",
    "                                                # [3] Define model\n",
    "                                                model = model_constructor(n_estimators = n_estimators,\n",
    "                                                                      learning_rate = learning_rate,\n",
    "                                                                      gamma = gamma,\n",
    "                                                                      max_depth = max_depth,\n",
    "                                                                      min_child_weight = min_child_weight ,\n",
    "                                                                      subsample = subsample,\n",
    "                                                                      colsample_bytree = colsample_bytree,\n",
    "                                                                      num_parallel_tree = num_parallel_tree,\n",
    "                                                                      early_stopping_rounds = 10,\n",
    "                                                                      eval_metric = \"mae\",\n",
    "                                                                      reg_lambda= 10,\n",
    "                                                                          reg_alpha = 5,\n",
    "                                                                          device= 'cuda',\n",
    "                                                                      random_state = 0) # nthread!!!\n",
    "\n",
    "                                                # [4] Train model\n",
    "                                                model.fit(dat[dat['dataset'] == 'train'].drop(['MEDV', 'dataset'], axis = 1), dat[dat['dataset'] == 'train'].MEDV.values,\n",
    "                                                          eval_set=[(dat[dat['dataset'] == 'val'].drop(['MEDV', 'dataset'], axis = 1), dat[dat['dataset'] == 'val'].MEDV.values)],\n",
    "                                                          verbose = False)\n",
    "                                                best_iteration = model.best_iteration\n",
    "\n",
    "                                                # [5] Predict\n",
    "                                                pred_train = model.predict(dat[dat['dataset'] == 'train'].drop(['MEDV', 'dataset'], axis = 1)) # predict_proba!\n",
    "                                                pred_val = model.predict(dat[dat['dataset'] == 'val'].drop(['MEDV', 'dataset'], axis = 1)) # predict_proba!\n",
    "\n",
    "                                                # [6] Compute metric\n",
    "                                                metric_train = metric(dat[dat['dataset'] == 'train'].MEDV.values, pred_train)\n",
    "                                                metric_val = metric(dat[dat['dataset'] == 'val'].MEDV.values, pred_val)\n",
    "\n",
    "                                                # print error\n",
    "                                                print('AUC train = %.2f - AUC validation = %.2f.'\n",
    "                                                      % (metric_train, metric_val))\n",
    "\n",
    "                                                # Save iteration results\n",
    "                                                grid_results.loc[num_iter]=[n_estimators,\n",
    "                                                                            learning_rate,\n",
    "                                                                            gamma,\n",
    "                                                                            max_depth,\n",
    "                                                                            min_child_weight,\n",
    "                                                                            subsample,\n",
    "                                                                            colsample_bytree,\n",
    "                                                                            num_parallel_tree,\n",
    "                                                                            best_iteration,\n",
    "                                                                            metric_train,\n",
    "                                                                            metric_val]\n",
    "                                                num_iter += 1"
   ],
   "metadata": {
    "collapsed": false,
    "ExecuteTime": {
     "end_time": "2023-10-10T09:13:04.143732600Z",
     "start_time": "2023-10-10T09:09:29.488439700Z"
    }
   },
   "id": "986afc9897f4760f"
  },
  {
   "cell_type": "code",
   "execution_count": 98,
   "outputs": [
    {
     "data": {
      "text/plain": "n_estimators         1000.000000\nlearning_rate           0.300000\ngamma                   0.000000\nmax_depth              20.000000\nmin_child_weight        1.000000\nsubsample               0.100000\ncolsample_bytree        1.000000\nnum_parallel_tree      10.000000\nbest_iteration         53.000000\nmetric_train            1.849894\nmetric_val              2.011669\nName: 26, dtype: float64"
     },
     "execution_count": 98,
     "metadata": {},
     "output_type": "execute_result"
    }
   ],
   "source": [
    "grid_results_xgb = grid_results.sort_values(by = ['metric_val', 'metric_train'], ascending = [True, True])\n",
    "best_model_xgb = grid_results_xgb.iloc[0]\n",
    "best_model_xgb"
   ],
   "metadata": {
    "collapsed": false,
    "ExecuteTime": {
     "end_time": "2023-10-10T09:13:24.982044700Z",
     "start_time": "2023-10-10T09:13:24.940327Z"
    }
   },
   "id": "2388197f1d716ed5"
  },
  {
   "cell_type": "code",
   "execution_count": 99,
   "outputs": [],
   "source": [
    "# [3] define model\n",
    "model = model_constructor(n_estimators = int(best_model_xgb.best_iteration),\n",
    "                          learning_rate = best_model_xgb.learning_rate,\n",
    "                          gamma = best_model_xgb.gamma,\n",
    "                          max_depth = int(best_model_xgb.max_depth),\n",
    "                          min_child_weight = best_model_xgb.min_child_weight,\n",
    "                          subsample = best_model_xgb.subsample,\n",
    "                          colsample_bytree = best_model_xgb.colsample_bytree,\n",
    "                          num_parallel_tree = int(best_model_xgb.num_parallel_tree),\n",
    "                          random_state = 0)"
   ],
   "metadata": {
    "collapsed": false,
    "ExecuteTime": {
     "end_time": "2023-10-10T09:13:27.275045200Z",
     "start_time": "2023-10-10T09:13:27.254993300Z"
    }
   },
   "id": "e9a2b239624ab053"
  },
  {
   "cell_type": "code",
   "execution_count": 100,
   "outputs": [],
   "source": [
    "%%capture\n",
    "# [4] Train model\n",
    "model.fit(dat[dat['dataset'] != 'test'].drop(['MEDV', 'dataset'], axis = 1), dat[dat['dataset'] != 'test'].MEDV.values)"
   ],
   "metadata": {
    "collapsed": false,
    "ExecuteTime": {
     "end_time": "2023-10-10T09:13:29.924746Z",
     "start_time": "2023-10-10T09:13:29.243705Z"
    }
   },
   "id": "be1b8d7934951381"
  },
  {
   "cell_type": "code",
   "execution_count": 101,
   "outputs": [],
   "source": [
    "%%capture\n",
    "# [5] Predict\n",
    "pred_train = model.predict(dat[dat['dataset'] == 'train'].drop(['MEDV', 'dataset'], axis = 1)) # predict!\n",
    "pred_val = model.predict(dat[dat['dataset'] == 'val'].drop(['MEDV', 'dataset'], axis = 1)) # predict!\n",
    "pred_test = model.predict(dat[dat['dataset'] == 'test'].drop(['MEDV', 'dataset'], axis = 1)) # predict!"
   ],
   "metadata": {
    "collapsed": false,
    "ExecuteTime": {
     "end_time": "2023-10-10T09:13:30.861567600Z",
     "start_time": "2023-10-10T09:13:30.815769600Z"
    }
   },
   "id": "c651746214eb3e44"
  },
  {
   "cell_type": "code",
   "execution_count": 102,
   "outputs": [],
   "source": [
    "# [6] Compute metric\n",
    "metric_train = metric(dat[dat['dataset'] == 'train'].MEDV.values, pred_train)\n",
    "metric_val = metric(dat[dat['dataset'] == 'val'].MEDV.values, pred_val)\n",
    "metric_test = metric(dat[dat['dataset'] == 'test'].MEDV.values, pred_test)"
   ],
   "metadata": {
    "collapsed": false,
    "ExecuteTime": {
     "end_time": "2023-10-10T09:13:31.962965400Z",
     "start_time": "2023-10-10T09:13:31.932904700Z"
    }
   },
   "id": "315f783786e125c3"
  },
  {
   "cell_type": "code",
   "execution_count": 103,
   "outputs": [
    {
     "name": "stdout",
     "output_type": "stream",
     "text": [
      "Metric train = 1.14 - Metric val = 0.99 - Metric test = 2.89\n"
     ]
    }
   ],
   "source": [
    "# print error\n",
    "print('Metric train = %.2f - Metric val = %.2f - Metric test = %.2f'\n",
    "      % (metric_train, metric_val, metric_test))"
   ],
   "metadata": {
    "collapsed": false,
    "ExecuteTime": {
     "end_time": "2023-10-10T09:13:33.361809100Z",
     "start_time": "2023-10-10T09:13:33.344198100Z"
    }
   },
   "id": "e94fcdc14d117112"
  }
 ],
 "metadata": {
  "kernelspec": {
   "display_name": "Python 3",
   "language": "python",
   "name": "python3"
  },
  "language_info": {
   "codemirror_mode": {
    "name": "ipython",
    "version": 2
   },
   "file_extension": ".py",
   "mimetype": "text/x-python",
   "name": "python",
   "nbconvert_exporter": "python",
   "pygments_lexer": "ipython2",
   "version": "2.7.6"
  }
 },
 "nbformat": 4,
 "nbformat_minor": 5
}
