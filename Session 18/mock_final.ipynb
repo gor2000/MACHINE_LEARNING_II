{
 "cells": [
  {
   "cell_type": "code",
   "execution_count": 33,
   "id": "initial_id",
   "metadata": {
    "collapsed": true,
    "ExecuteTime": {
     "end_time": "2023-10-08T07:28:33.920685400Z",
     "start_time": "2023-10-08T07:28:33.899153800Z"
    }
   },
   "outputs": [],
   "source": [
    "import pandas as pd"
   ]
  },
  {
   "cell_type": "code",
   "execution_count": 34,
   "outputs": [],
   "source": [
    "dat = pd.read_csv('../data/dataset_mock_final.csv', sep=';')"
   ],
   "metadata": {
    "collapsed": false,
    "ExecuteTime": {
     "end_time": "2023-10-08T07:28:34.702270100Z",
     "start_time": "2023-10-08T07:28:34.665577800Z"
    }
   },
   "id": "573f6ec5b07eec6e"
  },
  {
   "cell_type": "code",
   "execution_count": 35,
   "outputs": [
    {
     "data": {
      "text/plain": "      date  severity  mortality_ratio      age  num_proc  ambulatory  origin  \\\n0  2016-07       NaN         0.001193  15603.0       4.0         NaN     NaN   \n1  2016-05       1.0         0.000000  14285.0       3.0         NaN     1.0   \n2  2016-01       NaN         0.000000   6046.0       2.0         NaN     NaN   \n3  2016-01       1.0         0.004060  27340.0       4.0         NaN     2.0   \n4  2016-05       2.0         0.028365  28685.0      10.0         0.0     NaN   \n\n   expected_length tip_grd  tip_adm  exitus dataset  \n0              7.0       M      1.0       0   train  \n1              NaN       M      1.0       0   train  \n2              2.0     NaN      1.0       0   train  \n3              9.0       Q      NaN       0   train  \n4              9.0       M      1.0       0   train  ",
      "text/html": "<div>\n<style scoped>\n    .dataframe tbody tr th:only-of-type {\n        vertical-align: middle;\n    }\n\n    .dataframe tbody tr th {\n        vertical-align: top;\n    }\n\n    .dataframe thead th {\n        text-align: right;\n    }\n</style>\n<table border=\"1\" class=\"dataframe\">\n  <thead>\n    <tr style=\"text-align: right;\">\n      <th></th>\n      <th>date</th>\n      <th>severity</th>\n      <th>mortality_ratio</th>\n      <th>age</th>\n      <th>num_proc</th>\n      <th>ambulatory</th>\n      <th>origin</th>\n      <th>expected_length</th>\n      <th>tip_grd</th>\n      <th>tip_adm</th>\n      <th>exitus</th>\n      <th>dataset</th>\n    </tr>\n  </thead>\n  <tbody>\n    <tr>\n      <th>0</th>\n      <td>2016-07</td>\n      <td>NaN</td>\n      <td>0.001193</td>\n      <td>15603.0</td>\n      <td>4.0</td>\n      <td>NaN</td>\n      <td>NaN</td>\n      <td>7.0</td>\n      <td>M</td>\n      <td>1.0</td>\n      <td>0</td>\n      <td>train</td>\n    </tr>\n    <tr>\n      <th>1</th>\n      <td>2016-05</td>\n      <td>1.0</td>\n      <td>0.000000</td>\n      <td>14285.0</td>\n      <td>3.0</td>\n      <td>NaN</td>\n      <td>1.0</td>\n      <td>NaN</td>\n      <td>M</td>\n      <td>1.0</td>\n      <td>0</td>\n      <td>train</td>\n    </tr>\n    <tr>\n      <th>2</th>\n      <td>2016-01</td>\n      <td>NaN</td>\n      <td>0.000000</td>\n      <td>6046.0</td>\n      <td>2.0</td>\n      <td>NaN</td>\n      <td>NaN</td>\n      <td>2.0</td>\n      <td>NaN</td>\n      <td>1.0</td>\n      <td>0</td>\n      <td>train</td>\n    </tr>\n    <tr>\n      <th>3</th>\n      <td>2016-01</td>\n      <td>1.0</td>\n      <td>0.004060</td>\n      <td>27340.0</td>\n      <td>4.0</td>\n      <td>NaN</td>\n      <td>2.0</td>\n      <td>9.0</td>\n      <td>Q</td>\n      <td>NaN</td>\n      <td>0</td>\n      <td>train</td>\n    </tr>\n    <tr>\n      <th>4</th>\n      <td>2016-05</td>\n      <td>2.0</td>\n      <td>0.028365</td>\n      <td>28685.0</td>\n      <td>10.0</td>\n      <td>0.0</td>\n      <td>NaN</td>\n      <td>9.0</td>\n      <td>M</td>\n      <td>1.0</td>\n      <td>0</td>\n      <td>train</td>\n    </tr>\n  </tbody>\n</table>\n</div>"
     },
     "execution_count": 35,
     "metadata": {},
     "output_type": "execute_result"
    }
   ],
   "source": [
    "dat.head()"
   ],
   "metadata": {
    "collapsed": false,
    "ExecuteTime": {
     "end_time": "2023-10-08T07:28:35.853125200Z",
     "start_time": "2023-10-08T07:28:35.816365Z"
    }
   },
   "id": "37541974e5419883"
  },
  {
   "cell_type": "code",
   "execution_count": 37,
   "outputs": [],
   "source": [
    "dat.drop('date', axis = 1, inplace = True)"
   ],
   "metadata": {
    "collapsed": false,
    "ExecuteTime": {
     "end_time": "2023-10-08T07:28:39.132570300Z",
     "start_time": "2023-10-08T07:28:39.104192200Z"
    }
   },
   "id": "fe82a7a5e4fa1ae0"
  },
  {
   "cell_type": "code",
   "execution_count": 38,
   "outputs": [],
   "source": [
    "cat_var = ['severity', 'ambulatory', 'origin', 'tip_grd', 'tip_adm']\n",
    "non_cat_var = list(set(dat.columns) - set(cat_var))\n",
    "num_var = list(set(dat.columns) - set(cat_var) - {'dataset', 'exitus'})"
   ],
   "metadata": {
    "collapsed": false,
    "ExecuteTime": {
     "end_time": "2023-10-08T07:28:39.903656200Z",
     "start_time": "2023-10-08T07:28:39.875622900Z"
    }
   },
   "id": "ad6e3d2019bac20c"
  },
  {
   "cell_type": "code",
   "execution_count": 39,
   "outputs": [
    {
     "data": {
      "text/plain": "severity            True\nmortality_ratio     True\nage                 True\nnum_proc            True\nambulatory          True\norigin              True\nexpected_length     True\ntip_grd             True\ntip_adm             True\nexitus             False\ndataset            False\ndtype: bool"
     },
     "execution_count": 39,
     "metadata": {},
     "output_type": "execute_result"
    }
   ],
   "source": [
    "dat.isna().any()"
   ],
   "metadata": {
    "collapsed": false,
    "ExecuteTime": {
     "end_time": "2023-10-08T07:28:41.525604200Z",
     "start_time": "2023-10-08T07:28:41.485475500Z"
    }
   },
   "id": "5a446d957539bf34"
  },
  {
   "cell_type": "code",
   "execution_count": 40,
   "outputs": [
    {
     "name": "stderr",
     "output_type": "stream",
     "text": [
      "J:\\IE\\SECOND TERM\\MLII\\venv\\Lib\\site-packages\\sklearn\\impute\\_iterative.py:796: ConvergenceWarning: [IterativeImputer] Early stopping criterion not reached.\n",
      "  warnings.warn(\n"
     ]
    },
    {
     "data": {
      "text/plain": "severity            True\nmortality_ratio    False\nage                False\nnum_proc           False\nambulatory          True\norigin              True\nexpected_length    False\ntip_grd             True\ntip_adm             True\nexitus             False\ndataset            False\ndtype: bool"
     },
     "execution_count": 40,
     "metadata": {},
     "output_type": "execute_result"
    }
   ],
   "source": [
    "from sklearn.ensemble import RandomForestRegressor\n",
    "from fancyimpute import IterativeImputer as MICE\n",
    "\n",
    "# 3) Define \"model\"\n",
    "model = MICE(estimator=RandomForestRegressor())\n",
    "\n",
    "# 4) Train \"model\"\n",
    "model.fit(dat[num_var][dat['dataset'] == 'train'])\n",
    "\n",
    "# 5) \"Predict\"\n",
    "dat[num_var] = model.transform(dat[num_var])\n",
    "dat.isna().any()"
   ],
   "metadata": {
    "collapsed": false,
    "ExecuteTime": {
     "end_time": "2023-10-08T07:28:58.426577900Z",
     "start_time": "2023-10-08T07:28:42.885705Z"
    }
   },
   "id": "4d8798c45537d087"
  },
  {
   "cell_type": "code",
   "execution_count": 41,
   "outputs": [],
   "source": [
    "dat[cat_var] = dat[cat_var].astype('str')"
   ],
   "metadata": {
    "collapsed": false,
    "ExecuteTime": {
     "end_time": "2023-10-08T07:29:19.940760400Z",
     "start_time": "2023-10-08T07:29:19.919766100Z"
    }
   },
   "id": "fdd5fa2fe722455"
  },
  {
   "cell_type": "code",
   "execution_count": 42,
   "outputs": [
    {
     "data": {
      "text/plain": "severity      0\nambulatory    0\norigin        0\ntip_grd       0\ntip_adm       0\ndtype: int64"
     },
     "execution_count": 42,
     "metadata": {},
     "output_type": "execute_result"
    }
   ],
   "source": [
    "dat.loc[dat['dataset'] == 'train', cat_var] = dat.loc[dat['dataset'] == 'train', cat_var].fillna('UNKNOWN')\n",
    "dat[cat_var][dat['dataset'] == 'train'].isna().sum()"
   ],
   "metadata": {
    "collapsed": false,
    "ExecuteTime": {
     "end_time": "2023-10-08T07:29:22.229143100Z",
     "start_time": "2023-10-08T07:29:22.186487100Z"
    }
   },
   "id": "48bea39e65e51e56"
  },
  {
   "cell_type": "code",
   "execution_count": 43,
   "outputs": [
    {
     "data": {
      "text/plain": "severity           False\nmortality_ratio    False\nage                False\nnum_proc           False\nambulatory         False\norigin             False\nexpected_length    False\ntip_grd            False\ntip_adm            False\nexitus             False\ndataset            False\ndtype: bool"
     },
     "execution_count": 43,
     "metadata": {},
     "output_type": "execute_result"
    }
   ],
   "source": [
    "dat.isna().any()"
   ],
   "metadata": {
    "collapsed": false,
    "ExecuteTime": {
     "end_time": "2023-10-08T07:29:24.286119500Z",
     "start_time": "2023-10-08T07:29:24.266637600Z"
    }
   },
   "id": "9111da8033d3fe13"
  },
  {
   "cell_type": "code",
   "execution_count": 44,
   "outputs": [],
   "source": [
    "from sklearn.preprocessing import OneHotEncoder\n",
    "\n",
    "ohe = OneHotEncoder(sparse_output = False, drop='first')\n",
    "\n",
    "# 4) Training model\n",
    "ohe.fit(dat[cat_var][dat['dataset'] == 'train'])\n",
    "\n",
    "# 5) Predicting\n",
    "dat_ohe = pd.DataFrame(ohe.fit_transform(dat[cat_var]))\n",
    "\n",
    "# Optional\n",
    "dat_ohe.columns = ohe.get_feature_names_out()\n",
    "dat = pd.concat((dat[non_cat_var], dat_ohe), axis=1)"
   ],
   "metadata": {
    "collapsed": false,
    "ExecuteTime": {
     "end_time": "2023-10-08T07:29:26.502053900Z",
     "start_time": "2023-10-08T07:29:26.456322700Z"
    }
   },
   "id": "2098765cd5d77c54"
  },
  {
   "cell_type": "code",
   "execution_count": 45,
   "outputs": [
    {
     "data": {
      "text/plain": "            count\nexitus           \n0       96.235664\n1        3.764336",
      "text/html": "<div>\n<style scoped>\n    .dataframe tbody tr th:only-of-type {\n        vertical-align: middle;\n    }\n\n    .dataframe tbody tr th {\n        vertical-align: top;\n    }\n\n    .dataframe thead th {\n        text-align: right;\n    }\n</style>\n<table border=\"1\" class=\"dataframe\">\n  <thead>\n    <tr style=\"text-align: right;\">\n      <th></th>\n      <th>count</th>\n    </tr>\n    <tr>\n      <th>exitus</th>\n      <th></th>\n    </tr>\n  </thead>\n  <tbody>\n    <tr>\n      <th>0</th>\n      <td>96.235664</td>\n    </tr>\n    <tr>\n      <th>1</th>\n      <td>3.764336</td>\n    </tr>\n  </tbody>\n</table>\n</div>"
     },
     "execution_count": 45,
     "metadata": {},
     "output_type": "execute_result"
    }
   ],
   "source": [
    "100*dat.groupby(['exitus'])['exitus'].agg(['count'])/dat.shape[0]"
   ],
   "metadata": {
    "collapsed": false,
    "ExecuteTime": {
     "end_time": "2023-10-08T07:29:28.275622200Z",
     "start_time": "2023-10-08T07:29:28.238483600Z"
    }
   },
   "id": "b736fa89a2230c2f"
  },
  {
   "cell_type": "code",
   "execution_count": 46,
   "outputs": [
    {
     "name": "stdout",
     "output_type": "stream",
     "text": [
      "For a 10.0% minority class after oversampling, set sampling_strategy to 0.11 in SMOTE.\n"
     ]
    }
   ],
   "source": [
    "def compute_sampling_strategy(frac_minority, minority_count, majority_count):\n",
    "    synthetic_samples = (frac_minority * majority_count - (1 - frac_minority) * minority_count) / (1 - frac_minority)\n",
    "    strategy = (minority_count + synthetic_samples) / majority_count\n",
    "    return strategy\n",
    "\n",
    "# Assume you have counts for your classes\n",
    "minority_count = sum(dat['exitus'] == 1)\n",
    "majority_count = sum(dat['exitus'] == 0)\n",
    "\n",
    "# For a 10-90 split:\n",
    "fraction = 0.1\n",
    "sampling_value = compute_sampling_strategy(fraction, minority_count, majority_count)\n",
    "print(f\"For a {fraction*100}% minority class after oversampling, set sampling_strategy to {sampling_value:.2f} in SMOTE.\")"
   ],
   "metadata": {
    "collapsed": false,
    "ExecuteTime": {
     "end_time": "2023-10-08T07:29:30.646885600Z",
     "start_time": "2023-10-08T07:29:30.629827200Z"
    }
   },
   "id": "6b0eac26d0d4b00"
  },
  {
   "cell_type": "code",
   "execution_count": 47,
   "outputs": [],
   "source": [
    "%%capture\n",
    "from imblearn.over_sampling import SMOTE\n",
    "sm = SMOTE(sampling_strategy =sampling_value,\n",
    "           random_state = 0,\n",
    "           k_neighbors = 5)\n",
    "\n",
    "X_res, y_res = sm.fit_resample(dat.drop(['exitus', 'dataset'], axis = 1), dat['exitus'])\n",
    "\n",
    "X_res['exitus'] = y_res\n",
    "\n",
    "X_res['dataset'] = 'train'\n",
    "\n",
    "dat_new = pd.concat([X_res, dat[dat['dataset'] == 'val'], dat[dat['dataset'] == 'test']])\n",
    "\n",
    "# Checking the class distribution after SMOTE\n",
    "100*X_res.exitus.value_counts()/X_res.shape[0]"
   ],
   "metadata": {
    "collapsed": false,
    "ExecuteTime": {
     "end_time": "2023-10-08T07:29:45.816716700Z",
     "start_time": "2023-10-08T07:29:45.739611900Z"
    }
   },
   "id": "c90d87426415cbe0"
  },
  {
   "cell_type": "markdown",
   "source": [
    "# Model Random Forest"
   ],
   "metadata": {
    "collapsed": false
   },
   "id": "51b4111f471f56a4"
  },
  {
   "cell_type": "code",
   "execution_count": 48,
   "outputs": [],
   "source": [
    "from sklearn.metrics import roc_auc_score as metric"
   ],
   "metadata": {
    "collapsed": false,
    "ExecuteTime": {
     "end_time": "2023-10-08T07:29:49.432645800Z",
     "start_time": "2023-10-08T07:29:49.385117100Z"
    }
   },
   "id": "84e8b9259e8b7e69"
  },
  {
   "cell_type": "code",
   "execution_count": 49,
   "outputs": [],
   "source": [
    "from sklearn.ensemble import RandomForestClassifier as model_constructor"
   ],
   "metadata": {
    "collapsed": false,
    "ExecuteTime": {
     "end_time": "2023-10-08T07:29:51.064943300Z",
     "start_time": "2023-10-08T07:29:51.049911700Z"
    }
   },
   "id": "ed7f2078d86555d5"
  },
  {
   "cell_type": "code",
   "execution_count": 53,
   "outputs": [],
   "source": [
    "# Random Forest\n",
    "n_estimators_values = [120, 140, 150]\n",
    "max_features_values = [3, 4, 5, 6]\n",
    "max_samples_values = [60, 80, 100, 120]\n",
    "\n",
    "params_grid = {'max_features': max_features_values,\n",
    "              'n_estimators': n_estimators_values,\n",
    "               'max_samples': max_samples_values}\n"
   ],
   "metadata": {
    "collapsed": false,
    "ExecuteTime": {
     "end_time": "2023-10-08T07:31:13.351519400Z",
     "start_time": "2023-10-08T07:31:13.346008100Z"
    }
   },
   "id": "6464da92227999ac"
  },
  {
   "cell_type": "code",
   "execution_count": 54,
   "outputs": [
    {
     "name": "stdout",
     "output_type": "stream",
     "text": [
      "Iteracion = 1\n",
      "Metric train = 0.96 - Metric validation = 0.92.\n",
      "Iteracion = 2\n",
      "Metric train = 0.96 - Metric validation = 0.92.\n",
      "Iteracion = 3\n",
      "Metric train = 0.97 - Metric validation = 0.92.\n",
      "Iteracion = 4\n",
      "Metric train = 0.98 - Metric validation = 0.92.\n",
      "Iteracion = 5\n",
      "Metric train = 0.96 - Metric validation = 0.92.\n",
      "Iteracion = 6\n",
      "Metric train = 0.96 - Metric validation = 0.92.\n",
      "Iteracion = 7\n",
      "Metric train = 0.97 - Metric validation = 0.92.\n",
      "Iteracion = 8\n",
      "Metric train = 0.98 - Metric validation = 0.92.\n",
      "Iteracion = 9\n",
      "Metric train = 0.96 - Metric validation = 0.92.\n",
      "Iteracion = 10\n",
      "Metric train = 0.96 - Metric validation = 0.92.\n",
      "Iteracion = 11\n",
      "Metric train = 0.97 - Metric validation = 0.92.\n",
      "Iteracion = 12\n",
      "Metric train = 0.98 - Metric validation = 0.92.\n",
      "Iteracion = 13\n",
      "Metric train = 0.95 - Metric validation = 0.92.\n",
      "Iteracion = 14\n",
      "Metric train = 0.96 - Metric validation = 0.92.\n",
      "Iteracion = 15\n",
      "Metric train = 0.97 - Metric validation = 0.92.\n",
      "Iteracion = 16\n",
      "Metric train = 0.98 - Metric validation = 0.92.\n",
      "Iteracion = 17\n",
      "Metric train = 0.95 - Metric validation = 0.93.\n",
      "Iteracion = 18\n",
      "Metric train = 0.96 - Metric validation = 0.93.\n",
      "Iteracion = 19\n",
      "Metric train = 0.97 - Metric validation = 0.93.\n",
      "Iteracion = 20\n",
      "Metric train = 0.98 - Metric validation = 0.92.\n",
      "Iteracion = 21\n",
      "Metric train = 0.95 - Metric validation = 0.93.\n",
      "Iteracion = 22\n",
      "Metric train = 0.96 - Metric validation = 0.93.\n",
      "Iteracion = 23\n",
      "Metric train = 0.97 - Metric validation = 0.93.\n",
      "Iteracion = 24\n",
      "Metric train = 0.98 - Metric validation = 0.92.\n",
      "Iteracion = 25\n",
      "Metric train = 0.96 - Metric validation = 0.92.\n",
      "Iteracion = 26\n",
      "Metric train = 0.96 - Metric validation = 0.92.\n",
      "Iteracion = 27\n",
      "Metric train = 0.97 - Metric validation = 0.92.\n",
      "Iteracion = 28\n",
      "Metric train = 0.98 - Metric validation = 0.92.\n",
      "Iteracion = 29\n",
      "Metric train = 0.96 - Metric validation = 0.92.\n",
      "Iteracion = 30\n",
      "Metric train = 0.96 - Metric validation = 0.93.\n",
      "Iteracion = 31\n",
      "Metric train = 0.97 - Metric validation = 0.92.\n",
      "Iteracion = 32\n",
      "Metric train = 0.98 - Metric validation = 0.92.\n",
      "Iteracion = 33\n",
      "Metric train = 0.96 - Metric validation = 0.92.\n",
      "Iteracion = 34\n",
      "Metric train = 0.96 - Metric validation = 0.93.\n",
      "Iteracion = 35\n",
      "Metric train = 0.97 - Metric validation = 0.92.\n",
      "Iteracion = 36\n",
      "Metric train = 0.98 - Metric validation = 0.92.\n",
      "Iteracion = 37\n",
      "Metric train = 0.96 - Metric validation = 0.92.\n",
      "Iteracion = 38\n",
      "Metric train = 0.96 - Metric validation = 0.91.\n",
      "Iteracion = 39\n",
      "Metric train = 0.97 - Metric validation = 0.92.\n",
      "Iteracion = 40\n",
      "Metric train = 0.98 - Metric validation = 0.92.\n",
      "Iteracion = 41\n",
      "Metric train = 0.96 - Metric validation = 0.92.\n",
      "Iteracion = 42\n",
      "Metric train = 0.97 - Metric validation = 0.92.\n",
      "Iteracion = 43\n",
      "Metric train = 0.97 - Metric validation = 0.92.\n",
      "Iteracion = 44\n",
      "Metric train = 0.98 - Metric validation = 0.92.\n",
      "Iteracion = 45\n",
      "Metric train = 0.96 - Metric validation = 0.92.\n",
      "Iteracion = 46\n",
      "Metric train = 0.96 - Metric validation = 0.92.\n",
      "Iteracion = 47\n",
      "Metric train = 0.97 - Metric validation = 0.92.\n",
      "Iteracion = 48\n",
      "Metric train = 0.98 - Metric validation = 0.92.\n"
     ]
    }
   ],
   "source": [
    "num_iter = 1\n",
    "grid_results = pd.DataFrame(columns = ('max_features',\n",
    "                                       'n_estimators',\n",
    "                                       'max_samples',\n",
    "                                       'metric_train',\n",
    "                                       'metric_val'))\n",
    "\n",
    "for max_features in params_grid['max_features']:\n",
    "    for n_estimators in params_grid['n_estimators']:\n",
    "        for max_samples in params_grid['max_samples']:\n",
    "\n",
    "                        # Print trace\n",
    "                        print('Iteracion = ' + str(num_iter))\n",
    "\n",
    "                        # [3] Define model\n",
    "                        model = model_constructor(max_features = max_features,\n",
    "                                                  n_estimators = n_estimators,\n",
    "                                                  max_samples = max_samples,\n",
    "                                                  random_state = 0)\n",
    "\n",
    "                        # [4] Train model\n",
    "                        model.fit(dat[dat['dataset'] == 'train'].drop(['exitus', 'dataset'], axis = 1),\n",
    "                                  dat[dat['dataset'] == 'train'].exitus.values)\n",
    "\n",
    "\n",
    "                        # [5] Predict\n",
    "                        pred_train = model.predict_proba(dat[dat['dataset'] == 'train'].drop(['exitus', 'dataset'], axis = 1)) # predict!\n",
    "                        pred_val = model.predict_proba(dat[dat['dataset'] == 'val'].drop(['exitus', 'dataset'], axis = 1)) # predict!\n",
    "\n",
    "                        # [6] Compute metric\n",
    "                        metric_train = metric(dat[dat['dataset'] == 'train'].exitus.values, pred_train[:,1])\n",
    "                        metric_val = metric(dat[dat['dataset'] == 'val'].exitus.values, pred_val[:,1])\n",
    "\n",
    "                        # print error\n",
    "                        print('Metric train = %.2f - Metric validation = %.2f.'\n",
    "                              % (metric_train, metric_val))\n",
    "\n",
    "                        # Save iteration results\n",
    "                        grid_results.loc[num_iter]=[ max_features,\n",
    "                                                    n_estimators,\n",
    "                                                    max_samples,\n",
    "                                                 metric_train,\n",
    "                                                 metric_val]\n",
    "                        num_iter += 1\n",
    "\n"
   ],
   "metadata": {
    "collapsed": false,
    "ExecuteTime": {
     "end_time": "2023-10-08T07:31:22.587892Z",
     "start_time": "2023-10-08T07:31:14.292319600Z"
    }
   },
   "id": "c4ddf26ee43d0caf"
  },
  {
   "cell_type": "code",
   "execution_count": 72,
   "outputs": [
    {
     "data": {
      "text/plain": "max_features      4.000000\nn_estimators    140.000000\nmax_samples      80.000000\nmetric_train      0.962728\nmetric_val        0.926927\nName: 18, dtype: float64"
     },
     "execution_count": 72,
     "metadata": {},
     "output_type": "execute_result"
    }
   ],
   "source": [
    "grid_results = grid_results.sort_values(by = ['metric_val', 'metric_train'], ascending = [False, False])\n",
    "best_model = grid_results.iloc[0]\n",
    "best_model"
   ],
   "metadata": {
    "collapsed": false,
    "ExecuteTime": {
     "end_time": "2023-10-08T07:41:49.453132200Z",
     "start_time": "2023-10-08T07:41:49.410195200Z"
    }
   },
   "id": "f3c615af9b9b6e4d"
  },
  {
   "cell_type": "code",
   "execution_count": 56,
   "outputs": [],
   "source": [
    "model =  model_constructor(max_features = int(best_model['max_features']),\n",
    "                                                  n_estimators = int(best_model['n_estimators']),\n",
    "                                                  max_samples = int(best_model['max_samples']),\n",
    "                                                  random_state = 0)"
   ],
   "metadata": {
    "collapsed": false,
    "ExecuteTime": {
     "end_time": "2023-10-08T07:31:51.143317700Z",
     "start_time": "2023-10-08T07:31:51.127273200Z"
    }
   },
   "id": "3a339c2033961c51"
  },
  {
   "cell_type": "code",
   "execution_count": 57,
   "outputs": [],
   "source": [
    "# [4] Train model\n",
    "model.fit(dat[dat['dataset'] == 'train'].drop(['exitus', 'dataset'], axis = 1), dat[dat['dataset'] == 'train'].exitus.values)\n",
    "\n",
    "\n",
    "# [5] Predict\n",
    "pred_train = model.predict_proba(dat[dat['dataset'] == 'train'].drop(['exitus', 'dataset'], axis = 1)) # predict!\n",
    "pred_val = model.predict_proba(dat[dat['dataset'] == 'val'].drop(['exitus', 'dataset'], axis = 1)) # predict!\n",
    "pred_test = model.predict_proba(dat[dat['dataset'] == 'test'].drop(['exitus', 'dataset'], axis = 1)) # predict!\n",
    "\n",
    "\n",
    "# [6] Compute metric\n",
    "metric_train = metric(dat[dat['dataset'] == 'train'].exitus.values, pred_train[:,1])\n",
    "metric_val = metric(dat[dat['dataset'] == 'val'].exitus.values, pred_val[:,1])\n",
    "metric_test = metric(dat[dat['dataset'] == 'test'].exitus.values, pred_test[:,1])"
   ],
   "metadata": {
    "collapsed": false,
    "ExecuteTime": {
     "end_time": "2023-10-08T07:31:53.409960Z",
     "start_time": "2023-10-08T07:31:53.195555Z"
    }
   },
   "id": "b01a72f44944ec4"
  },
  {
   "cell_type": "code",
   "execution_count": 58,
   "outputs": [
    {
     "name": "stdout",
     "output_type": "stream",
     "text": [
      "Metric train = 0.9627 - Metric val = 0.9269 - Metric test = 0.9278\n"
     ]
    }
   ],
   "source": [
    "# print error\n",
    "print('Metric train = %.4f - Metric val = %.4f - Metric test = %.4f'\n",
    "      % (metric_train, metric_val, metric_test))"
   ],
   "metadata": {
    "collapsed": false,
    "ExecuteTime": {
     "end_time": "2023-10-08T07:31:55.416958500Z",
     "start_time": "2023-10-08T07:31:55.395325600Z"
    }
   },
   "id": "a41082fd2ee92ff0"
  },
  {
   "cell_type": "markdown",
   "source": [
    "# XGBoost"
   ],
   "metadata": {
    "collapsed": false
   },
   "id": "b06512d582f9c003"
  },
  {
   "cell_type": "code",
   "execution_count": 59,
   "outputs": [],
   "source": [
    "from xgboost import XGBClassifier as model_constructor\n",
    "from sklearn.metrics import roc_auc_score as metric"
   ],
   "metadata": {
    "collapsed": false,
    "ExecuteTime": {
     "end_time": "2023-10-08T07:32:01.259916400Z",
     "start_time": "2023-10-08T07:32:01.245788200Z"
    }
   },
   "id": "94649a29c8376f33"
  },
  {
   "cell_type": "code",
   "execution_count": 78,
   "outputs": [],
   "source": [
    "model = model_constructor(eval_metric=\"auc\",\n",
    "                          early_stopping_rounds=30,\n",
    "                          max_depth=8,\n",
    "                          random_state=1,\n",
    "                          learning_rate=0.05,\n",
    "                          colsample_bytree = 0.5,\n",
    "                          alpha=4,\n",
    "                          reg_lambda=20,\n",
    "                          n_estimators=2000)"
   ],
   "metadata": {
    "collapsed": false,
    "ExecuteTime": {
     "end_time": "2023-10-08T07:44:26.197018400Z",
     "start_time": "2023-10-08T07:44:26.166535600Z"
    }
   },
   "id": "6755d44529122bc8"
  },
  {
   "cell_type": "code",
   "execution_count": 79,
   "outputs": [],
   "source": [
    "%%capture\n",
    "import numpy as np\n",
    "import timeit\n",
    "\n",
    "start = timeit.default_timer()\n",
    "model.fit(dat[dat['dataset'] == 'train'].drop(['exitus', 'dataset'], axis = 1),\n",
    "          np.array(dat[dat['dataset'] == 'train'].exitus.values),\n",
    "          eval_set=[(dat[dat['dataset'] == 'val'].drop(['exitus', 'dataset'], axis = 1), dat[dat['dataset'] == 'val'].exitus.values)],\n",
    "          verbose=True)\n",
    "time = timeit.default_timer() - start"
   ],
   "metadata": {
    "collapsed": false,
    "ExecuteTime": {
     "end_time": "2023-10-08T07:44:27.218735600Z",
     "start_time": "2023-10-08T07:44:26.858200700Z"
    }
   },
   "id": "fa0b192d5130ed46"
  },
  {
   "cell_type": "code",
   "execution_count": 80,
   "outputs": [
    {
     "data": {
      "text/plain": "236"
     },
     "execution_count": 80,
     "metadata": {},
     "output_type": "execute_result"
    }
   ],
   "source": [
    "model.best_iteration"
   ],
   "metadata": {
    "collapsed": false,
    "ExecuteTime": {
     "end_time": "2023-10-08T07:44:29.980823400Z",
     "start_time": "2023-10-08T07:44:29.975141900Z"
    }
   },
   "id": "64e2eeab913a172b"
  },
  {
   "cell_type": "code",
   "execution_count": 81,
   "outputs": [],
   "source": [
    "%%capture\n",
    "pred_train_p = model.predict_proba(dat[dat['dataset'] == 'train'].drop(['exitus', 'dataset'], axis = 1))\n",
    "pred_val_p = model.predict_proba(dat[dat['dataset'] == 'val'].drop(['exitus', 'dataset'], axis = 1))\n",
    "pred_test_p = model.predict_proba(dat[dat['dataset'] == 'test'].drop(['exitus', 'dataset'], axis = 1))"
   ],
   "metadata": {
    "collapsed": false,
    "ExecuteTime": {
     "end_time": "2023-10-08T07:44:31.022584400Z",
     "start_time": "2023-10-08T07:44:30.975738600Z"
    }
   },
   "id": "fc25a711c6e0bd8b"
  },
  {
   "cell_type": "code",
   "execution_count": 82,
   "outputs": [
    {
     "name": "stdout",
     "output_type": "stream",
     "text": [
      "               model  mse_train   mse_val  mse_test\n",
      "0  XGBoost (Default)   0.960898  0.922807  0.921944\n"
     ]
    }
   ],
   "source": [
    "# Calcular métricas de evaluación\n",
    "auc_train = metric(dat[dat['dataset'] == 'train'].exitus.values, pred_train_p[:,1])\n",
    "auc_val = metric(dat[dat['dataset'] == 'val'].exitus.values, pred_val_p[:,1])\n",
    "auc_test = metric(dat[dat['dataset'] == 'test'].exitus.values, pred_test_p[:,1])\n",
    "results = pd.DataFrame()\n",
    "\n",
    "new_data = pd.DataFrame(data={'model': ['XGBoost (Default)'], 'mse_train': [auc_train], 'mse_val': [auc_val], 'mse_test': [auc_test]}, columns=['model', 'mse_train', 'mse_val', 'mse_test'])\n",
    "\n",
    "results = pd.concat([results, new_data], ignore_index=True)\n",
    "\n",
    "print(results)"
   ],
   "metadata": {
    "collapsed": false,
    "ExecuteTime": {
     "end_time": "2023-10-08T07:44:32.526241900Z",
     "start_time": "2023-10-08T07:44:32.495169500Z"
    }
   },
   "id": "878157cbee14a4fa"
  },
  {
   "cell_type": "code",
   "execution_count": 84,
   "outputs": [
    {
     "name": "stdout",
     "output_type": "stream",
     "text": [
      "Random Forest Results\n",
      "Metric train = 0.9627 - Metric val = 0.9269 - Metric test = 0.9278\n"
     ]
    }
   ],
   "source": [
    "print('Random Forest Results')\n",
    "print('Metric train = %.4f - Metric val = %.4f - Metric test = %.4f'\n",
    "      % (metric_train, metric_val, metric_test))"
   ],
   "metadata": {
    "collapsed": false,
    "ExecuteTime": {
     "end_time": "2023-10-08T07:52:57.071386300Z",
     "start_time": "2023-10-08T07:52:57.055458900Z"
    }
   },
   "id": "b3da6fbbbcf087c2"
  }
 ],
 "metadata": {
  "kernelspec": {
   "display_name": "Python 3",
   "language": "python",
   "name": "python3"
  },
  "language_info": {
   "codemirror_mode": {
    "name": "ipython",
    "version": 2
   },
   "file_extension": ".py",
   "mimetype": "text/x-python",
   "name": "python",
   "nbconvert_exporter": "python",
   "pygments_lexer": "ipython2",
   "version": "2.7.6"
  }
 },
 "nbformat": 4,
 "nbformat_minor": 5
}
