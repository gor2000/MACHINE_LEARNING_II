{
 "cells": [
  {
   "cell_type": "code",
   "execution_count": 2,
   "metadata": {
    "id": "sCI9PixyUfV_",
    "executionInfo": {
     "status": "ok",
     "timestamp": 1694950687773,
     "user_tz": -120,
     "elapsed": 1568,
     "user": {
      "displayName": "Jesus Prada",
      "userId": "01990672692810654269"
     }
    },
    "ExecuteTime": {
     "end_time": "2023-09-17T15:41:10.356278900Z",
     "start_time": "2023-09-17T15:41:08.682834700Z"
    }
   },
   "outputs": [],
   "source": [
    "# Load Libraries\n",
    "%matplotlib inline\n",
    "import numpy as np\n",
    "import matplotlib.pyplot as plt\n",
    "from scipy import stats\n",
    "import pandas as pd\n",
    "\n",
    "from sklearn.model_selection import train_test_split\n",
    "\n",
    "from multiprocessing import cpu_count"
   ]
  },
  {
   "cell_type": "markdown",
   "metadata": {
    "id": "pGUL4BohUfWA"
   },
   "source": [
    "# Oversampling"
   ]
  },
  {
   "cell_type": "markdown",
   "metadata": {
    "id": "y2ZcK2rCUfWB"
   },
   "source": [
    "**Unbalanced problems** are those classification problems where the ratio between the different classes is significantly different. These problems have some special issues that make them a little bit more difficult to solve. In particular, the choice of metric should account for this class imbalance, and some extra steps should be carried out to avoid the model focusing too much on the most frequent classes and performing poorly over the least frequent ones.\n",
    "\n",
    "We will focus here on the binary classification problem, where you have a **majority class** and a **minority class**. For instance, the healthcare classification problem we worked on previous classes could be considered an unbalanced problem as the ratio of exitus (minority class) is approximately 5%. Other example would be the fraud detection problem at Iberia Express, where the minority class (fraud transaction) never exceeds 0.2% of the data, which is a ratio that would be considered a real unbalanced classification problem.\n",
    "\n",
    "Metrics that can be applied to unbalanced problems are the ones based on the area under a curve. We have already seen ROC curve and precision-recall curve. From this two, area under the precision-recall curve is slightly preferred when dealing with highly unbalanced problems.\n",
    "\n",
    "Regarding the extra pre-processing steps that can be carried out to help model solve unbalanced problems, we will cover **oversampling** of the **minority class** and **subsampling** of the **majority class**. We **focus here on oversampling**."
   ]
  },
  {
   "cell_type": "markdown",
   "metadata": {
    "id": "ddlo1EvIUfWC"
   },
   "source": [
    "## Load Data"
   ]
  },
  {
   "cell_type": "markdown",
   "source": [
    "This is the method to load local files into Google Colab"
   ],
   "metadata": {
    "id": "iyVA7Nak2w9z"
   }
  },
  {
   "cell_type": "code",
   "execution_count": 3,
   "metadata": {
    "id": "GgCslWU_UfWC",
    "outputId": "6464d2d7-342d-4681-a32f-ba41de525d3c",
    "colab": {
     "base_uri": "https://localhost:8080/",
     "height": 424
    },
    "executionInfo": {
     "status": "ok",
     "timestamp": 1694950909791,
     "user_tz": -120,
     "elapsed": 332,
     "user": {
      "displayName": "Jesus Prada",
      "userId": "01990672692810654269"
     }
    },
    "ExecuteTime": {
     "end_time": "2023-09-17T15:41:12.293018100Z",
     "start_time": "2023-09-17T15:41:12.231011800Z"
    }
   },
   "outputs": [
    {
     "data": {
      "text/plain": "       mortality_ratio    age  num_proc  ambulatory  expected_length  exitus\n0             0.408730  12596        21           0              151       0\n1             0.306931  20973        22           0               99       0\n2             0.278481  19611        19           0               87       0\n3             0.150289  13583        22           0              100       0\n4             0.016573  18042         2           0               44       0\n...                ...    ...       ...         ...              ...     ...\n32701         0.028365  23619         2           0                2       0\n32702         0.000606   3935         1           0                2       0\n32703         0.040452  30163         4           0                2       0\n32704         0.000000  29012         4           0                0       0\n32705         0.000000  13244         1           1                0       0\n\n[32706 rows x 6 columns]",
      "text/html": "<div>\n<style scoped>\n    .dataframe tbody tr th:only-of-type {\n        vertical-align: middle;\n    }\n\n    .dataframe tbody tr th {\n        vertical-align: top;\n    }\n\n    .dataframe thead th {\n        text-align: right;\n    }\n</style>\n<table border=\"1\" class=\"dataframe\">\n  <thead>\n    <tr style=\"text-align: right;\">\n      <th></th>\n      <th>mortality_ratio</th>\n      <th>age</th>\n      <th>num_proc</th>\n      <th>ambulatory</th>\n      <th>expected_length</th>\n      <th>exitus</th>\n    </tr>\n  </thead>\n  <tbody>\n    <tr>\n      <th>0</th>\n      <td>0.408730</td>\n      <td>12596</td>\n      <td>21</td>\n      <td>0</td>\n      <td>151</td>\n      <td>0</td>\n    </tr>\n    <tr>\n      <th>1</th>\n      <td>0.306931</td>\n      <td>20973</td>\n      <td>22</td>\n      <td>0</td>\n      <td>99</td>\n      <td>0</td>\n    </tr>\n    <tr>\n      <th>2</th>\n      <td>0.278481</td>\n      <td>19611</td>\n      <td>19</td>\n      <td>0</td>\n      <td>87</td>\n      <td>0</td>\n    </tr>\n    <tr>\n      <th>3</th>\n      <td>0.150289</td>\n      <td>13583</td>\n      <td>22</td>\n      <td>0</td>\n      <td>100</td>\n      <td>0</td>\n    </tr>\n    <tr>\n      <th>4</th>\n      <td>0.016573</td>\n      <td>18042</td>\n      <td>2</td>\n      <td>0</td>\n      <td>44</td>\n      <td>0</td>\n    </tr>\n    <tr>\n      <th>...</th>\n      <td>...</td>\n      <td>...</td>\n      <td>...</td>\n      <td>...</td>\n      <td>...</td>\n      <td>...</td>\n    </tr>\n    <tr>\n      <th>32701</th>\n      <td>0.028365</td>\n      <td>23619</td>\n      <td>2</td>\n      <td>0</td>\n      <td>2</td>\n      <td>0</td>\n    </tr>\n    <tr>\n      <th>32702</th>\n      <td>0.000606</td>\n      <td>3935</td>\n      <td>1</td>\n      <td>0</td>\n      <td>2</td>\n      <td>0</td>\n    </tr>\n    <tr>\n      <th>32703</th>\n      <td>0.040452</td>\n      <td>30163</td>\n      <td>4</td>\n      <td>0</td>\n      <td>2</td>\n      <td>0</td>\n    </tr>\n    <tr>\n      <th>32704</th>\n      <td>0.000000</td>\n      <td>29012</td>\n      <td>4</td>\n      <td>0</td>\n      <td>0</td>\n      <td>0</td>\n    </tr>\n    <tr>\n      <th>32705</th>\n      <td>0.000000</td>\n      <td>13244</td>\n      <td>1</td>\n      <td>1</td>\n      <td>0</td>\n      <td>0</td>\n    </tr>\n  </tbody>\n</table>\n<p>32706 rows × 6 columns</p>\n</div>"
     },
     "execution_count": 3,
     "metadata": {},
     "output_type": "execute_result"
    }
   ],
   "source": [
    "import io\n",
    "dat = pd.read_csv(('../data/healthcare.csv'), sep = \";\")\n",
    "dat = dat.drop(['date', 'severity', 'origin', 'tip_grd', 'tip_adm'], axis = 1) # Remove non-numerical variables for this notebook\n",
    "dat"
   ]
  },
  {
   "cell_type": "markdown",
   "source": [
    "Is **ambulatory a numerical variable**?"
   ],
   "metadata": {
    "id": "D33wa38X5N9r"
   }
  },
  {
   "cell_type": "code",
   "execution_count": 4,
   "metadata": {
    "id": "MjLJ4j6jUfWE",
    "outputId": "1536124e-ad3b-4925-c58f-ce677e64a3f6",
    "colab": {
     "base_uri": "https://localhost:8080/",
     "height": 143
    },
    "executionInfo": {
     "status": "ok",
     "timestamp": 1694169775634,
     "user_tz": -120,
     "elapsed": 222,
     "user": {
      "displayName": "Jesus Prada",
      "userId": "01990672692810654269"
     }
    },
    "ExecuteTime": {
     "end_time": "2023-09-17T15:41:14.449889200Z",
     "start_time": "2023-09-17T15:41:14.431830200Z"
    }
   },
   "outputs": [
    {
     "data": {
      "text/plain": "            count\nexitus           \n0       96.159726\n1        3.840274",
      "text/html": "<div>\n<style scoped>\n    .dataframe tbody tr th:only-of-type {\n        vertical-align: middle;\n    }\n\n    .dataframe tbody tr th {\n        vertical-align: top;\n    }\n\n    .dataframe thead th {\n        text-align: right;\n    }\n</style>\n<table border=\"1\" class=\"dataframe\">\n  <thead>\n    <tr style=\"text-align: right;\">\n      <th></th>\n      <th>count</th>\n    </tr>\n    <tr>\n      <th>exitus</th>\n      <th></th>\n    </tr>\n  </thead>\n  <tbody>\n    <tr>\n      <th>0</th>\n      <td>96.159726</td>\n    </tr>\n    <tr>\n      <th>1</th>\n      <td>3.840274</td>\n    </tr>\n  </tbody>\n</table>\n</div>"
     },
     "execution_count": 4,
     "metadata": {},
     "output_type": "execute_result"
    }
   ],
   "source": [
    "100*dat.groupby(['exitus'])['exitus'].agg(['count'])/dat.shape[0]"
   ]
  },
  {
   "cell_type": "markdown",
   "metadata": {
    "id": "75Se5eHhUfWE"
   },
   "source": [
    "This can be considered an unbalanced classification problem. Let's see how to apply oversampling to it."
   ]
  },
  {
   "cell_type": "markdown",
   "metadata": {
    "id": "uU-TGBeTUfWF"
   },
   "source": [
    "## Duplicated examples"
   ]
  },
  {
   "cell_type": "markdown",
   "metadata": {
    "id": "R70WzgJVUfWF"
   },
   "source": [
    "One straightforward way of increasing the minority class examples is to just create duplicates of the existing minority class instances.\n",
    "\n",
    "At first thought, this could seem not really helpful, as you are just repeating information. However, this can allow you to make the model focus more on the minority classes, giving more importance to a minority class example than to a majority class one. It would be like applying different weights to each row, depending of it belonging to one class or the other."
   ]
  },
  {
   "cell_type": "markdown",
   "metadata": {
    "id": "b3BH3555UfWG"
   },
   "source": [
    "This can easily done with pandas sample function."
   ]
  },
  {
   "cell_type": "code",
   "execution_count": null,
   "metadata": {
    "id": "AajR9txcUfWH"
   },
   "outputs": [],
   "source": [
    "?dat.sample"
   ]
  },
  {
   "cell_type": "code",
   "execution_count": 5,
   "metadata": {
    "id": "MrvMXJ0WUfWH",
    "outputId": "105d927c-30c2-4efd-d95d-5b00d046c498",
    "colab": {
     "base_uri": "https://localhost:8080/"
    },
    "executionInfo": {
     "status": "ok",
     "timestamp": 1694169946061,
     "user_tz": -120,
     "elapsed": 361,
     "user": {
      "displayName": "Jesus Prada",
      "userId": "01990672692810654269"
     }
    },
    "ExecuteTime": {
     "end_time": "2023-09-17T15:41:17.156407300Z",
     "start_time": "2023-09-17T15:41:17.116095100Z"
    }
   },
   "outputs": [
    {
     "data": {
      "text/plain": "exitus\n0    31450\n1     1256\nName: count, dtype: int64"
     },
     "execution_count": 5,
     "metadata": {},
     "output_type": "execute_result"
    }
   ],
   "source": [
    "dat['exitus'].value_counts()"
   ]
  },
  {
   "cell_type": "code",
   "execution_count": 6,
   "metadata": {
    "id": "zyONJe6OUfWH",
    "ExecuteTime": {
     "end_time": "2023-09-17T15:41:18.417950900Z",
     "start_time": "2023-09-17T15:41:18.397673200Z"
    }
   },
   "outputs": [],
   "source": [
    "oversampling_ratio = 0.25\n",
    "oversampling_rows = dat[dat['exitus'] == 1].sample(int(0.25*dat[dat['exitus'] == 0].shape[0]),\n",
    "                                                                      replace = True,\n",
    "                                                                      random_state = 0,\n",
    "                                                                      axis = 0)"
   ]
  },
  {
   "cell_type": "code",
   "execution_count": 7,
   "metadata": {
    "id": "YvBC1BhPUfWI",
    "outputId": "cb3912b3-8cbd-49cd-fa5a-aae3ee8554fa",
    "colab": {
     "base_uri": "https://localhost:8080/"
    },
    "executionInfo": {
     "status": "ok",
     "timestamp": 1694170172648,
     "user_tz": -120,
     "elapsed": 356,
     "user": {
      "displayName": "Jesus Prada",
      "userId": "01990672692810654269"
     }
    },
    "ExecuteTime": {
     "end_time": "2023-09-17T15:41:20.301821200Z",
     "start_time": "2023-09-17T15:41:20.282465200Z"
    }
   },
   "outputs": [
    {
     "data": {
      "text/plain": "(7862, 6)"
     },
     "execution_count": 7,
     "metadata": {},
     "output_type": "execute_result"
    }
   ],
   "source": [
    "oversampling_rows.shape"
   ]
  },
  {
   "cell_type": "code",
   "execution_count": 8,
   "metadata": {
    "id": "1T439MH4UfWI",
    "outputId": "c99f0bf7-0419-49d2-e90c-5ea1e444fdc6",
    "colab": {
     "base_uri": "https://localhost:8080/",
     "height": 143
    },
    "executionInfo": {
     "status": "ok",
     "timestamp": 1694170247039,
     "user_tz": -120,
     "elapsed": 232,
     "user": {
      "displayName": "Jesus Prada",
      "userId": "01990672692810654269"
     }
    },
    "ExecuteTime": {
     "end_time": "2023-09-17T15:41:21.457908600Z",
     "start_time": "2023-09-17T15:41:21.427936700Z"
    }
   },
   "outputs": [
    {
     "data": {
      "text/plain": "            count\nexitus           \n0       77.524157\n1       22.475843",
      "text/html": "<div>\n<style scoped>\n    .dataframe tbody tr th:only-of-type {\n        vertical-align: middle;\n    }\n\n    .dataframe tbody tr th {\n        vertical-align: top;\n    }\n\n    .dataframe thead th {\n        text-align: right;\n    }\n</style>\n<table border=\"1\" class=\"dataframe\">\n  <thead>\n    <tr style=\"text-align: right;\">\n      <th></th>\n      <th>count</th>\n    </tr>\n    <tr>\n      <th>exitus</th>\n      <th></th>\n    </tr>\n  </thead>\n  <tbody>\n    <tr>\n      <th>0</th>\n      <td>77.524157</td>\n    </tr>\n    <tr>\n      <th>1</th>\n      <td>22.475843</td>\n    </tr>\n  </tbody>\n</table>\n</div>"
     },
     "execution_count": 8,
     "metadata": {},
     "output_type": "execute_result"
    }
   ],
   "source": [
    "dat_duplicates = pd.concat([dat, oversampling_rows])\n",
    "100*dat_duplicates.groupby(['exitus'])['exitus'].agg(['count'])/dat_duplicates.shape[0]"
   ]
  },
  {
   "cell_type": "code",
   "execution_count": 9,
   "metadata": {
    "id": "Mj5CbukaUfWI",
    "outputId": "ee1f9a29-40e3-41e2-ff92-cee8fb6d39cf",
    "colab": {
     "base_uri": "https://localhost:8080/"
    },
    "executionInfo": {
     "status": "ok",
     "timestamp": 1694161667453,
     "user_tz": -120,
     "elapsed": 214,
     "user": {
      "displayName": "Jesus Prada",
      "userId": "01990672692810654269"
     }
    },
    "ExecuteTime": {
     "end_time": "2023-09-17T15:41:22.831988900Z",
     "start_time": "2023-09-17T15:41:22.815439100Z"
    }
   },
   "outputs": [
    {
     "data": {
      "text/plain": "exitus\n0    31450\n1     1256\nName: count, dtype: int64"
     },
     "execution_count": 9,
     "metadata": {},
     "output_type": "execute_result"
    }
   ],
   "source": [
    "dat['exitus'].value_counts()"
   ]
  },
  {
   "cell_type": "code",
   "execution_count": 10,
   "metadata": {
    "id": "usJATK1bUfWJ",
    "outputId": "9169dd87-31e9-45fa-c50e-c12454c03d32",
    "colab": {
     "base_uri": "https://localhost:8080/"
    },
    "executionInfo": {
     "status": "ok",
     "timestamp": 1694170280895,
     "user_tz": -120,
     "elapsed": 271,
     "user": {
      "displayName": "Jesus Prada",
      "userId": "01990672692810654269"
     }
    },
    "ExecuteTime": {
     "end_time": "2023-09-17T15:41:23.919003Z",
     "start_time": "2023-09-17T15:41:23.898793100Z"
    }
   },
   "outputs": [
    {
     "data": {
      "text/plain": "exitus\n0    31450\n1     9118\nName: count, dtype: int64"
     },
     "execution_count": 10,
     "metadata": {},
     "output_type": "execute_result"
    }
   ],
   "source": [
    "dat_duplicates['exitus'].value_counts()"
   ]
  },
  {
   "cell_type": "markdown",
   "metadata": {
    "id": "NPmsguAsUfWJ"
   },
   "source": [
    "We have reduced the target unbalance."
   ]
  },
  {
   "cell_type": "markdown",
   "metadata": {
    "id": "nEXSdGeMUfWJ"
   },
   "source": [
    "## SMOTE"
   ]
  },
  {
   "cell_type": "markdown",
   "metadata": {
    "id": "fe1NiQJJUfWJ"
   },
   "source": [
    "Synthetic Minority Oversampling TEchnique, **SMOTE**, is a really popular and useful oversampling technique. Its goal is to creat synthetic examples of the minority class, based on the distribution of the available examples of that class in the dataset.\n",
    "\n",
    "Specifically, a random example from the minority class is first chosen. Then k of the nearest neighbors for that example are found (default k=5). A randomly selected neighbor is chosen from those k and a synthetic example is created at a randomly selected point between the two examples in feature space.\n",
    "\n",
    "Visually SMOTE can be illustrated as the following:"
   ]
  },
  {
   "cell_type": "markdown",
   "metadata": {
    "id": "0KjB4jcvUfWK"
   },
   "source": [
    "![SMOTE.png](data:image/png;base64,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)"
   ]
  },
  {
   "cell_type": "markdown",
   "metadata": {
    "id": "B_-tLXwbUfWK"
   },
   "source": [
    "It is available in the package *imbalanced-learn*."
   ]
  },
  {
   "cell_type": "code",
   "execution_count": 11,
   "metadata": {
    "id": "SUkridhqUfWK",
    "executionInfo": {
     "status": "ok",
     "timestamp": 1694950725748,
     "user_tz": -120,
     "elapsed": 920,
     "user": {
      "displayName": "Jesus Prada",
      "userId": "01990672692810654269"
     }
    },
    "ExecuteTime": {
     "end_time": "2023-09-17T15:42:15.691551Z",
     "start_time": "2023-09-17T15:42:15.307702800Z"
    }
   },
   "outputs": [],
   "source": [
    "from imblearn.over_sampling import SMOTE"
   ]
  },
  {
   "cell_type": "code",
   "execution_count": 12,
   "metadata": {
    "id": "8skfa3VeUfWK",
    "executionInfo": {
     "status": "ok",
     "timestamp": 1694950918123,
     "user_tz": -120,
     "elapsed": 3,
     "user": {
      "displayName": "Jesus Prada",
      "userId": "01990672692810654269"
     }
    },
    "ExecuteTime": {
     "end_time": "2023-09-17T15:42:17.006368500Z",
     "start_time": "2023-09-17T15:42:16.991973800Z"
    }
   },
   "outputs": [],
   "source": [
    "sm = SMOTE(sampling_strategy = 1.0,\n",
    "           random_state = 0,\n",
    "           k_neighbors = 5)"
   ]
  },
  {
   "cell_type": "code",
   "execution_count": 13,
   "metadata": {
    "id": "jjoQ1c9RUfWK",
    "executionInfo": {
     "status": "ok",
     "timestamp": 1694950921725,
     "user_tz": -120,
     "elapsed": 311,
     "user": {
      "displayName": "Jesus Prada",
      "userId": "01990672692810654269"
     }
    },
    "ExecuteTime": {
     "end_time": "2023-09-17T15:42:18.235045500Z",
     "start_time": "2023-09-17T15:42:18.182120600Z"
    }
   },
   "outputs": [],
   "source": [
    "X_res, y_res = sm.fit_resample(dat.drop('exitus', axis = 1).fillna(0), dat['exitus'])"
   ]
  },
  {
   "cell_type": "code",
   "execution_count": 14,
   "metadata": {
    "id": "G-TGVljRUfWK",
    "colab": {
     "base_uri": "https://localhost:8080/",
     "height": 143
    },
    "executionInfo": {
     "status": "ok",
     "timestamp": 1694170740993,
     "user_tz": -120,
     "elapsed": 40,
     "user": {
      "displayName": "Jesus Prada",
      "userId": "01990672692810654269"
     }
    },
    "outputId": "1293fb3f-bee4-4348-9c54-b0d5ac8e09c3",
    "ExecuteTime": {
     "end_time": "2023-09-17T15:42:20.326831400Z",
     "start_time": "2023-09-17T15:42:20.310550Z"
    }
   },
   "outputs": [
    {
     "data": {
      "text/plain": "        count\nexitus       \n0        50.0\n1        50.0",
      "text/html": "<div>\n<style scoped>\n    .dataframe tbody tr th:only-of-type {\n        vertical-align: middle;\n    }\n\n    .dataframe tbody tr th {\n        vertical-align: top;\n    }\n\n    .dataframe thead th {\n        text-align: right;\n    }\n</style>\n<table border=\"1\" class=\"dataframe\">\n  <thead>\n    <tr style=\"text-align: right;\">\n      <th></th>\n      <th>count</th>\n    </tr>\n    <tr>\n      <th>exitus</th>\n      <th></th>\n    </tr>\n  </thead>\n  <tbody>\n    <tr>\n      <th>0</th>\n      <td>50.0</td>\n    </tr>\n    <tr>\n      <th>1</th>\n      <td>50.0</td>\n    </tr>\n  </tbody>\n</table>\n</div>"
     },
     "execution_count": 14,
     "metadata": {},
     "output_type": "execute_result"
    }
   ],
   "source": [
    "dat_smote = pd.concat([X_res, y_res], axis = 1)\n",
    "100*dat_smote.groupby(['exitus'])['exitus'].agg(['count'])/dat_smote.shape[0]"
   ]
  },
  {
   "cell_type": "code",
   "execution_count": 15,
   "metadata": {
    "id": "w-ZvyZihUfWK",
    "outputId": "9c711b87-ba18-48db-c714-6243b5c9d512",
    "colab": {
     "base_uri": "https://localhost:8080/"
    },
    "executionInfo": {
     "status": "ok",
     "timestamp": 1694161894518,
     "user_tz": -120,
     "elapsed": 258,
     "user": {
      "displayName": "Jesus Prada",
      "userId": "01990672692810654269"
     }
    },
    "ExecuteTime": {
     "end_time": "2023-09-17T15:42:21.546508700Z",
     "start_time": "2023-09-17T15:42:21.530929Z"
    }
   },
   "outputs": [
    {
     "data": {
      "text/plain": "exitus\n0    31450\n1     1256\nName: count, dtype: int64"
     },
     "execution_count": 15,
     "metadata": {},
     "output_type": "execute_result"
    }
   ],
   "source": [
    "dat['exitus'].value_counts()"
   ]
  },
  {
   "cell_type": "code",
   "execution_count": 16,
   "metadata": {
    "id": "3f6GOEjXUfWK",
    "outputId": "8b5c0bfd-7583-4f8b-ad24-fc125936ba90",
    "colab": {
     "base_uri": "https://localhost:8080/"
    },
    "executionInfo": {
     "status": "ok",
     "timestamp": 1694161900949,
     "user_tz": -120,
     "elapsed": 231,
     "user": {
      "displayName": "Jesus Prada",
      "userId": "01990672692810654269"
     }
    },
    "ExecuteTime": {
     "end_time": "2023-09-17T15:42:22.987465300Z",
     "start_time": "2023-09-17T15:42:22.972966900Z"
    }
   },
   "outputs": [
    {
     "data": {
      "text/plain": "exitus\n0    31450\n1    31450\nName: count, dtype: int64"
     },
     "execution_count": 16,
     "metadata": {},
     "output_type": "execute_result"
    }
   ],
   "source": [
    "dat_smote['exitus'].value_counts()"
   ]
  },
  {
   "cell_type": "markdown",
   "metadata": {
    "id": "w1z4mOQ4UfWL"
   },
   "source": [
    "## Model Example"
   ]
  },
  {
   "cell_type": "markdown",
   "metadata": {
    "id": "iGFzBhDwUfWL"
   },
   "source": [
    "Let's work now with an artificial dataset."
   ]
  },
  {
   "cell_type": "code",
   "execution_count": 17,
   "metadata": {
    "id": "lt2k9h7VUfWL",
    "ExecuteTime": {
     "end_time": "2023-09-17T15:42:24.673823400Z",
     "start_time": "2023-09-17T15:42:24.613051300Z"
    }
   },
   "outputs": [],
   "source": [
    "from sklearn.datasets import make_classification"
   ]
  },
  {
   "cell_type": "code",
   "execution_count": null,
   "metadata": {
    "id": "h6EWqjuPUfWL"
   },
   "outputs": [],
   "source": [
    "?make_classification"
   ]
  },
  {
   "cell_type": "code",
   "execution_count": 18,
   "metadata": {
    "id": "lRoHQG0OUfWM",
    "colab": {
     "base_uri": "https://localhost:8080/",
     "height": 444
    },
    "executionInfo": {
     "status": "ok",
     "timestamp": 1694170907131,
     "user_tz": -120,
     "elapsed": 22,
     "user": {
      "displayName": "Jesus Prada",
      "userId": "01990672692810654269"
     }
    },
    "outputId": "db6bbf4d-3133-42f1-dff6-cd0ddf3b9c43",
    "ExecuteTime": {
     "end_time": "2023-09-17T15:42:26.754779700Z",
     "start_time": "2023-09-17T15:42:26.706040Z"
    }
   },
   "outputs": [
    {
     "data": {
      "text/plain": "           0         1         2         3         4         5         6   \\\n0    0.761381 -0.726303 -0.882760  0.482442 -0.018408  0.616003 -1.287714   \n1   -1.898984  0.598479 -2.115828 -0.212588 -0.546183  0.145231 -0.433949   \n2    1.080229  1.436528 -0.863406  0.821463 -0.042686  1.057408  0.617294   \n3    0.286519 -0.904983 -0.120506  1.606508 -0.541059  2.411908 -1.329881   \n4   -1.269741  1.027771  0.236196 -0.616071 -0.435511 -0.441575 -1.215510   \n..        ...       ...       ...       ...       ...       ...       ...   \n995 -2.372752  0.241199  0.388543 -0.536196 -0.566138 -0.243683 -0.161078   \n996  0.064441  0.198146  2.239809  1.169356 -0.303320  1.687558  0.731075   \n997  0.662398 -0.150583  1.080613 -0.983825 -0.397135 -0.929440 -1.630183   \n998  0.589724 -0.248740 -1.667112  0.561053 -0.021237  0.716249 -0.263175   \n999 -0.501531  1.109843 -0.739534  0.998753 -0.287641  1.462831 -2.167579   \n\n           7         8         9         10        11        12        13  \\\n0    0.156845  0.764001  0.165752 -0.505031 -0.554505 -1.012232  2.104490   \n1    0.491958 -0.310234  0.062804  0.543121 -0.045148  1.054995  1.831132   \n2    0.068706  0.174762  1.342367 -0.614906 -0.500036  0.649808  0.181521   \n3    1.305476  0.204597 -0.887442  0.233612  1.406151 -0.574740  0.558940   \n4   -0.496491 -0.099667  0.187553  0.063099 -0.377577 -0.631351  0.277286   \n..        ...       ...       ...       ...       ...       ...       ...   \n995 -2.809955 -0.846728  0.206688  0.708719  0.734700  1.186080  2.290898   \n996  0.071424  1.019326  1.334239  0.191406 -0.930340 -1.335235 -0.702962   \n997  1.288452  1.619819 -0.472825 -0.151867 -1.631699 -0.965601 -0.613015   \n998 -0.505227  0.186734 -0.297017 -0.895176 -0.747946 -1.012003 -0.368098   \n999  0.121664  0.443124 -1.531302 -0.349407  1.309553 -1.871907 -1.075505   \n\n           14        15        16        17        18        19  \n0   -1.861749  0.429889 -0.298592  0.437592 -0.165739 -0.293814  \n1    1.135055  0.024680 -1.621294 -0.270492  0.309067 -2.011508  \n2    0.614657  0.232352 -1.149416 -1.263655  1.077031 -0.544096  \n3    0.449324  0.756007 -1.101714  0.314365 -0.161759 -2.831481  \n4   -1.596203 -0.236960  1.571108 -0.190075  0.540855 -1.397771  \n..        ...       ...       ...       ...       ...       ...  \n995 -2.457200  0.396356 -0.825902 -1.365043 -1.083094 -1.939196  \n996  0.288802 -0.375476 -0.369240  1.394828  0.176314 -1.711403  \n997 -1.360247  1.237631  1.143489 -1.576581  1.079393 -1.079772  \n998  1.871081 -1.024363 -0.765756  0.363201 -0.754536 -0.341030  \n999 -0.955497  0.684687  0.636985 -1.055250 -0.559946 -1.572083  \n\n[1000 rows x 20 columns]",
      "text/html": "<div>\n<style scoped>\n    .dataframe tbody tr th:only-of-type {\n        vertical-align: middle;\n    }\n\n    .dataframe tbody tr th {\n        vertical-align: top;\n    }\n\n    .dataframe thead th {\n        text-align: right;\n    }\n</style>\n<table border=\"1\" class=\"dataframe\">\n  <thead>\n    <tr style=\"text-align: right;\">\n      <th></th>\n      <th>0</th>\n      <th>1</th>\n      <th>2</th>\n      <th>3</th>\n      <th>4</th>\n      <th>5</th>\n      <th>6</th>\n      <th>7</th>\n      <th>8</th>\n      <th>9</th>\n      <th>10</th>\n      <th>11</th>\n      <th>12</th>\n      <th>13</th>\n      <th>14</th>\n      <th>15</th>\n      <th>16</th>\n      <th>17</th>\n      <th>18</th>\n      <th>19</th>\n    </tr>\n  </thead>\n  <tbody>\n    <tr>\n      <th>0</th>\n      <td>0.761381</td>\n      <td>-0.726303</td>\n      <td>-0.882760</td>\n      <td>0.482442</td>\n      <td>-0.018408</td>\n      <td>0.616003</td>\n      <td>-1.287714</td>\n      <td>0.156845</td>\n      <td>0.764001</td>\n      <td>0.165752</td>\n      <td>-0.505031</td>\n      <td>-0.554505</td>\n      <td>-1.012232</td>\n      <td>2.104490</td>\n      <td>-1.861749</td>\n      <td>0.429889</td>\n      <td>-0.298592</td>\n      <td>0.437592</td>\n      <td>-0.165739</td>\n      <td>-0.293814</td>\n    </tr>\n    <tr>\n      <th>1</th>\n      <td>-1.898984</td>\n      <td>0.598479</td>\n      <td>-2.115828</td>\n      <td>-0.212588</td>\n      <td>-0.546183</td>\n      <td>0.145231</td>\n      <td>-0.433949</td>\n      <td>0.491958</td>\n      <td>-0.310234</td>\n      <td>0.062804</td>\n      <td>0.543121</td>\n      <td>-0.045148</td>\n      <td>1.054995</td>\n      <td>1.831132</td>\n      <td>1.135055</td>\n      <td>0.024680</td>\n      <td>-1.621294</td>\n      <td>-0.270492</td>\n      <td>0.309067</td>\n      <td>-2.011508</td>\n    </tr>\n    <tr>\n      <th>2</th>\n      <td>1.080229</td>\n      <td>1.436528</td>\n      <td>-0.863406</td>\n      <td>0.821463</td>\n      <td>-0.042686</td>\n      <td>1.057408</td>\n      <td>0.617294</td>\n      <td>0.068706</td>\n      <td>0.174762</td>\n      <td>1.342367</td>\n      <td>-0.614906</td>\n      <td>-0.500036</td>\n      <td>0.649808</td>\n      <td>0.181521</td>\n      <td>0.614657</td>\n      <td>0.232352</td>\n      <td>-1.149416</td>\n      <td>-1.263655</td>\n      <td>1.077031</td>\n      <td>-0.544096</td>\n    </tr>\n    <tr>\n      <th>3</th>\n      <td>0.286519</td>\n      <td>-0.904983</td>\n      <td>-0.120506</td>\n      <td>1.606508</td>\n      <td>-0.541059</td>\n      <td>2.411908</td>\n      <td>-1.329881</td>\n      <td>1.305476</td>\n      <td>0.204597</td>\n      <td>-0.887442</td>\n      <td>0.233612</td>\n      <td>1.406151</td>\n      <td>-0.574740</td>\n      <td>0.558940</td>\n      <td>0.449324</td>\n      <td>0.756007</td>\n      <td>-1.101714</td>\n      <td>0.314365</td>\n      <td>-0.161759</td>\n      <td>-2.831481</td>\n    </tr>\n    <tr>\n      <th>4</th>\n      <td>-1.269741</td>\n      <td>1.027771</td>\n      <td>0.236196</td>\n      <td>-0.616071</td>\n      <td>-0.435511</td>\n      <td>-0.441575</td>\n      <td>-1.215510</td>\n      <td>-0.496491</td>\n      <td>-0.099667</td>\n      <td>0.187553</td>\n      <td>0.063099</td>\n      <td>-0.377577</td>\n      <td>-0.631351</td>\n      <td>0.277286</td>\n      <td>-1.596203</td>\n      <td>-0.236960</td>\n      <td>1.571108</td>\n      <td>-0.190075</td>\n      <td>0.540855</td>\n      <td>-1.397771</td>\n    </tr>\n    <tr>\n      <th>...</th>\n      <td>...</td>\n      <td>...</td>\n      <td>...</td>\n      <td>...</td>\n      <td>...</td>\n      <td>...</td>\n      <td>...</td>\n      <td>...</td>\n      <td>...</td>\n      <td>...</td>\n      <td>...</td>\n      <td>...</td>\n      <td>...</td>\n      <td>...</td>\n      <td>...</td>\n      <td>...</td>\n      <td>...</td>\n      <td>...</td>\n      <td>...</td>\n      <td>...</td>\n    </tr>\n    <tr>\n      <th>995</th>\n      <td>-2.372752</td>\n      <td>0.241199</td>\n      <td>0.388543</td>\n      <td>-0.536196</td>\n      <td>-0.566138</td>\n      <td>-0.243683</td>\n      <td>-0.161078</td>\n      <td>-2.809955</td>\n      <td>-0.846728</td>\n      <td>0.206688</td>\n      <td>0.708719</td>\n      <td>0.734700</td>\n      <td>1.186080</td>\n      <td>2.290898</td>\n      <td>-2.457200</td>\n      <td>0.396356</td>\n      <td>-0.825902</td>\n      <td>-1.365043</td>\n      <td>-1.083094</td>\n      <td>-1.939196</td>\n    </tr>\n    <tr>\n      <th>996</th>\n      <td>0.064441</td>\n      <td>0.198146</td>\n      <td>2.239809</td>\n      <td>1.169356</td>\n      <td>-0.303320</td>\n      <td>1.687558</td>\n      <td>0.731075</td>\n      <td>0.071424</td>\n      <td>1.019326</td>\n      <td>1.334239</td>\n      <td>0.191406</td>\n      <td>-0.930340</td>\n      <td>-1.335235</td>\n      <td>-0.702962</td>\n      <td>0.288802</td>\n      <td>-0.375476</td>\n      <td>-0.369240</td>\n      <td>1.394828</td>\n      <td>0.176314</td>\n      <td>-1.711403</td>\n    </tr>\n    <tr>\n      <th>997</th>\n      <td>0.662398</td>\n      <td>-0.150583</td>\n      <td>1.080613</td>\n      <td>-0.983825</td>\n      <td>-0.397135</td>\n      <td>-0.929440</td>\n      <td>-1.630183</td>\n      <td>1.288452</td>\n      <td>1.619819</td>\n      <td>-0.472825</td>\n      <td>-0.151867</td>\n      <td>-1.631699</td>\n      <td>-0.965601</td>\n      <td>-0.613015</td>\n      <td>-1.360247</td>\n      <td>1.237631</td>\n      <td>1.143489</td>\n      <td>-1.576581</td>\n      <td>1.079393</td>\n      <td>-1.079772</td>\n    </tr>\n    <tr>\n      <th>998</th>\n      <td>0.589724</td>\n      <td>-0.248740</td>\n      <td>-1.667112</td>\n      <td>0.561053</td>\n      <td>-0.021237</td>\n      <td>0.716249</td>\n      <td>-0.263175</td>\n      <td>-0.505227</td>\n      <td>0.186734</td>\n      <td>-0.297017</td>\n      <td>-0.895176</td>\n      <td>-0.747946</td>\n      <td>-1.012003</td>\n      <td>-0.368098</td>\n      <td>1.871081</td>\n      <td>-1.024363</td>\n      <td>-0.765756</td>\n      <td>0.363201</td>\n      <td>-0.754536</td>\n      <td>-0.341030</td>\n    </tr>\n    <tr>\n      <th>999</th>\n      <td>-0.501531</td>\n      <td>1.109843</td>\n      <td>-0.739534</td>\n      <td>0.998753</td>\n      <td>-0.287641</td>\n      <td>1.462831</td>\n      <td>-2.167579</td>\n      <td>0.121664</td>\n      <td>0.443124</td>\n      <td>-1.531302</td>\n      <td>-0.349407</td>\n      <td>1.309553</td>\n      <td>-1.871907</td>\n      <td>-1.075505</td>\n      <td>-0.955497</td>\n      <td>0.684687</td>\n      <td>0.636985</td>\n      <td>-1.055250</td>\n      <td>-0.559946</td>\n      <td>-1.572083</td>\n    </tr>\n  </tbody>\n</table>\n<p>1000 rows × 20 columns</p>\n</div>"
     },
     "execution_count": 18,
     "metadata": {},
     "output_type": "execute_result"
    }
   ],
   "source": [
    "X, y = make_classification(n_samples=1000,\n",
    "                           n_features = 20,\n",
    "                           weights=[0.99],\n",
    "                           flip_y=0,\n",
    "                           random_state=14)\n",
    "pd.DataFrame(X)"
   ]
  },
  {
   "cell_type": "code",
   "execution_count": 19,
   "metadata": {
    "id": "Ttm6zGUoUfWM",
    "outputId": "3e3d7efa-86d7-4d75-8cc1-866123780573",
    "colab": {
     "base_uri": "https://localhost:8080/",
     "height": 430
    },
    "executionInfo": {
     "status": "ok",
     "timestamp": 1694162150879,
     "user_tz": -120,
     "elapsed": 500,
     "user": {
      "displayName": "Jesus Prada",
      "userId": "01990672692810654269"
     }
    },
    "ExecuteTime": {
     "end_time": "2023-09-17T15:42:28.572723100Z",
     "start_time": "2023-09-17T15:42:28.456691500Z"
    }
   },
   "outputs": [
    {
     "data": {
      "text/plain": "<Figure size 640x480 with 1 Axes>",
      "image/png": "[encoded data removed]"
     },
     "metadata": {},
     "output_type": "display_data"
    }
   ],
   "source": [
    "# scatter plot of examples by class label\n",
    "plt.scatter(X[:, 0], X[:, 1], c = y)\n",
    "plt.show()"
   ]
  },
  {
   "cell_type": "code",
   "execution_count": 20,
   "metadata": {
    "id": "Ed5XoaOnUfWM",
    "outputId": "cef1e920-3190-454d-a364-cb3435f60266",
    "colab": {
     "base_uri": "https://localhost:8080/"
    },
    "executionInfo": {
     "status": "ok",
     "timestamp": 1694162154651,
     "user_tz": -120,
     "elapsed": 221,
     "user": {
      "displayName": "Jesus Prada",
      "userId": "01990672692810654269"
     }
    },
    "ExecuteTime": {
     "end_time": "2023-09-17T15:42:29.914410100Z",
     "start_time": "2023-09-17T15:42:29.894897Z"
    }
   },
   "outputs": [
    {
     "name": "stdout",
     "output_type": "stream",
     "text": [
      "[[  0 990]\n",
      " [  1  10]]\n"
     ]
    }
   ],
   "source": [
    "unique, counts = np.unique(y, return_counts=True)\n",
    "print(np.asarray((unique, counts)).T);"
   ]
  },
  {
   "cell_type": "markdown",
   "metadata": {
    "id": "y3Ax2DmXUfWM"
   },
   "source": [
    "Let's apply SMOTE over this dataset."
   ]
  },
  {
   "cell_type": "code",
   "execution_count": 21,
   "metadata": {
    "id": "baFNKvhjUfWN",
    "ExecuteTime": {
     "end_time": "2023-09-17T15:42:34.177513900Z",
     "start_time": "2023-09-17T15:42:34.158854500Z"
    }
   },
   "outputs": [],
   "source": [
    "sm = SMOTE(sampling_strategy = 0.2,\n",
    "           random_state = 0,\n",
    "           k_neighbors = 5)"
   ]
  },
  {
   "cell_type": "code",
   "execution_count": 22,
   "metadata": {
    "id": "iQGVxQzEUfWN",
    "ExecuteTime": {
     "end_time": "2023-09-17T15:42:35.771812600Z",
     "start_time": "2023-09-17T15:42:35.566974400Z"
    }
   },
   "outputs": [
    {
     "name": "stderr",
     "output_type": "stream",
     "text": [
      "J:\\IE\\SECOND TERM\\MLII\\venv\\Lib\\site-packages\\joblib\\externals\\loky\\backend\\context.py:136: UserWarning: Could not find the number of physical cores for the following reason:\n",
      "found 0 physical cores < 1\n",
      "Returning the number of logical cores instead. You can silence this warning by setting LOKY_MAX_CPU_COUNT to the number of cores you want to use.\n",
      "  warnings.warn(\n",
      "  File \"J:\\IE\\SECOND TERM\\MLII\\venv\\Lib\\site-packages\\joblib\\externals\\loky\\backend\\context.py\", line 282, in _count_physical_cores\n",
      "    raise ValueError(f\"found {cpu_count_physical} physical cores < 1\")\n"
     ]
    }
   ],
   "source": [
    "X_smote, y_smote = sm.fit_resample(X, y)"
   ]
  },
  {
   "cell_type": "code",
   "execution_count": 23,
   "metadata": {
    "id": "L2_q_AnlUfWN",
    "outputId": "309466b8-2214-4a2e-b78d-e411afde76cf",
    "colab": {
     "base_uri": "https://localhost:8080/"
    },
    "executionInfo": {
     "status": "ok",
     "timestamp": 1694162165324,
     "user_tz": -120,
     "elapsed": 212,
     "user": {
      "displayName": "Jesus Prada",
      "userId": "01990672692810654269"
     }
    },
    "ExecuteTime": {
     "end_time": "2023-09-17T15:42:41.502866200Z",
     "start_time": "2023-09-17T15:42:41.487086100Z"
    }
   },
   "outputs": [
    {
     "name": "stdout",
     "output_type": "stream",
     "text": [
      "[[  0 990]\n",
      " [  1 198]]\n"
     ]
    }
   ],
   "source": [
    "unique, counts = np.unique(y_smote, return_counts=True)\n",
    "print(np.asarray((unique, counts)).T);"
   ]
  },
  {
   "cell_type": "markdown",
   "metadata": {
    "id": "EPn5BWVJUfWN"
   },
   "source": [
    "And build models with and without oversampling."
   ]
  },
  {
   "cell_type": "markdown",
   "source": [
    "Model over the **original dataset**."
   ],
   "metadata": {
    "id": "ZRBHvC1n76PI"
   }
  },
  {
   "cell_type": "code",
   "source": [
    "X_train, X_test, y_train, y_test = train_test_split(X, y, stratify = y, test_size=0.3, random_state=1);"
   ],
   "metadata": {
    "id": "LRQl7lAr7-rm",
    "ExecuteTime": {
     "end_time": "2023-09-17T15:42:45.988963600Z",
     "start_time": "2023-09-17T15:42:45.927566800Z"
    }
   },
   "execution_count": 24,
   "outputs": []
  },
  {
   "cell_type": "code",
   "execution_count": 25,
   "metadata": {
    "id": "Y2wbNLqCUfWO",
    "ExecuteTime": {
     "end_time": "2023-09-17T15:42:48.233917100Z",
     "start_time": "2023-09-17T15:42:48.220892600Z"
    }
   },
   "outputs": [],
   "source": [
    "# 1) Import model\n",
    "from sklearn.linear_model import LogisticRegression as model_constructor\n",
    "\n",
    "# 2) Import metric\n",
    "from sklearn.metrics import roc_auc_score as metric\n",
    "\n",
    "# [3] Define model\n",
    "model = model_constructor(penalty = 'l1',\n",
    "                          solver = 'liblinear',\n",
    "                          C = 1,\n",
    "                          random_state = 0)\n",
    "\n",
    "# [4] Train model\n",
    "model.fit(X_train, y_train) ## Only train!!! Requires target y for being supervised learning.\n",
    "\n",
    "# [5] Predict\n",
    "pred_train = model.predict_proba(X_train)\n",
    "pred_test = model.predict_proba(X_test)\n",
    "\n",
    "# [6] Compute metric\n",
    "metric_train = metric(y_train, pred_train[:,1])\n",
    "metric_test = metric(y_test, pred_test[:,1])"
   ]
  },
  {
   "cell_type": "markdown",
   "source": [
    "Dataset **after SMOTE**."
   ],
   "metadata": {
    "id": "XT4Y5Mni8AXn"
   }
  },
  {
   "cell_type": "code",
   "source": [
    "X_smote_train, X_smote_test, y_smote_train, y_smote_test = train_test_split(X_smote, y_smote, stratify = y_smote, test_size=0.3, random_state=1);\n"
   ],
   "metadata": {
    "id": "592DhQQj7_7R",
    "ExecuteTime": {
     "end_time": "2023-09-17T15:42:50.460755600Z",
     "start_time": "2023-09-17T15:42:50.446674100Z"
    }
   },
   "execution_count": 26,
   "outputs": []
  },
  {
   "cell_type": "code",
   "execution_count": 27,
   "metadata": {
    "id": "MfK0kjvAUfWO",
    "ExecuteTime": {
     "end_time": "2023-09-17T15:42:51.864346Z",
     "start_time": "2023-09-17T15:42:51.808833100Z"
    }
   },
   "outputs": [],
   "source": [
    "# 1) Import model\n",
    "from sklearn.linear_model import LogisticRegression as model_constructor\n",
    "\n",
    "# 2) Import metric\n",
    "from sklearn.metrics import roc_auc_score as metric\n",
    "\n",
    "# [3] Define model\n",
    "model = model_constructor(penalty = 'l1',\n",
    "                          solver = 'liblinear',\n",
    "                          C = 1,\n",
    "                          random_state = 0)\n",
    "\n",
    "# [4] Train model\n",
    "model.fit(X_smote_train, y_smote_train) ## Only train!!! Requires target y for being supervised learning.\n",
    "\n",
    "# [5] Predict\n",
    "pred_train = model.predict_proba(X_smote_train)\n",
    "pred_test = model.predict_proba(X_smote_test)\n",
    "\n",
    "# [6] Compute metric\n",
    "metric_smote_train = metric(y_smote_train, pred_train[:,1])\n",
    "metric_smote_test = metric(y_smote_test, pred_test[:,1])"
   ]
  },
  {
   "cell_type": "markdown",
   "source": [
    "Let's **compare** both approaches."
   ],
   "metadata": {
    "id": "hn0nPjEw8G0j"
   }
  },
  {
   "cell_type": "code",
   "execution_count": 28,
   "metadata": {
    "id": "_yD23JCuUfWO",
    "outputId": "be3f94a2-4af9-4bcc-8a59-b84309c8ee90",
    "colab": {
     "base_uri": "https://localhost:8080/"
    },
    "executionInfo": {
     "status": "ok",
     "timestamp": 1694162273130,
     "user_tz": -120,
     "elapsed": 240,
     "user": {
      "displayName": "Jesus Prada",
      "userId": "01990672692810654269"
     }
    },
    "ExecuteTime": {
     "end_time": "2023-09-17T15:42:53.790132Z",
     "start_time": "2023-09-17T15:42:53.776861800Z"
    }
   },
   "outputs": [
    {
     "name": "stdout",
     "output_type": "stream",
     "text": [
      "AUC train = 1.00 - AUC test = 0.63\n",
      "AUC SMOTE train = 0.99 - AUC SMOTE test = 0.99\n"
     ]
    }
   ],
   "source": [
    "# print error\n",
    "print('AUC train = %.2f - AUC test = %.2f'\n",
    "      % (metric_train, metric_test))\n",
    "\n",
    "# print error SMOTE\n",
    "print('AUC SMOTE train = %.2f - AUC SMOTE test = %.2f'\n",
    "      % (metric_smote_train, metric_smote_test))"
   ]
  },
  {
   "cell_type": "markdown",
   "metadata": {
    "id": "4BJzxY7DUfWP"
   },
   "source": [
    "## Define Custom Function"
   ]
  },
  {
   "cell_type": "markdown",
   "metadata": {
    "id": "AWjVUTfoUfWP"
   },
   "source": [
    "Let's create our own custom function to apply oversampling using smote or duplicates."
   ]
  },
  {
   "cell_type": "code",
   "execution_count": 29,
   "metadata": {
    "id": "dC3bTB90UfWP",
    "ExecuteTime": {
     "end_time": "2023-09-17T15:42:56.501361900Z",
     "start_time": "2023-09-17T15:42:56.486823900Z"
    }
   },
   "outputs": [],
   "source": [
    "def oversampling(X, y, p, type_value = 'SMOTE', k = 5, random_state = 0, n_jobs = 1):\n",
    "    if type_value == 'SMOTE':\n",
    "        sm = SMOTE(sampling_strategy = p,\n",
    "           random_state = random_state,\n",
    "           k_neighbors = k)\n",
    "        X, y = sm.fit_resample(X, y)\n",
    "        return X, y\n",
    "    elif type_value == 'duplicates':\n",
    "        majority_class = stats.mode(y, keepdims = False)[0]\n",
    "        oversampling_rows = pd.concat([pd.DataFrame(X[y != majority_class]),\n",
    "                                       pd.Series(y[y != majority_class])],\n",
    "                                      axis = 1).sample(frac = p,\n",
    "                                                                      replace = True,\n",
    "                                                                      random_state = random_state,\n",
    "                                                                      axis = 0)\n",
    "        X = pd.concat([pd.concat([pd.DataFrame(X), pd.Series(y)], axis = 1), oversampling_rows])\n",
    "        y = X.iloc[:, X.shape[1]-1]\n",
    "        return X, y\n"
   ]
  },
  {
   "cell_type": "code",
   "source": [
    "unique, counts = np.unique(y, return_counts=True);\n",
    "print(np.asarray((unique, counts)).T);"
   ],
   "metadata": {
    "colab": {
     "base_uri": "https://localhost:8080/"
    },
    "id": "E5bEKPYa8wYl",
    "executionInfo": {
     "status": "ok",
     "timestamp": 1694162686872,
     "user_tz": -120,
     "elapsed": 5,
     "user": {
      "displayName": "Jesus Prada",
      "userId": "01990672692810654269"
     }
    },
    "outputId": "1b9360b5-3283-4953-dcbc-1065dc3f7495",
    "ExecuteTime": {
     "end_time": "2023-09-17T15:42:59.120838Z",
     "start_time": "2023-09-17T15:42:59.103442800Z"
    }
   },
   "execution_count": 30,
   "outputs": [
    {
     "name": "stdout",
     "output_type": "stream",
     "text": [
      "[[  0 990]\n",
      " [  1  10]]\n"
     ]
    }
   ]
  },
  {
   "cell_type": "code",
   "execution_count": 31,
   "metadata": {
    "id": "Zycn0KkXUfWQ",
    "outputId": "88fe0c2d-c0df-48ec-b8d3-1630f2cd8e59",
    "colab": {
     "base_uri": "https://localhost:8080/",
     "height": 444
    },
    "executionInfo": {
     "status": "ok",
     "timestamp": 1694162689931,
     "user_tz": -120,
     "elapsed": 7,
     "user": {
      "displayName": "Jesus Prada",
      "userId": "01990672692810654269"
     }
    },
    "ExecuteTime": {
     "end_time": "2023-09-17T15:43:00.557656700Z",
     "start_time": "2023-09-17T15:43:00.507809600Z"
    }
   },
   "outputs": [
    {
     "data": {
      "text/plain": "            0         1         2         3         4         5         6   \\\n0     0.761381 -0.726303 -0.882760  0.482442 -0.018408  0.616003 -1.287714   \n1    -1.898984  0.598479 -2.115828 -0.212588 -0.546183  0.145231 -0.433949   \n2     1.080229  1.436528 -0.863406  0.821463 -0.042686  1.057408  0.617294   \n3     0.286519 -0.904983 -0.120506  1.606508 -0.541059  2.411908 -1.329881   \n4    -1.269741  1.027771  0.236196 -0.616071 -0.435511 -0.441575 -1.215510   \n...        ...       ...       ...       ...       ...       ...       ...   \n1232 -0.903212 -0.470204  0.488200  0.274734  0.418579  0.028259 -0.382035   \n1233 -0.176058 -0.485621 -1.227377  1.070844 -0.185220  1.475820 -0.128949   \n1234 -1.129876 -0.342564  0.285528  0.298487  0.372712  0.092385 -0.285466   \n1235 -1.120868 -1.868011  0.741443  0.347327  0.202011  0.281665  1.490900   \n1236  1.602548 -0.776394 -0.377262  1.071015  0.158845  1.217394 -0.003358   \n\n            7         8         9         10        11        12        13  \\\n0     0.156845  0.764001  0.165752 -0.505031 -0.554505 -1.012232  2.104490   \n1     0.491958 -0.310234  0.062804  0.543121 -0.045148  1.054995  1.831132   \n2     0.068706  0.174762  1.342367 -0.614906 -0.500036  0.649808  0.181521   \n3     1.305476  0.204597 -0.887442  0.233612  1.406151 -0.574740  0.558940   \n4    -0.496491 -0.099667  0.187553  0.063099 -0.377577 -0.631351  0.277286   \n...        ...       ...       ...       ...       ...       ...       ...   \n1232  0.658523  1.177230 -0.279449  0.752145  0.686364  0.597935 -0.762758   \n1233  0.028390  0.052679 -1.148017  1.529272 -0.926221  1.506324  1.535937   \n1234  0.500795  1.284166 -0.462538  1.232052  0.722698  0.866110 -0.176012   \n1235 -1.292215 -0.180402 -0.351001 -0.828654  0.681552 -1.197816 -0.430076   \n1236  0.588633 -1.102017 -0.277320 -1.074621 -0.152896 -0.546945 -0.307059   \n\n            14        15        16        17        18        19  \n0    -1.861749  0.429889 -0.298592  0.437592 -0.165739 -0.293814  \n1     1.135055  0.024680 -1.621294 -0.270492  0.309067 -2.011508  \n2     0.614657  0.232352 -1.149416 -1.263655  1.077031 -0.544096  \n3     0.449324  0.756007 -1.101714  0.314365 -0.161759 -2.831481  \n4    -1.596203 -0.236960  1.571108 -0.190075  0.540855 -1.397771  \n...        ...       ...       ...       ...       ...       ...  \n1232  0.327205 -0.089707  0.014202  0.309828  0.968395  1.489945  \n1233 -0.152961 -0.526450 -2.009123  0.410349 -0.304626 -1.209759  \n1234  0.123036 -0.174745 -0.428234  0.457721  0.830828  1.301819  \n1235 -1.979164  0.758138  0.344142  0.469600  0.397970  0.619932  \n1236  1.156154  0.119603  1.211750  0.173503 -0.263536  0.119122  \n\n[1237 rows x 20 columns]",
      "text/html": "<div>\n<style scoped>\n    .dataframe tbody tr th:only-of-type {\n        vertical-align: middle;\n    }\n\n    .dataframe tbody tr th {\n        vertical-align: top;\n    }\n\n    .dataframe thead th {\n        text-align: right;\n    }\n</style>\n<table border=\"1\" class=\"dataframe\">\n  <thead>\n    <tr style=\"text-align: right;\">\n      <th></th>\n      <th>0</th>\n      <th>1</th>\n      <th>2</th>\n      <th>3</th>\n      <th>4</th>\n      <th>5</th>\n      <th>6</th>\n      <th>7</th>\n      <th>8</th>\n      <th>9</th>\n      <th>10</th>\n      <th>11</th>\n      <th>12</th>\n      <th>13</th>\n      <th>14</th>\n      <th>15</th>\n      <th>16</th>\n      <th>17</th>\n      <th>18</th>\n      <th>19</th>\n    </tr>\n  </thead>\n  <tbody>\n    <tr>\n      <th>0</th>\n      <td>0.761381</td>\n      <td>-0.726303</td>\n      <td>-0.882760</td>\n      <td>0.482442</td>\n      <td>-0.018408</td>\n      <td>0.616003</td>\n      <td>-1.287714</td>\n      <td>0.156845</td>\n      <td>0.764001</td>\n      <td>0.165752</td>\n      <td>-0.505031</td>\n      <td>-0.554505</td>\n      <td>-1.012232</td>\n      <td>2.104490</td>\n      <td>-1.861749</td>\n      <td>0.429889</td>\n      <td>-0.298592</td>\n      <td>0.437592</td>\n      <td>-0.165739</td>\n      <td>-0.293814</td>\n    </tr>\n    <tr>\n      <th>1</th>\n      <td>-1.898984</td>\n      <td>0.598479</td>\n      <td>-2.115828</td>\n      <td>-0.212588</td>\n      <td>-0.546183</td>\n      <td>0.145231</td>\n      <td>-0.433949</td>\n      <td>0.491958</td>\n      <td>-0.310234</td>\n      <td>0.062804</td>\n      <td>0.543121</td>\n      <td>-0.045148</td>\n      <td>1.054995</td>\n      <td>1.831132</td>\n      <td>1.135055</td>\n      <td>0.024680</td>\n      <td>-1.621294</td>\n      <td>-0.270492</td>\n      <td>0.309067</td>\n      <td>-2.011508</td>\n    </tr>\n    <tr>\n      <th>2</th>\n      <td>1.080229</td>\n      <td>1.436528</td>\n      <td>-0.863406</td>\n      <td>0.821463</td>\n      <td>-0.042686</td>\n      <td>1.057408</td>\n      <td>0.617294</td>\n      <td>0.068706</td>\n      <td>0.174762</td>\n      <td>1.342367</td>\n      <td>-0.614906</td>\n      <td>-0.500036</td>\n      <td>0.649808</td>\n      <td>0.181521</td>\n      <td>0.614657</td>\n      <td>0.232352</td>\n      <td>-1.149416</td>\n      <td>-1.263655</td>\n      <td>1.077031</td>\n      <td>-0.544096</td>\n    </tr>\n    <tr>\n      <th>3</th>\n      <td>0.286519</td>\n      <td>-0.904983</td>\n      <td>-0.120506</td>\n      <td>1.606508</td>\n      <td>-0.541059</td>\n      <td>2.411908</td>\n      <td>-1.329881</td>\n      <td>1.305476</td>\n      <td>0.204597</td>\n      <td>-0.887442</td>\n      <td>0.233612</td>\n      <td>1.406151</td>\n      <td>-0.574740</td>\n      <td>0.558940</td>\n      <td>0.449324</td>\n      <td>0.756007</td>\n      <td>-1.101714</td>\n      <td>0.314365</td>\n      <td>-0.161759</td>\n      <td>-2.831481</td>\n    </tr>\n    <tr>\n      <th>4</th>\n      <td>-1.269741</td>\n      <td>1.027771</td>\n      <td>0.236196</td>\n      <td>-0.616071</td>\n      <td>-0.435511</td>\n      <td>-0.441575</td>\n      <td>-1.215510</td>\n      <td>-0.496491</td>\n      <td>-0.099667</td>\n      <td>0.187553</td>\n      <td>0.063099</td>\n      <td>-0.377577</td>\n      <td>-0.631351</td>\n      <td>0.277286</td>\n      <td>-1.596203</td>\n      <td>-0.236960</td>\n      <td>1.571108</td>\n      <td>-0.190075</td>\n      <td>0.540855</td>\n      <td>-1.397771</td>\n    </tr>\n    <tr>\n      <th>...</th>\n      <td>...</td>\n      <td>...</td>\n      <td>...</td>\n      <td>...</td>\n      <td>...</td>\n      <td>...</td>\n      <td>...</td>\n      <td>...</td>\n      <td>...</td>\n      <td>...</td>\n      <td>...</td>\n      <td>...</td>\n      <td>...</td>\n      <td>...</td>\n      <td>...</td>\n      <td>...</td>\n      <td>...</td>\n      <td>...</td>\n      <td>...</td>\n      <td>...</td>\n    </tr>\n    <tr>\n      <th>1232</th>\n      <td>-0.903212</td>\n      <td>-0.470204</td>\n      <td>0.488200</td>\n      <td>0.274734</td>\n      <td>0.418579</td>\n      <td>0.028259</td>\n      <td>-0.382035</td>\n      <td>0.658523</td>\n      <td>1.177230</td>\n      <td>-0.279449</td>\n      <td>0.752145</td>\n      <td>0.686364</td>\n      <td>0.597935</td>\n      <td>-0.762758</td>\n      <td>0.327205</td>\n      <td>-0.089707</td>\n      <td>0.014202</td>\n      <td>0.309828</td>\n      <td>0.968395</td>\n      <td>1.489945</td>\n    </tr>\n    <tr>\n      <th>1233</th>\n      <td>-0.176058</td>\n      <td>-0.485621</td>\n      <td>-1.227377</td>\n      <td>1.070844</td>\n      <td>-0.185220</td>\n      <td>1.475820</td>\n      <td>-0.128949</td>\n      <td>0.028390</td>\n      <td>0.052679</td>\n      <td>-1.148017</td>\n      <td>1.529272</td>\n      <td>-0.926221</td>\n      <td>1.506324</td>\n      <td>1.535937</td>\n      <td>-0.152961</td>\n      <td>-0.526450</td>\n      <td>-2.009123</td>\n      <td>0.410349</td>\n      <td>-0.304626</td>\n      <td>-1.209759</td>\n    </tr>\n    <tr>\n      <th>1234</th>\n      <td>-1.129876</td>\n      <td>-0.342564</td>\n      <td>0.285528</td>\n      <td>0.298487</td>\n      <td>0.372712</td>\n      <td>0.092385</td>\n      <td>-0.285466</td>\n      <td>0.500795</td>\n      <td>1.284166</td>\n      <td>-0.462538</td>\n      <td>1.232052</td>\n      <td>0.722698</td>\n      <td>0.866110</td>\n      <td>-0.176012</td>\n      <td>0.123036</td>\n      <td>-0.174745</td>\n      <td>-0.428234</td>\n      <td>0.457721</td>\n      <td>0.830828</td>\n      <td>1.301819</td>\n    </tr>\n    <tr>\n      <th>1235</th>\n      <td>-1.120868</td>\n      <td>-1.868011</td>\n      <td>0.741443</td>\n      <td>0.347327</td>\n      <td>0.202011</td>\n      <td>0.281665</td>\n      <td>1.490900</td>\n      <td>-1.292215</td>\n      <td>-0.180402</td>\n      <td>-0.351001</td>\n      <td>-0.828654</td>\n      <td>0.681552</td>\n      <td>-1.197816</td>\n      <td>-0.430076</td>\n      <td>-1.979164</td>\n      <td>0.758138</td>\n      <td>0.344142</td>\n      <td>0.469600</td>\n      <td>0.397970</td>\n      <td>0.619932</td>\n    </tr>\n    <tr>\n      <th>1236</th>\n      <td>1.602548</td>\n      <td>-0.776394</td>\n      <td>-0.377262</td>\n      <td>1.071015</td>\n      <td>0.158845</td>\n      <td>1.217394</td>\n      <td>-0.003358</td>\n      <td>0.588633</td>\n      <td>-1.102017</td>\n      <td>-0.277320</td>\n      <td>-1.074621</td>\n      <td>-0.152896</td>\n      <td>-0.546945</td>\n      <td>-0.307059</td>\n      <td>1.156154</td>\n      <td>0.119603</td>\n      <td>1.211750</td>\n      <td>0.173503</td>\n      <td>-0.263536</td>\n      <td>0.119122</td>\n    </tr>\n  </tbody>\n</table>\n<p>1237 rows × 20 columns</p>\n</div>"
     },
     "execution_count": 31,
     "metadata": {},
     "output_type": "execute_result"
    }
   ],
   "source": [
    "X_new, y_new = oversampling(X, y, p = 0.25)\n",
    "pd.DataFrame(X_new)"
   ]
  },
  {
   "cell_type": "code",
   "source": [
    "unique, counts = np.unique(y_new, return_counts=True);\n",
    "print(np.asarray((unique, counts)).T);"
   ],
   "metadata": {
    "colab": {
     "base_uri": "https://localhost:8080/"
    },
    "id": "HB22UW4R81jN",
    "executionInfo": {
     "status": "ok",
     "timestamp": 1694162690985,
     "user_tz": -120,
     "elapsed": 4,
     "user": {
      "displayName": "Jesus Prada",
      "userId": "01990672692810654269"
     }
    },
    "outputId": "b0631e6f-a49a-48de-e938-9b399beff7b5",
    "ExecuteTime": {
     "end_time": "2023-09-17T15:43:01.976832500Z",
     "start_time": "2023-09-17T15:43:01.963984Z"
    }
   },
   "execution_count": 32,
   "outputs": [
    {
     "name": "stdout",
     "output_type": "stream",
     "text": [
      "[[  0 990]\n",
      " [  1 247]]\n"
     ]
    }
   ]
  },
  {
   "cell_type": "code",
   "execution_count": 33,
   "metadata": {
    "id": "k0BdaygqUfWQ",
    "ExecuteTime": {
     "end_time": "2023-09-17T15:43:03.193735800Z",
     "start_time": "2023-09-17T15:43:03.170733100Z"
    }
   },
   "outputs": [],
   "source": [
    "X_new, y_new = oversampling(X, y, p = 25, type_value = 'duplicates')"
   ]
  },
  {
   "cell_type": "code",
   "source": [
    "unique, counts = np.unique(y_new, return_counts=True)\n",
    "print(np.asarray((unique, counts)).T);"
   ],
   "metadata": {
    "colab": {
     "base_uri": "https://localhost:8080/"
    },
    "id": "J6osN1k687J0",
    "executionInfo": {
     "status": "ok",
     "timestamp": 1694162960901,
     "user_tz": -120,
     "elapsed": 17,
     "user": {
      "displayName": "Jesus Prada",
      "userId": "01990672692810654269"
     }
    },
    "outputId": "d2dec3d9-1636-4a91-c483-7a14d721609f",
    "ExecuteTime": {
     "end_time": "2023-09-17T15:43:04.559220800Z",
     "start_time": "2023-09-17T15:43:04.544298500Z"
    }
   },
   "execution_count": 34,
   "outputs": [
    {
     "name": "stdout",
     "output_type": "stream",
     "text": [
      "[[  0 990]\n",
      " [  1 260]]\n"
     ]
    }
   ]
  },
  {
   "cell_type": "markdown",
   "metadata": {
    "id": "QiLSIAxSUfWQ"
   },
   "source": [
    "## Other Oversampling Techniques"
   ]
  },
  {
   "cell_type": "markdown",
   "metadata": {
    "id": "gMOAB1ayUfWQ"
   },
   "source": [
    "There are variations of SMOTE available on the package\n",
    "\n",
    "- **SMOTENC** - SMOTE for Nominal and Continuous\n",
    "\n",
    "\n",
    "- **SMOTEN** - SMOTE for Nominal\n",
    "\n",
    "\n",
    "- **bSMOTE(1 & 2)** - Borderline SMOTE of types 1 and 2\n",
    "\n",
    "\n",
    "- **SVM SMOTE** - Support Vectors SMOTE\n",
    "\n",
    "\n",
    "- **ADASYN** - Adaptive synthetic sampling approach for imbalanced learning\n",
    "\n",
    "\n",
    "- **KMeans-SMOTE**\n",
    "\n",
    "\n",
    "Reference: https://github.com/scikit-learn-contrib/imbalanced-learn"
   ]
  }
 ],
 "metadata": {
  "kernelspec": {
   "display_name": "Python 3",
   "language": "python",
   "name": "python3"
  },
  "language_info": {
   "codemirror_mode": {
    "name": "ipython",
    "version": 3
   },
   "file_extension": ".py",
   "mimetype": "text/x-python",
   "name": "python",
   "nbconvert_exporter": "python",
   "pygments_lexer": "ipython3",
   "version": "3.8.5"
  },
  "colab": {
   "provenance": []
  }
 },
 "nbformat": 4,
 "nbformat_minor": 0
}
