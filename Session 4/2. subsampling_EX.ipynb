{
 "cells": [
  {
   "cell_type": "code",
   "execution_count": 1,
   "metadata": {
    "id": "J61ykgq-_LU5",
    "executionInfo": {
     "status": "ok",
     "timestamp": 1694163228617,
     "user_tz": -120,
     "elapsed": 1145,
     "user": {
      "displayName": "Jesus Prada",
      "userId": "01990672692810654269"
     }
    },
    "ExecuteTime": {
     "end_time": "2023-09-17T15:48:45.709872200Z",
     "start_time": "2023-09-17T15:48:44.650175600Z"
    }
   },
   "outputs": [],
   "source": [
    "# Load Libraries\n",
    "%matplotlib inline\n",
    "import numpy as np\n",
    "import matplotlib.pyplot as plt\n",
    "from scipy import stats\n",
    "import pandas as pd\n",
    "\n",
    "from sklearn.model_selection import train_test_split\n",
    "from scipy import stats\n",
    "\n",
    "from multiprocessing import cpu_count"
   ]
  },
  {
   "cell_type": "markdown",
   "metadata": {
    "id": "RCP5d6WC_LU7"
   },
   "source": [
    "# Subsampling"
   ]
  },
  {
   "cell_type": "markdown",
   "metadata": {
    "id": "fOCwvp_G_LU8"
   },
   "source": [
    "**Unbalanced problems** are those classification problems where the ratio between the different classes is significantly different. These problems have some special issues that make them a little bit more difficult to solve. In particular, the choice of metric should account for this class imbalance, and some extra steps should be carried out to avoid the model focusing too much on the most frequent classes and performing poorly over the least frequent ones.\n",
    "\n",
    "We will focus here on the binary classification problem, where you have a **majority class** and a **minority class**. For instance, the healthcare classification problem we worked on previous classes could be considered an unbalanced problem as the ratio of exitus (minority class) is approximately 5%. Other example would be the fraud detection problem at Iberia Express, where the minority class (fraud transaction) never exceeds 0.2% of the data, which is a ratio that would be considered a real unbalanced classification problem.\n",
    "\n",
    "Metrics that can be applied to unbalanced problems are the ones based on the area under a curve. We have already seen ROC curve and precision-recall curve. From this two, area under the precision-recall curve is slightly preferred when dealing with highly unbalanced problems.\n",
    "\n",
    "Regarding the extra pre-processing steps that can be carried out to help model solve unbalanced problems, we will cover **oversampling** of the minority class and **subsampling** of the majority class. We focus here on subsampling."
   ]
  },
  {
   "cell_type": "markdown",
   "metadata": {
    "id": "VN_paHWC_LU9"
   },
   "source": [
    "## Load Data"
   ]
  },
  {
   "cell_type": "code",
   "execution_count": 2,
   "outputs": [
    {
     "data": {
      "text/plain": "       mortality_ratio    age  num_proc  ambulatory  expected_length  exitus\n0             0.408730  12596        21           0              151       0\n1             0.306931  20973        22           0               99       0\n2             0.278481  19611        19           0               87       0\n3             0.150289  13583        22           0              100       0\n4             0.016573  18042         2           0               44       0\n...                ...    ...       ...         ...              ...     ...\n32701         0.028365  23619         2           0                2       0\n32702         0.000606   3935         1           0                2       0\n32703         0.040452  30163         4           0                2       0\n32704         0.000000  29012         4           0                0       0\n32705         0.000000  13244         1           1                0       0\n\n[32706 rows x 6 columns]",
      "text/html": "<div>\n<style scoped>\n    .dataframe tbody tr th:only-of-type {\n        vertical-align: middle;\n    }\n\n    .dataframe tbody tr th {\n        vertical-align: top;\n    }\n\n    .dataframe thead th {\n        text-align: right;\n    }\n</style>\n<table border=\"1\" class=\"dataframe\">\n  <thead>\n    <tr style=\"text-align: right;\">\n      <th></th>\n      <th>mortality_ratio</th>\n      <th>age</th>\n      <th>num_proc</th>\n      <th>ambulatory</th>\n      <th>expected_length</th>\n      <th>exitus</th>\n    </tr>\n  </thead>\n  <tbody>\n    <tr>\n      <th>0</th>\n      <td>0.408730</td>\n      <td>12596</td>\n      <td>21</td>\n      <td>0</td>\n      <td>151</td>\n      <td>0</td>\n    </tr>\n    <tr>\n      <th>1</th>\n      <td>0.306931</td>\n      <td>20973</td>\n      <td>22</td>\n      <td>0</td>\n      <td>99</td>\n      <td>0</td>\n    </tr>\n    <tr>\n      <th>2</th>\n      <td>0.278481</td>\n      <td>19611</td>\n      <td>19</td>\n      <td>0</td>\n      <td>87</td>\n      <td>0</td>\n    </tr>\n    <tr>\n      <th>3</th>\n      <td>0.150289</td>\n      <td>13583</td>\n      <td>22</td>\n      <td>0</td>\n      <td>100</td>\n      <td>0</td>\n    </tr>\n    <tr>\n      <th>4</th>\n      <td>0.016573</td>\n      <td>18042</td>\n      <td>2</td>\n      <td>0</td>\n      <td>44</td>\n      <td>0</td>\n    </tr>\n    <tr>\n      <th>...</th>\n      <td>...</td>\n      <td>...</td>\n      <td>...</td>\n      <td>...</td>\n      <td>...</td>\n      <td>...</td>\n    </tr>\n    <tr>\n      <th>32701</th>\n      <td>0.028365</td>\n      <td>23619</td>\n      <td>2</td>\n      <td>0</td>\n      <td>2</td>\n      <td>0</td>\n    </tr>\n    <tr>\n      <th>32702</th>\n      <td>0.000606</td>\n      <td>3935</td>\n      <td>1</td>\n      <td>0</td>\n      <td>2</td>\n      <td>0</td>\n    </tr>\n    <tr>\n      <th>32703</th>\n      <td>0.040452</td>\n      <td>30163</td>\n      <td>4</td>\n      <td>0</td>\n      <td>2</td>\n      <td>0</td>\n    </tr>\n    <tr>\n      <th>32704</th>\n      <td>0.000000</td>\n      <td>29012</td>\n      <td>4</td>\n      <td>0</td>\n      <td>0</td>\n      <td>0</td>\n    </tr>\n    <tr>\n      <th>32705</th>\n      <td>0.000000</td>\n      <td>13244</td>\n      <td>1</td>\n      <td>1</td>\n      <td>0</td>\n      <td>0</td>\n    </tr>\n  </tbody>\n</table>\n<p>32706 rows × 6 columns</p>\n</div>"
     },
     "execution_count": 2,
     "metadata": {},
     "output_type": "execute_result"
    }
   ],
   "source": [
    "dat = pd.read_csv('../data/healthcare.csv', sep = \";\")\n",
    "dat = dat.drop(['date', 'severity', 'origin', 'tip_grd', 'tip_adm'], axis = 1) # Remove non-numerical variables for this notebook\n",
    "dat"
   ],
   "metadata": {
    "collapsed": false,
    "ExecuteTime": {
     "end_time": "2023-09-17T15:51:53.404710200Z",
     "start_time": "2023-09-17T15:51:53.331166400Z"
    }
   }
  },
  {
   "cell_type": "code",
   "execution_count": 3,
   "metadata": {
    "colab": {
     "base_uri": "https://localhost:8080/",
     "height": 143
    },
    "id": "4byjkz7O_LVA",
    "executionInfo": {
     "status": "ok",
     "timestamp": 1694163289431,
     "user_tz": -120,
     "elapsed": 6,
     "user": {
      "displayName": "Jesus Prada",
      "userId": "01990672692810654269"
     }
    },
    "outputId": "7d1c493d-d814-40f4-f3ec-8eae99e4d312",
    "ExecuteTime": {
     "end_time": "2023-09-17T15:51:56.538406700Z",
     "start_time": "2023-09-17T15:51:56.521058500Z"
    }
   },
   "outputs": [
    {
     "data": {
      "text/plain": "            count\nexitus           \n0       96.159726\n1        3.840274",
      "text/html": "<div>\n<style scoped>\n    .dataframe tbody tr th:only-of-type {\n        vertical-align: middle;\n    }\n\n    .dataframe tbody tr th {\n        vertical-align: top;\n    }\n\n    .dataframe thead th {\n        text-align: right;\n    }\n</style>\n<table border=\"1\" class=\"dataframe\">\n  <thead>\n    <tr style=\"text-align: right;\">\n      <th></th>\n      <th>count</th>\n    </tr>\n    <tr>\n      <th>exitus</th>\n      <th></th>\n    </tr>\n  </thead>\n  <tbody>\n    <tr>\n      <th>0</th>\n      <td>96.159726</td>\n    </tr>\n    <tr>\n      <th>1</th>\n      <td>3.840274</td>\n    </tr>\n  </tbody>\n</table>\n</div>"
     },
     "execution_count": 3,
     "metadata": {},
     "output_type": "execute_result"
    }
   ],
   "source": [
    "100*dat.groupby(['exitus'])['exitus'].agg(['count'])/dat.shape[0]"
   ]
  },
  {
   "cell_type": "markdown",
   "metadata": {
    "id": "7UqWAx--_LVB"
   },
   "source": [
    "This can be considered an unbalanced classification problem. Let's see how to apply undersampling to it."
   ]
  },
  {
   "cell_type": "markdown",
   "metadata": {
    "id": "qguVotGc_LVC"
   },
   "source": [
    "## Random Subsampling"
   ]
  },
  {
   "cell_type": "markdown",
   "metadata": {
    "id": "TGllMuAS_LVC"
   },
   "source": [
    "One straightforward way of decreasing the majority class examples is to just randomly remove examples of this class from the dataset."
   ]
  },
  {
   "cell_type": "markdown",
   "metadata": {
    "id": "VnaZpfJX_LVD"
   },
   "source": [
    "This can easily done with numpy choice function."
   ]
  },
  {
   "cell_type": "code",
   "execution_count": 4,
   "metadata": {
    "colab": {
     "base_uri": "https://localhost:8080/"
    },
    "id": "0ToKi5yQ_LVE",
    "executionInfo": {
     "status": "ok",
     "timestamp": 1694163338669,
     "user_tz": -120,
     "elapsed": 4,
     "user": {
      "displayName": "Jesus Prada",
      "userId": "01990672692810654269"
     }
    },
    "outputId": "f0fb3418-4ed8-40bc-b04b-54a4d4c9b94e",
    "ExecuteTime": {
     "end_time": "2023-09-17T15:52:01.288296300Z",
     "start_time": "2023-09-17T15:52:01.233275800Z"
    }
   },
   "outputs": [
    {
     "data": {
      "text/plain": "(16353,)"
     },
     "execution_count": 4,
     "metadata": {},
     "output_type": "execute_result"
    }
   ],
   "source": [
    "subsampling_rows = np.random.choice(dat[dat['exitus'] == 0].index,\n",
    "                                    int(0.5*dat.shape[0]),\n",
    "                                   replace = False)\n",
    "subsampling_rows.shape"
   ]
  },
  {
   "cell_type": "code",
   "execution_count": 5,
   "metadata": {
    "id": "tsoDzCHI_LVE",
    "executionInfo": {
     "status": "ok",
     "timestamp": 1694163350368,
     "user_tz": -120,
     "elapsed": 358,
     "user": {
      "displayName": "Jesus Prada",
      "userId": "01990672692810654269"
     }
    },
    "ExecuteTime": {
     "end_time": "2023-09-17T15:52:02.523180400Z",
     "start_time": "2023-09-17T15:52:02.507298400Z"
    }
   },
   "outputs": [],
   "source": [
    "dat_random_subsampling = dat.drop(subsampling_rows)"
   ]
  },
  {
   "cell_type": "code",
   "execution_count": 6,
   "metadata": {
    "colab": {
     "base_uri": "https://localhost:8080/"
    },
    "id": "qKnPOTzG_LVF",
    "executionInfo": {
     "status": "ok",
     "timestamp": 1694163385757,
     "user_tz": -120,
     "elapsed": 411,
     "user": {
      "displayName": "Jesus Prada",
      "userId": "01990672692810654269"
     }
    },
    "outputId": "24f359bc-f06b-4080-9a2a-1491bf38d59f",
    "ExecuteTime": {
     "end_time": "2023-09-17T15:52:04.154932200Z",
     "start_time": "2023-09-17T15:52:04.140900400Z"
    }
   },
   "outputs": [
    {
     "data": {
      "text/plain": "exitus\n0    31450\n1     1256\nName: count, dtype: int64"
     },
     "execution_count": 6,
     "metadata": {},
     "output_type": "execute_result"
    }
   ],
   "source": [
    "dat['exitus'].value_counts()"
   ]
  },
  {
   "cell_type": "code",
   "execution_count": 7,
   "metadata": {
    "colab": {
     "base_uri": "https://localhost:8080/"
    },
    "id": "jifKKzc4_LVF",
    "executionInfo": {
     "status": "ok",
     "timestamp": 1694163386999,
     "user_tz": -120,
     "elapsed": 4,
     "user": {
      "displayName": "Jesus Prada",
      "userId": "01990672692810654269"
     }
    },
    "outputId": "400a8e23-ec36-498d-8186-40630569eb42",
    "ExecuteTime": {
     "end_time": "2023-09-17T15:52:05.611415600Z",
     "start_time": "2023-09-17T15:52:05.594863300Z"
    }
   },
   "outputs": [
    {
     "data": {
      "text/plain": "exitus\n0    15097\n1     1256\nName: count, dtype: int64"
     },
     "execution_count": 7,
     "metadata": {},
     "output_type": "execute_result"
    }
   ],
   "source": [
    "dat_random_subsampling['exitus'].value_counts()"
   ]
  },
  {
   "cell_type": "code",
   "execution_count": 8,
   "metadata": {
    "colab": {
     "base_uri": "https://localhost:8080/",
     "height": 143
    },
    "id": "jRVfzUhq_LVE",
    "executionInfo": {
     "status": "ok",
     "timestamp": 1694163364257,
     "user_tz": -120,
     "elapsed": 7,
     "user": {
      "displayName": "Jesus Prada",
      "userId": "01990672692810654269"
     }
    },
    "outputId": "5456fe4e-69f4-4af2-c669-267777fe3a4e",
    "ExecuteTime": {
     "end_time": "2023-09-17T15:52:07.276265700Z",
     "start_time": "2023-09-17T15:52:07.259844400Z"
    }
   },
   "outputs": [
    {
     "data": {
      "text/plain": "            count\nexitus           \n0       92.319452\n1        7.680548",
      "text/html": "<div>\n<style scoped>\n    .dataframe tbody tr th:only-of-type {\n        vertical-align: middle;\n    }\n\n    .dataframe tbody tr th {\n        vertical-align: top;\n    }\n\n    .dataframe thead th {\n        text-align: right;\n    }\n</style>\n<table border=\"1\" class=\"dataframe\">\n  <thead>\n    <tr style=\"text-align: right;\">\n      <th></th>\n      <th>count</th>\n    </tr>\n    <tr>\n      <th>exitus</th>\n      <th></th>\n    </tr>\n  </thead>\n  <tbody>\n    <tr>\n      <th>0</th>\n      <td>92.319452</td>\n    </tr>\n    <tr>\n      <th>1</th>\n      <td>7.680548</td>\n    </tr>\n  </tbody>\n</table>\n</div>"
     },
     "execution_count": 8,
     "metadata": {},
     "output_type": "execute_result"
    }
   ],
   "source": [
    "100*dat_random_subsampling.groupby(['exitus'])['exitus'].agg(['count'])/dat_random_subsampling.shape[0]"
   ]
  },
  {
   "cell_type": "markdown",
   "metadata": {
    "id": "23M0d1ls_LVF"
   },
   "source": [
    "We have reduced the target unbalance."
   ]
  },
  {
   "cell_type": "markdown",
   "metadata": {
    "id": "Niwb70zH_LVF"
   },
   "source": [
    "## Condensed Nearest Neighbors"
   ]
  },
  {
   "cell_type": "markdown",
   "metadata": {
    "id": "RvG6UYJq_LVF"
   },
   "source": [
    "This method remove instances from the majority class fulfilling:\n",
    "\n",
    "\n",
    "\n",
    "- Get all minority samples in a set C.\n",
    "\n",
    "\n",
    "- Add a sample from the majority class (class to be under-sampled) in C and all other samples of this class in a set S.\n",
    "\n",
    "\n",
    "- Go through the set S, sample by sample, and classify each sample using a 1 nearest neighbor rule.\n",
    "\n",
    "\n",
    "- If the sample is misclassified, add it to C, otherwise do nothing.\n",
    "\n",
    "\n",
    "- Reiterate on S until there is no samples to be added.\n"
   ]
  },
  {
   "cell_type": "markdown",
   "metadata": {
    "id": "PelnjYaV_LVG"
   },
   "source": [
    "It is available in the package *imbalanced-learn*."
   ]
  },
  {
   "cell_type": "code",
   "execution_count": 9,
   "metadata": {
    "id": "Olqg49Ql_LVG",
    "executionInfo": {
     "status": "ok",
     "timestamp": 1694163700376,
     "user_tz": -120,
     "elapsed": 862,
     "user": {
      "displayName": "Jesus Prada",
      "userId": "01990672692810654269"
     }
    },
    "ExecuteTime": {
     "end_time": "2023-09-17T15:52:10.073266Z",
     "start_time": "2023-09-17T15:52:09.932083800Z"
    }
   },
   "outputs": [],
   "source": [
    "from imblearn.under_sampling import CondensedNearestNeighbour"
   ]
  },
  {
   "cell_type": "code",
   "execution_count": 10,
   "metadata": {
    "id": "PskMUEcu_LVG",
    "executionInfo": {
     "status": "ok",
     "timestamp": 1694163705475,
     "user_tz": -120,
     "elapsed": 450,
     "user": {
      "displayName": "Jesus Prada",
      "userId": "01990672692810654269"
     }
    },
    "ExecuteTime": {
     "end_time": "2023-09-17T15:52:12.753348700Z",
     "start_time": "2023-09-17T15:52:12.737883200Z"
    }
   },
   "outputs": [],
   "source": [
    "cnn = CondensedNearestNeighbour(sampling_strategy = 'majority')"
   ]
  },
  {
   "cell_type": "code",
   "execution_count": 11,
   "metadata": {
    "colab": {
     "base_uri": "https://localhost:8080/",
     "height": 339
    },
    "id": "BGnr1DzV_LVG",
    "executionInfo": {
     "status": "error",
     "timestamp": 1694163902296,
     "user_tz": -120,
     "elapsed": 183302,
     "user": {
      "displayName": "Jesus Prada",
      "userId": "01990672692810654269"
     }
    },
    "outputId": "26ee3ac6-78c9-470e-f438-b635f0b67b7d",
    "ExecuteTime": {
     "start_time": "2023-09-17T15:52:15.513089500Z"
    }
   },
   "outputs": [],
   "source": [
    "X_cnn, y_cnn = cnn.fit_resample(dat.drop('exitus', axis = 1).fillna(0),\n",
    "                                dat['exitus'])"
   ]
  },
  {
   "cell_type": "code",
   "execution_count": null,
   "metadata": {
    "id": "fu6gcV4W_LVG"
   },
   "outputs": [],
   "source": [
    "dat_cnn = pd.concat([X_cnn, y_cnn], axis = 1)"
   ]
  },
  {
   "cell_type": "code",
   "execution_count": null,
   "metadata": {
    "id": "vwtbqd-c_LVG",
    "outputId": "8e8a541d-487e-4625-a143-6df2cf98b72f"
   },
   "outputs": [
    {
     "data": {
      "text/html": [
       "<div>\n",
       "<style scoped>\n",
       "    .dataframe tbody tr th:only-of-type {\n",
       "        vertical-align: middle;\n",
       "    }\n",
       "\n",
       "    .dataframe tbody tr th {\n",
       "        vertical-align: top;\n",
       "    }\n",
       "\n",
       "    .dataframe thead th {\n",
       "        text-align: right;\n",
       "    }\n",
       "</style>\n",
       "<table border=\"1\" class=\"dataframe\">\n",
       "  <thead>\n",
       "    <tr style=\"text-align: right;\">\n",
       "      <th></th>\n",
       "      <th>count</th>\n",
       "    </tr>\n",
       "    <tr>\n",
       "      <th>sales channel</th>\n",
       "      <th></th>\n",
       "    </tr>\n",
       "  </thead>\n",
       "  <tbody>\n",
       "    <tr>\n",
       "      <th>call center</th>\n",
       "      <td>20.207254</td>\n",
       "    </tr>\n",
       "    <tr>\n",
       "      <th>online</th>\n",
       "      <td>79.792746</td>\n",
       "    </tr>\n",
       "  </tbody>\n",
       "</table>\n",
       "</div>"
      ],
      "text/plain": [
       "                   count\n",
       "sales channel           \n",
       "call center    20.207254\n",
       "online         79.792746"
      ]
     },
     "execution_count": 15,
     "metadata": {},
     "output_type": "execute_result"
    }
   ],
   "source": [
    "100*dat_cnn.groupby(['exitus'])['exitus'].agg(['count'])/dat_cnn.shape[0]"
   ]
  },
  {
   "cell_type": "code",
   "execution_count": null,
   "metadata": {
    "id": "o_x22GvP_LVG",
    "outputId": "3df48b71-1d65-4d6a-a9b0-49b200b8f2a5"
   },
   "outputs": [
    {
     "data": {
      "text/plain": [
       "online         624\n",
       "call center     39\n",
       "Name: sales channel, dtype: int64"
      ]
     },
     "execution_count": 16,
     "metadata": {},
     "output_type": "execute_result"
    }
   ],
   "source": [
    "dat['sales channel'].value_counts()"
   ]
  },
  {
   "cell_type": "code",
   "execution_count": null,
   "metadata": {
    "id": "FA3w7SGG_LVG",
    "outputId": "992a3941-f1d0-457c-8ba8-3622fbc6cab8"
   },
   "outputs": [
    {
     "data": {
      "text/plain": [
       "online         154\n",
       "call center     39\n",
       "Name: sales channel, dtype: int64"
      ]
     },
     "execution_count": 17,
     "metadata": {},
     "output_type": "execute_result"
    }
   ],
   "source": [
    "dat_cnn['sales channel'].value_counts()"
   ]
  },
  {
   "cell_type": "markdown",
   "metadata": {
    "id": "487kb68Y_LVH"
   },
   "source": [
    "## Model Example"
   ]
  },
  {
   "cell_type": "markdown",
   "metadata": {
    "id": "cTKtQf0W_LVH"
   },
   "source": [
    "Let's work now with an artificial dataset."
   ]
  },
  {
   "cell_type": "code",
   "execution_count": null,
   "metadata": {
    "id": "q49uYU5r_LVH",
    "outputId": "ce2b32e7-7568-4067-fd74-f5c6c833988e"
   },
   "outputs": [
    {
     "name": "stdout",
     "output_type": "stream",
     "text": [
      "Object `make_classification` not found.\n"
     ]
    }
   ],
   "source": [
    "?make_classification"
   ]
  },
  {
   "cell_type": "code",
   "execution_count": null,
   "metadata": {
    "id": "IMAmRvmf_LVH"
   },
   "outputs": [],
   "source": [
    "from sklearn.datasets import make_classification"
   ]
  },
  {
   "cell_type": "code",
   "execution_count": null,
   "metadata": {
    "id": "h72N_iDm_LVH"
   },
   "outputs": [],
   "source": [
    "X, y = make_classification(FILL)"
   ]
  },
  {
   "cell_type": "code",
   "execution_count": null,
   "metadata": {
    "id": "P1uTdKAj_LVI",
    "outputId": "86c37224-6da0-4ae6-d085-35a905e21b54"
   },
   "outputs": [
    {
     "data": {
      "image/png": "[encoded data removed]",
      "text/plain": [
       "<Figure size 432x288 with 1 Axes>"
      ]
     },
     "metadata": {
      "needs_background": "light"
     },
     "output_type": "display_data"
    }
   ],
   "source": [
    "# scatter plot of examples by class label\n",
    "plt.scatter(X[:, 0], X[:, 1], c = y)\n",
    "plt.show()"
   ]
  },
  {
   "cell_type": "code",
   "execution_count": null,
   "metadata": {
    "id": "-XvO_HDI_LVI",
    "outputId": "c8d4b3b1-e6d2-43be-91fc-006fbab7f7ad"
   },
   "outputs": [
    {
     "name": "stdout",
     "output_type": "stream",
     "text": [
      "[[  0 990]\n",
      " [  1  10]]\n"
     ]
    }
   ],
   "source": [
    "unique, counts = np.unique(y, return_counts=True);\n",
    "print(np.asarray((unique, counts)).T);"
   ]
  },
  {
   "cell_type": "markdown",
   "metadata": {
    "id": "wg6mMnyp_LVI"
   },
   "source": [
    "Let's apply CNN undersamling over this dataset."
   ]
  },
  {
   "cell_type": "markdown",
   "source": [],
   "metadata": {
    "id": "I4C_nNG_CXd1"
   }
  },
  {
   "cell_type": "code",
   "execution_count": null,
   "metadata": {
    "id": "EayB_czm_LVI"
   },
   "outputs": [],
   "source": [
    "cnn = CondensedNearestNeighbour(FILL)"
   ]
  },
  {
   "cell_type": "code",
   "execution_count": null,
   "metadata": {
    "id": "QREFZEVj_LVI"
   },
   "outputs": [],
   "source": [
    "X_cnn, y_cnn = cnn.fit_resample(FILL)"
   ]
  },
  {
   "cell_type": "code",
   "execution_count": null,
   "metadata": {
    "id": "a1bIIeeK_LVJ",
    "outputId": "827e8d78-3a08-4fae-af72-aecb30538cb7"
   },
   "outputs": [
    {
     "name": "stdout",
     "output_type": "stream",
     "text": [
      "[[ 0 83]\n",
      " [ 1 10]]\n"
     ]
    }
   ],
   "source": [
    "unique, counts = np.unique(y_cnn, return_counts=True);\n",
    "print(np.asarray((unique, counts)).T);"
   ]
  },
  {
   "cell_type": "markdown",
   "metadata": {
    "id": "2WYGxCZW_LVJ"
   },
   "source": [
    "And build models with and without undersampling."
   ]
  },
  {
   "cell_type": "code",
   "execution_count": null,
   "metadata": {
    "id": "MO2JZTE1_LVJ"
   },
   "outputs": [],
   "source": [
    "X_train, X_test, y_train, y_test = train_test_split(X, y, stratify = y, test_size=0.3, random_state=1);\n",
    "X_cnn_train, X_cnn_test, y_cnn_train, y_cnn_test = train_test_split(X_cnn, y_cnn, stratify = y_cnn, test_size=0.3, random_state=1);\n"
   ]
  },
  {
   "cell_type": "markdown",
   "source": [
    "Model without undersampling"
   ],
   "metadata": {
    "id": "9Gp45wuCCDoq"
   }
  },
  {
   "cell_type": "code",
   "execution_count": null,
   "metadata": {
    "id": "CmCCHJPX_LVJ"
   },
   "outputs": [],
   "source": [
    "FILL"
   ]
  },
  {
   "cell_type": "markdown",
   "source": [
    "Model with undersampling"
   ],
   "metadata": {
    "id": "5M1PsNhzCGxD"
   }
  },
  {
   "cell_type": "code",
   "execution_count": null,
   "metadata": {
    "id": "QYTdi2Z7_LVJ"
   },
   "outputs": [],
   "source": [
    "FILL"
   ]
  },
  {
   "cell_type": "code",
   "execution_count": null,
   "metadata": {
    "id": "e99jctWZ_LVK",
    "outputId": "4789a4f3-940a-41ec-a9fb-66875994992e"
   },
   "outputs": [
    {
     "name": "stdout",
     "output_type": "stream",
     "text": [
      "AUC train = 1.00 - AUC test = 0.63\n"
     ]
    }
   ],
   "source": [
    "# print error\n",
    "print('AUC train = %.2f - AUC test = %.2f'\n",
    "      % (metric_train, metric_test))\n",
    "\n",
    "# print error\n",
    "print('AUC undersampling train = %.2f - AUC undersampling test = %.2f'\n",
    "      % (metric_cnn_train, metric_cnn_test))"
   ]
  },
  {
   "cell_type": "markdown",
   "metadata": {
    "id": "TXhgv149_LVK"
   },
   "source": [
    "## Define Custom Function"
   ]
  },
  {
   "cell_type": "markdown",
   "metadata": {
    "id": "eQWc-gcl_LVK"
   },
   "source": [
    "Let's create our own custom function to apply undersampling."
   ]
  },
  {
   "cell_type": "code",
   "execution_count": 18,
   "metadata": {
    "id": "VgweMFRa_LVK",
    "executionInfo": {
     "status": "ok",
     "timestamp": 1694163905214,
     "user_tz": -120,
     "elapsed": 458,
     "user": {
      "displayName": "Jesus Prada",
      "userId": "01990672692810654269"
     }
    }
   },
   "outputs": [],
   "source": [
    "def undersampling(X, y,type_value = 'cnn', p = 0.5, k = 1, n_jobs = 1):\n",
    "    if type_value == 'cnn':\n",
    "        cn = CondensedNearestNeighbour(sampling_strategy = 'majority',\n",
    "           n_neighbors = k,\n",
    "           n_jobs = n_jobs)\n",
    "        X, y = cn.fit_resample(X, y)\n",
    "        return X,y\n",
    "    elif type_value == 'random':\n",
    "        majority_class = stats.mode(y)[0][0]\n",
    "        subsampling_rows = np.random.choice(np.arange(0, len(y[y == majority_class])),\n",
    "                                            int(p*len(y[y == majority_class])),\n",
    "                                           replace = False)\n",
    "        X = np.delete(X, subsampling_rows, axis=0)\n",
    "        y = np.delete(y, subsampling_rows, axis=0)\n",
    "        return X,y\n"
   ]
  },
  {
   "cell_type": "code",
   "execution_count": null,
   "metadata": {
    "id": "_oho1cKm_LVL",
    "outputId": "33ef48f3-f980-457b-dcf2-5bc56a7df9a9"
   },
   "outputs": [
    {
     "data": {
      "text/plain": [
       "(87, 20)"
      ]
     },
     "execution_count": 51,
     "metadata": {},
     "output_type": "execute_result"
    }
   ],
   "source": [
    "X_new, y_new = undersampling(X, y)\n",
    "X_new.shape"
   ]
  },
  {
   "cell_type": "code",
   "execution_count": null,
   "metadata": {
    "id": "EC11dS5U_LVL",
    "outputId": "020bf1bd-d690-4a10-822b-e1db6d83bc93"
   },
   "outputs": [
    {
     "data": {
      "text/plain": [
       "(258, 20)"
      ]
     },
     "execution_count": 54,
     "metadata": {},
     "output_type": "execute_result"
    }
   ],
   "source": [
    "X_new, y_new = undersampling(X, y, p = 0.25, type_value = 'random')\n",
    "X_new.shape"
   ]
  },
  {
   "cell_type": "markdown",
   "metadata": {
    "id": "l1Y7KCiH_LVL"
   },
   "source": [
    "## Other Undersampling Techniques"
   ]
  },
  {
   "cell_type": "markdown",
   "metadata": {
    "id": "AlLDM5S9_LVL"
   },
   "source": [
    "There are variations of SMOTE available on the package\n",
    "\n",
    "\n",
    "- Random majority under-sampling with replacement\n",
    "\n",
    "\n",
    "- Extraction of majority-minority Tomek links\n",
    "\n",
    "\n",
    "- Under-sampling with Cluster Centroids\n",
    "\n",
    "\n",
    "- NearMiss-(1 & 2 & 3)\n",
    "\n",
    "\n",
    "- One-Sided Selection\n",
    "\n",
    "\n",
    "- Neighboorhood Cleaning Rule\n",
    "\n",
    "\n",
    "- Edited Nearest Neighbours\n",
    "\n",
    "\n",
    "- Instance Hardness Threshold\n",
    "\n",
    "\n",
    "- Repeated Edited Nearest Neighbours\n",
    "\n",
    "\n",
    "- AllKNN\n",
    "\n",
    "\n",
    "\n",
    "\n",
    "\n",
    "\n",
    "Reference: https://github.com/scikit-learn-contrib/imbalanced-learn"
   ]
  },
  {
   "cell_type": "code",
   "execution_count": null,
   "metadata": {
    "id": "wRmSXeC9_LVM"
   },
   "outputs": [],
   "source": []
  }
 ],
 "metadata": {
  "kernelspec": {
   "display_name": "Python 3",
   "language": "python",
   "name": "python3"
  },
  "language_info": {
   "codemirror_mode": {
    "name": "ipython",
    "version": 3
   },
   "file_extension": ".py",
   "mimetype": "text/x-python",
   "name": "python",
   "nbconvert_exporter": "python",
   "pygments_lexer": "ipython3",
   "version": "3.7.3"
  },
  "colab": {
   "provenance": []
  }
 },
 "nbformat": 4,
 "nbformat_minor": 0
}
