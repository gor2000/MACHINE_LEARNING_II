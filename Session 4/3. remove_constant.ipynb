{
 "cells": [
  {
   "cell_type": "code",
   "execution_count": 1,
   "metadata": {
    "id": "tG-z5-qjCjla",
    "executionInfo": {
     "status": "ok",
     "timestamp": 1694164012015,
     "user_tz": -120,
     "elapsed": 1843,
     "user": {
      "displayName": "Jesus Prada",
      "userId": "01990672692810654269"
     }
    },
    "ExecuteTime": {
     "end_time": "2023-09-17T15:54:04.524902100Z",
     "start_time": "2023-09-17T15:54:03.424975500Z"
    }
   },
   "outputs": [],
   "source": [
    "# Load Libraries\n",
    "%matplotlib inline\n",
    "import numpy as np\n",
    "import matplotlib.pyplot as plt\n",
    "from scipy import stats\n",
    "import pandas as pd\n",
    "\n",
    "from sklearn.model_selection import train_test_split\n",
    "from scipy import stats\n",
    "\n",
    "from multiprocessing import cpu_count"
   ]
  },
  {
   "cell_type": "markdown",
   "metadata": {
    "id": "zbNtJE94Cjlc"
   },
   "source": [
    "# Remove Constant Variables"
   ]
  },
  {
   "cell_type": "markdown",
   "metadata": {
    "id": "xW_5zOQICjle"
   },
   "source": [
    "Constant variables does not contain useful information when trying to predict or extract patterns from data. These variables should be eliminated to reduce computational and memory costs, as well as helping the model to focus on relevant variables."
   ]
  },
  {
   "cell_type": "markdown",
   "metadata": {
    "id": "62aRLREKCjle"
   },
   "source": [
    "## Load Data"
   ]
  },
  {
   "cell_type": "code",
   "execution_count": 2,
   "metadata": {
    "colab": {
     "base_uri": "https://localhost:8080/",
     "height": 424
    },
    "id": "hIFN5nhSCjlf",
    "executionInfo": {
     "status": "ok",
     "timestamp": 1694164024396,
     "user_tz": -120,
     "elapsed": 261,
     "user": {
      "displayName": "Jesus Prada",
      "userId": "01990672692810654269"
     }
    },
    "outputId": "028be29e-f4a0-435b-f699-5de23d6b4ff3",
    "ExecuteTime": {
     "end_time": "2023-09-17T15:54:35.229543200Z",
     "start_time": "2023-09-17T15:54:35.210114700Z"
    }
   },
   "outputs": [
    {
     "data": {
      "text/plain": "       user booking_date origin_airport       price sales channel company  \\\n0     user5   2018-11-01            MAD   58.200001        online      I2   \n1     user7   2018-11-01            DUB  147.500000        online      I2   \n2     user4   2018-11-02            TFS   24.049999        online      I2   \n3     user8   2018-10-29            MAD   59.709999        online      I2   \n4     user7   2018-11-01            LPA   37.299999   call center      I2   \n..      ...          ...            ...         ...           ...     ...   \n995   user2   2018-11-01            JMK   99.849998        online      I2   \n996  user10   2018-11-01            SVQ   34.610001        online      I2   \n997   user4   2018-10-30            MAD   49.880001        online      I2   \n998  user10   2018-11-02            CDG  152.960007        online      I2   \n999   user6   2018-11-01            MAD   98.339996        online      I2   \n\n    user_country  index  \n0            NaN      1  \n1            NaN      2  \n2            NaN      3  \n3            NaN      4  \n4            NaN      5  \n..           ...    ...  \n995          NaN    996  \n996          NaN    997  \n997          NaN    998  \n998          NaN    999  \n999          NaN   1000  \n\n[1000 rows x 8 columns]",
      "text/html": "<div>\n<style scoped>\n    .dataframe tbody tr th:only-of-type {\n        vertical-align: middle;\n    }\n\n    .dataframe tbody tr th {\n        vertical-align: top;\n    }\n\n    .dataframe thead th {\n        text-align: right;\n    }\n</style>\n<table border=\"1\" class=\"dataframe\">\n  <thead>\n    <tr style=\"text-align: right;\">\n      <th></th>\n      <th>user</th>\n      <th>booking_date</th>\n      <th>origin_airport</th>\n      <th>price</th>\n      <th>sales channel</th>\n      <th>company</th>\n      <th>user_country</th>\n      <th>index</th>\n    </tr>\n  </thead>\n  <tbody>\n    <tr>\n      <th>0</th>\n      <td>user5</td>\n      <td>2018-11-01</td>\n      <td>MAD</td>\n      <td>58.200001</td>\n      <td>online</td>\n      <td>I2</td>\n      <td>NaN</td>\n      <td>1</td>\n    </tr>\n    <tr>\n      <th>1</th>\n      <td>user7</td>\n      <td>2018-11-01</td>\n      <td>DUB</td>\n      <td>147.500000</td>\n      <td>online</td>\n      <td>I2</td>\n      <td>NaN</td>\n      <td>2</td>\n    </tr>\n    <tr>\n      <th>2</th>\n      <td>user4</td>\n      <td>2018-11-02</td>\n      <td>TFS</td>\n      <td>24.049999</td>\n      <td>online</td>\n      <td>I2</td>\n      <td>NaN</td>\n      <td>3</td>\n    </tr>\n    <tr>\n      <th>3</th>\n      <td>user8</td>\n      <td>2018-10-29</td>\n      <td>MAD</td>\n      <td>59.709999</td>\n      <td>online</td>\n      <td>I2</td>\n      <td>NaN</td>\n      <td>4</td>\n    </tr>\n    <tr>\n      <th>4</th>\n      <td>user7</td>\n      <td>2018-11-01</td>\n      <td>LPA</td>\n      <td>37.299999</td>\n      <td>call center</td>\n      <td>I2</td>\n      <td>NaN</td>\n      <td>5</td>\n    </tr>\n    <tr>\n      <th>...</th>\n      <td>...</td>\n      <td>...</td>\n      <td>...</td>\n      <td>...</td>\n      <td>...</td>\n      <td>...</td>\n      <td>...</td>\n      <td>...</td>\n    </tr>\n    <tr>\n      <th>995</th>\n      <td>user2</td>\n      <td>2018-11-01</td>\n      <td>JMK</td>\n      <td>99.849998</td>\n      <td>online</td>\n      <td>I2</td>\n      <td>NaN</td>\n      <td>996</td>\n    </tr>\n    <tr>\n      <th>996</th>\n      <td>user10</td>\n      <td>2018-11-01</td>\n      <td>SVQ</td>\n      <td>34.610001</td>\n      <td>online</td>\n      <td>I2</td>\n      <td>NaN</td>\n      <td>997</td>\n    </tr>\n    <tr>\n      <th>997</th>\n      <td>user4</td>\n      <td>2018-10-30</td>\n      <td>MAD</td>\n      <td>49.880001</td>\n      <td>online</td>\n      <td>I2</td>\n      <td>NaN</td>\n      <td>998</td>\n    </tr>\n    <tr>\n      <th>998</th>\n      <td>user10</td>\n      <td>2018-11-02</td>\n      <td>CDG</td>\n      <td>152.960007</td>\n      <td>online</td>\n      <td>I2</td>\n      <td>NaN</td>\n      <td>999</td>\n    </tr>\n    <tr>\n      <th>999</th>\n      <td>user6</td>\n      <td>2018-11-01</td>\n      <td>MAD</td>\n      <td>98.339996</td>\n      <td>online</td>\n      <td>I2</td>\n      <td>NaN</td>\n      <td>1000</td>\n    </tr>\n  </tbody>\n</table>\n<p>1000 rows × 8 columns</p>\n</div>"
     },
     "execution_count": 2,
     "metadata": {},
     "output_type": "execute_result"
    }
   ],
   "source": [
    "dat = pd.read_csv('../data/userbase.csv', sep = \";\")\n",
    "dat"
   ]
  },
  {
   "cell_type": "markdown",
   "metadata": {
    "id": "wvQpns8iCjlf"
   },
   "source": [
    "## Detect Constant Variables"
   ]
  },
  {
   "cell_type": "markdown",
   "metadata": {
    "id": "FBSqv05kCjlg"
   },
   "source": [
    "Let's count the number of unique (distinct) values of each variable of the dataset."
   ]
  },
  {
   "cell_type": "code",
   "execution_count": 3,
   "metadata": {
    "colab": {
     "base_uri": "https://localhost:8080/"
    },
    "id": "-SWpMG9DCjlg",
    "executionInfo": {
     "status": "ok",
     "timestamp": 1694164028202,
     "user_tz": -120,
     "elapsed": 258,
     "user": {
      "displayName": "Jesus Prada",
      "userId": "01990672692810654269"
     }
    },
    "outputId": "df992643-b1a7-4503-a407-67f98fb70da7",
    "ExecuteTime": {
     "end_time": "2023-09-17T15:54:39.426500300Z",
     "start_time": "2023-09-17T15:54:39.413126400Z"
    }
   },
   "outputs": [
    {
     "data": {
      "text/plain": "user                10\nbooking_date         6\norigin_airport      52\nprice              890\nsales channel        3\ncompany              1\nuser_country         2\nindex             1000\ndtype: int64"
     },
     "execution_count": 3,
     "metadata": {},
     "output_type": "execute_result"
    }
   ],
   "source": [
    "dat.apply(lambda x: len(x.unique()))"
   ]
  },
  {
   "cell_type": "markdown",
   "metadata": {
    "id": "6uZtmL_FCjlg"
   },
   "source": [
    "airline has only one value! This means it is a constant variable."
   ]
  },
  {
   "cell_type": "markdown",
   "metadata": {
    "id": "o0RuBhPVCjlh"
   },
   "source": [
    "More generally, we can detect constant variables on a dataset doing this:"
   ]
  },
  {
   "cell_type": "code",
   "execution_count": 4,
   "metadata": {
    "colab": {
     "base_uri": "https://localhost:8080/"
    },
    "id": "wRQdUi2iCjli",
    "executionInfo": {
     "status": "ok",
     "timestamp": 1694164053330,
     "user_tz": -120,
     "elapsed": 263,
     "user": {
      "displayName": "Jesus Prada",
      "userId": "01990672692810654269"
     }
    },
    "outputId": "ba18e147-61dd-4149-91a5-47d11eeff5a2",
    "ExecuteTime": {
     "end_time": "2023-09-17T15:54:56.654878800Z",
     "start_time": "2023-09-17T15:54:56.642746200Z"
    }
   },
   "outputs": [
    {
     "data": {
      "text/plain": "user              False\nbooking_date      False\norigin_airport    False\nprice             False\nsales channel     False\ncompany            True\nuser_country      False\nindex             False\ndtype: bool"
     },
     "execution_count": 4,
     "metadata": {},
     "output_type": "execute_result"
    }
   ],
   "source": [
    "dat.apply(lambda x: len(x.unique())) == 1"
   ]
  },
  {
   "cell_type": "code",
   "execution_count": 5,
   "metadata": {
    "colab": {
     "base_uri": "https://localhost:8080/"
    },
    "id": "Ny_SVunECjli",
    "executionInfo": {
     "status": "ok",
     "timestamp": 1694164054702,
     "user_tz": -120,
     "elapsed": 358,
     "user": {
      "displayName": "Jesus Prada",
      "userId": "01990672692810654269"
     }
    },
    "outputId": "31f839eb-a092-414c-bff1-31aec8784f68",
    "ExecuteTime": {
     "end_time": "2023-09-17T15:55:07.521649100Z",
     "start_time": "2023-09-17T15:55:07.510966400Z"
    }
   },
   "outputs": [
    {
     "data": {
      "text/plain": "['company']"
     },
     "execution_count": 5,
     "metadata": {},
     "output_type": "execute_result"
    }
   ],
   "source": [
    "constant_variables = dat.columns.values[dat.apply(lambda x: len(x.unique())) == 1].tolist()\n",
    "constant_variables"
   ]
  },
  {
   "cell_type": "markdown",
   "metadata": {
    "id": "6r4FFidQCjlj"
   },
   "source": [
    "## Remove Constant Variables"
   ]
  },
  {
   "cell_type": "markdown",
   "metadata": {
    "id": "jYWRyNVKCjlj"
   },
   "source": [
    "Let's use the previously computed list with constant column names to remove these variables from our dataset."
   ]
  },
  {
   "cell_type": "code",
   "execution_count": 6,
   "metadata": {
    "colab": {
     "base_uri": "https://localhost:8080/",
     "height": 424
    },
    "id": "pN1AdLEDCjlj",
    "executionInfo": {
     "status": "ok",
     "timestamp": 1694164059513,
     "user_tz": -120,
     "elapsed": 332,
     "user": {
      "displayName": "Jesus Prada",
      "userId": "01990672692810654269"
     }
    },
    "outputId": "8826f1c6-b21a-444a-b763-eaa6889d9133",
    "ExecuteTime": {
     "end_time": "2023-09-17T15:55:12.923495700Z",
     "start_time": "2023-09-17T15:55:12.898454700Z"
    }
   },
   "outputs": [
    {
     "data": {
      "text/plain": "       user booking_date origin_airport       price sales channel  \\\n0     user5   2018-11-01            MAD   58.200001        online   \n1     user7   2018-11-01            DUB  147.500000        online   \n2     user4   2018-11-02            TFS   24.049999        online   \n3     user8   2018-10-29            MAD   59.709999        online   \n4     user7   2018-11-01            LPA   37.299999   call center   \n..      ...          ...            ...         ...           ...   \n995   user2   2018-11-01            JMK   99.849998        online   \n996  user10   2018-11-01            SVQ   34.610001        online   \n997   user4   2018-10-30            MAD   49.880001        online   \n998  user10   2018-11-02            CDG  152.960007        online   \n999   user6   2018-11-01            MAD   98.339996        online   \n\n    user_country  index  \n0            NaN      1  \n1            NaN      2  \n2            NaN      3  \n3            NaN      4  \n4            NaN      5  \n..           ...    ...  \n995          NaN    996  \n996          NaN    997  \n997          NaN    998  \n998          NaN    999  \n999          NaN   1000  \n\n[1000 rows x 7 columns]",
      "text/html": "<div>\n<style scoped>\n    .dataframe tbody tr th:only-of-type {\n        vertical-align: middle;\n    }\n\n    .dataframe tbody tr th {\n        vertical-align: top;\n    }\n\n    .dataframe thead th {\n        text-align: right;\n    }\n</style>\n<table border=\"1\" class=\"dataframe\">\n  <thead>\n    <tr style=\"text-align: right;\">\n      <th></th>\n      <th>user</th>\n      <th>booking_date</th>\n      <th>origin_airport</th>\n      <th>price</th>\n      <th>sales channel</th>\n      <th>user_country</th>\n      <th>index</th>\n    </tr>\n  </thead>\n  <tbody>\n    <tr>\n      <th>0</th>\n      <td>user5</td>\n      <td>2018-11-01</td>\n      <td>MAD</td>\n      <td>58.200001</td>\n      <td>online</td>\n      <td>NaN</td>\n      <td>1</td>\n    </tr>\n    <tr>\n      <th>1</th>\n      <td>user7</td>\n      <td>2018-11-01</td>\n      <td>DUB</td>\n      <td>147.500000</td>\n      <td>online</td>\n      <td>NaN</td>\n      <td>2</td>\n    </tr>\n    <tr>\n      <th>2</th>\n      <td>user4</td>\n      <td>2018-11-02</td>\n      <td>TFS</td>\n      <td>24.049999</td>\n      <td>online</td>\n      <td>NaN</td>\n      <td>3</td>\n    </tr>\n    <tr>\n      <th>3</th>\n      <td>user8</td>\n      <td>2018-10-29</td>\n      <td>MAD</td>\n      <td>59.709999</td>\n      <td>online</td>\n      <td>NaN</td>\n      <td>4</td>\n    </tr>\n    <tr>\n      <th>4</th>\n      <td>user7</td>\n      <td>2018-11-01</td>\n      <td>LPA</td>\n      <td>37.299999</td>\n      <td>call center</td>\n      <td>NaN</td>\n      <td>5</td>\n    </tr>\n    <tr>\n      <th>...</th>\n      <td>...</td>\n      <td>...</td>\n      <td>...</td>\n      <td>...</td>\n      <td>...</td>\n      <td>...</td>\n      <td>...</td>\n    </tr>\n    <tr>\n      <th>995</th>\n      <td>user2</td>\n      <td>2018-11-01</td>\n      <td>JMK</td>\n      <td>99.849998</td>\n      <td>online</td>\n      <td>NaN</td>\n      <td>996</td>\n    </tr>\n    <tr>\n      <th>996</th>\n      <td>user10</td>\n      <td>2018-11-01</td>\n      <td>SVQ</td>\n      <td>34.610001</td>\n      <td>online</td>\n      <td>NaN</td>\n      <td>997</td>\n    </tr>\n    <tr>\n      <th>997</th>\n      <td>user4</td>\n      <td>2018-10-30</td>\n      <td>MAD</td>\n      <td>49.880001</td>\n      <td>online</td>\n      <td>NaN</td>\n      <td>998</td>\n    </tr>\n    <tr>\n      <th>998</th>\n      <td>user10</td>\n      <td>2018-11-02</td>\n      <td>CDG</td>\n      <td>152.960007</td>\n      <td>online</td>\n      <td>NaN</td>\n      <td>999</td>\n    </tr>\n    <tr>\n      <th>999</th>\n      <td>user6</td>\n      <td>2018-11-01</td>\n      <td>MAD</td>\n      <td>98.339996</td>\n      <td>online</td>\n      <td>NaN</td>\n      <td>1000</td>\n    </tr>\n  </tbody>\n</table>\n<p>1000 rows × 7 columns</p>\n</div>"
     },
     "execution_count": 6,
     "metadata": {},
     "output_type": "execute_result"
    }
   ],
   "source": [
    "new_dat = dat.drop(constant_variables, axis = 1)\n",
    "new_dat"
   ]
  },
  {
   "cell_type": "markdown",
   "metadata": {
    "id": "U2rlH6kjCjlj"
   },
   "source": [
    "## Define Custom Function"
   ]
  },
  {
   "cell_type": "markdown",
   "metadata": {
    "id": "TrZ6WDU-Cjlk"
   },
   "source": [
    "Let's create our own custom function to remove constant variables."
   ]
  },
  {
   "cell_type": "code",
   "execution_count": 8,
   "metadata": {
    "id": "elWqNCB6Cjlk",
    "executionInfo": {
     "status": "ok",
     "timestamp": 1694164085265,
     "user_tz": -120,
     "elapsed": 264,
     "user": {
      "displayName": "Jesus Prada",
      "userId": "01990672692810654269"
     }
    },
    "ExecuteTime": {
     "end_time": "2023-09-17T15:55:24.050140400Z",
     "start_time": "2023-09-17T15:55:24.033584Z"
    }
   },
   "outputs": [],
   "source": [
    "def remove_constant(X):\n",
    "    constant_variables = X.columns.values[X.apply(lambda x: len(x.unique())) == 1].tolist()\n",
    "    X = X.drop(constant_variables, axis = 1)\n",
    "    print('Variables ' + str(constant_variables) + ' have been removed from dataset.')\n",
    "    return X\n",
    "\n"
   ]
  },
  {
   "cell_type": "code",
   "execution_count": 9,
   "metadata": {
    "colab": {
     "base_uri": "https://localhost:8080/",
     "height": 223
    },
    "id": "sC2VdBn5Cjlk",
    "executionInfo": {
     "status": "ok",
     "timestamp": 1694164085488,
     "user_tz": -120,
     "elapsed": 5,
     "user": {
      "displayName": "Jesus Prada",
      "userId": "01990672692810654269"
     }
    },
    "outputId": "28eb9b7f-db1e-4751-e345-d3c86160d1a5",
    "ExecuteTime": {
     "end_time": "2023-09-17T15:55:30.850078500Z",
     "start_time": "2023-09-17T15:55:30.837383900Z"
    }
   },
   "outputs": [
    {
     "name": "stdout",
     "output_type": "stream",
     "text": [
      "Variables ['company'] have been removed from dataset.\n"
     ]
    },
    {
     "data": {
      "text/plain": "    user booking_date origin_airport       price sales channel user_country  \\\n0  user5   2018-11-01            MAD   58.200001        online          NaN   \n1  user7   2018-11-01            DUB  147.500000        online          NaN   \n2  user4   2018-11-02            TFS   24.049999        online          NaN   \n3  user8   2018-10-29            MAD   59.709999        online          NaN   \n4  user7   2018-11-01            LPA   37.299999   call center          NaN   \n\n   index  \n0      1  \n1      2  \n2      3  \n3      4  \n4      5  ",
      "text/html": "<div>\n<style scoped>\n    .dataframe tbody tr th:only-of-type {\n        vertical-align: middle;\n    }\n\n    .dataframe tbody tr th {\n        vertical-align: top;\n    }\n\n    .dataframe thead th {\n        text-align: right;\n    }\n</style>\n<table border=\"1\" class=\"dataframe\">\n  <thead>\n    <tr style=\"text-align: right;\">\n      <th></th>\n      <th>user</th>\n      <th>booking_date</th>\n      <th>origin_airport</th>\n      <th>price</th>\n      <th>sales channel</th>\n      <th>user_country</th>\n      <th>index</th>\n    </tr>\n  </thead>\n  <tbody>\n    <tr>\n      <th>0</th>\n      <td>user5</td>\n      <td>2018-11-01</td>\n      <td>MAD</td>\n      <td>58.200001</td>\n      <td>online</td>\n      <td>NaN</td>\n      <td>1</td>\n    </tr>\n    <tr>\n      <th>1</th>\n      <td>user7</td>\n      <td>2018-11-01</td>\n      <td>DUB</td>\n      <td>147.500000</td>\n      <td>online</td>\n      <td>NaN</td>\n      <td>2</td>\n    </tr>\n    <tr>\n      <th>2</th>\n      <td>user4</td>\n      <td>2018-11-02</td>\n      <td>TFS</td>\n      <td>24.049999</td>\n      <td>online</td>\n      <td>NaN</td>\n      <td>3</td>\n    </tr>\n    <tr>\n      <th>3</th>\n      <td>user8</td>\n      <td>2018-10-29</td>\n      <td>MAD</td>\n      <td>59.709999</td>\n      <td>online</td>\n      <td>NaN</td>\n      <td>4</td>\n    </tr>\n    <tr>\n      <th>4</th>\n      <td>user7</td>\n      <td>2018-11-01</td>\n      <td>LPA</td>\n      <td>37.299999</td>\n      <td>call center</td>\n      <td>NaN</td>\n      <td>5</td>\n    </tr>\n  </tbody>\n</table>\n</div>"
     },
     "execution_count": 9,
     "metadata": {},
     "output_type": "execute_result"
    }
   ],
   "source": [
    "new_dat = remove_constant(dat)\n",
    "new_dat.head()"
   ]
  }
 ],
 "metadata": {
  "kernelspec": {
   "display_name": "Python 3",
   "language": "python",
   "name": "python3"
  },
  "language_info": {
   "codemirror_mode": {
    "name": "ipython",
    "version": 3
   },
   "file_extension": ".py",
   "mimetype": "text/x-python",
   "name": "python",
   "nbconvert_exporter": "python",
   "pygments_lexer": "ipython3",
   "version": "3.7.3"
  },
  "colab": {
   "provenance": []
  }
 },
 "nbformat": 4,
 "nbformat_minor": 0
}
