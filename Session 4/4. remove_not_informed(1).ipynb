{
 "cells": [
  {
   "cell_type": "code",
   "execution_count": 1,
   "metadata": {
    "ExecuteTime": {
     "end_time": "2023-09-17T15:55:46.484244500Z",
     "start_time": "2023-09-17T15:55:45.427195200Z"
    }
   },
   "outputs": [],
   "source": [
    "# Load Libraries\n",
    "%matplotlib inline\n",
    "import numpy as np\n",
    "import matplotlib.pyplot as plt\n",
    "from scipy import stats\n",
    "import pandas as pd \n",
    "\n",
    "from sklearn.model_selection import train_test_split\n",
    "from scipy import stats\n",
    "\n",
    "from multiprocessing import cpu_count"
   ]
  },
  {
   "cell_type": "markdown",
   "metadata": {},
   "source": [
    "# Remove Not Informed Variables"
   ]
  },
  {
   "cell_type": "markdown",
   "metadata": {},
   "source": [
    "Most machine learning models do not allow for missing values in the input data. \n",
    "\n",
    "In categorical variables, missing values can be transformed into a new category 'Missing', solving this way the issue.\n",
    "\n",
    "For numerical variables, these missing values can be filled using different approaches (see notebook 5) but if a variable has too many missing values these approaches are no longer useful and the best approach would be to remove the variable entirely from the dataset.\n",
    "\n",
    "Let's see here how to select variables with too many missing values and remove them from our dataset."
   ]
  },
  {
   "cell_type": "markdown",
   "metadata": {},
   "source": [
    "## Load Data"
   ]
  },
  {
   "cell_type": "code",
   "execution_count": 2,
   "metadata": {},
   "outputs": [
    {
     "data": {
      "text/html": [
       "<div>\n",
       "<style scoped>\n",
       "    .dataframe tbody tr th:only-of-type {\n",
       "        vertical-align: middle;\n",
       "    }\n",
       "\n",
       "    .dataframe tbody tr th {\n",
       "        vertical-align: top;\n",
       "    }\n",
       "\n",
       "    .dataframe thead th {\n",
       "        text-align: right;\n",
       "    }\n",
       "</style>\n",
       "<table border=\"1\" class=\"dataframe\">\n",
       "  <thead>\n",
       "    <tr style=\"text-align: right;\">\n",
       "      <th></th>\n",
       "      <th>user</th>\n",
       "      <th>booking_date</th>\n",
       "      <th>origin_airport</th>\n",
       "      <th>price</th>\n",
       "      <th>sales channel</th>\n",
       "      <th>ant</th>\n",
       "      <th>airline</th>\n",
       "    </tr>\n",
       "  </thead>\n",
       "  <tbody>\n",
       "    <tr>\n",
       "      <th>0</th>\n",
       "      <td>user5</td>\n",
       "      <td>01/11/2018</td>\n",
       "      <td>MAD</td>\n",
       "      <td>NaN</td>\n",
       "      <td>online</td>\n",
       "      <td>NaN</td>\n",
       "      <td>i2</td>\n",
       "    </tr>\n",
       "    <tr>\n",
       "      <th>1</th>\n",
       "      <td>user7</td>\n",
       "      <td>01/11/2018</td>\n",
       "      <td>DUB</td>\n",
       "      <td>147.500000</td>\n",
       "      <td>online</td>\n",
       "      <td>38.0</td>\n",
       "      <td>i2</td>\n",
       "    </tr>\n",
       "    <tr>\n",
       "      <th>2</th>\n",
       "      <td>user4</td>\n",
       "      <td>02/11/2018</td>\n",
       "      <td>TFS</td>\n",
       "      <td>24.049999</td>\n",
       "      <td>online</td>\n",
       "      <td>19.0</td>\n",
       "      <td>i2</td>\n",
       "    </tr>\n",
       "    <tr>\n",
       "      <th>3</th>\n",
       "      <td>user8</td>\n",
       "      <td>29/10/2018</td>\n",
       "      <td>MAD</td>\n",
       "      <td>59.709999</td>\n",
       "      <td>online</td>\n",
       "      <td>8.0</td>\n",
       "      <td>i2</td>\n",
       "    </tr>\n",
       "    <tr>\n",
       "      <th>4</th>\n",
       "      <td>user7</td>\n",
       "      <td>01/11/2018</td>\n",
       "      <td>NaN</td>\n",
       "      <td>37.299999</td>\n",
       "      <td>call center</td>\n",
       "      <td>4.0</td>\n",
       "      <td>i2</td>\n",
       "    </tr>\n",
       "  </tbody>\n",
       "</table>\n",
       "</div>"
      ],
      "text/plain": [
       "    user booking_date origin_airport       price sales channel   ant airline\n",
       "0  user5   01/11/2018            MAD         NaN        online   NaN      i2\n",
       "1  user7   01/11/2018            DUB  147.500000        online  38.0      i2\n",
       "2  user4   02/11/2018            TFS   24.049999        online  19.0      i2\n",
       "3  user8   29/10/2018            MAD   59.709999        online   8.0      i2\n",
       "4  user7   01/11/2018            NaN   37.299999   call center   4.0      i2"
      ]
     },
     "execution_count": 2,
     "metadata": {},
     "output_type": "execute_result"
    }
   ],
   "source": [
    "dat = pd.read_csv(\"/Users/jesus/Dropbox/Planes/proyectos/academia/IE/2021-2022/ML/dat/i2.csv\", sep = \";\")\n",
    "dat.head()"
   ]
  },
  {
   "cell_type": "markdown",
   "metadata": {},
   "source": [
    "## Detect Missing Values"
   ]
  },
  {
   "cell_type": "markdown",
   "metadata": {},
   "source": [
    "Let's count the number of missing values of each variable of the dataset."
   ]
  },
  {
   "cell_type": "code",
   "execution_count": 3,
   "metadata": {},
   "outputs": [
    {
     "data": {
      "text/plain": [
       "user               0.0\n",
       "booking_date       0.0\n",
       "origin_airport     0.4\n",
       "price             57.9\n",
       "sales channel      0.0\n",
       "ant                0.5\n",
       "airline            0.0\n",
       "dtype: float64"
      ]
     },
     "execution_count": 3,
     "metadata": {},
     "output_type": "execute_result"
    }
   ],
   "source": [
    "dat.apply(lambda x: 100*np.sum(x.isna())/len(x))"
   ]
  },
  {
   "cell_type": "markdown",
   "metadata": {},
   "source": [
    "price has 57.9% of missing values! It may be better to remove it from the dataset..."
   ]
  },
  {
   "cell_type": "markdown",
   "metadata": {},
   "source": [
    "## Detect Non-informed Variables"
   ]
  },
  {
   "cell_type": "markdown",
   "metadata": {},
   "source": [
    "More generally, we can detect non-informed variables on a dataset doing this:"
   ]
  },
  {
   "cell_type": "code",
   "execution_count": 11,
   "metadata": {},
   "outputs": [],
   "source": [
    "missing_values_threshold = 50 # You should try different values on a real problem."
   ]
  },
  {
   "cell_type": "code",
   "execution_count": 12,
   "metadata": {},
   "outputs": [
    {
     "data": {
      "text/plain": [
       "['price']"
      ]
     },
     "execution_count": 12,
     "metadata": {},
     "output_type": "execute_result"
    }
   ],
   "source": [
    "non_informed_variables = dat.columns.values[dat.apply(lambda x: 100*np.sum(x.isna())/len(x)) >= missing_values_threshold].tolist()\n",
    "non_informed_variables"
   ]
  },
  {
   "cell_type": "markdown",
   "metadata": {},
   "source": [
    "## Remove Non-informed Variables"
   ]
  },
  {
   "cell_type": "markdown",
   "metadata": {},
   "source": [
    "Let's use the previously computed list with non-informed column names to remove these variables from our dataset."
   ]
  },
  {
   "cell_type": "code",
   "execution_count": 13,
   "metadata": {},
   "outputs": [
    {
     "data": {
      "text/html": [
       "<div>\n",
       "<style scoped>\n",
       "    .dataframe tbody tr th:only-of-type {\n",
       "        vertical-align: middle;\n",
       "    }\n",
       "\n",
       "    .dataframe tbody tr th {\n",
       "        vertical-align: top;\n",
       "    }\n",
       "\n",
       "    .dataframe thead th {\n",
       "        text-align: right;\n",
       "    }\n",
       "</style>\n",
       "<table border=\"1\" class=\"dataframe\">\n",
       "  <thead>\n",
       "    <tr style=\"text-align: right;\">\n",
       "      <th></th>\n",
       "      <th>user</th>\n",
       "      <th>booking_date</th>\n",
       "      <th>origin_airport</th>\n",
       "      <th>sales channel</th>\n",
       "      <th>ant</th>\n",
       "      <th>airline</th>\n",
       "    </tr>\n",
       "  </thead>\n",
       "  <tbody>\n",
       "    <tr>\n",
       "      <th>0</th>\n",
       "      <td>user5</td>\n",
       "      <td>01/11/2018</td>\n",
       "      <td>MAD</td>\n",
       "      <td>online</td>\n",
       "      <td>NaN</td>\n",
       "      <td>i2</td>\n",
       "    </tr>\n",
       "    <tr>\n",
       "      <th>1</th>\n",
       "      <td>user7</td>\n",
       "      <td>01/11/2018</td>\n",
       "      <td>DUB</td>\n",
       "      <td>online</td>\n",
       "      <td>38.0</td>\n",
       "      <td>i2</td>\n",
       "    </tr>\n",
       "    <tr>\n",
       "      <th>2</th>\n",
       "      <td>user4</td>\n",
       "      <td>02/11/2018</td>\n",
       "      <td>TFS</td>\n",
       "      <td>online</td>\n",
       "      <td>19.0</td>\n",
       "      <td>i2</td>\n",
       "    </tr>\n",
       "    <tr>\n",
       "      <th>3</th>\n",
       "      <td>user8</td>\n",
       "      <td>29/10/2018</td>\n",
       "      <td>MAD</td>\n",
       "      <td>online</td>\n",
       "      <td>8.0</td>\n",
       "      <td>i2</td>\n",
       "    </tr>\n",
       "    <tr>\n",
       "      <th>4</th>\n",
       "      <td>user7</td>\n",
       "      <td>01/11/2018</td>\n",
       "      <td>NaN</td>\n",
       "      <td>call center</td>\n",
       "      <td>4.0</td>\n",
       "      <td>i2</td>\n",
       "    </tr>\n",
       "    <tr>\n",
       "      <th>...</th>\n",
       "      <td>...</td>\n",
       "      <td>...</td>\n",
       "      <td>...</td>\n",
       "      <td>...</td>\n",
       "      <td>...</td>\n",
       "      <td>...</td>\n",
       "    </tr>\n",
       "    <tr>\n",
       "      <th>995</th>\n",
       "      <td>user2</td>\n",
       "      <td>01/11/2018</td>\n",
       "      <td>JMK</td>\n",
       "      <td>online</td>\n",
       "      <td>29.0</td>\n",
       "      <td>i2</td>\n",
       "    </tr>\n",
       "    <tr>\n",
       "      <th>996</th>\n",
       "      <td>user10</td>\n",
       "      <td>01/11/2018</td>\n",
       "      <td>SVQ</td>\n",
       "      <td>online</td>\n",
       "      <td>39.0</td>\n",
       "      <td>i2</td>\n",
       "    </tr>\n",
       "    <tr>\n",
       "      <th>997</th>\n",
       "      <td>user4</td>\n",
       "      <td>30/10/2018</td>\n",
       "      <td>MAD</td>\n",
       "      <td>online</td>\n",
       "      <td>5.0</td>\n",
       "      <td>i2</td>\n",
       "    </tr>\n",
       "    <tr>\n",
       "      <th>998</th>\n",
       "      <td>user10</td>\n",
       "      <td>02/11/2018</td>\n",
       "      <td>CDG</td>\n",
       "      <td>online</td>\n",
       "      <td>4.0</td>\n",
       "      <td>i2</td>\n",
       "    </tr>\n",
       "    <tr>\n",
       "      <th>999</th>\n",
       "      <td>user6</td>\n",
       "      <td>01/11/2018</td>\n",
       "      <td>MAD</td>\n",
       "      <td>online</td>\n",
       "      <td>0.0</td>\n",
       "      <td>i2</td>\n",
       "    </tr>\n",
       "  </tbody>\n",
       "</table>\n",
       "<p>1000 rows × 6 columns</p>\n",
       "</div>"
      ],
      "text/plain": [
       "       user booking_date origin_airport sales channel   ant airline\n",
       "0     user5   01/11/2018            MAD        online   NaN      i2\n",
       "1     user7   01/11/2018            DUB        online  38.0      i2\n",
       "2     user4   02/11/2018            TFS        online  19.0      i2\n",
       "3     user8   29/10/2018            MAD        online   8.0      i2\n",
       "4     user7   01/11/2018            NaN   call center   4.0      i2\n",
       "..      ...          ...            ...           ...   ...     ...\n",
       "995   user2   01/11/2018            JMK        online  29.0      i2\n",
       "996  user10   01/11/2018            SVQ        online  39.0      i2\n",
       "997   user4   30/10/2018            MAD        online   5.0      i2\n",
       "998  user10   02/11/2018            CDG        online   4.0      i2\n",
       "999   user6   01/11/2018            MAD        online   0.0      i2\n",
       "\n",
       "[1000 rows x 6 columns]"
      ]
     },
     "execution_count": 13,
     "metadata": {},
     "output_type": "execute_result"
    }
   ],
   "source": [
    "new_dat = dat.drop(non_informed_variables, axis = 1)\n",
    "new_dat"
   ]
  },
  {
   "cell_type": "markdown",
   "metadata": {},
   "source": [
    "## Define Custom Function"
   ]
  },
  {
   "cell_type": "markdown",
   "metadata": {},
   "source": [
    "Let's create our own custom function to remove non-informed variables."
   ]
  },
  {
   "cell_type": "code",
   "execution_count": null,
   "metadata": {},
   "outputs": [],
   "source": [
    "def count_nas(x): \n",
    "    ret = 100*np.sum(x.isna())/len(x)\n",
    "    return ret"
   ]
  },
  {
   "cell_type": "code",
   "execution_count": 17,
   "metadata": {},
   "outputs": [],
   "source": [
    "def remove_non_informed(X, missing_values_threshold = 50):\n",
    "    non_informed_variables = X.columns.values[X.apply(lambda x: 100*np.sum(x.isna())/len(x)) >= missing_values_threshold].tolist()\n",
    "    X = X.drop(non_informed_variables, axis = 1)\n",
    "    print('Variables ' + str(non_informed_variables) + ' have been removed from dataset.')\n",
    "    return X;\n",
    "                                    \n",
    "                                                                                        "
   ]
  },
  {
   "cell_type": "code",
   "execution_count": 18,
   "metadata": {},
   "outputs": [
    {
     "name": "stdout",
     "output_type": "stream",
     "text": [
      "Variables ['price'] have been removed from dataset.\n"
     ]
    },
    {
     "data": {
      "text/html": [
       "<div>\n",
       "<style scoped>\n",
       "    .dataframe tbody tr th:only-of-type {\n",
       "        vertical-align: middle;\n",
       "    }\n",
       "\n",
       "    .dataframe tbody tr th {\n",
       "        vertical-align: top;\n",
       "    }\n",
       "\n",
       "    .dataframe thead th {\n",
       "        text-align: right;\n",
       "    }\n",
       "</style>\n",
       "<table border=\"1\" class=\"dataframe\">\n",
       "  <thead>\n",
       "    <tr style=\"text-align: right;\">\n",
       "      <th></th>\n",
       "      <th>user</th>\n",
       "      <th>booking_date</th>\n",
       "      <th>origin_airport</th>\n",
       "      <th>sales channel</th>\n",
       "      <th>ant</th>\n",
       "      <th>airline</th>\n",
       "    </tr>\n",
       "  </thead>\n",
       "  <tbody>\n",
       "    <tr>\n",
       "      <th>0</th>\n",
       "      <td>user5</td>\n",
       "      <td>01/11/2018</td>\n",
       "      <td>MAD</td>\n",
       "      <td>online</td>\n",
       "      <td>NaN</td>\n",
       "      <td>i2</td>\n",
       "    </tr>\n",
       "    <tr>\n",
       "      <th>1</th>\n",
       "      <td>user7</td>\n",
       "      <td>01/11/2018</td>\n",
       "      <td>DUB</td>\n",
       "      <td>online</td>\n",
       "      <td>38.0</td>\n",
       "      <td>i2</td>\n",
       "    </tr>\n",
       "    <tr>\n",
       "      <th>2</th>\n",
       "      <td>user4</td>\n",
       "      <td>02/11/2018</td>\n",
       "      <td>TFS</td>\n",
       "      <td>online</td>\n",
       "      <td>19.0</td>\n",
       "      <td>i2</td>\n",
       "    </tr>\n",
       "    <tr>\n",
       "      <th>3</th>\n",
       "      <td>user8</td>\n",
       "      <td>29/10/2018</td>\n",
       "      <td>MAD</td>\n",
       "      <td>online</td>\n",
       "      <td>8.0</td>\n",
       "      <td>i2</td>\n",
       "    </tr>\n",
       "    <tr>\n",
       "      <th>4</th>\n",
       "      <td>user7</td>\n",
       "      <td>01/11/2018</td>\n",
       "      <td>NaN</td>\n",
       "      <td>call center</td>\n",
       "      <td>4.0</td>\n",
       "      <td>i2</td>\n",
       "    </tr>\n",
       "  </tbody>\n",
       "</table>\n",
       "</div>"
      ],
      "text/plain": [
       "    user booking_date origin_airport sales channel   ant airline\n",
       "0  user5   01/11/2018            MAD        online   NaN      i2\n",
       "1  user7   01/11/2018            DUB        online  38.0      i2\n",
       "2  user4   02/11/2018            TFS        online  19.0      i2\n",
       "3  user8   29/10/2018            MAD        online   8.0      i2\n",
       "4  user7   01/11/2018            NaN   call center   4.0      i2"
      ]
     },
     "execution_count": 18,
     "metadata": {},
     "output_type": "execute_result"
    }
   ],
   "source": [
    "new_dat = remove_non_informed(dat)\n",
    "new_dat.head()"
   ]
  },
  {
   "cell_type": "code",
   "execution_count": 19,
   "metadata": {},
   "outputs": [
    {
     "name": "stdout",
     "output_type": "stream",
     "text": [
      "Variables [] have been removed from dataset.\n"
     ]
    },
    {
     "data": {
      "text/html": [
       "<div>\n",
       "<style scoped>\n",
       "    .dataframe tbody tr th:only-of-type {\n",
       "        vertical-align: middle;\n",
       "    }\n",
       "\n",
       "    .dataframe tbody tr th {\n",
       "        vertical-align: top;\n",
       "    }\n",
       "\n",
       "    .dataframe thead th {\n",
       "        text-align: right;\n",
       "    }\n",
       "</style>\n",
       "<table border=\"1\" class=\"dataframe\">\n",
       "  <thead>\n",
       "    <tr style=\"text-align: right;\">\n",
       "      <th></th>\n",
       "      <th>user</th>\n",
       "      <th>booking_date</th>\n",
       "      <th>origin_airport</th>\n",
       "      <th>price</th>\n",
       "      <th>sales channel</th>\n",
       "      <th>ant</th>\n",
       "      <th>airline</th>\n",
       "    </tr>\n",
       "  </thead>\n",
       "  <tbody>\n",
       "    <tr>\n",
       "      <th>0</th>\n",
       "      <td>user5</td>\n",
       "      <td>01/11/2018</td>\n",
       "      <td>MAD</td>\n",
       "      <td>NaN</td>\n",
       "      <td>online</td>\n",
       "      <td>NaN</td>\n",
       "      <td>i2</td>\n",
       "    </tr>\n",
       "    <tr>\n",
       "      <th>1</th>\n",
       "      <td>user7</td>\n",
       "      <td>01/11/2018</td>\n",
       "      <td>DUB</td>\n",
       "      <td>147.500000</td>\n",
       "      <td>online</td>\n",
       "      <td>38.0</td>\n",
       "      <td>i2</td>\n",
       "    </tr>\n",
       "    <tr>\n",
       "      <th>2</th>\n",
       "      <td>user4</td>\n",
       "      <td>02/11/2018</td>\n",
       "      <td>TFS</td>\n",
       "      <td>24.049999</td>\n",
       "      <td>online</td>\n",
       "      <td>19.0</td>\n",
       "      <td>i2</td>\n",
       "    </tr>\n",
       "    <tr>\n",
       "      <th>3</th>\n",
       "      <td>user8</td>\n",
       "      <td>29/10/2018</td>\n",
       "      <td>MAD</td>\n",
       "      <td>59.709999</td>\n",
       "      <td>online</td>\n",
       "      <td>8.0</td>\n",
       "      <td>i2</td>\n",
       "    </tr>\n",
       "    <tr>\n",
       "      <th>4</th>\n",
       "      <td>user7</td>\n",
       "      <td>01/11/2018</td>\n",
       "      <td>NaN</td>\n",
       "      <td>37.299999</td>\n",
       "      <td>call center</td>\n",
       "      <td>4.0</td>\n",
       "      <td>i2</td>\n",
       "    </tr>\n",
       "  </tbody>\n",
       "</table>\n",
       "</div>"
      ],
      "text/plain": [
       "    user booking_date origin_airport       price sales channel   ant airline\n",
       "0  user5   01/11/2018            MAD         NaN        online   NaN      i2\n",
       "1  user7   01/11/2018            DUB  147.500000        online  38.0      i2\n",
       "2  user4   02/11/2018            TFS   24.049999        online  19.0      i2\n",
       "3  user8   29/10/2018            MAD   59.709999        online   8.0      i2\n",
       "4  user7   01/11/2018            NaN   37.299999   call center   4.0      i2"
      ]
     },
     "execution_count": 19,
     "metadata": {},
     "output_type": "execute_result"
    }
   ],
   "source": [
    "new_dat = remove_non_informed(dat, missing_values_threshold = 60)\n",
    "new_dat.head()"
   ]
  },
  {
   "cell_type": "code",
   "execution_count": null,
   "metadata": {},
   "outputs": [],
   "source": []
  }
 ],
 "metadata": {
  "kernelspec": {
   "display_name": "Python 3",
   "language": "python",
   "name": "python3"
  },
  "language_info": {
   "codemirror_mode": {
    "name": "ipython",
    "version": 3
   },
   "file_extension": ".py",
   "mimetype": "text/x-python",
   "name": "python",
   "nbconvert_exporter": "python",
   "pygments_lexer": "ipython3",
   "version": "3.7.3"
  }
 },
 "nbformat": 4,
 "nbformat_minor": 4
}
