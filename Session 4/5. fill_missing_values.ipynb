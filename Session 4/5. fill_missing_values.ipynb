{
 "cells": [
  {
   "cell_type": "code",
   "execution_count": 1,
   "metadata": {
    "id": "KIXuhWtSD2WX",
    "ExecuteTime": {
     "end_time": "2023-09-17T15:56:21.419449500Z",
     "start_time": "2023-09-17T15:56:20.284649Z"
    }
   },
   "outputs": [],
   "source": [
    "# Load Libraries\n",
    "%matplotlib inline\n",
    "import numpy as np\n",
    "import matplotlib.pyplot as plt\n",
    "from scipy import stats\n",
    "import pandas as pd\n",
    "\n",
    "from sklearn.model_selection import train_test_split\n",
    "from scipy import stats\n",
    "\n",
    "from multiprocessing import cpu_count"
   ]
  },
  {
   "cell_type": "markdown",
   "metadata": {
    "id": "pB6M9SdWD2WZ"
   },
   "source": [
    "# Fill Missing Values"
   ]
  },
  {
   "cell_type": "markdown",
   "metadata": {
    "id": "zU-sL4sWD2WZ"
   },
   "source": [
    "Most machine learning models do not allow for missing values in the input data.\n",
    "\n",
    "In categorical variables, missing values can be transformed into a new category 'Missing', solving this way the issue. They can also be replaced with the mode.\n",
    "\n",
    "For numerical variables, these missing values can be filled using different approaches."
   ]
  },
  {
   "cell_type": "markdown",
   "metadata": {
    "id": "mEdOyreKD2Wa"
   },
   "source": [
    "## Load Data"
   ]
  },
  {
   "cell_type": "code",
   "execution_count": 2,
   "metadata": {
    "colab": {
     "base_uri": "https://localhost:8080/",
     "height": 424
    },
    "id": "_yEf4Lf_D2Wa",
    "executionInfo": {
     "status": "ok",
     "timestamp": 1694164333351,
     "user_tz": -120,
     "elapsed": 5,
     "user": {
      "displayName": "Jesus Prada",
      "userId": "01990672692810654269"
     }
    },
    "outputId": "d63feb9a-dea7-42ca-a849-8df63e092082",
    "ExecuteTime": {
     "end_time": "2023-09-17T15:56:32.884942800Z",
     "start_time": "2023-09-17T15:56:32.829531100Z"
    }
   },
   "outputs": [
    {
     "data": {
      "text/plain": "       user booking_date origin_airport       price sales channel company  \\\n0     user5   2018-11-01            MAD   58.200001        online      I2   \n1     user7   2018-11-01            DUB  147.500000        online      I2   \n2     user4   2018-11-02            TFS   24.049999        online      I2   \n3     user8   2018-10-29            MAD   59.709999        online      I2   \n4     user7   2018-11-01            LPA   37.299999   call center      I2   \n..      ...          ...            ...         ...           ...     ...   \n995   user2   2018-11-01            JMK   99.849998        online      I2   \n996  user10   2018-11-01            SVQ   34.610001        online      I2   \n997   user4   2018-10-30            MAD   49.880001        online      I2   \n998  user10   2018-11-02            CDG  152.960007        online      I2   \n999   user6   2018-11-01            MAD   98.339996        online      I2   \n\n    user_country  index  \n0            NaN      1  \n1            NaN      2  \n2            NaN      3  \n3            NaN      4  \n4            NaN      5  \n..           ...    ...  \n995          NaN    996  \n996          NaN    997  \n997          NaN    998  \n998          NaN    999  \n999          NaN   1000  \n\n[1000 rows x 8 columns]",
      "text/html": "<div>\n<style scoped>\n    .dataframe tbody tr th:only-of-type {\n        vertical-align: middle;\n    }\n\n    .dataframe tbody tr th {\n        vertical-align: top;\n    }\n\n    .dataframe thead th {\n        text-align: right;\n    }\n</style>\n<table border=\"1\" class=\"dataframe\">\n  <thead>\n    <tr style=\"text-align: right;\">\n      <th></th>\n      <th>user</th>\n      <th>booking_date</th>\n      <th>origin_airport</th>\n      <th>price</th>\n      <th>sales channel</th>\n      <th>company</th>\n      <th>user_country</th>\n      <th>index</th>\n    </tr>\n  </thead>\n  <tbody>\n    <tr>\n      <th>0</th>\n      <td>user5</td>\n      <td>2018-11-01</td>\n      <td>MAD</td>\n      <td>58.200001</td>\n      <td>online</td>\n      <td>I2</td>\n      <td>NaN</td>\n      <td>1</td>\n    </tr>\n    <tr>\n      <th>1</th>\n      <td>user7</td>\n      <td>2018-11-01</td>\n      <td>DUB</td>\n      <td>147.500000</td>\n      <td>online</td>\n      <td>I2</td>\n      <td>NaN</td>\n      <td>2</td>\n    </tr>\n    <tr>\n      <th>2</th>\n      <td>user4</td>\n      <td>2018-11-02</td>\n      <td>TFS</td>\n      <td>24.049999</td>\n      <td>online</td>\n      <td>I2</td>\n      <td>NaN</td>\n      <td>3</td>\n    </tr>\n    <tr>\n      <th>3</th>\n      <td>user8</td>\n      <td>2018-10-29</td>\n      <td>MAD</td>\n      <td>59.709999</td>\n      <td>online</td>\n      <td>I2</td>\n      <td>NaN</td>\n      <td>4</td>\n    </tr>\n    <tr>\n      <th>4</th>\n      <td>user7</td>\n      <td>2018-11-01</td>\n      <td>LPA</td>\n      <td>37.299999</td>\n      <td>call center</td>\n      <td>I2</td>\n      <td>NaN</td>\n      <td>5</td>\n    </tr>\n    <tr>\n      <th>...</th>\n      <td>...</td>\n      <td>...</td>\n      <td>...</td>\n      <td>...</td>\n      <td>...</td>\n      <td>...</td>\n      <td>...</td>\n      <td>...</td>\n    </tr>\n    <tr>\n      <th>995</th>\n      <td>user2</td>\n      <td>2018-11-01</td>\n      <td>JMK</td>\n      <td>99.849998</td>\n      <td>online</td>\n      <td>I2</td>\n      <td>NaN</td>\n      <td>996</td>\n    </tr>\n    <tr>\n      <th>996</th>\n      <td>user10</td>\n      <td>2018-11-01</td>\n      <td>SVQ</td>\n      <td>34.610001</td>\n      <td>online</td>\n      <td>I2</td>\n      <td>NaN</td>\n      <td>997</td>\n    </tr>\n    <tr>\n      <th>997</th>\n      <td>user4</td>\n      <td>2018-10-30</td>\n      <td>MAD</td>\n      <td>49.880001</td>\n      <td>online</td>\n      <td>I2</td>\n      <td>NaN</td>\n      <td>998</td>\n    </tr>\n    <tr>\n      <th>998</th>\n      <td>user10</td>\n      <td>2018-11-02</td>\n      <td>CDG</td>\n      <td>152.960007</td>\n      <td>online</td>\n      <td>I2</td>\n      <td>NaN</td>\n      <td>999</td>\n    </tr>\n    <tr>\n      <th>999</th>\n      <td>user6</td>\n      <td>2018-11-01</td>\n      <td>MAD</td>\n      <td>98.339996</td>\n      <td>online</td>\n      <td>I2</td>\n      <td>NaN</td>\n      <td>1000</td>\n    </tr>\n  </tbody>\n</table>\n<p>1000 rows × 8 columns</p>\n</div>"
     },
     "execution_count": 2,
     "metadata": {},
     "output_type": "execute_result"
    }
   ],
   "source": [
    "dat = pd.read_csv('../data/userbase.csv', sep = \";\")\n",
    "dat"
   ]
  },
  {
   "cell_type": "markdown",
   "metadata": {
    "id": "e2kvOW5tD2Wb"
   },
   "source": [
    "## Detect Missing Values"
   ]
  },
  {
   "cell_type": "markdown",
   "metadata": {
    "id": "LyZyC1DoD2Wb"
   },
   "source": [
    "Let's count the number of missing values of each variable of the dataset."
   ]
  },
  {
   "cell_type": "code",
   "execution_count": 28,
   "metadata": {
    "colab": {
     "base_uri": "https://localhost:8080/"
    },
    "id": "efHVQWbcD2Wc",
    "executionInfo": {
     "status": "ok",
     "timestamp": 1694164336854,
     "user_tz": -120,
     "elapsed": 240,
     "user": {
      "displayName": "Jesus Prada",
      "userId": "01990672692810654269"
     }
    },
    "outputId": "30e3f808-d713-4b94-fb07-f6079dcd7cce",
    "ExecuteTime": {
     "end_time": "2023-09-17T20:22:26.233183800Z",
     "start_time": "2023-09-17T20:22:26.217654Z"
    }
   },
   "outputs": [
    {
     "data": {
      "text/plain": "user               0.0\nbooking_date       0.0\norigin_airport     0.0\nprice              1.4\nsales channel      0.0\ncompany            0.0\nuser_country      99.0\nindex              0.0\ndtype: float64"
     },
     "execution_count": 28,
     "metadata": {},
     "output_type": "execute_result"
    }
   ],
   "source": [
    "dat.apply(lambda x: 100*np.sum(x.isna())/len(x))"
   ]
  },
  {
   "cell_type": "markdown",
   "metadata": {
    "id": "khHD9nFUD2Wc"
   },
   "source": [
    "price and user_country have missing values. We should try to fill them."
   ]
  },
  {
   "cell_type": "markdown",
   "metadata": {
    "id": "V6pDRt9cD2Wd"
   },
   "source": [
    "## Approach 0: Remove rows with missing values."
   ]
  },
  {
   "cell_type": "markdown",
   "metadata": {
    "id": "Zh5ce1aLD2We"
   },
   "source": [
    "The most basic approach would be to simply remove any row with missing values. However, although this approach is sometimes recommended in courses and tutorial, it is not advisable in real life. Doing this will probably leave you with almost no data ;p."
   ]
  },
  {
   "cell_type": "code",
   "execution_count": 4,
   "metadata": {
    "scrolled": false,
    "colab": {
     "base_uri": "https://localhost:8080/",
     "height": 363
    },
    "id": "ukdP1Te3D2We",
    "executionInfo": {
     "status": "ok",
     "timestamp": 1694164368239,
     "user_tz": -120,
     "elapsed": 374,
     "user": {
      "displayName": "Jesus Prada",
      "userId": "01990672692810654269"
     }
    },
    "outputId": "3aa91088-57c8-4467-c814-e9fafec08cd6",
    "ExecuteTime": {
     "end_time": "2023-09-17T15:56:47.819487800Z",
     "start_time": "2023-09-17T15:56:47.807616900Z"
    }
   },
   "outputs": [
    {
     "data": {
      "text/plain": "      user booking_date origin_airport      price  sales channel company  \\\n152  user3   2018-10-30            MAD  44.320000  travel agency      I2   \n165  user6   2018-11-02            MAD  41.119999  travel agency      I2   \n356  user3   2018-10-31            MAD  40.209999  travel agency      I2   \n382  user8   2018-11-01            MAD  87.000000         online      I2   \n523  user3   2018-10-31            LPA   7.440000  travel agency      I2   \n552  user2   2018-11-01            MAH  48.349998         online      I2   \n584  user3   2018-11-02            SVQ  96.540001         online      I2   \n642  user8   2018-11-01            VGO  84.160004         online      I2   \n656  user6   2018-11-01            LPA  39.320000         online      I2   \n706  user3   2018-11-01            MAD  17.610001  travel agency      I2   \n\n    user_country  index  \n152        Spain    153  \n165        Spain    166  \n356        Spain    357  \n382        Spain    383  \n523        Spain    524  \n552        Spain    553  \n584        Spain    585  \n642        Spain    643  \n656        Spain    657  \n706        Spain    707  ",
      "text/html": "<div>\n<style scoped>\n    .dataframe tbody tr th:only-of-type {\n        vertical-align: middle;\n    }\n\n    .dataframe tbody tr th {\n        vertical-align: top;\n    }\n\n    .dataframe thead th {\n        text-align: right;\n    }\n</style>\n<table border=\"1\" class=\"dataframe\">\n  <thead>\n    <tr style=\"text-align: right;\">\n      <th></th>\n      <th>user</th>\n      <th>booking_date</th>\n      <th>origin_airport</th>\n      <th>price</th>\n      <th>sales channel</th>\n      <th>company</th>\n      <th>user_country</th>\n      <th>index</th>\n    </tr>\n  </thead>\n  <tbody>\n    <tr>\n      <th>152</th>\n      <td>user3</td>\n      <td>2018-10-30</td>\n      <td>MAD</td>\n      <td>44.320000</td>\n      <td>travel agency</td>\n      <td>I2</td>\n      <td>Spain</td>\n      <td>153</td>\n    </tr>\n    <tr>\n      <th>165</th>\n      <td>user6</td>\n      <td>2018-11-02</td>\n      <td>MAD</td>\n      <td>41.119999</td>\n      <td>travel agency</td>\n      <td>I2</td>\n      <td>Spain</td>\n      <td>166</td>\n    </tr>\n    <tr>\n      <th>356</th>\n      <td>user3</td>\n      <td>2018-10-31</td>\n      <td>MAD</td>\n      <td>40.209999</td>\n      <td>travel agency</td>\n      <td>I2</td>\n      <td>Spain</td>\n      <td>357</td>\n    </tr>\n    <tr>\n      <th>382</th>\n      <td>user8</td>\n      <td>2018-11-01</td>\n      <td>MAD</td>\n      <td>87.000000</td>\n      <td>online</td>\n      <td>I2</td>\n      <td>Spain</td>\n      <td>383</td>\n    </tr>\n    <tr>\n      <th>523</th>\n      <td>user3</td>\n      <td>2018-10-31</td>\n      <td>LPA</td>\n      <td>7.440000</td>\n      <td>travel agency</td>\n      <td>I2</td>\n      <td>Spain</td>\n      <td>524</td>\n    </tr>\n    <tr>\n      <th>552</th>\n      <td>user2</td>\n      <td>2018-11-01</td>\n      <td>MAH</td>\n      <td>48.349998</td>\n      <td>online</td>\n      <td>I2</td>\n      <td>Spain</td>\n      <td>553</td>\n    </tr>\n    <tr>\n      <th>584</th>\n      <td>user3</td>\n      <td>2018-11-02</td>\n      <td>SVQ</td>\n      <td>96.540001</td>\n      <td>online</td>\n      <td>I2</td>\n      <td>Spain</td>\n      <td>585</td>\n    </tr>\n    <tr>\n      <th>642</th>\n      <td>user8</td>\n      <td>2018-11-01</td>\n      <td>VGO</td>\n      <td>84.160004</td>\n      <td>online</td>\n      <td>I2</td>\n      <td>Spain</td>\n      <td>643</td>\n    </tr>\n    <tr>\n      <th>656</th>\n      <td>user6</td>\n      <td>2018-11-01</td>\n      <td>LPA</td>\n      <td>39.320000</td>\n      <td>online</td>\n      <td>I2</td>\n      <td>Spain</td>\n      <td>657</td>\n    </tr>\n    <tr>\n      <th>706</th>\n      <td>user3</td>\n      <td>2018-11-01</td>\n      <td>MAD</td>\n      <td>17.610001</td>\n      <td>travel agency</td>\n      <td>I2</td>\n      <td>Spain</td>\n      <td>707</td>\n    </tr>\n  </tbody>\n</table>\n</div>"
     },
     "execution_count": 4,
     "metadata": {},
     "output_type": "execute_result"
    }
   ],
   "source": [
    "dat_new = dat.copy()\n",
    "dat_new.dropna(axis = 0, how = 'any', inplace = True)\n",
    "dat_new"
   ]
  },
  {
   "cell_type": "markdown",
   "source": [
    "Doesn't seem to be a good idea..."
   ],
   "metadata": {
    "id": "-3GHE5nxENw5"
   }
  },
  {
   "cell_type": "markdown",
   "metadata": {
    "id": "XfIhRT6tD2Wf"
   },
   "source": [
    "## Categorical"
   ]
  },
  {
   "cell_type": "code",
   "execution_count": 5,
   "metadata": {
    "colab": {
     "base_uri": "https://localhost:8080/"
    },
    "id": "U4IaeBZ3D2Wf",
    "executionInfo": {
     "status": "ok",
     "timestamp": 1694164389107,
     "user_tz": -120,
     "elapsed": 208,
     "user": {
      "displayName": "Jesus Prada",
      "userId": "01990672692810654269"
     }
    },
    "outputId": "b876a11b-0e18-444a-ad26-b94a4021a13a",
    "ExecuteTime": {
     "end_time": "2023-09-17T15:56:51.620658300Z",
     "start_time": "2023-09-17T15:56:51.604870600Z"
    }
   },
   "outputs": [
    {
     "data": {
      "text/plain": "user               object\nbooking_date       object\norigin_airport     object\nprice             float64\nsales channel      object\ncompany            object\nuser_country       object\nindex               int64\ndtype: object"
     },
     "execution_count": 5,
     "metadata": {},
     "output_type": "execute_result"
    }
   ],
   "source": [
    "dat.dtypes"
   ]
  },
  {
   "cell_type": "code",
   "execution_count": 6,
   "metadata": {
    "id": "wIY4A0Z1D2Wf",
    "ExecuteTime": {
     "end_time": "2023-09-17T15:56:54.699028400Z",
     "start_time": "2023-09-17T15:56:54.688504100Z"
    }
   },
   "outputs": [],
   "source": [
    "categorical_variables = dat.columns.values[dat.dtypes == 'object'].tolist()\n",
    "numerical_variables = dat.columns.values[dat.dtypes == 'float64'].tolist()"
   ]
  },
  {
   "cell_type": "code",
   "execution_count": 7,
   "metadata": {
    "colab": {
     "base_uri": "https://localhost:8080/"
    },
    "id": "WO0XaCwlD2Wg",
    "executionInfo": {
     "status": "ok",
     "timestamp": 1694164399574,
     "user_tz": -120,
     "elapsed": 4,
     "user": {
      "displayName": "Jesus Prada",
      "userId": "01990672692810654269"
     }
    },
    "outputId": "5a3707f4-dd03-4ab6-f3a9-d78ee701cc5a",
    "ExecuteTime": {
     "end_time": "2023-09-17T15:56:57.614918200Z",
     "start_time": "2023-09-17T15:56:57.602391600Z"
    }
   },
   "outputs": [
    {
     "data": {
      "text/plain": "['user',\n 'booking_date',\n 'origin_airport',\n 'sales channel',\n 'company',\n 'user_country']"
     },
     "execution_count": 7,
     "metadata": {},
     "output_type": "execute_result"
    }
   ],
   "source": [
    "categorical_variables"
   ]
  },
  {
   "cell_type": "code",
   "execution_count": 8,
   "metadata": {
    "colab": {
     "base_uri": "https://localhost:8080/"
    },
    "id": "5ro4Km49D2Wg",
    "executionInfo": {
     "status": "ok",
     "timestamp": 1694164400872,
     "user_tz": -120,
     "elapsed": 3,
     "user": {
      "displayName": "Jesus Prada",
      "userId": "01990672692810654269"
     }
    },
    "outputId": "4f5d3b72-b9a4-4db7-fc22-6bdbc09df77c",
    "ExecuteTime": {
     "end_time": "2023-09-17T15:56:59.733307100Z",
     "start_time": "2023-09-17T15:56:59.720427300Z"
    }
   },
   "outputs": [
    {
     "data": {
      "text/plain": "['price']"
     },
     "execution_count": 8,
     "metadata": {},
     "output_type": "execute_result"
    }
   ],
   "source": [
    "numerical_variables"
   ]
  },
  {
   "cell_type": "markdown",
   "metadata": {
    "id": "IfaGtr8qD2Wg"
   },
   "source": [
    "### Approach 1: Replace with mode."
   ]
  },
  {
   "cell_type": "markdown",
   "metadata": {
    "id": "jJbBZkYCD2Wh"
   },
   "source": [
    "The next most basic approach regarding categorical variables will be to replace missing values with most frequent category or mode."
   ]
  },
  {
   "cell_type": "code",
   "execution_count": 10,
   "metadata": {
    "scrolled": true,
    "colab": {
     "base_uri": "https://localhost:8080/"
    },
    "id": "Q7wMlsdSD2Wh",
    "executionInfo": {
     "status": "ok",
     "timestamp": 1694164525778,
     "user_tz": -120,
     "elapsed": 209,
     "user": {
      "displayName": "Jesus Prada",
      "userId": "01990672692810654269"
     }
    },
    "outputId": "d4e805b8-a784-4866-c046-a5a4585c0542",
    "ExecuteTime": {
     "end_time": "2023-09-17T16:00:07.455751200Z",
     "start_time": "2023-09-17T16:00:07.408601700Z"
    }
   },
   "outputs": [],
   "source": [
    "modes = dat[categorical_variables].mode()"
   ]
  },
  {
   "cell_type": "code",
   "source": [
    "modes"
   ],
   "metadata": {
    "colab": {
     "base_uri": "https://localhost:8080/"
    },
    "id": "CVQXkyFeEyZe",
    "executionInfo": {
     "status": "ok",
     "timestamp": 1694164528638,
     "user_tz": -120,
     "elapsed": 3,
     "user": {
      "displayName": "Jesus Prada",
      "userId": "01990672692810654269"
     }
    },
    "outputId": "8a1a2bdc-9b82-4f91-8187-c42811415449",
    "ExecuteTime": {
     "end_time": "2023-09-17T16:00:09.997956900Z",
     "start_time": "2023-09-17T16:00:09.986409900Z"
    }
   },
   "execution_count": 11,
   "outputs": [
    {
     "data": {
      "text/plain": "    user booking_date origin_airport sales channel company user_country\n0  user9   2018-11-01            MAD        online      I2        Spain",
      "text/html": "<div>\n<style scoped>\n    .dataframe tbody tr th:only-of-type {\n        vertical-align: middle;\n    }\n\n    .dataframe tbody tr th {\n        vertical-align: top;\n    }\n\n    .dataframe thead th {\n        text-align: right;\n    }\n</style>\n<table border=\"1\" class=\"dataframe\">\n  <thead>\n    <tr style=\"text-align: right;\">\n      <th></th>\n      <th>user</th>\n      <th>booking_date</th>\n      <th>origin_airport</th>\n      <th>sales channel</th>\n      <th>company</th>\n      <th>user_country</th>\n    </tr>\n  </thead>\n  <tbody>\n    <tr>\n      <th>0</th>\n      <td>user9</td>\n      <td>2018-11-01</td>\n      <td>MAD</td>\n      <td>online</td>\n      <td>I2</td>\n      <td>Spain</td>\n    </tr>\n  </tbody>\n</table>\n</div>"
     },
     "execution_count": 11,
     "metadata": {},
     "output_type": "execute_result"
    }
   ]
  },
  {
   "cell_type": "markdown",
   "metadata": {
    "id": "OwvFq6BfD2Wh"
   },
   "source": [
    "Let's use this mode values to replace NAs."
   ]
  },
  {
   "cell_type": "code",
   "execution_count": 12,
   "metadata": {
    "colab": {
     "base_uri": "https://localhost:8080/",
     "height": 424
    },
    "id": "dF4_juHOD2Wi",
    "executionInfo": {
     "status": "ok",
     "timestamp": 1694164510618,
     "user_tz": -120,
     "elapsed": 12,
     "user": {
      "displayName": "Jesus Prada",
      "userId": "01990672692810654269"
     }
    },
    "outputId": "79eee665-3379-457f-8e88-bc4209ec0b99",
    "ExecuteTime": {
     "end_time": "2023-09-17T16:00:15.718379600Z",
     "start_time": "2023-09-17T16:00:15.703320Z"
    }
   },
   "outputs": [
    {
     "data": {
      "text/plain": "       user booking_date origin_airport       price sales channel company  \\\n0     user5   2018-11-01            MAD   58.200001        online      I2   \n1     user7   2018-11-01            DUB  147.500000        online      I2   \n2     user4   2018-11-02            TFS   24.049999        online      I2   \n3     user8   2018-10-29            MAD   59.709999        online      I2   \n4     user7   2018-11-01            LPA   37.299999   call center      I2   \n..      ...          ...            ...         ...           ...     ...   \n995   user2   2018-11-01            JMK   99.849998        online      I2   \n996  user10   2018-11-01            SVQ   34.610001        online      I2   \n997   user4   2018-10-30            MAD   49.880001        online      I2   \n998  user10   2018-11-02            CDG  152.960007        online      I2   \n999   user6   2018-11-01            MAD   98.339996        online      I2   \n\n    user_country  index  \n0            NaN      1  \n1            NaN      2  \n2            NaN      3  \n3            NaN      4  \n4            NaN      5  \n..           ...    ...  \n995          NaN    996  \n996          NaN    997  \n997          NaN    998  \n998          NaN    999  \n999          NaN   1000  \n\n[1000 rows x 8 columns]",
      "text/html": "<div>\n<style scoped>\n    .dataframe tbody tr th:only-of-type {\n        vertical-align: middle;\n    }\n\n    .dataframe tbody tr th {\n        vertical-align: top;\n    }\n\n    .dataframe thead th {\n        text-align: right;\n    }\n</style>\n<table border=\"1\" class=\"dataframe\">\n  <thead>\n    <tr style=\"text-align: right;\">\n      <th></th>\n      <th>user</th>\n      <th>booking_date</th>\n      <th>origin_airport</th>\n      <th>price</th>\n      <th>sales channel</th>\n      <th>company</th>\n      <th>user_country</th>\n      <th>index</th>\n    </tr>\n  </thead>\n  <tbody>\n    <tr>\n      <th>0</th>\n      <td>user5</td>\n      <td>2018-11-01</td>\n      <td>MAD</td>\n      <td>58.200001</td>\n      <td>online</td>\n      <td>I2</td>\n      <td>NaN</td>\n      <td>1</td>\n    </tr>\n    <tr>\n      <th>1</th>\n      <td>user7</td>\n      <td>2018-11-01</td>\n      <td>DUB</td>\n      <td>147.500000</td>\n      <td>online</td>\n      <td>I2</td>\n      <td>NaN</td>\n      <td>2</td>\n    </tr>\n    <tr>\n      <th>2</th>\n      <td>user4</td>\n      <td>2018-11-02</td>\n      <td>TFS</td>\n      <td>24.049999</td>\n      <td>online</td>\n      <td>I2</td>\n      <td>NaN</td>\n      <td>3</td>\n    </tr>\n    <tr>\n      <th>3</th>\n      <td>user8</td>\n      <td>2018-10-29</td>\n      <td>MAD</td>\n      <td>59.709999</td>\n      <td>online</td>\n      <td>I2</td>\n      <td>NaN</td>\n      <td>4</td>\n    </tr>\n    <tr>\n      <th>4</th>\n      <td>user7</td>\n      <td>2018-11-01</td>\n      <td>LPA</td>\n      <td>37.299999</td>\n      <td>call center</td>\n      <td>I2</td>\n      <td>NaN</td>\n      <td>5</td>\n    </tr>\n    <tr>\n      <th>...</th>\n      <td>...</td>\n      <td>...</td>\n      <td>...</td>\n      <td>...</td>\n      <td>...</td>\n      <td>...</td>\n      <td>...</td>\n      <td>...</td>\n    </tr>\n    <tr>\n      <th>995</th>\n      <td>user2</td>\n      <td>2018-11-01</td>\n      <td>JMK</td>\n      <td>99.849998</td>\n      <td>online</td>\n      <td>I2</td>\n      <td>NaN</td>\n      <td>996</td>\n    </tr>\n    <tr>\n      <th>996</th>\n      <td>user10</td>\n      <td>2018-11-01</td>\n      <td>SVQ</td>\n      <td>34.610001</td>\n      <td>online</td>\n      <td>I2</td>\n      <td>NaN</td>\n      <td>997</td>\n    </tr>\n    <tr>\n      <th>997</th>\n      <td>user4</td>\n      <td>2018-10-30</td>\n      <td>MAD</td>\n      <td>49.880001</td>\n      <td>online</td>\n      <td>I2</td>\n      <td>NaN</td>\n      <td>998</td>\n    </tr>\n    <tr>\n      <th>998</th>\n      <td>user10</td>\n      <td>2018-11-02</td>\n      <td>CDG</td>\n      <td>152.960007</td>\n      <td>online</td>\n      <td>I2</td>\n      <td>NaN</td>\n      <td>999</td>\n    </tr>\n    <tr>\n      <th>999</th>\n      <td>user6</td>\n      <td>2018-11-01</td>\n      <td>MAD</td>\n      <td>98.339996</td>\n      <td>online</td>\n      <td>I2</td>\n      <td>NaN</td>\n      <td>1000</td>\n    </tr>\n  </tbody>\n</table>\n<p>1000 rows × 8 columns</p>\n</div>"
     },
     "execution_count": 12,
     "metadata": {},
     "output_type": "execute_result"
    }
   ],
   "source": [
    "dat"
   ]
  },
  {
   "cell_type": "code",
   "execution_count": 13,
   "metadata": {
    "colab": {
     "base_uri": "https://localhost:8080/",
     "height": 424
    },
    "id": "tG2HH3UhD2Wi",
    "executionInfo": {
     "status": "ok",
     "timestamp": 1694164515176,
     "user_tz": -120,
     "elapsed": 376,
     "user": {
      "displayName": "Jesus Prada",
      "userId": "01990672692810654269"
     }
    },
    "outputId": "fa0c76ce-dbef-4e71-92e8-ce3861d363e6",
    "ExecuteTime": {
     "end_time": "2023-09-17T16:00:17.832678300Z",
     "start_time": "2023-09-17T16:00:17.814035100Z"
    }
   },
   "outputs": [
    {
     "data": {
      "text/plain": "       user booking_date origin_airport       price sales channel company  \\\n0     user5   2018-11-01            MAD   58.200001        online      I2   \n1     user7   2018-11-01            DUB  147.500000        online      I2   \n2     user4   2018-11-02            TFS   24.049999        online      I2   \n3     user8   2018-10-29            MAD   59.709999        online      I2   \n4     user7   2018-11-01            LPA   37.299999   call center      I2   \n..      ...          ...            ...         ...           ...     ...   \n995   user2   2018-11-01            JMK   99.849998        online      I2   \n996  user10   2018-11-01            SVQ   34.610001        online      I2   \n997   user4   2018-10-30            MAD   49.880001        online      I2   \n998  user10   2018-11-02            CDG  152.960007        online      I2   \n999   user6   2018-11-01            MAD   98.339996        online      I2   \n\n    user_country  index  \n0          Spain      1  \n1            NaN      2  \n2            NaN      3  \n3            NaN      4  \n4            NaN      5  \n..           ...    ...  \n995          NaN    996  \n996          NaN    997  \n997          NaN    998  \n998          NaN    999  \n999          NaN   1000  \n\n[1000 rows x 8 columns]",
      "text/html": "<div>\n<style scoped>\n    .dataframe tbody tr th:only-of-type {\n        vertical-align: middle;\n    }\n\n    .dataframe tbody tr th {\n        vertical-align: top;\n    }\n\n    .dataframe thead th {\n        text-align: right;\n    }\n</style>\n<table border=\"1\" class=\"dataframe\">\n  <thead>\n    <tr style=\"text-align: right;\">\n      <th></th>\n      <th>user</th>\n      <th>booking_date</th>\n      <th>origin_airport</th>\n      <th>price</th>\n      <th>sales channel</th>\n      <th>company</th>\n      <th>user_country</th>\n      <th>index</th>\n    </tr>\n  </thead>\n  <tbody>\n    <tr>\n      <th>0</th>\n      <td>user5</td>\n      <td>2018-11-01</td>\n      <td>MAD</td>\n      <td>58.200001</td>\n      <td>online</td>\n      <td>I2</td>\n      <td>Spain</td>\n      <td>1</td>\n    </tr>\n    <tr>\n      <th>1</th>\n      <td>user7</td>\n      <td>2018-11-01</td>\n      <td>DUB</td>\n      <td>147.500000</td>\n      <td>online</td>\n      <td>I2</td>\n      <td>NaN</td>\n      <td>2</td>\n    </tr>\n    <tr>\n      <th>2</th>\n      <td>user4</td>\n      <td>2018-11-02</td>\n      <td>TFS</td>\n      <td>24.049999</td>\n      <td>online</td>\n      <td>I2</td>\n      <td>NaN</td>\n      <td>3</td>\n    </tr>\n    <tr>\n      <th>3</th>\n      <td>user8</td>\n      <td>2018-10-29</td>\n      <td>MAD</td>\n      <td>59.709999</td>\n      <td>online</td>\n      <td>I2</td>\n      <td>NaN</td>\n      <td>4</td>\n    </tr>\n    <tr>\n      <th>4</th>\n      <td>user7</td>\n      <td>2018-11-01</td>\n      <td>LPA</td>\n      <td>37.299999</td>\n      <td>call center</td>\n      <td>I2</td>\n      <td>NaN</td>\n      <td>5</td>\n    </tr>\n    <tr>\n      <th>...</th>\n      <td>...</td>\n      <td>...</td>\n      <td>...</td>\n      <td>...</td>\n      <td>...</td>\n      <td>...</td>\n      <td>...</td>\n      <td>...</td>\n    </tr>\n    <tr>\n      <th>995</th>\n      <td>user2</td>\n      <td>2018-11-01</td>\n      <td>JMK</td>\n      <td>99.849998</td>\n      <td>online</td>\n      <td>I2</td>\n      <td>NaN</td>\n      <td>996</td>\n    </tr>\n    <tr>\n      <th>996</th>\n      <td>user10</td>\n      <td>2018-11-01</td>\n      <td>SVQ</td>\n      <td>34.610001</td>\n      <td>online</td>\n      <td>I2</td>\n      <td>NaN</td>\n      <td>997</td>\n    </tr>\n    <tr>\n      <th>997</th>\n      <td>user4</td>\n      <td>2018-10-30</td>\n      <td>MAD</td>\n      <td>49.880001</td>\n      <td>online</td>\n      <td>I2</td>\n      <td>NaN</td>\n      <td>998</td>\n    </tr>\n    <tr>\n      <th>998</th>\n      <td>user10</td>\n      <td>2018-11-02</td>\n      <td>CDG</td>\n      <td>152.960007</td>\n      <td>online</td>\n      <td>I2</td>\n      <td>NaN</td>\n      <td>999</td>\n    </tr>\n    <tr>\n      <th>999</th>\n      <td>user6</td>\n      <td>2018-11-01</td>\n      <td>MAD</td>\n      <td>98.339996</td>\n      <td>online</td>\n      <td>I2</td>\n      <td>NaN</td>\n      <td>1000</td>\n    </tr>\n  </tbody>\n</table>\n<p>1000 rows × 8 columns</p>\n</div>"
     },
     "execution_count": 13,
     "metadata": {},
     "output_type": "execute_result"
    }
   ],
   "source": [
    "dat_new = dat.fillna(value = modes, axis = 0)\n",
    "dat_new"
   ]
  },
  {
   "cell_type": "code",
   "execution_count": 14,
   "metadata": {
    "scrolled": true,
    "colab": {
     "base_uri": "https://localhost:8080/"
    },
    "id": "ve-XYyklD2Wi",
    "executionInfo": {
     "status": "ok",
     "timestamp": 1694164539238,
     "user_tz": -120,
     "elapsed": 216,
     "user": {
      "displayName": "Jesus Prada",
      "userId": "01990672692810654269"
     }
    },
    "outputId": "81b14682-60fc-4220-ec17-130325d1e18e",
    "ExecuteTime": {
     "end_time": "2023-09-17T16:00:19.201742100Z",
     "start_time": "2023-09-17T16:00:19.187686300Z"
    }
   },
   "outputs": [
    {
     "data": {
      "text/plain": "user               0.0\nbooking_date       0.0\norigin_airport     0.0\nprice              1.4\nsales channel      0.0\ncompany            0.0\nuser_country      98.9\nindex              0.0\ndtype: float64"
     },
     "execution_count": 14,
     "metadata": {},
     "output_type": "execute_result"
    }
   ],
   "source": [
    "dat_new.apply(lambda x: 100*np.sum(x.isna())/len(x))"
   ]
  },
  {
   "cell_type": "markdown",
   "metadata": {
    "id": "3nyzQCG6D2Wi"
   },
   "source": [
    "### Approach 2: Transform to New Category."
   ]
  },
  {
   "cell_type": "markdown",
   "metadata": {
    "id": "gq3CoxczD2Wi"
   },
   "source": [
    "Missing values in a categorical variable can give you information, specially if they are not random. Therefore, it may be interesting to consider missing values as a new category instead of replacing them with the mode or some other value."
   ]
  },
  {
   "cell_type": "code",
   "execution_count": 15,
   "metadata": {
    "colab": {
     "base_uri": "https://localhost:8080/",
     "height": 424
    },
    "id": "a3bfdJ5-D2Wi",
    "executionInfo": {
     "status": "ok",
     "timestamp": 1694164550017,
     "user_tz": -120,
     "elapsed": 223,
     "user": {
      "displayName": "Jesus Prada",
      "userId": "01990672692810654269"
     }
    },
    "outputId": "d7595eb8-9038-47e0-c4f6-f1854c85054e",
    "ExecuteTime": {
     "end_time": "2023-09-17T16:00:21.669289900Z",
     "start_time": "2023-09-17T16:00:21.656960200Z"
    }
   },
   "outputs": [
    {
     "data": {
      "text/plain": "       user booking_date origin_airport       price sales channel company  \\\n0     user5   2018-11-01            MAD   58.200001        online      I2   \n1     user7   2018-11-01            DUB  147.500000        online      I2   \n2     user4   2018-11-02            TFS   24.049999        online      I2   \n3     user8   2018-10-29            MAD   59.709999        online      I2   \n4     user7   2018-11-01            LPA   37.299999   call center      I2   \n..      ...          ...            ...         ...           ...     ...   \n995   user2   2018-11-01            JMK   99.849998        online      I2   \n996  user10   2018-11-01            SVQ   34.610001        online      I2   \n997   user4   2018-10-30            MAD   49.880001        online      I2   \n998  user10   2018-11-02            CDG  152.960007        online      I2   \n999   user6   2018-11-01            MAD   98.339996        online      I2   \n\n    user_country  index  \n0        UNKNOWN      1  \n1        UNKNOWN      2  \n2        UNKNOWN      3  \n3        UNKNOWN      4  \n4        UNKNOWN      5  \n..           ...    ...  \n995      UNKNOWN    996  \n996      UNKNOWN    997  \n997      UNKNOWN    998  \n998      UNKNOWN    999  \n999      UNKNOWN   1000  \n\n[1000 rows x 8 columns]",
      "text/html": "<div>\n<style scoped>\n    .dataframe tbody tr th:only-of-type {\n        vertical-align: middle;\n    }\n\n    .dataframe tbody tr th {\n        vertical-align: top;\n    }\n\n    .dataframe thead th {\n        text-align: right;\n    }\n</style>\n<table border=\"1\" class=\"dataframe\">\n  <thead>\n    <tr style=\"text-align: right;\">\n      <th></th>\n      <th>user</th>\n      <th>booking_date</th>\n      <th>origin_airport</th>\n      <th>price</th>\n      <th>sales channel</th>\n      <th>company</th>\n      <th>user_country</th>\n      <th>index</th>\n    </tr>\n  </thead>\n  <tbody>\n    <tr>\n      <th>0</th>\n      <td>user5</td>\n      <td>2018-11-01</td>\n      <td>MAD</td>\n      <td>58.200001</td>\n      <td>online</td>\n      <td>I2</td>\n      <td>UNKNOWN</td>\n      <td>1</td>\n    </tr>\n    <tr>\n      <th>1</th>\n      <td>user7</td>\n      <td>2018-11-01</td>\n      <td>DUB</td>\n      <td>147.500000</td>\n      <td>online</td>\n      <td>I2</td>\n      <td>UNKNOWN</td>\n      <td>2</td>\n    </tr>\n    <tr>\n      <th>2</th>\n      <td>user4</td>\n      <td>2018-11-02</td>\n      <td>TFS</td>\n      <td>24.049999</td>\n      <td>online</td>\n      <td>I2</td>\n      <td>UNKNOWN</td>\n      <td>3</td>\n    </tr>\n    <tr>\n      <th>3</th>\n      <td>user8</td>\n      <td>2018-10-29</td>\n      <td>MAD</td>\n      <td>59.709999</td>\n      <td>online</td>\n      <td>I2</td>\n      <td>UNKNOWN</td>\n      <td>4</td>\n    </tr>\n    <tr>\n      <th>4</th>\n      <td>user7</td>\n      <td>2018-11-01</td>\n      <td>LPA</td>\n      <td>37.299999</td>\n      <td>call center</td>\n      <td>I2</td>\n      <td>UNKNOWN</td>\n      <td>5</td>\n    </tr>\n    <tr>\n      <th>...</th>\n      <td>...</td>\n      <td>...</td>\n      <td>...</td>\n      <td>...</td>\n      <td>...</td>\n      <td>...</td>\n      <td>...</td>\n      <td>...</td>\n    </tr>\n    <tr>\n      <th>995</th>\n      <td>user2</td>\n      <td>2018-11-01</td>\n      <td>JMK</td>\n      <td>99.849998</td>\n      <td>online</td>\n      <td>I2</td>\n      <td>UNKNOWN</td>\n      <td>996</td>\n    </tr>\n    <tr>\n      <th>996</th>\n      <td>user10</td>\n      <td>2018-11-01</td>\n      <td>SVQ</td>\n      <td>34.610001</td>\n      <td>online</td>\n      <td>I2</td>\n      <td>UNKNOWN</td>\n      <td>997</td>\n    </tr>\n    <tr>\n      <th>997</th>\n      <td>user4</td>\n      <td>2018-10-30</td>\n      <td>MAD</td>\n      <td>49.880001</td>\n      <td>online</td>\n      <td>I2</td>\n      <td>UNKNOWN</td>\n      <td>998</td>\n    </tr>\n    <tr>\n      <th>998</th>\n      <td>user10</td>\n      <td>2018-11-02</td>\n      <td>CDG</td>\n      <td>152.960007</td>\n      <td>online</td>\n      <td>I2</td>\n      <td>UNKNOWN</td>\n      <td>999</td>\n    </tr>\n    <tr>\n      <th>999</th>\n      <td>user6</td>\n      <td>2018-11-01</td>\n      <td>MAD</td>\n      <td>98.339996</td>\n      <td>online</td>\n      <td>I2</td>\n      <td>UNKNOWN</td>\n      <td>1000</td>\n    </tr>\n  </tbody>\n</table>\n<p>1000 rows × 8 columns</p>\n</div>"
     },
     "execution_count": 15,
     "metadata": {},
     "output_type": "execute_result"
    }
   ],
   "source": [
    "dat_new = dat.copy()\n",
    "dat_new[categorical_variables] = dat[categorical_variables].fillna(value = 'UNKNOWN', axis = 0)\n",
    "dat_new"
   ]
  },
  {
   "cell_type": "code",
   "execution_count": 16,
   "metadata": {
    "scrolled": false,
    "colab": {
     "base_uri": "https://localhost:8080/"
    },
    "id": "qRagBbgqD2Wi",
    "executionInfo": {
     "status": "ok",
     "timestamp": 1694164550484,
     "user_tz": -120,
     "elapsed": 5,
     "user": {
      "displayName": "Jesus Prada",
      "userId": "01990672692810654269"
     }
    },
    "outputId": "489913bd-6ea2-4e81-c2ac-3630e392e01e",
    "ExecuteTime": {
     "end_time": "2023-09-17T16:00:23.571335300Z",
     "start_time": "2023-09-17T16:00:23.560221400Z"
    }
   },
   "outputs": [
    {
     "data": {
      "text/plain": "user              0.0\nbooking_date      0.0\norigin_airport    0.0\nprice             1.4\nsales channel     0.0\ncompany           0.0\nuser_country      0.0\nindex             0.0\ndtype: float64"
     },
     "execution_count": 16,
     "metadata": {},
     "output_type": "execute_result"
    }
   ],
   "source": [
    "dat_new.apply(lambda x: 100*np.sum(x.isna())/len(x))"
   ]
  },
  {
   "cell_type": "markdown",
   "metadata": {
    "id": "1Z-jmLt0D2Wj"
   },
   "source": [
    "## Numerical"
   ]
  },
  {
   "cell_type": "markdown",
   "metadata": {
    "id": "FYUGkiXlD2Wj"
   },
   "source": [
    "### Approach 1: Replace with mean."
   ]
  },
  {
   "cell_type": "markdown",
   "metadata": {
    "id": "v7Ph0TsSD2Wj"
   },
   "source": [
    "The next most basic approach regarding numerical variables will be to replace missing values with mean or median value."
   ]
  },
  {
   "cell_type": "code",
   "execution_count": 18,
   "metadata": {
    "scrolled": true,
    "id": "HKoWVqqpD2Wj",
    "ExecuteTime": {
     "end_time": "2023-09-17T16:00:47.845388700Z",
     "start_time": "2023-09-17T16:00:47.797631400Z"
    }
   },
   "outputs": [
    {
     "data": {
      "text/plain": "price    81.592262\ndtype: float64"
     },
     "execution_count": 18,
     "metadata": {},
     "output_type": "execute_result"
    }
   ],
   "source": [
    "means = dat[numerical_variables].mean()\n",
    "means"
   ]
  },
  {
   "cell_type": "markdown",
   "metadata": {
    "id": "o2K4t70JD2Wj"
   },
   "source": [
    "Let's use this mean values to replace NAs."
   ]
  },
  {
   "cell_type": "code",
   "execution_count": 20,
   "metadata": {
    "id": "pxa48JaRD2Wj",
    "ExecuteTime": {
     "end_time": "2023-09-17T16:01:19.824059900Z",
     "start_time": "2023-09-17T16:01:19.770610400Z"
    }
   },
   "outputs": [
    {
     "ename": "NotImplementedError",
     "evalue": "Currently only can fill with dict/Series column by column",
     "output_type": "error",
     "traceback": [
      "\u001B[1;31m---------------------------------------------------------------------------\u001B[0m",
      "\u001B[1;31mNotImplementedError\u001B[0m                       Traceback (most recent call last)",
      "\u001B[1;32m~\\AppData\\Local\\Temp\\ipykernel_25128\\2760160944.py\u001B[0m in \u001B[0;36m?\u001B[1;34m()\u001B[0m\n\u001B[1;32m----> 1\u001B[1;33m \u001B[0mdat_new\u001B[0m \u001B[1;33m=\u001B[0m \u001B[0mdat\u001B[0m\u001B[1;33m[\u001B[0m\u001B[0mnumerical_variables\u001B[0m\u001B[1;33m]\u001B[0m\u001B[1;33m.\u001B[0m\u001B[0mfillna\u001B[0m\u001B[1;33m(\u001B[0m\u001B[0mmeans\u001B[0m\u001B[1;33m,\u001B[0m \u001B[0maxis\u001B[0m \u001B[1;33m=\u001B[0m \u001B[1;36m1\u001B[0m\u001B[1;33m)\u001B[0m\u001B[1;33m\u001B[0m\u001B[1;33m\u001B[0m\u001B[0m\n\u001B[0m\u001B[0;32m      2\u001B[0m \u001B[0mdat_new\u001B[0m\u001B[1;33m\u001B[0m\u001B[1;33m\u001B[0m\u001B[0m\n",
      "\u001B[1;32mJ:\\IE\\SECOND TERM\\MLII\\venv\\Lib\\site-packages\\pandas\\core\\generic.py\u001B[0m in \u001B[0;36m?\u001B[1;34m(self, value, method, axis, inplace, limit, downcast)\u001B[0m\n\u001B[0;32m   7212\u001B[0m                 )\n\u001B[0;32m   7213\u001B[0m \u001B[1;33m\u001B[0m\u001B[0m\n\u001B[0;32m   7214\u001B[0m             \u001B[1;32melif\u001B[0m \u001B[0misinstance\u001B[0m\u001B[1;33m(\u001B[0m\u001B[0mvalue\u001B[0m\u001B[1;33m,\u001B[0m \u001B[1;33m(\u001B[0m\u001B[0mdict\u001B[0m\u001B[1;33m,\u001B[0m \u001B[0mABCSeries\u001B[0m\u001B[1;33m)\u001B[0m\u001B[1;33m)\u001B[0m\u001B[1;33m:\u001B[0m\u001B[1;33m\u001B[0m\u001B[1;33m\u001B[0m\u001B[0m\n\u001B[0;32m   7215\u001B[0m                 \u001B[1;32mif\u001B[0m \u001B[0maxis\u001B[0m \u001B[1;33m==\u001B[0m \u001B[1;36m1\u001B[0m\u001B[1;33m:\u001B[0m\u001B[1;33m\u001B[0m\u001B[1;33m\u001B[0m\u001B[0m\n\u001B[1;32m-> 7216\u001B[1;33m                     raise NotImplementedError(\n\u001B[0m\u001B[0;32m   7217\u001B[0m                         \u001B[1;34m\"Currently only can fill \"\u001B[0m\u001B[1;33m\u001B[0m\u001B[1;33m\u001B[0m\u001B[0m\n\u001B[0;32m   7218\u001B[0m                         \u001B[1;34m\"with dict/Series column \"\u001B[0m\u001B[1;33m\u001B[0m\u001B[1;33m\u001B[0m\u001B[0m\n\u001B[0;32m   7219\u001B[0m                         \u001B[1;34m\"by column\"\u001B[0m\u001B[1;33m\u001B[0m\u001B[1;33m\u001B[0m\u001B[0m\n",
      "\u001B[1;31mNotImplementedError\u001B[0m: Currently only can fill with dict/Series column by column"
     ]
    }
   ],
   "source": [
    "dat_new = dat.fillna(means, axis = 1)\n",
    "dat_new"
   ]
  },
  {
   "cell_type": "code",
   "execution_count": null,
   "metadata": {
    "scrolled": false,
    "id": "M6HN6xBND2Wk",
    "outputId": "d023031c-4250-41ac-f7ad-1c04e7f732db"
   },
   "outputs": [
    {
     "data": {
      "text/plain": [
       "user              0.0\n",
       "booking_date      0.0\n",
       "origin_airport    0.4\n",
       "price             0.0\n",
       "sales channel     0.0\n",
       "ant               0.0\n",
       "airline           0.0\n",
       "dtype: float64"
      ]
     },
     "execution_count": 16,
     "metadata": {},
     "output_type": "execute_result"
    }
   ],
   "source": [
    "dat_new.apply(lambda x: 100*np.sum(x.isna())/len(x))"
   ]
  },
  {
   "cell_type": "markdown",
   "metadata": {
    "id": "_Bnw3zGqD2Wk"
   },
   "source": [
    "### Approach 2: Use an Algorithm."
   ]
  },
  {
   "cell_type": "markdown",
   "metadata": {
    "id": "nlD0vaHYD2Wk"
   },
   "source": [
    "Regarding filling missing values of numerical variables, there are much more complex methods to fill missing values, some of them even use machine learning models to try to predict this missing values.\n",
    "\n",
    "This is the case of MICE: https://www.ncbi.nlm.nih.gov/pmc/articles/PMC3074241/."
   ]
  },
  {
   "cell_type": "code",
   "source": [
    "!pip install fancyimpute"
   ],
   "metadata": {
    "colab": {
     "base_uri": "https://localhost:8080/"
    },
    "id": "Mt4w_GGfFHLR",
    "executionInfo": {
     "status": "ok",
     "timestamp": 1694164625087,
     "user_tz": -120,
     "elapsed": 8118,
     "user": {
      "displayName": "Jesus Prada",
      "userId": "01990672692810654269"
     }
    },
    "outputId": "bc706582-c40f-41e4-861a-8a9b417e95ec",
    "ExecuteTime": {
     "end_time": "2023-09-17T16:03:00.617296200Z",
     "start_time": "2023-09-17T16:02:42.051430800Z"
    }
   },
   "execution_count": 21,
   "outputs": [
    {
     "name": "stdout",
     "output_type": "stream",
     "text": [
      "Collecting fancyimpute\n",
      "  Downloading fancyimpute-0.7.0.tar.gz (25 kB)\n",
      "  Preparing metadata (setup.py): started\n",
      "  Preparing metadata (setup.py): finished with status 'done'\n",
      "Collecting knnimpute>=0.1.0\n",
      "  Downloading knnimpute-0.1.0.tar.gz (8.3 kB)\n",
      "  Preparing metadata (setup.py): started\n",
      "  Preparing metadata (setup.py): finished with status 'done'\n",
      "Requirement already satisfied: scikit-learn>=0.24.2 in j:\\ie\\second term\\mlii\\venv\\lib\\site-packages (from fancyimpute) (1.3.0)\n",
      "Collecting cvxpy\n",
      "  Downloading cvxpy-1.3.2-cp311-cp311-win_amd64.whl (892 kB)\n",
      "     ------------------------------------- 892.6/892.6 kB 14.2 MB/s eta 0:00:00\n",
      "Collecting cvxopt\n",
      "  Downloading cvxopt-1.3.2-cp311-cp311-win_amd64.whl (12.8 MB)\n",
      "     ---------------------------------------- 12.8/12.8 MB 7.4 MB/s eta 0:00:00\n",
      "Collecting pytest\n",
      "  Downloading pytest-7.4.2-py3-none-any.whl (324 kB)\n",
      "     ---------------------------------------- 324.5/324.5 kB ? eta 0:00:00\n",
      "Collecting nose\n",
      "  Downloading nose-1.3.7-py3-none-any.whl (154 kB)\n",
      "     ---------------------------------------- 154.7/154.7 kB ? eta 0:00:00\n",
      "Requirement already satisfied: six in j:\\ie\\second term\\mlii\\venv\\lib\\site-packages (from knnimpute>=0.1.0->fancyimpute) (1.16.0)\n",
      "Requirement already satisfied: numpy>=1.10 in j:\\ie\\second term\\mlii\\venv\\lib\\site-packages (from knnimpute>=0.1.0->fancyimpute) (1.26.0)\n",
      "Requirement already satisfied: scipy>=1.5.0 in j:\\ie\\second term\\mlii\\venv\\lib\\site-packages (from scikit-learn>=0.24.2->fancyimpute) (1.11.2)\n",
      "Requirement already satisfied: joblib>=1.1.1 in j:\\ie\\second term\\mlii\\venv\\lib\\site-packages (from scikit-learn>=0.24.2->fancyimpute) (1.3.2)\n",
      "Requirement already satisfied: threadpoolctl>=2.0.0 in j:\\ie\\second term\\mlii\\venv\\lib\\site-packages (from scikit-learn>=0.24.2->fancyimpute) (3.2.0)\n",
      "Collecting osqp>=0.4.1\n",
      "  Downloading osqp-0.6.3-cp311-cp311-win_amd64.whl (292 kB)\n",
      "     ------------------------------------- 293.0/293.0 kB 17.7 MB/s eta 0:00:00\n",
      "Collecting ecos>=2\n",
      "  Downloading ecos-2.0.12-cp311-cp311-win_amd64.whl (72 kB)\n",
      "     ---------------------------------------- 72.0/72.0 kB 3.9 MB/s eta 0:00:00\n",
      "Collecting scs>=1.1.6\n",
      "  Downloading scs-3.2.3-cp311-cp311-win_amd64.whl (8.2 MB)\n",
      "     ---------------------------------------- 8.2/8.2 MB 6.1 MB/s eta 0:00:00\n",
      "Collecting setuptools>65.5.1\n",
      "  Using cached setuptools-68.2.2-py3-none-any.whl (807 kB)\n",
      "Collecting iniconfig\n",
      "  Using cached iniconfig-2.0.0-py3-none-any.whl (5.9 kB)\n",
      "Requirement already satisfied: packaging in j:\\ie\\second term\\mlii\\venv\\lib\\site-packages (from pytest->fancyimpute) (23.1)\n",
      "Collecting pluggy<2.0,>=0.12\n",
      "  Using cached pluggy-1.3.0-py3-none-any.whl (18 kB)\n",
      "Requirement already satisfied: colorama in j:\\ie\\second term\\mlii\\venv\\lib\\site-packages (from pytest->fancyimpute) (0.4.6)\n",
      "Collecting qdldl\n",
      "  Downloading qdldl-0.1.7.post0-cp311-cp311-win_amd64.whl (85 kB)\n",
      "     ---------------------------------------- 85.1/85.1 kB 5.0 MB/s eta 0:00:00\n",
      "Building wheels for collected packages: fancyimpute, knnimpute\n",
      "  Building wheel for fancyimpute (setup.py): started\n",
      "  Building wheel for fancyimpute (setup.py): finished with status 'done'\n",
      "  Created wheel for fancyimpute: filename=fancyimpute-0.7.0-py3-none-any.whl size=29907 sha256=7a61723b5bb0870c9a86611d52ddfc77420724d7dc387a36538d59c589ccd483\n",
      "  Stored in directory: c:\\users\\jorge\\appdata\\local\\pip\\cache\\wheels\\04\\97\\85\\8a042726e19621f9b8c602c9d5fe5a78f2367142f76bca8296\n",
      "  Building wheel for knnimpute (setup.py): started\n",
      "  Building wheel for knnimpute (setup.py): finished with status 'done'\n",
      "  Created wheel for knnimpute: filename=knnimpute-0.1.0-py3-none-any.whl size=11345 sha256=9b3de6a7ed86f41a8900498ed571dd04f91a631a65504b2222bc0f63563499ba\n",
      "  Stored in directory: c:\\users\\jorge\\appdata\\local\\pip\\cache\\wheels\\fd\\0d\\00\\377c8b30896ce6570c906d0cb6df221655de49c943cebc126c\n",
      "Successfully built fancyimpute knnimpute\n",
      "Installing collected packages: nose, setuptools, pluggy, knnimpute, iniconfig, cvxopt, scs, qdldl, pytest, ecos, osqp, cvxpy, fancyimpute\n",
      "  Attempting uninstall: setuptools\n",
      "    Found existing installation: setuptools 65.5.1\n",
      "    Uninstalling setuptools-65.5.1:\n",
      "      Successfully uninstalled setuptools-65.5.1\n",
      "Successfully installed cvxopt-1.3.2 cvxpy-1.3.2 ecos-2.0.12 fancyimpute-0.7.0 iniconfig-2.0.0 knnimpute-0.1.0 nose-1.3.7 osqp-0.6.3 pluggy-1.3.0 pytest-7.4.2 qdldl-0.1.7.post0 scs-3.2.3 setuptools-68.2.2\n"
     ]
    },
    {
     "name": "stderr",
     "output_type": "stream",
     "text": [
      "\n",
      "[notice] A new release of pip available: 22.3.1 -> 23.2.1\n",
      "[notice] To update, run: python.exe -m pip install --upgrade pip\n"
     ]
    }
   ]
  },
  {
   "cell_type": "code",
   "execution_count": 22,
   "metadata": {
    "id": "kVLwCAODD2Wk",
    "ExecuteTime": {
     "end_time": "2023-09-17T16:03:14.521326800Z",
     "start_time": "2023-09-17T16:03:11.933523300Z"
    }
   },
   "outputs": [],
   "source": [
    "from fancyimpute import IterativeImputer as MICE # pip install fancyimpute"
   ]
  },
  {
   "cell_type": "code",
   "execution_count": 23,
   "metadata": {
    "scrolled": true,
    "colab": {
     "base_uri": "https://localhost:8080/",
     "height": 424
    },
    "id": "bF2306y3D2Wk",
    "executionInfo": {
     "status": "ok",
     "timestamp": 1694164641669,
     "user_tz": -120,
     "elapsed": 248,
     "user": {
      "displayName": "Jesus Prada",
      "userId": "01990672692810654269"
     }
    },
    "outputId": "e501977a-785b-4ad6-828a-758742c34f27",
    "ExecuteTime": {
     "end_time": "2023-09-17T16:03:16.158102800Z",
     "start_time": "2023-09-17T16:03:16.143696100Z"
    }
   },
   "outputs": [
    {
     "data": {
      "text/plain": "       user booking_date origin_airport       price sales channel company  \\\n0     user5   2018-11-01            MAD   58.200001        online      I2   \n1     user7   2018-11-01            DUB  147.500000        online      I2   \n2     user4   2018-11-02            TFS   24.049999        online      I2   \n3     user8   2018-10-29            MAD   59.709999        online      I2   \n4     user7   2018-11-01            LPA   37.299999   call center      I2   \n..      ...          ...            ...         ...           ...     ...   \n995   user2   2018-11-01            JMK   99.849998        online      I2   \n996  user10   2018-11-01            SVQ   34.610001        online      I2   \n997   user4   2018-10-30            MAD   49.880001        online      I2   \n998  user10   2018-11-02            CDG  152.960007        online      I2   \n999   user6   2018-11-01            MAD   98.339996        online      I2   \n\n    user_country  index  \n0            NaN      1  \n1            NaN      2  \n2            NaN      3  \n3            NaN      4  \n4            NaN      5  \n..           ...    ...  \n995          NaN    996  \n996          NaN    997  \n997          NaN    998  \n998          NaN    999  \n999          NaN   1000  \n\n[1000 rows x 8 columns]",
      "text/html": "<div>\n<style scoped>\n    .dataframe tbody tr th:only-of-type {\n        vertical-align: middle;\n    }\n\n    .dataframe tbody tr th {\n        vertical-align: top;\n    }\n\n    .dataframe thead th {\n        text-align: right;\n    }\n</style>\n<table border=\"1\" class=\"dataframe\">\n  <thead>\n    <tr style=\"text-align: right;\">\n      <th></th>\n      <th>user</th>\n      <th>booking_date</th>\n      <th>origin_airport</th>\n      <th>price</th>\n      <th>sales channel</th>\n      <th>company</th>\n      <th>user_country</th>\n      <th>index</th>\n    </tr>\n  </thead>\n  <tbody>\n    <tr>\n      <th>0</th>\n      <td>user5</td>\n      <td>2018-11-01</td>\n      <td>MAD</td>\n      <td>58.200001</td>\n      <td>online</td>\n      <td>I2</td>\n      <td>NaN</td>\n      <td>1</td>\n    </tr>\n    <tr>\n      <th>1</th>\n      <td>user7</td>\n      <td>2018-11-01</td>\n      <td>DUB</td>\n      <td>147.500000</td>\n      <td>online</td>\n      <td>I2</td>\n      <td>NaN</td>\n      <td>2</td>\n    </tr>\n    <tr>\n      <th>2</th>\n      <td>user4</td>\n      <td>2018-11-02</td>\n      <td>TFS</td>\n      <td>24.049999</td>\n      <td>online</td>\n      <td>I2</td>\n      <td>NaN</td>\n      <td>3</td>\n    </tr>\n    <tr>\n      <th>3</th>\n      <td>user8</td>\n      <td>2018-10-29</td>\n      <td>MAD</td>\n      <td>59.709999</td>\n      <td>online</td>\n      <td>I2</td>\n      <td>NaN</td>\n      <td>4</td>\n    </tr>\n    <tr>\n      <th>4</th>\n      <td>user7</td>\n      <td>2018-11-01</td>\n      <td>LPA</td>\n      <td>37.299999</td>\n      <td>call center</td>\n      <td>I2</td>\n      <td>NaN</td>\n      <td>5</td>\n    </tr>\n    <tr>\n      <th>...</th>\n      <td>...</td>\n      <td>...</td>\n      <td>...</td>\n      <td>...</td>\n      <td>...</td>\n      <td>...</td>\n      <td>...</td>\n      <td>...</td>\n    </tr>\n    <tr>\n      <th>995</th>\n      <td>user2</td>\n      <td>2018-11-01</td>\n      <td>JMK</td>\n      <td>99.849998</td>\n      <td>online</td>\n      <td>I2</td>\n      <td>NaN</td>\n      <td>996</td>\n    </tr>\n    <tr>\n      <th>996</th>\n      <td>user10</td>\n      <td>2018-11-01</td>\n      <td>SVQ</td>\n      <td>34.610001</td>\n      <td>online</td>\n      <td>I2</td>\n      <td>NaN</td>\n      <td>997</td>\n    </tr>\n    <tr>\n      <th>997</th>\n      <td>user4</td>\n      <td>2018-10-30</td>\n      <td>MAD</td>\n      <td>49.880001</td>\n      <td>online</td>\n      <td>I2</td>\n      <td>NaN</td>\n      <td>998</td>\n    </tr>\n    <tr>\n      <th>998</th>\n      <td>user10</td>\n      <td>2018-11-02</td>\n      <td>CDG</td>\n      <td>152.960007</td>\n      <td>online</td>\n      <td>I2</td>\n      <td>NaN</td>\n      <td>999</td>\n    </tr>\n    <tr>\n      <th>999</th>\n      <td>user6</td>\n      <td>2018-11-01</td>\n      <td>MAD</td>\n      <td>98.339996</td>\n      <td>online</td>\n      <td>I2</td>\n      <td>NaN</td>\n      <td>1000</td>\n    </tr>\n  </tbody>\n</table>\n<p>1000 rows × 8 columns</p>\n</div>"
     },
     "execution_count": 23,
     "metadata": {},
     "output_type": "execute_result"
    }
   ],
   "source": [
    "dat_new = dat.copy()\n",
    "model = MICE()\n",
    "dat_new[numerical_variables] = model.fit_transform(dat[numerical_variables])\n",
    "dat_new"
   ]
  },
  {
   "cell_type": "code",
   "execution_count": 24,
   "metadata": {
    "colab": {
     "base_uri": "https://localhost:8080/"
    },
    "id": "rZPfadq0D2Wk",
    "executionInfo": {
     "status": "ok",
     "timestamp": 1694164660335,
     "user_tz": -120,
     "elapsed": 217,
     "user": {
      "displayName": "Jesus Prada",
      "userId": "01990672692810654269"
     }
    },
    "outputId": "dd2b3cfd-3a1b-436d-fdbb-a1ee85936408",
    "ExecuteTime": {
     "end_time": "2023-09-17T16:03:18.049322700Z",
     "start_time": "2023-09-17T16:03:18.027840400Z"
    }
   },
   "outputs": [
    {
     "data": {
      "text/plain": "user               0.0\nbooking_date       0.0\norigin_airport     0.0\nprice              0.0\nsales channel      0.0\ncompany            0.0\nuser_country      99.0\nindex              0.0\ndtype: float64"
     },
     "execution_count": 24,
     "metadata": {},
     "output_type": "execute_result"
    }
   ],
   "source": [
    "dat_new.apply(lambda x: 100*np.sum(x.isna())/len(x))"
   ]
  },
  {
   "cell_type": "code",
   "execution_count": 25,
   "metadata": {
    "colab": {
     "base_uri": "https://localhost:8080/",
     "height": 424
    },
    "id": "SHS4J2UvD2Wl",
    "executionInfo": {
     "status": "ok",
     "timestamp": 1694164679306,
     "user_tz": -120,
     "elapsed": 10,
     "user": {
      "displayName": "Jesus Prada",
      "userId": "01990672692810654269"
     }
    },
    "outputId": "8ac7ebd6-ba0b-4b39-fb4d-6a9d14218fa6",
    "ExecuteTime": {
     "end_time": "2023-09-17T16:03:19.685180400Z",
     "start_time": "2023-09-17T16:03:19.659989900Z"
    }
   },
   "outputs": [
    {
     "data": {
      "text/plain": "       user booking_date origin_airport       price sales channel company  \\\n0     user5   2018-11-01            MAD   58.200001        online      I2   \n1     user7   2018-11-01            DUB  147.500000        online      I2   \n2     user4   2018-11-02            TFS   24.049999        online      I2   \n3     user8   2018-10-29            MAD   59.709999        online      I2   \n4     user7   2018-11-01            LPA   37.299999   call center      I2   \n..      ...          ...            ...         ...           ...     ...   \n995   user2   2018-11-01            JMK   99.849998        online      I2   \n996  user10   2018-11-01            SVQ   34.610001        online      I2   \n997   user4   2018-10-30            MAD   49.880001        online      I2   \n998  user10   2018-11-02            CDG  152.960007        online      I2   \n999   user6   2018-11-01            MAD   98.339996        online      I2   \n\n    user_country  index  \n0            NaN      1  \n1            NaN      2  \n2            NaN      3  \n3            NaN      4  \n4            NaN      5  \n..           ...    ...  \n995          NaN    996  \n996          NaN    997  \n997          NaN    998  \n998          NaN    999  \n999          NaN   1000  \n\n[1000 rows x 8 columns]",
      "text/html": "<div>\n<style scoped>\n    .dataframe tbody tr th:only-of-type {\n        vertical-align: middle;\n    }\n\n    .dataframe tbody tr th {\n        vertical-align: top;\n    }\n\n    .dataframe thead th {\n        text-align: right;\n    }\n</style>\n<table border=\"1\" class=\"dataframe\">\n  <thead>\n    <tr style=\"text-align: right;\">\n      <th></th>\n      <th>user</th>\n      <th>booking_date</th>\n      <th>origin_airport</th>\n      <th>price</th>\n      <th>sales channel</th>\n      <th>company</th>\n      <th>user_country</th>\n      <th>index</th>\n    </tr>\n  </thead>\n  <tbody>\n    <tr>\n      <th>0</th>\n      <td>user5</td>\n      <td>2018-11-01</td>\n      <td>MAD</td>\n      <td>58.200001</td>\n      <td>online</td>\n      <td>I2</td>\n      <td>NaN</td>\n      <td>1</td>\n    </tr>\n    <tr>\n      <th>1</th>\n      <td>user7</td>\n      <td>2018-11-01</td>\n      <td>DUB</td>\n      <td>147.500000</td>\n      <td>online</td>\n      <td>I2</td>\n      <td>NaN</td>\n      <td>2</td>\n    </tr>\n    <tr>\n      <th>2</th>\n      <td>user4</td>\n      <td>2018-11-02</td>\n      <td>TFS</td>\n      <td>24.049999</td>\n      <td>online</td>\n      <td>I2</td>\n      <td>NaN</td>\n      <td>3</td>\n    </tr>\n    <tr>\n      <th>3</th>\n      <td>user8</td>\n      <td>2018-10-29</td>\n      <td>MAD</td>\n      <td>59.709999</td>\n      <td>online</td>\n      <td>I2</td>\n      <td>NaN</td>\n      <td>4</td>\n    </tr>\n    <tr>\n      <th>4</th>\n      <td>user7</td>\n      <td>2018-11-01</td>\n      <td>LPA</td>\n      <td>37.299999</td>\n      <td>call center</td>\n      <td>I2</td>\n      <td>NaN</td>\n      <td>5</td>\n    </tr>\n    <tr>\n      <th>...</th>\n      <td>...</td>\n      <td>...</td>\n      <td>...</td>\n      <td>...</td>\n      <td>...</td>\n      <td>...</td>\n      <td>...</td>\n      <td>...</td>\n    </tr>\n    <tr>\n      <th>995</th>\n      <td>user2</td>\n      <td>2018-11-01</td>\n      <td>JMK</td>\n      <td>99.849998</td>\n      <td>online</td>\n      <td>I2</td>\n      <td>NaN</td>\n      <td>996</td>\n    </tr>\n    <tr>\n      <th>996</th>\n      <td>user10</td>\n      <td>2018-11-01</td>\n      <td>SVQ</td>\n      <td>34.610001</td>\n      <td>online</td>\n      <td>I2</td>\n      <td>NaN</td>\n      <td>997</td>\n    </tr>\n    <tr>\n      <th>997</th>\n      <td>user4</td>\n      <td>2018-10-30</td>\n      <td>MAD</td>\n      <td>49.880001</td>\n      <td>online</td>\n      <td>I2</td>\n      <td>NaN</td>\n      <td>998</td>\n    </tr>\n    <tr>\n      <th>998</th>\n      <td>user10</td>\n      <td>2018-11-02</td>\n      <td>CDG</td>\n      <td>152.960007</td>\n      <td>online</td>\n      <td>I2</td>\n      <td>NaN</td>\n      <td>999</td>\n    </tr>\n    <tr>\n      <th>999</th>\n      <td>user6</td>\n      <td>2018-11-01</td>\n      <td>MAD</td>\n      <td>98.339996</td>\n      <td>online</td>\n      <td>I2</td>\n      <td>NaN</td>\n      <td>1000</td>\n    </tr>\n  </tbody>\n</table>\n<p>1000 rows × 8 columns</p>\n</div>"
     },
     "execution_count": 25,
     "metadata": {},
     "output_type": "execute_result"
    }
   ],
   "source": [
    "# from sklearn.linear_model import Lasso as model_constructor\n",
    "from sklearn.linear_model import Lasso as model_constructor\n",
    "dat_new = dat.copy()\n",
    "model = MICE(estimator = model_constructor())\n",
    "dat_new[numerical_variables] = model.fit_transform(dat[numerical_variables])\n",
    "dat_new"
   ]
  },
  {
   "cell_type": "markdown",
   "metadata": {
    "id": "RmAujCnvD2Wl"
   },
   "source": [
    "## Define Custom Function"
   ]
  },
  {
   "cell_type": "markdown",
   "metadata": {
    "id": "1v4cHUxpD2Wl"
   },
   "source": [
    "Let's create our own custom function to fill missing values."
   ]
  },
  {
   "cell_type": "code",
   "execution_count": 26,
   "metadata": {
    "id": "0a-Sr3uxD2Wl",
    "ExecuteTime": {
     "end_time": "2023-09-17T16:03:22.630600400Z",
     "start_time": "2023-09-17T16:03:22.617025500Z"
    }
   },
   "outputs": [],
   "source": [
    "def fill_missing_values(X, num_method = 'mean', cat_method = 'new_category',\n",
    "                estimator = None):\n",
    "    categorical_variables = X.columns.values[dat.dtypes == 'object'].tolist()\n",
    "    numerical_variables = X.columns.values[dat.dtypes == 'float64'].tolist()\n",
    "    if num_method == 'mean':\n",
    "        means = dat[numerical_variables].apply(lambda x: np.mean(x)).to_dict()\n",
    "        X = X.fillna(value = means, axis = 0)\n",
    "\n",
    "    elif num_method == 'mice':\n",
    "        if estimator is None:\n",
    "            X[numerical_variables] = MICE().fit_transform(X[numerical_variables])\n",
    "        else:\n",
    "            X[numerical_variables] = MICE(estimator = estimator).fit_transform(X[numerical_variables])\n",
    "    if cat_method == 'new_category':\n",
    "       X[categorical_variables] = X[categorical_variables].fillna(value = 'UNKNOWN', axis = 0)\n",
    "\n",
    "\n",
    "    elif cat_method == 'mode':\n",
    "        means = X[categorical_variables].apply(lambda x: np.mean(x)).to_dict()\n",
    "        X = X.fillna(value = means, axis = 0)\n",
    "\n",
    "    return X\n",
    "\n"
   ]
  },
  {
   "cell_type": "code",
   "execution_count": 27,
   "metadata": {
    "colab": {
     "base_uri": "https://localhost:8080/",
     "height": 424
    },
    "id": "t2UKexjsD2Wl",
    "executionInfo": {
     "status": "ok",
     "timestamp": 1694164846529,
     "user_tz": -120,
     "elapsed": 4,
     "user": {
      "displayName": "Jesus Prada",
      "userId": "01990672692810654269"
     }
    },
    "outputId": "a98193d8-4ca0-4818-cc32-24186560207d",
    "ExecuteTime": {
     "end_time": "2023-09-17T16:03:25.780410300Z",
     "start_time": "2023-09-17T16:03:25.758925100Z"
    }
   },
   "outputs": [
    {
     "data": {
      "text/plain": "       user booking_date origin_airport       price sales channel company  \\\n0     user5   2018-11-01            MAD   58.200001        online      I2   \n1     user7   2018-11-01            DUB  147.500000        online      I2   \n2     user4   2018-11-02            TFS   24.049999        online      I2   \n3     user8   2018-10-29            MAD   59.709999        online      I2   \n4     user7   2018-11-01            LPA   37.299999   call center      I2   \n..      ...          ...            ...         ...           ...     ...   \n995   user2   2018-11-01            JMK   99.849998        online      I2   \n996  user10   2018-11-01            SVQ   34.610001        online      I2   \n997   user4   2018-10-30            MAD   49.880001        online      I2   \n998  user10   2018-11-02            CDG  152.960007        online      I2   \n999   user6   2018-11-01            MAD   98.339996        online      I2   \n\n    user_country  index  \n0        UNKNOWN      1  \n1        UNKNOWN      2  \n2        UNKNOWN      3  \n3        UNKNOWN      4  \n4        UNKNOWN      5  \n..           ...    ...  \n995      UNKNOWN    996  \n996      UNKNOWN    997  \n997      UNKNOWN    998  \n998      UNKNOWN    999  \n999      UNKNOWN   1000  \n\n[1000 rows x 8 columns]",
      "text/html": "<div>\n<style scoped>\n    .dataframe tbody tr th:only-of-type {\n        vertical-align: middle;\n    }\n\n    .dataframe tbody tr th {\n        vertical-align: top;\n    }\n\n    .dataframe thead th {\n        text-align: right;\n    }\n</style>\n<table border=\"1\" class=\"dataframe\">\n  <thead>\n    <tr style=\"text-align: right;\">\n      <th></th>\n      <th>user</th>\n      <th>booking_date</th>\n      <th>origin_airport</th>\n      <th>price</th>\n      <th>sales channel</th>\n      <th>company</th>\n      <th>user_country</th>\n      <th>index</th>\n    </tr>\n  </thead>\n  <tbody>\n    <tr>\n      <th>0</th>\n      <td>user5</td>\n      <td>2018-11-01</td>\n      <td>MAD</td>\n      <td>58.200001</td>\n      <td>online</td>\n      <td>I2</td>\n      <td>UNKNOWN</td>\n      <td>1</td>\n    </tr>\n    <tr>\n      <th>1</th>\n      <td>user7</td>\n      <td>2018-11-01</td>\n      <td>DUB</td>\n      <td>147.500000</td>\n      <td>online</td>\n      <td>I2</td>\n      <td>UNKNOWN</td>\n      <td>2</td>\n    </tr>\n    <tr>\n      <th>2</th>\n      <td>user4</td>\n      <td>2018-11-02</td>\n      <td>TFS</td>\n      <td>24.049999</td>\n      <td>online</td>\n      <td>I2</td>\n      <td>UNKNOWN</td>\n      <td>3</td>\n    </tr>\n    <tr>\n      <th>3</th>\n      <td>user8</td>\n      <td>2018-10-29</td>\n      <td>MAD</td>\n      <td>59.709999</td>\n      <td>online</td>\n      <td>I2</td>\n      <td>UNKNOWN</td>\n      <td>4</td>\n    </tr>\n    <tr>\n      <th>4</th>\n      <td>user7</td>\n      <td>2018-11-01</td>\n      <td>LPA</td>\n      <td>37.299999</td>\n      <td>call center</td>\n      <td>I2</td>\n      <td>UNKNOWN</td>\n      <td>5</td>\n    </tr>\n    <tr>\n      <th>...</th>\n      <td>...</td>\n      <td>...</td>\n      <td>...</td>\n      <td>...</td>\n      <td>...</td>\n      <td>...</td>\n      <td>...</td>\n      <td>...</td>\n    </tr>\n    <tr>\n      <th>995</th>\n      <td>user2</td>\n      <td>2018-11-01</td>\n      <td>JMK</td>\n      <td>99.849998</td>\n      <td>online</td>\n      <td>I2</td>\n      <td>UNKNOWN</td>\n      <td>996</td>\n    </tr>\n    <tr>\n      <th>996</th>\n      <td>user10</td>\n      <td>2018-11-01</td>\n      <td>SVQ</td>\n      <td>34.610001</td>\n      <td>online</td>\n      <td>I2</td>\n      <td>UNKNOWN</td>\n      <td>997</td>\n    </tr>\n    <tr>\n      <th>997</th>\n      <td>user4</td>\n      <td>2018-10-30</td>\n      <td>MAD</td>\n      <td>49.880001</td>\n      <td>online</td>\n      <td>I2</td>\n      <td>UNKNOWN</td>\n      <td>998</td>\n    </tr>\n    <tr>\n      <th>998</th>\n      <td>user10</td>\n      <td>2018-11-02</td>\n      <td>CDG</td>\n      <td>152.960007</td>\n      <td>online</td>\n      <td>I2</td>\n      <td>UNKNOWN</td>\n      <td>999</td>\n    </tr>\n    <tr>\n      <th>999</th>\n      <td>user6</td>\n      <td>2018-11-01</td>\n      <td>MAD</td>\n      <td>98.339996</td>\n      <td>online</td>\n      <td>I2</td>\n      <td>UNKNOWN</td>\n      <td>1000</td>\n    </tr>\n  </tbody>\n</table>\n<p>1000 rows × 8 columns</p>\n</div>"
     },
     "execution_count": 27,
     "metadata": {},
     "output_type": "execute_result"
    }
   ],
   "source": [
    "new_dat = fill_missing_values(dat, \"mean\", \"new_category\")\n",
    "new_dat"
   ]
  }
 ],
 "metadata": {
  "kernelspec": {
   "display_name": "Python 3",
   "language": "python",
   "name": "python3"
  },
  "language_info": {
   "codemirror_mode": {
    "name": "ipython",
    "version": 3
   },
   "file_extension": ".py",
   "mimetype": "text/x-python",
   "name": "python",
   "nbconvert_exporter": "python",
   "pygments_lexer": "ipython3",
   "version": "3.8.5"
  },
  "colab": {
   "provenance": []
  }
 },
 "nbformat": 4,
 "nbformat_minor": 0
}
