{
 "cells": [
  {
   "cell_type": "code",
   "execution_count": 1,
   "metadata": {
    "id": "rFXe8Ls7GIir",
    "ExecuteTime": {
     "end_time": "2023-09-17T16:03:38.635132100Z",
     "start_time": "2023-09-17T16:03:37.526353400Z"
    }
   },
   "outputs": [],
   "source": [
    "# Load Libraries\n",
    "%matplotlib inline\n",
    "import numpy as np\n",
    "import matplotlib.pyplot as plt\n",
    "from scipy import stats\n",
    "import pandas as pd"
   ]
  },
  {
   "cell_type": "markdown",
   "metadata": {
    "id": "LbHfinVBGIit"
   },
   "source": [
    "# One-Hot Encoding"
   ]
  },
  {
   "cell_type": "markdown",
   "metadata": {
    "id": "icz0eUOjGIiu"
   },
   "source": [
    "Some steps may be needed before applying custering algorithms"
   ]
  },
  {
   "cell_type": "markdown",
   "metadata": {
    "id": "r26jKSbYGIiv"
   },
   "source": [
    "## Load Data"
   ]
  },
  {
   "cell_type": "code",
   "execution_count": 2,
   "metadata": {
    "colab": {
     "base_uri": "https://localhost:8080/",
     "height": 206
    },
    "id": "GaLSr-xEGIiv",
    "executionInfo": {
     "status": "ok",
     "timestamp": 1694164932906,
     "user_tz": -120,
     "elapsed": 403,
     "user": {
      "displayName": "Jesus Prada",
      "userId": "01990672692810654269"
     }
    },
    "outputId": "1754e271-872f-40f7-897e-6b4437a6b4bd",
    "ExecuteTime": {
     "end_time": "2023-09-17T16:03:52.394891500Z",
     "start_time": "2023-09-17T16:03:52.340948300Z"
    }
   },
   "outputs": [
    {
     "data": {
      "text/plain": "       user booking_date origin_airport       price sales channel company  \\\n0     user5   2018-11-01            MAD   58.200001        online      I2   \n1     user7   2018-11-01            DUB  147.500000        online      I2   \n2     user4   2018-11-02            TFS   24.049999        online      I2   \n3     user8   2018-10-29            MAD   59.709999        online      I2   \n4     user7   2018-11-01            LPA   37.299999   call center      I2   \n..      ...          ...            ...         ...           ...     ...   \n995   user2   2018-11-01            JMK   99.849998        online      I2   \n996  user10   2018-11-01            SVQ   34.610001        online      I2   \n997   user4   2018-10-30            MAD   49.880001        online      I2   \n998  user10   2018-11-02            CDG  152.960007        online      I2   \n999   user6   2018-11-01            MAD   98.339996        online      I2   \n\n    user_country  index  \n0            NaN      1  \n1            NaN      2  \n2            NaN      3  \n3            NaN      4  \n4            NaN      5  \n..           ...    ...  \n995          NaN    996  \n996          NaN    997  \n997          NaN    998  \n998          NaN    999  \n999          NaN   1000  \n\n[1000 rows x 8 columns]",
      "text/html": "<div>\n<style scoped>\n    .dataframe tbody tr th:only-of-type {\n        vertical-align: middle;\n    }\n\n    .dataframe tbody tr th {\n        vertical-align: top;\n    }\n\n    .dataframe thead th {\n        text-align: right;\n    }\n</style>\n<table border=\"1\" class=\"dataframe\">\n  <thead>\n    <tr style=\"text-align: right;\">\n      <th></th>\n      <th>user</th>\n      <th>booking_date</th>\n      <th>origin_airport</th>\n      <th>price</th>\n      <th>sales channel</th>\n      <th>company</th>\n      <th>user_country</th>\n      <th>index</th>\n    </tr>\n  </thead>\n  <tbody>\n    <tr>\n      <th>0</th>\n      <td>user5</td>\n      <td>2018-11-01</td>\n      <td>MAD</td>\n      <td>58.200001</td>\n      <td>online</td>\n      <td>I2</td>\n      <td>NaN</td>\n      <td>1</td>\n    </tr>\n    <tr>\n      <th>1</th>\n      <td>user7</td>\n      <td>2018-11-01</td>\n      <td>DUB</td>\n      <td>147.500000</td>\n      <td>online</td>\n      <td>I2</td>\n      <td>NaN</td>\n      <td>2</td>\n    </tr>\n    <tr>\n      <th>2</th>\n      <td>user4</td>\n      <td>2018-11-02</td>\n      <td>TFS</td>\n      <td>24.049999</td>\n      <td>online</td>\n      <td>I2</td>\n      <td>NaN</td>\n      <td>3</td>\n    </tr>\n    <tr>\n      <th>3</th>\n      <td>user8</td>\n      <td>2018-10-29</td>\n      <td>MAD</td>\n      <td>59.709999</td>\n      <td>online</td>\n      <td>I2</td>\n      <td>NaN</td>\n      <td>4</td>\n    </tr>\n    <tr>\n      <th>4</th>\n      <td>user7</td>\n      <td>2018-11-01</td>\n      <td>LPA</td>\n      <td>37.299999</td>\n      <td>call center</td>\n      <td>I2</td>\n      <td>NaN</td>\n      <td>5</td>\n    </tr>\n    <tr>\n      <th>...</th>\n      <td>...</td>\n      <td>...</td>\n      <td>...</td>\n      <td>...</td>\n      <td>...</td>\n      <td>...</td>\n      <td>...</td>\n      <td>...</td>\n    </tr>\n    <tr>\n      <th>995</th>\n      <td>user2</td>\n      <td>2018-11-01</td>\n      <td>JMK</td>\n      <td>99.849998</td>\n      <td>online</td>\n      <td>I2</td>\n      <td>NaN</td>\n      <td>996</td>\n    </tr>\n    <tr>\n      <th>996</th>\n      <td>user10</td>\n      <td>2018-11-01</td>\n      <td>SVQ</td>\n      <td>34.610001</td>\n      <td>online</td>\n      <td>I2</td>\n      <td>NaN</td>\n      <td>997</td>\n    </tr>\n    <tr>\n      <th>997</th>\n      <td>user4</td>\n      <td>2018-10-30</td>\n      <td>MAD</td>\n      <td>49.880001</td>\n      <td>online</td>\n      <td>I2</td>\n      <td>NaN</td>\n      <td>998</td>\n    </tr>\n    <tr>\n      <th>998</th>\n      <td>user10</td>\n      <td>2018-11-02</td>\n      <td>CDG</td>\n      <td>152.960007</td>\n      <td>online</td>\n      <td>I2</td>\n      <td>NaN</td>\n      <td>999</td>\n    </tr>\n    <tr>\n      <th>999</th>\n      <td>user6</td>\n      <td>2018-11-01</td>\n      <td>MAD</td>\n      <td>98.339996</td>\n      <td>online</td>\n      <td>I2</td>\n      <td>NaN</td>\n      <td>1000</td>\n    </tr>\n  </tbody>\n</table>\n<p>1000 rows × 8 columns</p>\n</div>"
     },
     "execution_count": 2,
     "metadata": {},
     "output_type": "execute_result"
    }
   ],
   "source": [
    "dat = pd.read_csv('../data/userbase.csv', sep = \";\")\n",
    "dat"
   ]
  },
  {
   "cell_type": "markdown",
   "metadata": {
    "id": "NYrlgWi1GIiw"
   },
   "source": [
    "## One-hot Encoding"
   ]
  },
  {
   "cell_type": "markdown",
   "metadata": {
    "id": "dMs73zD1GIiw"
   },
   "source": [
    "Most machine learning models (decision trees are an exception) does not support categorical variables as input. Therefore, these variables should be transformed into numerical variables.\n",
    "\n",
    "The standard approach is to use one-hot encoding or dummy variables creation."
   ]
  },
  {
   "cell_type": "markdown",
   "metadata": {
    "id": "TXzdq6jQGIiw"
   },
   "source": [
    "![1 ggtP4a5YaRx6l09KQaYOnw.png](data:image/png;base64,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)"
   ]
  },
  {
   "cell_type": "markdown",
   "metadata": {
    "id": "82RnxhVFGIix"
   },
   "source": [
    "Remember that label encoding is usually not a good option, as you are assuming a specific order and distances in your categories."
   ]
  },
  {
   "cell_type": "code",
   "execution_count": 3,
   "metadata": {
    "id": "z-Xug1LZGIiy",
    "ExecuteTime": {
     "end_time": "2023-09-17T16:04:00.098096600Z",
     "start_time": "2023-09-17T16:04:00.026113Z"
    }
   },
   "outputs": [],
   "source": [
    "from sklearn.preprocessing import OneHotEncoder"
   ]
  },
  {
   "cell_type": "code",
   "execution_count": 4,
   "metadata": {
    "colab": {
     "base_uri": "https://localhost:8080/"
    },
    "id": "d1NjiHeQGIiz",
    "executionInfo": {
     "status": "ok",
     "timestamp": 1694164982593,
     "user_tz": -120,
     "elapsed": 4,
     "user": {
      "displayName": "Jesus Prada",
      "userId": "01990672692810654269"
     }
    },
    "outputId": "d09dcdb2-6055-4abc-9204-135065dcfce1",
    "ExecuteTime": {
     "end_time": "2023-09-17T16:04:03.223373200Z",
     "start_time": "2023-09-17T16:04:03.209335400Z"
    }
   },
   "outputs": [
    {
     "data": {
      "text/plain": "user               object\nbooking_date       object\norigin_airport     object\nprice             float64\nsales channel      object\ncompany            object\nuser_country       object\nindex               int64\ndtype: object"
     },
     "execution_count": 4,
     "metadata": {},
     "output_type": "execute_result"
    }
   ],
   "source": [
    "dat.dtypes"
   ]
  },
  {
   "cell_type": "code",
   "execution_count": 5,
   "metadata": {
    "colab": {
     "base_uri": "https://localhost:8080/"
    },
    "id": "x4EkdTeFGIiz",
    "executionInfo": {
     "status": "ok",
     "timestamp": 1694164986414,
     "user_tz": -120,
     "elapsed": 346,
     "user": {
      "displayName": "Jesus Prada",
      "userId": "01990672692810654269"
     }
    },
    "outputId": "06ae0881-8334-4160-95e0-6d2cd0df4197",
    "ExecuteTime": {
     "end_time": "2023-09-17T16:04:05.091343300Z",
     "start_time": "2023-09-17T16:04:05.075778900Z"
    }
   },
   "outputs": [
    {
     "name": "stdout",
     "output_type": "stream",
     "text": [
      "['booking_date', 'user', 'sales channel', 'user_country', 'origin_airport', 'company']\n",
      "['price', 'index']\n"
     ]
    }
   ],
   "source": [
    "categorical_vars = set(dat.columns[dat.dtypes == object])\n",
    "numerical_vars = set(dat.columns) - categorical_vars\n",
    "categorical_vars = list(categorical_vars)\n",
    "numerical_vars = list(numerical_vars)\n",
    "print(categorical_vars)\n",
    "print(numerical_vars)"
   ]
  },
  {
   "cell_type": "code",
   "execution_count": 6,
   "metadata": {
    "id": "SnkuNVEUGIi0",
    "executionInfo": {
     "status": "error",
     "timestamp": 1694173554177,
     "user_tz": -120,
     "elapsed": 12,
     "user": {
      "displayName": "Jesus Prada",
      "userId": "01990672692810654269"
     }
    },
    "outputId": "af3503f8-f5c9-48d3-abe1-b2953be00c00",
    "colab": {
     "base_uri": "https://localhost:8080/",
     "height": 248
    },
    "ExecuteTime": {
     "end_time": "2023-09-17T16:04:17.688746900Z",
     "start_time": "2023-09-17T16:04:17.674886600Z"
    }
   },
   "outputs": [],
   "source": [
    "# 3 defining the model\n",
    "ohe = OneHotEncoder(sparse_output = False)\n",
    "\n",
    "# 4) Training model\n",
    "ohe.fit(dat[categorical_vars])\n",
    "\n",
    "# 5) Predicting\n",
    "dat_ohe = pd.DataFrame(ohe.fit_transform(dat[categorical_vars]))\n",
    "\n",
    "# Optional\n",
    "dat_ohe.columns = ohe.get_feature_names_out()"
   ]
  },
  {
   "cell_type": "code",
   "execution_count": 7,
   "metadata": {
    "colab": {
     "base_uri": "https://localhost:8080/",
     "height": 206
    },
    "id": "oKp6mJqOGIi0",
    "executionInfo": {
     "status": "ok",
     "timestamp": 1694165054139,
     "user_tz": -120,
     "elapsed": 7,
     "user": {
      "displayName": "Jesus Prada",
      "userId": "01990672692810654269"
     }
    },
    "outputId": "a1bd82ea-25db-4757-eb84-dea63818bb6f",
    "ExecuteTime": {
     "end_time": "2023-09-17T16:04:27.817895400Z",
     "start_time": "2023-09-17T16:04:27.793866200Z"
    }
   },
   "outputs": [
    {
     "data": {
      "text/plain": "  booking_date   user sales channel user_country origin_airport company\n0   2018-11-01  user5        online          NaN            MAD      I2\n1   2018-11-01  user7        online          NaN            DUB      I2\n2   2018-11-02  user4        online          NaN            TFS      I2\n3   2018-10-29  user8        online          NaN            MAD      I2\n4   2018-11-01  user7   call center          NaN            LPA      I2",
      "text/html": "<div>\n<style scoped>\n    .dataframe tbody tr th:only-of-type {\n        vertical-align: middle;\n    }\n\n    .dataframe tbody tr th {\n        vertical-align: top;\n    }\n\n    .dataframe thead th {\n        text-align: right;\n    }\n</style>\n<table border=\"1\" class=\"dataframe\">\n  <thead>\n    <tr style=\"text-align: right;\">\n      <th></th>\n      <th>booking_date</th>\n      <th>user</th>\n      <th>sales channel</th>\n      <th>user_country</th>\n      <th>origin_airport</th>\n      <th>company</th>\n    </tr>\n  </thead>\n  <tbody>\n    <tr>\n      <th>0</th>\n      <td>2018-11-01</td>\n      <td>user5</td>\n      <td>online</td>\n      <td>NaN</td>\n      <td>MAD</td>\n      <td>I2</td>\n    </tr>\n    <tr>\n      <th>1</th>\n      <td>2018-11-01</td>\n      <td>user7</td>\n      <td>online</td>\n      <td>NaN</td>\n      <td>DUB</td>\n      <td>I2</td>\n    </tr>\n    <tr>\n      <th>2</th>\n      <td>2018-11-02</td>\n      <td>user4</td>\n      <td>online</td>\n      <td>NaN</td>\n      <td>TFS</td>\n      <td>I2</td>\n    </tr>\n    <tr>\n      <th>3</th>\n      <td>2018-10-29</td>\n      <td>user8</td>\n      <td>online</td>\n      <td>NaN</td>\n      <td>MAD</td>\n      <td>I2</td>\n    </tr>\n    <tr>\n      <th>4</th>\n      <td>2018-11-01</td>\n      <td>user7</td>\n      <td>call center</td>\n      <td>NaN</td>\n      <td>LPA</td>\n      <td>I2</td>\n    </tr>\n  </tbody>\n</table>\n</div>"
     },
     "execution_count": 7,
     "metadata": {},
     "output_type": "execute_result"
    }
   ],
   "source": [
    "dat[categorical_vars].head()"
   ]
  },
  {
   "cell_type": "code",
   "execution_count": 8,
   "metadata": {
    "colab": {
     "base_uri": "https://localhost:8080/",
     "height": 273
    },
    "id": "irwM4f9-GIi0",
    "executionInfo": {
     "status": "ok",
     "timestamp": 1694165062809,
     "user_tz": -120,
     "elapsed": 366,
     "user": {
      "displayName": "Jesus Prada",
      "userId": "01990672692810654269"
     }
    },
    "outputId": "364b7a94-0e1c-4c57-b5df-c3dc62e9fd4c",
    "ExecuteTime": {
     "end_time": "2023-09-17T16:04:29.798968600Z",
     "start_time": "2023-09-17T16:04:29.777641900Z"
    }
   },
   "outputs": [
    {
     "data": {
      "text/plain": "   booking_date_2018-10-29  booking_date_2018-10-30  booking_date_2018-10-31  \\\n0                      0.0                      0.0                      0.0   \n1                      0.0                      0.0                      0.0   \n2                      0.0                      0.0                      0.0   \n3                      1.0                      0.0                      0.0   \n4                      0.0                      0.0                      0.0   \n\n   booking_date_2018-11-01  booking_date_2018-11-02  booking_date_2018-11-03  \\\n0                      1.0                      0.0                      0.0   \n1                      1.0                      0.0                      0.0   \n2                      0.0                      1.0                      0.0   \n3                      0.0                      0.0                      0.0   \n4                      1.0                      0.0                      0.0   \n\n   user_user1  user_user10  user_user2  user_user3  ...  origin_airport_SPC  \\\n0         0.0          0.0         0.0         0.0  ...                 0.0   \n1         0.0          0.0         0.0         0.0  ...                 0.0   \n2         0.0          0.0         0.0         0.0  ...                 0.0   \n3         0.0          0.0         0.0         0.0  ...                 0.0   \n4         0.0          0.0         0.0         0.0  ...                 0.0   \n\n   origin_airport_STR  origin_airport_SVQ  origin_airport_TFN  \\\n0                 0.0                 0.0                 0.0   \n1                 0.0                 0.0                 0.0   \n2                 0.0                 0.0                 0.0   \n3                 0.0                 0.0                 0.0   \n4                 0.0                 0.0                 0.0   \n\n   origin_airport_TFS  origin_airport_TLS  origin_airport_TXL  \\\n0                 0.0                 0.0                 0.0   \n1                 0.0                 0.0                 0.0   \n2                 1.0                 0.0                 0.0   \n3                 0.0                 0.0                 0.0   \n4                 0.0                 0.0                 0.0   \n\n   origin_airport_VGO  origin_airport_XRY  company_I2  \n0                 0.0                 0.0         1.0  \n1                 0.0                 0.0         1.0  \n2                 0.0                 0.0         1.0  \n3                 0.0                 0.0         1.0  \n4                 0.0                 0.0         1.0  \n\n[5 rows x 74 columns]",
      "text/html": "<div>\n<style scoped>\n    .dataframe tbody tr th:only-of-type {\n        vertical-align: middle;\n    }\n\n    .dataframe tbody tr th {\n        vertical-align: top;\n    }\n\n    .dataframe thead th {\n        text-align: right;\n    }\n</style>\n<table border=\"1\" class=\"dataframe\">\n  <thead>\n    <tr style=\"text-align: right;\">\n      <th></th>\n      <th>booking_date_2018-10-29</th>\n      <th>booking_date_2018-10-30</th>\n      <th>booking_date_2018-10-31</th>\n      <th>booking_date_2018-11-01</th>\n      <th>booking_date_2018-11-02</th>\n      <th>booking_date_2018-11-03</th>\n      <th>user_user1</th>\n      <th>user_user10</th>\n      <th>user_user2</th>\n      <th>user_user3</th>\n      <th>...</th>\n      <th>origin_airport_SPC</th>\n      <th>origin_airport_STR</th>\n      <th>origin_airport_SVQ</th>\n      <th>origin_airport_TFN</th>\n      <th>origin_airport_TFS</th>\n      <th>origin_airport_TLS</th>\n      <th>origin_airport_TXL</th>\n      <th>origin_airport_VGO</th>\n      <th>origin_airport_XRY</th>\n      <th>company_I2</th>\n    </tr>\n  </thead>\n  <tbody>\n    <tr>\n      <th>0</th>\n      <td>0.0</td>\n      <td>0.0</td>\n      <td>0.0</td>\n      <td>1.0</td>\n      <td>0.0</td>\n      <td>0.0</td>\n      <td>0.0</td>\n      <td>0.0</td>\n      <td>0.0</td>\n      <td>0.0</td>\n      <td>...</td>\n      <td>0.0</td>\n      <td>0.0</td>\n      <td>0.0</td>\n      <td>0.0</td>\n      <td>0.0</td>\n      <td>0.0</td>\n      <td>0.0</td>\n      <td>0.0</td>\n      <td>0.0</td>\n      <td>1.0</td>\n    </tr>\n    <tr>\n      <th>1</th>\n      <td>0.0</td>\n      <td>0.0</td>\n      <td>0.0</td>\n      <td>1.0</td>\n      <td>0.0</td>\n      <td>0.0</td>\n      <td>0.0</td>\n      <td>0.0</td>\n      <td>0.0</td>\n      <td>0.0</td>\n      <td>...</td>\n      <td>0.0</td>\n      <td>0.0</td>\n      <td>0.0</td>\n      <td>0.0</td>\n      <td>0.0</td>\n      <td>0.0</td>\n      <td>0.0</td>\n      <td>0.0</td>\n      <td>0.0</td>\n      <td>1.0</td>\n    </tr>\n    <tr>\n      <th>2</th>\n      <td>0.0</td>\n      <td>0.0</td>\n      <td>0.0</td>\n      <td>0.0</td>\n      <td>1.0</td>\n      <td>0.0</td>\n      <td>0.0</td>\n      <td>0.0</td>\n      <td>0.0</td>\n      <td>0.0</td>\n      <td>...</td>\n      <td>0.0</td>\n      <td>0.0</td>\n      <td>0.0</td>\n      <td>0.0</td>\n      <td>1.0</td>\n      <td>0.0</td>\n      <td>0.0</td>\n      <td>0.0</td>\n      <td>0.0</td>\n      <td>1.0</td>\n    </tr>\n    <tr>\n      <th>3</th>\n      <td>1.0</td>\n      <td>0.0</td>\n      <td>0.0</td>\n      <td>0.0</td>\n      <td>0.0</td>\n      <td>0.0</td>\n      <td>0.0</td>\n      <td>0.0</td>\n      <td>0.0</td>\n      <td>0.0</td>\n      <td>...</td>\n      <td>0.0</td>\n      <td>0.0</td>\n      <td>0.0</td>\n      <td>0.0</td>\n      <td>0.0</td>\n      <td>0.0</td>\n      <td>0.0</td>\n      <td>0.0</td>\n      <td>0.0</td>\n      <td>1.0</td>\n    </tr>\n    <tr>\n      <th>4</th>\n      <td>0.0</td>\n      <td>0.0</td>\n      <td>0.0</td>\n      <td>1.0</td>\n      <td>0.0</td>\n      <td>0.0</td>\n      <td>0.0</td>\n      <td>0.0</td>\n      <td>0.0</td>\n      <td>0.0</td>\n      <td>...</td>\n      <td>0.0</td>\n      <td>0.0</td>\n      <td>0.0</td>\n      <td>0.0</td>\n      <td>0.0</td>\n      <td>0.0</td>\n      <td>0.0</td>\n      <td>0.0</td>\n      <td>0.0</td>\n      <td>1.0</td>\n    </tr>\n  </tbody>\n</table>\n<p>5 rows × 74 columns</p>\n</div>"
     },
     "execution_count": 8,
     "metadata": {},
     "output_type": "execute_result"
    }
   ],
   "source": [
    "dat_ohe.head()"
   ]
  },
  {
   "cell_type": "markdown",
   "metadata": {
    "id": "PanfLuRHGIi1"
   },
   "source": [
    "If you want to drop the redundant column you must specify the drop argument"
   ]
  },
  {
   "cell_type": "code",
   "execution_count": 9,
   "metadata": {
    "id": "sDOJTtWrGIi1",
    "ExecuteTime": {
     "end_time": "2023-09-17T16:04:32.536619700Z",
     "start_time": "2023-09-17T16:04:32.519053600Z"
    }
   },
   "outputs": [],
   "source": [
    "ohe = OneHotEncoder(drop = 'first', sparse_output = False)"
   ]
  },
  {
   "cell_type": "markdown",
   "metadata": {
    "id": "b53Ufgs0GIi1"
   },
   "source": [
    "Recover numerical variables."
   ]
  },
  {
   "cell_type": "code",
   "execution_count": 10,
   "metadata": {
    "id": "86F8JHCAGIi1",
    "ExecuteTime": {
     "end_time": "2023-09-17T16:04:34.104621Z",
     "start_time": "2023-09-17T16:04:34.082069900Z"
    }
   },
   "outputs": [],
   "source": [
    "dat_new = pd.concat((dat[numerical_vars], dat_ohe), axis=1)"
   ]
  },
  {
   "cell_type": "code",
   "execution_count": 11,
   "metadata": {
    "colab": {
     "base_uri": "https://localhost:8080/",
     "height": 444
    },
    "id": "LzVRq_RKGIi1",
    "executionInfo": {
     "status": "ok",
     "timestamp": 1694165165490,
     "user_tz": -120,
     "elapsed": 387,
     "user": {
      "displayName": "Jesus Prada",
      "userId": "01990672692810654269"
     }
    },
    "outputId": "458ef58b-9cbe-497f-a05b-de481d655a48",
    "ExecuteTime": {
     "end_time": "2023-09-17T16:04:35.051953800Z",
     "start_time": "2023-09-17T16:04:35.017316600Z"
    }
   },
   "outputs": [
    {
     "data": {
      "text/plain": "          price  index  booking_date_2018-10-29  booking_date_2018-10-30  \\\n0     58.200001      1                      0.0                      0.0   \n1    147.500000      2                      0.0                      0.0   \n2     24.049999      3                      0.0                      0.0   \n3     59.709999      4                      1.0                      0.0   \n4     37.299999      5                      0.0                      0.0   \n..          ...    ...                      ...                      ...   \n995   99.849998    996                      0.0                      0.0   \n996   34.610001    997                      0.0                      0.0   \n997   49.880001    998                      0.0                      1.0   \n998  152.960007    999                      0.0                      0.0   \n999   98.339996   1000                      0.0                      0.0   \n\n     booking_date_2018-10-31  booking_date_2018-11-01  \\\n0                        0.0                      1.0   \n1                        0.0                      1.0   \n2                        0.0                      0.0   \n3                        0.0                      0.0   \n4                        0.0                      1.0   \n..                       ...                      ...   \n995                      0.0                      1.0   \n996                      0.0                      1.0   \n997                      0.0                      0.0   \n998                      0.0                      0.0   \n999                      0.0                      1.0   \n\n     booking_date_2018-11-02  booking_date_2018-11-03  user_user1  \\\n0                        0.0                      0.0         0.0   \n1                        0.0                      0.0         0.0   \n2                        1.0                      0.0         0.0   \n3                        0.0                      0.0         0.0   \n4                        0.0                      0.0         0.0   \n..                       ...                      ...         ...   \n995                      0.0                      0.0         0.0   \n996                      0.0                      0.0         0.0   \n997                      0.0                      0.0         0.0   \n998                      1.0                      0.0         0.0   \n999                      0.0                      0.0         0.0   \n\n     user_user10  ...  origin_airport_SPC  origin_airport_STR  \\\n0            0.0  ...                 0.0                 0.0   \n1            0.0  ...                 0.0                 0.0   \n2            0.0  ...                 0.0                 0.0   \n3            0.0  ...                 0.0                 0.0   \n4            0.0  ...                 0.0                 0.0   \n..           ...  ...                 ...                 ...   \n995          0.0  ...                 0.0                 0.0   \n996          1.0  ...                 0.0                 0.0   \n997          0.0  ...                 0.0                 0.0   \n998          1.0  ...                 0.0                 0.0   \n999          0.0  ...                 0.0                 0.0   \n\n     origin_airport_SVQ  origin_airport_TFN  origin_airport_TFS  \\\n0                   0.0                 0.0                 0.0   \n1                   0.0                 0.0                 0.0   \n2                   0.0                 0.0                 1.0   \n3                   0.0                 0.0                 0.0   \n4                   0.0                 0.0                 0.0   \n..                  ...                 ...                 ...   \n995                 0.0                 0.0                 0.0   \n996                 1.0                 0.0                 0.0   \n997                 0.0                 0.0                 0.0   \n998                 0.0                 0.0                 0.0   \n999                 0.0                 0.0                 0.0   \n\n     origin_airport_TLS  origin_airport_TXL  origin_airport_VGO  \\\n0                   0.0                 0.0                 0.0   \n1                   0.0                 0.0                 0.0   \n2                   0.0                 0.0                 0.0   \n3                   0.0                 0.0                 0.0   \n4                   0.0                 0.0                 0.0   \n..                  ...                 ...                 ...   \n995                 0.0                 0.0                 0.0   \n996                 0.0                 0.0                 0.0   \n997                 0.0                 0.0                 0.0   \n998                 0.0                 0.0                 0.0   \n999                 0.0                 0.0                 0.0   \n\n     origin_airport_XRY  company_I2  \n0                   0.0         1.0  \n1                   0.0         1.0  \n2                   0.0         1.0  \n3                   0.0         1.0  \n4                   0.0         1.0  \n..                  ...         ...  \n995                 0.0         1.0  \n996                 0.0         1.0  \n997                 0.0         1.0  \n998                 0.0         1.0  \n999                 0.0         1.0  \n\n[1000 rows x 76 columns]",
      "text/html": "<div>\n<style scoped>\n    .dataframe tbody tr th:only-of-type {\n        vertical-align: middle;\n    }\n\n    .dataframe tbody tr th {\n        vertical-align: top;\n    }\n\n    .dataframe thead th {\n        text-align: right;\n    }\n</style>\n<table border=\"1\" class=\"dataframe\">\n  <thead>\n    <tr style=\"text-align: right;\">\n      <th></th>\n      <th>price</th>\n      <th>index</th>\n      <th>booking_date_2018-10-29</th>\n      <th>booking_date_2018-10-30</th>\n      <th>booking_date_2018-10-31</th>\n      <th>booking_date_2018-11-01</th>\n      <th>booking_date_2018-11-02</th>\n      <th>booking_date_2018-11-03</th>\n      <th>user_user1</th>\n      <th>user_user10</th>\n      <th>...</th>\n      <th>origin_airport_SPC</th>\n      <th>origin_airport_STR</th>\n      <th>origin_airport_SVQ</th>\n      <th>origin_airport_TFN</th>\n      <th>origin_airport_TFS</th>\n      <th>origin_airport_TLS</th>\n      <th>origin_airport_TXL</th>\n      <th>origin_airport_VGO</th>\n      <th>origin_airport_XRY</th>\n      <th>company_I2</th>\n    </tr>\n  </thead>\n  <tbody>\n    <tr>\n      <th>0</th>\n      <td>58.200001</td>\n      <td>1</td>\n      <td>0.0</td>\n      <td>0.0</td>\n      <td>0.0</td>\n      <td>1.0</td>\n      <td>0.0</td>\n      <td>0.0</td>\n      <td>0.0</td>\n      <td>0.0</td>\n      <td>...</td>\n      <td>0.0</td>\n      <td>0.0</td>\n      <td>0.0</td>\n      <td>0.0</td>\n      <td>0.0</td>\n      <td>0.0</td>\n      <td>0.0</td>\n      <td>0.0</td>\n      <td>0.0</td>\n      <td>1.0</td>\n    </tr>\n    <tr>\n      <th>1</th>\n      <td>147.500000</td>\n      <td>2</td>\n      <td>0.0</td>\n      <td>0.0</td>\n      <td>0.0</td>\n      <td>1.0</td>\n      <td>0.0</td>\n      <td>0.0</td>\n      <td>0.0</td>\n      <td>0.0</td>\n      <td>...</td>\n      <td>0.0</td>\n      <td>0.0</td>\n      <td>0.0</td>\n      <td>0.0</td>\n      <td>0.0</td>\n      <td>0.0</td>\n      <td>0.0</td>\n      <td>0.0</td>\n      <td>0.0</td>\n      <td>1.0</td>\n    </tr>\n    <tr>\n      <th>2</th>\n      <td>24.049999</td>\n      <td>3</td>\n      <td>0.0</td>\n      <td>0.0</td>\n      <td>0.0</td>\n      <td>0.0</td>\n      <td>1.0</td>\n      <td>0.0</td>\n      <td>0.0</td>\n      <td>0.0</td>\n      <td>...</td>\n      <td>0.0</td>\n      <td>0.0</td>\n      <td>0.0</td>\n      <td>0.0</td>\n      <td>1.0</td>\n      <td>0.0</td>\n      <td>0.0</td>\n      <td>0.0</td>\n      <td>0.0</td>\n      <td>1.0</td>\n    </tr>\n    <tr>\n      <th>3</th>\n      <td>59.709999</td>\n      <td>4</td>\n      <td>1.0</td>\n      <td>0.0</td>\n      <td>0.0</td>\n      <td>0.0</td>\n      <td>0.0</td>\n      <td>0.0</td>\n      <td>0.0</td>\n      <td>0.0</td>\n      <td>...</td>\n      <td>0.0</td>\n      <td>0.0</td>\n      <td>0.0</td>\n      <td>0.0</td>\n      <td>0.0</td>\n      <td>0.0</td>\n      <td>0.0</td>\n      <td>0.0</td>\n      <td>0.0</td>\n      <td>1.0</td>\n    </tr>\n    <tr>\n      <th>4</th>\n      <td>37.299999</td>\n      <td>5</td>\n      <td>0.0</td>\n      <td>0.0</td>\n      <td>0.0</td>\n      <td>1.0</td>\n      <td>0.0</td>\n      <td>0.0</td>\n      <td>0.0</td>\n      <td>0.0</td>\n      <td>...</td>\n      <td>0.0</td>\n      <td>0.0</td>\n      <td>0.0</td>\n      <td>0.0</td>\n      <td>0.0</td>\n      <td>0.0</td>\n      <td>0.0</td>\n      <td>0.0</td>\n      <td>0.0</td>\n      <td>1.0</td>\n    </tr>\n    <tr>\n      <th>...</th>\n      <td>...</td>\n      <td>...</td>\n      <td>...</td>\n      <td>...</td>\n      <td>...</td>\n      <td>...</td>\n      <td>...</td>\n      <td>...</td>\n      <td>...</td>\n      <td>...</td>\n      <td>...</td>\n      <td>...</td>\n      <td>...</td>\n      <td>...</td>\n      <td>...</td>\n      <td>...</td>\n      <td>...</td>\n      <td>...</td>\n      <td>...</td>\n      <td>...</td>\n      <td>...</td>\n    </tr>\n    <tr>\n      <th>995</th>\n      <td>99.849998</td>\n      <td>996</td>\n      <td>0.0</td>\n      <td>0.0</td>\n      <td>0.0</td>\n      <td>1.0</td>\n      <td>0.0</td>\n      <td>0.0</td>\n      <td>0.0</td>\n      <td>0.0</td>\n      <td>...</td>\n      <td>0.0</td>\n      <td>0.0</td>\n      <td>0.0</td>\n      <td>0.0</td>\n      <td>0.0</td>\n      <td>0.0</td>\n      <td>0.0</td>\n      <td>0.0</td>\n      <td>0.0</td>\n      <td>1.0</td>\n    </tr>\n    <tr>\n      <th>996</th>\n      <td>34.610001</td>\n      <td>997</td>\n      <td>0.0</td>\n      <td>0.0</td>\n      <td>0.0</td>\n      <td>1.0</td>\n      <td>0.0</td>\n      <td>0.0</td>\n      <td>0.0</td>\n      <td>1.0</td>\n      <td>...</td>\n      <td>0.0</td>\n      <td>0.0</td>\n      <td>1.0</td>\n      <td>0.0</td>\n      <td>0.0</td>\n      <td>0.0</td>\n      <td>0.0</td>\n      <td>0.0</td>\n      <td>0.0</td>\n      <td>1.0</td>\n    </tr>\n    <tr>\n      <th>997</th>\n      <td>49.880001</td>\n      <td>998</td>\n      <td>0.0</td>\n      <td>1.0</td>\n      <td>0.0</td>\n      <td>0.0</td>\n      <td>0.0</td>\n      <td>0.0</td>\n      <td>0.0</td>\n      <td>0.0</td>\n      <td>...</td>\n      <td>0.0</td>\n      <td>0.0</td>\n      <td>0.0</td>\n      <td>0.0</td>\n      <td>0.0</td>\n      <td>0.0</td>\n      <td>0.0</td>\n      <td>0.0</td>\n      <td>0.0</td>\n      <td>1.0</td>\n    </tr>\n    <tr>\n      <th>998</th>\n      <td>152.960007</td>\n      <td>999</td>\n      <td>0.0</td>\n      <td>0.0</td>\n      <td>0.0</td>\n      <td>0.0</td>\n      <td>1.0</td>\n      <td>0.0</td>\n      <td>0.0</td>\n      <td>1.0</td>\n      <td>...</td>\n      <td>0.0</td>\n      <td>0.0</td>\n      <td>0.0</td>\n      <td>0.0</td>\n      <td>0.0</td>\n      <td>0.0</td>\n      <td>0.0</td>\n      <td>0.0</td>\n      <td>0.0</td>\n      <td>1.0</td>\n    </tr>\n    <tr>\n      <th>999</th>\n      <td>98.339996</td>\n      <td>1000</td>\n      <td>0.0</td>\n      <td>0.0</td>\n      <td>0.0</td>\n      <td>1.0</td>\n      <td>0.0</td>\n      <td>0.0</td>\n      <td>0.0</td>\n      <td>0.0</td>\n      <td>...</td>\n      <td>0.0</td>\n      <td>0.0</td>\n      <td>0.0</td>\n      <td>0.0</td>\n      <td>0.0</td>\n      <td>0.0</td>\n      <td>0.0</td>\n      <td>0.0</td>\n      <td>0.0</td>\n      <td>1.0</td>\n    </tr>\n  </tbody>\n</table>\n<p>1000 rows × 76 columns</p>\n</div>"
     },
     "execution_count": 11,
     "metadata": {},
     "output_type": "execute_result"
    }
   ],
   "source": [
    "dat_new"
   ]
  },
  {
   "cell_type": "code",
   "execution_count": 12,
   "metadata": {
    "colab": {
     "base_uri": "https://localhost:8080/"
    },
    "id": "mUdjVMT7GIi1",
    "executionInfo": {
     "status": "ok",
     "timestamp": 1694165173050,
     "user_tz": -120,
     "elapsed": 337,
     "user": {
      "displayName": "Jesus Prada",
      "userId": "01990672692810654269"
     }
    },
    "outputId": "e953595e-905d-4bf3-c69d-b1ed9b0e77ee",
    "ExecuteTime": {
     "end_time": "2023-09-17T16:04:38.278255Z",
     "start_time": "2023-09-17T16:04:38.269225Z"
    }
   },
   "outputs": [
    {
     "data": {
      "text/plain": "price                      float64\nindex                        int64\nbooking_date_2018-10-29    float64\nbooking_date_2018-10-30    float64\nbooking_date_2018-10-31    float64\n                            ...   \norigin_airport_TLS         float64\norigin_airport_TXL         float64\norigin_airport_VGO         float64\norigin_airport_XRY         float64\ncompany_I2                 float64\nLength: 76, dtype: object"
     },
     "execution_count": 12,
     "metadata": {},
     "output_type": "execute_result"
    }
   ],
   "source": [
    "dat_new.dtypes"
   ]
  },
  {
   "cell_type": "markdown",
   "metadata": {
    "id": "7hP02No0GIi1"
   },
   "source": [
    "If you want to use LabelEncoder (you shouldn't ;p)"
   ]
  },
  {
   "cell_type": "code",
   "execution_count": 13,
   "metadata": {
    "id": "HfksRme6GIi2",
    "ExecuteTime": {
     "end_time": "2023-09-17T16:04:40.240928500Z",
     "start_time": "2023-09-17T16:04:40.202812900Z"
    }
   },
   "outputs": [],
   "source": [
    "from sklearn.preprocessing import LabelEncoder"
   ]
  },
  {
   "cell_type": "code",
   "execution_count": 14,
   "metadata": {
    "id": "sYbfl3ANGIi2",
    "ExecuteTime": {
     "end_time": "2023-09-17T16:04:56.630879900Z",
     "start_time": "2023-09-17T16:04:56.618087Z"
    }
   },
   "outputs": [],
   "source": [
    "# 3 defining the model\n",
    "ohe = LabelEncoder()\n",
    "\n",
    "# Predicting\n",
    "new_column = ohe.fit_transform(dat['sales channel'])"
   ]
  },
  {
   "cell_type": "code",
   "execution_count": 15,
   "metadata": {
    "colab": {
     "base_uri": "https://localhost:8080/"
    },
    "id": "imXGez8-GIi2",
    "executionInfo": {
     "status": "ok",
     "timestamp": 1694165185119,
     "user_tz": -120,
     "elapsed": 340,
     "user": {
      "displayName": "Jesus Prada",
      "userId": "01990672692810654269"
     }
    },
    "outputId": "35db5107-7000-4bdd-b38e-8c3e28fed2df",
    "ExecuteTime": {
     "end_time": "2023-09-17T16:04:58.480194800Z",
     "start_time": "2023-09-17T16:04:58.471593600Z"
    }
   },
   "outputs": [
    {
     "data": {
      "text/plain": "array([1, 1, 1, 1, 0, 2, 1, 1, 1, 1, 1, 1, 1, 2, 1, 1, 2, 1, 1, 1, 1, 2,\n       1, 1, 1, 1, 1, 1, 1, 2, 1, 1, 2, 1, 1, 1, 2, 2, 2, 1, 0, 2, 2, 2,\n       1, 1, 2, 2, 1, 2, 1, 1, 1, 2, 2, 1, 1, 1, 0, 1, 2, 1, 1, 1, 1, 1,\n       1, 1, 2, 1, 2, 1, 2, 2, 1, 2, 1, 2, 1, 1, 1, 1, 1, 2, 1, 1, 1, 1,\n       1, 1, 1, 1, 1, 1, 1, 1, 1, 2, 1, 2, 1, 1, 1, 1, 1, 1, 1, 2, 1, 2,\n       2, 1, 1, 1, 1, 1, 1, 1, 1, 1, 1, 1, 1, 2, 2, 1, 1, 2, 1, 2, 1, 1,\n       1, 1, 1, 1, 2, 2, 2, 1, 1, 1, 1, 1, 2, 2, 2, 1, 2, 0, 1, 1, 2, 2,\n       1, 2, 1, 1, 1, 2, 1, 1, 2, 2, 1, 2, 1, 1, 1, 1, 1, 1, 1, 2, 2, 2,\n       1, 1, 1, 1, 2, 2, 2, 0, 2, 1, 1, 1, 1, 1, 1, 2, 2, 0, 1, 2, 2, 1,\n       2, 1, 2, 1, 1, 2, 0, 1, 2, 1, 2, 1, 2, 1, 1, 2, 2, 1, 1, 1, 1, 1,\n       1, 0, 1, 2, 1, 2, 2, 1, 2, 1, 2, 1, 2, 1, 1, 1, 1, 1, 1, 2, 2, 2,\n       0, 1, 1, 1, 1, 2, 1, 2, 1, 1, 2, 1, 2, 1, 1, 2, 1, 1, 1, 1, 1, 1,\n       2, 1, 1, 2, 1, 1, 0, 1, 2, 1, 1, 1, 1, 2, 2, 1, 2, 1, 1, 1, 1, 2,\n       2, 1, 2, 1, 1, 1, 1, 2, 0, 1, 1, 1, 1, 1, 2, 1, 2, 1, 1, 2, 1, 1,\n       1, 1, 1, 0, 2, 1, 2, 1, 1, 1, 2, 1, 1, 1, 2, 1, 1, 1, 1, 1, 1, 1,\n       0, 1, 1, 1, 2, 1, 2, 2, 2, 1, 0, 2, 2, 2, 2, 1, 2, 2, 1, 2, 1, 2,\n       2, 1, 1, 1, 2, 1, 2, 1, 2, 1, 1, 1, 0, 1, 1, 1, 1, 1, 1, 2, 1, 2,\n       0, 1, 1, 1, 0, 1, 1, 2, 1, 1, 2, 2, 1, 2, 2, 1, 1, 1, 1, 1, 1, 2,\n       2, 1, 1, 1, 1, 1, 1, 1, 2, 1, 2, 2, 1, 2, 0, 2, 1, 1, 1, 2, 1, 1,\n       1, 2, 1, 2, 2, 1, 1, 1, 2, 1, 1, 1, 1, 2, 1, 1, 2, 1, 1, 2, 2, 2,\n       1, 1, 1, 1, 1, 2, 0, 2, 1, 1, 1, 1, 2, 1, 2, 2, 1, 1, 1, 2, 2, 2,\n       1, 1, 2, 2, 1, 1, 1, 1, 1, 2, 2, 0, 1, 1, 1, 1, 1, 1, 1, 2, 1, 1,\n       1, 1, 1, 1, 1, 2, 1, 0, 2, 1, 2, 1, 1, 1, 2, 2, 1, 1, 1, 1, 1, 1,\n       1, 1, 1, 1, 1, 0, 2, 1, 2, 2, 1, 1, 0, 2, 2, 1, 2, 2, 1, 2, 1, 1,\n       1, 1, 2, 2, 2, 1, 2, 1, 1, 2, 1, 2, 2, 0, 1, 1, 2, 2, 2, 2, 1, 1,\n       1, 2, 1, 1, 2, 1, 1, 1, 1, 1, 2, 2, 1, 2, 2, 1, 2, 1, 1, 1, 0, 1,\n       1, 2, 1, 2, 2, 1, 1, 1, 2, 1, 1, 0, 1, 1, 1, 0, 2, 2, 1, 1, 1, 1,\n       1, 1, 2, 2, 1, 1, 1, 0, 2, 2, 2, 1, 1, 2, 1, 1, 1, 1, 1, 1, 1, 1,\n       1, 1, 2, 1, 1, 1, 1, 1, 1, 1, 1, 1, 1, 1, 2, 1, 1, 1, 1, 1, 1, 2,\n       1, 2, 2, 1, 1, 2, 1, 2, 1, 1, 1, 1, 2, 2, 2, 1, 2, 1, 1, 2, 1, 2,\n       1, 1, 2, 2, 1, 2, 1, 1, 2, 1, 1, 2, 1, 1, 1, 1, 1, 2, 2, 1, 2, 1,\n       1, 2, 1, 1, 1, 1, 1, 2, 1, 1, 2, 1, 2, 2, 1, 2, 2, 1, 1, 1, 2, 1,\n       1, 2, 2, 1, 2, 1, 1, 1, 1, 2, 0, 1, 1, 2, 1, 1, 1, 1, 1, 2, 2, 0,\n       0, 1, 1, 1, 1, 1, 2, 1, 1, 0, 1, 1, 1, 2, 1, 2, 1, 2, 1, 2, 1, 1,\n       2, 2, 2, 1, 1, 1, 2, 1, 2, 1, 1, 1, 1, 2, 2, 1, 2, 2, 1, 2, 1, 1,\n       1, 1, 1, 1, 1, 1, 1, 2, 2, 2, 1, 2, 1, 1, 1, 1, 2, 1, 1, 1, 1, 2,\n       2, 1, 2, 1, 1, 1, 1, 1, 1, 2, 1, 2, 2, 2, 0, 1, 2, 1, 1, 1, 1, 1,\n       2, 1, 1, 1, 1, 1, 2, 1, 2, 1, 1, 2, 2, 2, 2, 1, 2, 2, 1, 1, 1, 2,\n       1, 1, 1, 2, 2, 2, 1, 1, 2, 1, 1, 2, 1, 2, 1, 2, 0, 1, 1, 1, 1, 2,\n       1, 2, 2, 1, 2, 2, 1, 2, 1, 2, 1, 2, 1, 1, 2, 1, 1, 2, 2, 2, 2, 1,\n       2, 1, 2, 1, 2, 2, 1, 1, 1, 1, 1, 1, 2, 1, 1, 1, 1, 2, 2, 1, 2, 1,\n       1, 1, 1, 1, 1, 1, 1, 1, 1, 0, 1, 2, 2, 2, 1, 2, 1, 2, 2, 1, 1, 2,\n       2, 1, 2, 2, 2, 1, 2, 1, 2, 1, 2, 1, 2, 2, 2, 2, 2, 2, 2, 1, 2, 2,\n       1, 2, 1, 1, 1, 1, 1, 1, 2, 2, 2, 2, 1, 1, 1, 1, 2, 1, 2, 1, 1, 1,\n       2, 2, 0, 2, 1, 1, 2, 2, 2, 1, 1, 1, 2, 2, 1, 1, 1, 2, 1, 2, 2, 2,\n       1, 1, 1, 1, 1, 1, 1, 1, 1, 1])"
     },
     "execution_count": 15,
     "metadata": {},
     "output_type": "execute_result"
    }
   ],
   "source": [
    "new_column"
   ]
  },
  {
   "cell_type": "code",
   "execution_count": 16,
   "metadata": {
    "colab": {
     "base_uri": "https://localhost:8080/",
     "height": 424
    },
    "id": "y2O_ti7xGIi2",
    "executionInfo": {
     "status": "ok",
     "timestamp": 1694165187497,
     "user_tz": -120,
     "elapsed": 340,
     "user": {
      "displayName": "Jesus Prada",
      "userId": "01990672692810654269"
     }
    },
    "outputId": "12da9cf4-2c9a-4e7b-adcb-45651fb81d62",
    "ExecuteTime": {
     "end_time": "2023-09-17T16:05:00.564829400Z",
     "start_time": "2023-09-17T16:05:00.553460700Z"
    }
   },
   "outputs": [
    {
     "data": {
      "text/plain": "       user booking_date origin_airport       price  sales channel company  \\\n0     user5   2018-11-01            MAD   58.200001              1      I2   \n1     user7   2018-11-01            DUB  147.500000              1      I2   \n2     user4   2018-11-02            TFS   24.049999              1      I2   \n3     user8   2018-10-29            MAD   59.709999              1      I2   \n4     user7   2018-11-01            LPA   37.299999              0      I2   \n..      ...          ...            ...         ...            ...     ...   \n995   user2   2018-11-01            JMK   99.849998              1      I2   \n996  user10   2018-11-01            SVQ   34.610001              1      I2   \n997   user4   2018-10-30            MAD   49.880001              1      I2   \n998  user10   2018-11-02            CDG  152.960007              1      I2   \n999   user6   2018-11-01            MAD   98.339996              1      I2   \n\n    user_country  index  \n0            NaN      1  \n1            NaN      2  \n2            NaN      3  \n3            NaN      4  \n4            NaN      5  \n..           ...    ...  \n995          NaN    996  \n996          NaN    997  \n997          NaN    998  \n998          NaN    999  \n999          NaN   1000  \n\n[1000 rows x 8 columns]",
      "text/html": "<div>\n<style scoped>\n    .dataframe tbody tr th:only-of-type {\n        vertical-align: middle;\n    }\n\n    .dataframe tbody tr th {\n        vertical-align: top;\n    }\n\n    .dataframe thead th {\n        text-align: right;\n    }\n</style>\n<table border=\"1\" class=\"dataframe\">\n  <thead>\n    <tr style=\"text-align: right;\">\n      <th></th>\n      <th>user</th>\n      <th>booking_date</th>\n      <th>origin_airport</th>\n      <th>price</th>\n      <th>sales channel</th>\n      <th>company</th>\n      <th>user_country</th>\n      <th>index</th>\n    </tr>\n  </thead>\n  <tbody>\n    <tr>\n      <th>0</th>\n      <td>user5</td>\n      <td>2018-11-01</td>\n      <td>MAD</td>\n      <td>58.200001</td>\n      <td>1</td>\n      <td>I2</td>\n      <td>NaN</td>\n      <td>1</td>\n    </tr>\n    <tr>\n      <th>1</th>\n      <td>user7</td>\n      <td>2018-11-01</td>\n      <td>DUB</td>\n      <td>147.500000</td>\n      <td>1</td>\n      <td>I2</td>\n      <td>NaN</td>\n      <td>2</td>\n    </tr>\n    <tr>\n      <th>2</th>\n      <td>user4</td>\n      <td>2018-11-02</td>\n      <td>TFS</td>\n      <td>24.049999</td>\n      <td>1</td>\n      <td>I2</td>\n      <td>NaN</td>\n      <td>3</td>\n    </tr>\n    <tr>\n      <th>3</th>\n      <td>user8</td>\n      <td>2018-10-29</td>\n      <td>MAD</td>\n      <td>59.709999</td>\n      <td>1</td>\n      <td>I2</td>\n      <td>NaN</td>\n      <td>4</td>\n    </tr>\n    <tr>\n      <th>4</th>\n      <td>user7</td>\n      <td>2018-11-01</td>\n      <td>LPA</td>\n      <td>37.299999</td>\n      <td>0</td>\n      <td>I2</td>\n      <td>NaN</td>\n      <td>5</td>\n    </tr>\n    <tr>\n      <th>...</th>\n      <td>...</td>\n      <td>...</td>\n      <td>...</td>\n      <td>...</td>\n      <td>...</td>\n      <td>...</td>\n      <td>...</td>\n      <td>...</td>\n    </tr>\n    <tr>\n      <th>995</th>\n      <td>user2</td>\n      <td>2018-11-01</td>\n      <td>JMK</td>\n      <td>99.849998</td>\n      <td>1</td>\n      <td>I2</td>\n      <td>NaN</td>\n      <td>996</td>\n    </tr>\n    <tr>\n      <th>996</th>\n      <td>user10</td>\n      <td>2018-11-01</td>\n      <td>SVQ</td>\n      <td>34.610001</td>\n      <td>1</td>\n      <td>I2</td>\n      <td>NaN</td>\n      <td>997</td>\n    </tr>\n    <tr>\n      <th>997</th>\n      <td>user4</td>\n      <td>2018-10-30</td>\n      <td>MAD</td>\n      <td>49.880001</td>\n      <td>1</td>\n      <td>I2</td>\n      <td>NaN</td>\n      <td>998</td>\n    </tr>\n    <tr>\n      <th>998</th>\n      <td>user10</td>\n      <td>2018-11-02</td>\n      <td>CDG</td>\n      <td>152.960007</td>\n      <td>1</td>\n      <td>I2</td>\n      <td>NaN</td>\n      <td>999</td>\n    </tr>\n    <tr>\n      <th>999</th>\n      <td>user6</td>\n      <td>2018-11-01</td>\n      <td>MAD</td>\n      <td>98.339996</td>\n      <td>1</td>\n      <td>I2</td>\n      <td>NaN</td>\n      <td>1000</td>\n    </tr>\n  </tbody>\n</table>\n<p>1000 rows × 8 columns</p>\n</div>"
     },
     "execution_count": 16,
     "metadata": {},
     "output_type": "execute_result"
    }
   ],
   "source": [
    "dat_new = dat.copy()\n",
    "dat_new['sales channel'] = new_column;\n",
    "dat_new"
   ]
  },
  {
   "cell_type": "code",
   "execution_count": 17,
   "metadata": {
    "colab": {
     "base_uri": "https://localhost:8080/"
    },
    "id": "9e7M5gPWGIi3",
    "executionInfo": {
     "status": "ok",
     "timestamp": 1694165194418,
     "user_tz": -120,
     "elapsed": 339,
     "user": {
      "displayName": "Jesus Prada",
      "userId": "01990672692810654269"
     }
    },
    "outputId": "0cc9463f-e7e6-4a74-e4bc-47a5ba34e550",
    "ExecuteTime": {
     "end_time": "2023-09-17T16:05:03.905987100Z",
     "start_time": "2023-09-17T16:05:03.892453600Z"
    }
   },
   "outputs": [
    {
     "data": {
      "text/plain": "user               object\nbooking_date       object\norigin_airport     object\nprice             float64\nsales channel       int32\ncompany            object\nuser_country       object\nindex               int64\ndtype: object"
     },
     "execution_count": 17,
     "metadata": {},
     "output_type": "execute_result"
    }
   ],
   "source": [
    "dat_new.dtypes"
   ]
  },
  {
   "cell_type": "markdown",
   "metadata": {
    "id": "WwsiZfUrGIi3"
   },
   "source": [
    "## Define Custom Function"
   ]
  },
  {
   "cell_type": "code",
   "execution_count": 18,
   "metadata": {
    "id": "ok6HIa6RGIi3",
    "ExecuteTime": {
     "end_time": "2023-09-17T16:05:10.220703900Z",
     "start_time": "2023-09-17T16:05:10.212659100Z"
    }
   },
   "outputs": [],
   "source": [
    "def one_hot(X, categorical_variables):\n",
    "    # 3 defining the model\n",
    "    ohe = OneHotEncoder(sparse_output = False)\n",
    "\n",
    "    # Training model\n",
    "    ohe.fit([categorical_variables])\n",
    "\n",
    "    # Predicting\n",
    "    X_ohe = pd.DataFrame(ohe.fit_transform(X[categorical_variables]))\n",
    "\n",
    "    # Optional\n",
    "    X_ohe.columns = pd.DataFrame(ohe.get_feature_names_out())\n",
    "\n",
    "    # Final value\n",
    "    X.drop(categorical_variables, axis = 1)\n",
    "    X = pd.concat([X, X_ohe], axis = 1)\n",
    "\n",
    "    return X"
   ]
  },
  {
   "cell_type": "code",
   "execution_count": 19,
   "metadata": {
    "colab": {
     "base_uri": "https://localhost:8080/",
     "height": 478
    },
    "id": "RQ1hxa9QGIi3",
    "executionInfo": {
     "status": "ok",
     "timestamp": 1694165209475,
     "user_tz": -120,
     "elapsed": 7,
     "user": {
      "displayName": "Jesus Prada",
      "userId": "01990672692810654269"
     }
    },
    "outputId": "846e0386-2d74-4609-c1c4-f71959756fb0",
    "ExecuteTime": {
     "end_time": "2023-09-17T16:05:11.931702400Z",
     "start_time": "2023-09-17T16:05:11.893249900Z"
    }
   },
   "outputs": [
    {
     "data": {
      "text/plain": "       user booking_date origin_airport       price sales channel company  \\\n0     user5   2018-11-01            MAD   58.200001        online      I2   \n1     user7   2018-11-01            DUB  147.500000        online      I2   \n2     user4   2018-11-02            TFS   24.049999        online      I2   \n3     user8   2018-10-29            MAD   59.709999        online      I2   \n4     user7   2018-11-01            LPA   37.299999   call center      I2   \n..      ...          ...            ...         ...           ...     ...   \n995   user2   2018-11-01            JMK   99.849998        online      I2   \n996  user10   2018-11-01            SVQ   34.610001        online      I2   \n997   user4   2018-10-30            MAD   49.880001        online      I2   \n998  user10   2018-11-02            CDG  152.960007        online      I2   \n999   user6   2018-11-01            MAD   98.339996        online      I2   \n\n    user_country  index  (booking_date_2018-10-29,)  \\\n0            NaN      1                         0.0   \n1            NaN      2                         0.0   \n2            NaN      3                         0.0   \n3            NaN      4                         1.0   \n4            NaN      5                         0.0   \n..           ...    ...                         ...   \n995          NaN    996                         0.0   \n996          NaN    997                         0.0   \n997          NaN    998                         0.0   \n998          NaN    999                         0.0   \n999          NaN   1000                         0.0   \n\n     (booking_date_2018-10-30,)  ...  (origin_airport_SPC,)  \\\n0                           0.0  ...                    0.0   \n1                           0.0  ...                    0.0   \n2                           0.0  ...                    0.0   \n3                           0.0  ...                    0.0   \n4                           0.0  ...                    0.0   \n..                          ...  ...                    ...   \n995                         0.0  ...                    0.0   \n996                         0.0  ...                    0.0   \n997                         1.0  ...                    0.0   \n998                         0.0  ...                    0.0   \n999                         0.0  ...                    0.0   \n\n     (origin_airport_STR,)  (origin_airport_SVQ,)  (origin_airport_TFN,)  \\\n0                      0.0                    0.0                    0.0   \n1                      0.0                    0.0                    0.0   \n2                      0.0                    0.0                    0.0   \n3                      0.0                    0.0                    0.0   \n4                      0.0                    0.0                    0.0   \n..                     ...                    ...                    ...   \n995                    0.0                    0.0                    0.0   \n996                    0.0                    1.0                    0.0   \n997                    0.0                    0.0                    0.0   \n998                    0.0                    0.0                    0.0   \n999                    0.0                    0.0                    0.0   \n\n     (origin_airport_TFS,)  (origin_airport_TLS,)  (origin_airport_TXL,)  \\\n0                      0.0                    0.0                    0.0   \n1                      0.0                    0.0                    0.0   \n2                      1.0                    0.0                    0.0   \n3                      0.0                    0.0                    0.0   \n4                      0.0                    0.0                    0.0   \n..                     ...                    ...                    ...   \n995                    0.0                    0.0                    0.0   \n996                    0.0                    0.0                    0.0   \n997                    0.0                    0.0                    0.0   \n998                    0.0                    0.0                    0.0   \n999                    0.0                    0.0                    0.0   \n\n     (origin_airport_VGO,)  (origin_airport_XRY,)  (company_I2,)  \n0                      0.0                    0.0            1.0  \n1                      0.0                    0.0            1.0  \n2                      0.0                    0.0            1.0  \n3                      0.0                    0.0            1.0  \n4                      0.0                    0.0            1.0  \n..                     ...                    ...            ...  \n995                    0.0                    0.0            1.0  \n996                    0.0                    0.0            1.0  \n997                    0.0                    0.0            1.0  \n998                    0.0                    0.0            1.0  \n999                    0.0                    0.0            1.0  \n\n[1000 rows x 82 columns]",
      "text/html": "<div>\n<style scoped>\n    .dataframe tbody tr th:only-of-type {\n        vertical-align: middle;\n    }\n\n    .dataframe tbody tr th {\n        vertical-align: top;\n    }\n\n    .dataframe thead th {\n        text-align: right;\n    }\n</style>\n<table border=\"1\" class=\"dataframe\">\n  <thead>\n    <tr style=\"text-align: right;\">\n      <th></th>\n      <th>user</th>\n      <th>booking_date</th>\n      <th>origin_airport</th>\n      <th>price</th>\n      <th>sales channel</th>\n      <th>company</th>\n      <th>user_country</th>\n      <th>index</th>\n      <th>(booking_date_2018-10-29,)</th>\n      <th>(booking_date_2018-10-30,)</th>\n      <th>...</th>\n      <th>(origin_airport_SPC,)</th>\n      <th>(origin_airport_STR,)</th>\n      <th>(origin_airport_SVQ,)</th>\n      <th>(origin_airport_TFN,)</th>\n      <th>(origin_airport_TFS,)</th>\n      <th>(origin_airport_TLS,)</th>\n      <th>(origin_airport_TXL,)</th>\n      <th>(origin_airport_VGO,)</th>\n      <th>(origin_airport_XRY,)</th>\n      <th>(company_I2,)</th>\n    </tr>\n  </thead>\n  <tbody>\n    <tr>\n      <th>0</th>\n      <td>user5</td>\n      <td>2018-11-01</td>\n      <td>MAD</td>\n      <td>58.200001</td>\n      <td>online</td>\n      <td>I2</td>\n      <td>NaN</td>\n      <td>1</td>\n      <td>0.0</td>\n      <td>0.0</td>\n      <td>...</td>\n      <td>0.0</td>\n      <td>0.0</td>\n      <td>0.0</td>\n      <td>0.0</td>\n      <td>0.0</td>\n      <td>0.0</td>\n      <td>0.0</td>\n      <td>0.0</td>\n      <td>0.0</td>\n      <td>1.0</td>\n    </tr>\n    <tr>\n      <th>1</th>\n      <td>user7</td>\n      <td>2018-11-01</td>\n      <td>DUB</td>\n      <td>147.500000</td>\n      <td>online</td>\n      <td>I2</td>\n      <td>NaN</td>\n      <td>2</td>\n      <td>0.0</td>\n      <td>0.0</td>\n      <td>...</td>\n      <td>0.0</td>\n      <td>0.0</td>\n      <td>0.0</td>\n      <td>0.0</td>\n      <td>0.0</td>\n      <td>0.0</td>\n      <td>0.0</td>\n      <td>0.0</td>\n      <td>0.0</td>\n      <td>1.0</td>\n    </tr>\n    <tr>\n      <th>2</th>\n      <td>user4</td>\n      <td>2018-11-02</td>\n      <td>TFS</td>\n      <td>24.049999</td>\n      <td>online</td>\n      <td>I2</td>\n      <td>NaN</td>\n      <td>3</td>\n      <td>0.0</td>\n      <td>0.0</td>\n      <td>...</td>\n      <td>0.0</td>\n      <td>0.0</td>\n      <td>0.0</td>\n      <td>0.0</td>\n      <td>1.0</td>\n      <td>0.0</td>\n      <td>0.0</td>\n      <td>0.0</td>\n      <td>0.0</td>\n      <td>1.0</td>\n    </tr>\n    <tr>\n      <th>3</th>\n      <td>user8</td>\n      <td>2018-10-29</td>\n      <td>MAD</td>\n      <td>59.709999</td>\n      <td>online</td>\n      <td>I2</td>\n      <td>NaN</td>\n      <td>4</td>\n      <td>1.0</td>\n      <td>0.0</td>\n      <td>...</td>\n      <td>0.0</td>\n      <td>0.0</td>\n      <td>0.0</td>\n      <td>0.0</td>\n      <td>0.0</td>\n      <td>0.0</td>\n      <td>0.0</td>\n      <td>0.0</td>\n      <td>0.0</td>\n      <td>1.0</td>\n    </tr>\n    <tr>\n      <th>4</th>\n      <td>user7</td>\n      <td>2018-11-01</td>\n      <td>LPA</td>\n      <td>37.299999</td>\n      <td>call center</td>\n      <td>I2</td>\n      <td>NaN</td>\n      <td>5</td>\n      <td>0.0</td>\n      <td>0.0</td>\n      <td>...</td>\n      <td>0.0</td>\n      <td>0.0</td>\n      <td>0.0</td>\n      <td>0.0</td>\n      <td>0.0</td>\n      <td>0.0</td>\n      <td>0.0</td>\n      <td>0.0</td>\n      <td>0.0</td>\n      <td>1.0</td>\n    </tr>\n    <tr>\n      <th>...</th>\n      <td>...</td>\n      <td>...</td>\n      <td>...</td>\n      <td>...</td>\n      <td>...</td>\n      <td>...</td>\n      <td>...</td>\n      <td>...</td>\n      <td>...</td>\n      <td>...</td>\n      <td>...</td>\n      <td>...</td>\n      <td>...</td>\n      <td>...</td>\n      <td>...</td>\n      <td>...</td>\n      <td>...</td>\n      <td>...</td>\n      <td>...</td>\n      <td>...</td>\n      <td>...</td>\n    </tr>\n    <tr>\n      <th>995</th>\n      <td>user2</td>\n      <td>2018-11-01</td>\n      <td>JMK</td>\n      <td>99.849998</td>\n      <td>online</td>\n      <td>I2</td>\n      <td>NaN</td>\n      <td>996</td>\n      <td>0.0</td>\n      <td>0.0</td>\n      <td>...</td>\n      <td>0.0</td>\n      <td>0.0</td>\n      <td>0.0</td>\n      <td>0.0</td>\n      <td>0.0</td>\n      <td>0.0</td>\n      <td>0.0</td>\n      <td>0.0</td>\n      <td>0.0</td>\n      <td>1.0</td>\n    </tr>\n    <tr>\n      <th>996</th>\n      <td>user10</td>\n      <td>2018-11-01</td>\n      <td>SVQ</td>\n      <td>34.610001</td>\n      <td>online</td>\n      <td>I2</td>\n      <td>NaN</td>\n      <td>997</td>\n      <td>0.0</td>\n      <td>0.0</td>\n      <td>...</td>\n      <td>0.0</td>\n      <td>0.0</td>\n      <td>1.0</td>\n      <td>0.0</td>\n      <td>0.0</td>\n      <td>0.0</td>\n      <td>0.0</td>\n      <td>0.0</td>\n      <td>0.0</td>\n      <td>1.0</td>\n    </tr>\n    <tr>\n      <th>997</th>\n      <td>user4</td>\n      <td>2018-10-30</td>\n      <td>MAD</td>\n      <td>49.880001</td>\n      <td>online</td>\n      <td>I2</td>\n      <td>NaN</td>\n      <td>998</td>\n      <td>0.0</td>\n      <td>1.0</td>\n      <td>...</td>\n      <td>0.0</td>\n      <td>0.0</td>\n      <td>0.0</td>\n      <td>0.0</td>\n      <td>0.0</td>\n      <td>0.0</td>\n      <td>0.0</td>\n      <td>0.0</td>\n      <td>0.0</td>\n      <td>1.0</td>\n    </tr>\n    <tr>\n      <th>998</th>\n      <td>user10</td>\n      <td>2018-11-02</td>\n      <td>CDG</td>\n      <td>152.960007</td>\n      <td>online</td>\n      <td>I2</td>\n      <td>NaN</td>\n      <td>999</td>\n      <td>0.0</td>\n      <td>0.0</td>\n      <td>...</td>\n      <td>0.0</td>\n      <td>0.0</td>\n      <td>0.0</td>\n      <td>0.0</td>\n      <td>0.0</td>\n      <td>0.0</td>\n      <td>0.0</td>\n      <td>0.0</td>\n      <td>0.0</td>\n      <td>1.0</td>\n    </tr>\n    <tr>\n      <th>999</th>\n      <td>user6</td>\n      <td>2018-11-01</td>\n      <td>MAD</td>\n      <td>98.339996</td>\n      <td>online</td>\n      <td>I2</td>\n      <td>NaN</td>\n      <td>1000</td>\n      <td>0.0</td>\n      <td>0.0</td>\n      <td>...</td>\n      <td>0.0</td>\n      <td>0.0</td>\n      <td>0.0</td>\n      <td>0.0</td>\n      <td>0.0</td>\n      <td>0.0</td>\n      <td>0.0</td>\n      <td>0.0</td>\n      <td>0.0</td>\n      <td>1.0</td>\n    </tr>\n  </tbody>\n</table>\n<p>1000 rows × 82 columns</p>\n</div>"
     },
     "execution_count": 19,
     "metadata": {},
     "output_type": "execute_result"
    }
   ],
   "source": [
    "dat_new = one_hot(dat, categorical_vars)\n",
    "dat_new"
   ]
  },
  {
   "cell_type": "markdown",
   "metadata": {
    "id": "htG6vlimGIi4"
   },
   "source": [
    "**Question:** What happens if you hundreds of categorical columns, each one with thousand of categories?"
   ]
  }
 ],
 "metadata": {
  "kernelspec": {
   "display_name": "Python 3",
   "language": "python",
   "name": "python3"
  },
  "language_info": {
   "codemirror_mode": {
    "name": "ipython",
    "version": 3
   },
   "file_extension": ".py",
   "mimetype": "text/x-python",
   "name": "python",
   "nbconvert_exporter": "python",
   "pygments_lexer": "ipython3",
   "version": "3.7.3"
  },
  "colab": {
   "provenance": []
  }
 },
 "nbformat": 4,
 "nbformat_minor": 0
}
