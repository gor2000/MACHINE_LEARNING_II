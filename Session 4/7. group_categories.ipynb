{
 "cells": [
  {
   "cell_type": "code",
   "execution_count": 1,
   "metadata": {
    "id": "enHyha2THeMM",
    "ExecuteTime": {
     "end_time": "2023-09-17T16:05:31.021290400Z",
     "start_time": "2023-09-17T16:05:29.909366900Z"
    }
   },
   "outputs": [],
   "source": [
    "# Load Libraries\n",
    "%matplotlib inline\n",
    "import numpy as np\n",
    "import matplotlib.pyplot as plt\n",
    "from scipy import stats\n",
    "import pandas as pd\n",
    "\n",
    "from sklearn.model_selection import train_test_split\n",
    "from scipy import stats\n",
    "\n",
    "from multiprocessing import cpu_count"
   ]
  },
  {
   "cell_type": "markdown",
   "metadata": {
    "id": "WmSC0qhnHeMN"
   },
   "source": [
    "# Group Categories"
   ]
  },
  {
   "cell_type": "markdown",
   "metadata": {
    "id": "3TM56YJNHeMO"
   },
   "source": [
    "When doing one-hot encoding you can find yourself with a dataset with too many categories, which results in a pre-processed data with an unmanageable number of variables.\n",
    "\n",
    "To avoid this, grouping some of the existing categories can be useful."
   ]
  },
  {
   "cell_type": "markdown",
   "metadata": {
    "id": "AYeZauT3HeMO"
   },
   "source": [
    "## Load Data"
   ]
  },
  {
   "cell_type": "code",
   "execution_count": 2,
   "metadata": {
    "id": "iAxxmUTMHeMP",
    "outputId": "eae17711-de54-419a-be3a-7f6c2d38846c",
    "ExecuteTime": {
     "end_time": "2023-09-17T16:05:38.674516900Z",
     "start_time": "2023-09-17T16:05:38.644704100Z"
    }
   },
   "outputs": [
    {
     "data": {
      "text/plain": "       user booking_date origin_airport       price sales channel company  \\\n0     user5   2018-11-01            MAD   58.200001        online      I2   \n1     user7   2018-11-01            DUB  147.500000        online      I2   \n2     user4   2018-11-02            TFS   24.049999        online      I2   \n3     user8   2018-10-29            MAD   59.709999        online      I2   \n4     user7   2018-11-01            LPA   37.299999   call center      I2   \n..      ...          ...            ...         ...           ...     ...   \n995   user2   2018-11-01            JMK   99.849998        online      I2   \n996  user10   2018-11-01            SVQ   34.610001        online      I2   \n997   user4   2018-10-30            MAD   49.880001        online      I2   \n998  user10   2018-11-02            CDG  152.960007        online      I2   \n999   user6   2018-11-01            MAD   98.339996        online      I2   \n\n    user_country  index  \n0            NaN      1  \n1            NaN      2  \n2            NaN      3  \n3            NaN      4  \n4            NaN      5  \n..           ...    ...  \n995          NaN    996  \n996          NaN    997  \n997          NaN    998  \n998          NaN    999  \n999          NaN   1000  \n\n[1000 rows x 8 columns]",
      "text/html": "<div>\n<style scoped>\n    .dataframe tbody tr th:only-of-type {\n        vertical-align: middle;\n    }\n\n    .dataframe tbody tr th {\n        vertical-align: top;\n    }\n\n    .dataframe thead th {\n        text-align: right;\n    }\n</style>\n<table border=\"1\" class=\"dataframe\">\n  <thead>\n    <tr style=\"text-align: right;\">\n      <th></th>\n      <th>user</th>\n      <th>booking_date</th>\n      <th>origin_airport</th>\n      <th>price</th>\n      <th>sales channel</th>\n      <th>company</th>\n      <th>user_country</th>\n      <th>index</th>\n    </tr>\n  </thead>\n  <tbody>\n    <tr>\n      <th>0</th>\n      <td>user5</td>\n      <td>2018-11-01</td>\n      <td>MAD</td>\n      <td>58.200001</td>\n      <td>online</td>\n      <td>I2</td>\n      <td>NaN</td>\n      <td>1</td>\n    </tr>\n    <tr>\n      <th>1</th>\n      <td>user7</td>\n      <td>2018-11-01</td>\n      <td>DUB</td>\n      <td>147.500000</td>\n      <td>online</td>\n      <td>I2</td>\n      <td>NaN</td>\n      <td>2</td>\n    </tr>\n    <tr>\n      <th>2</th>\n      <td>user4</td>\n      <td>2018-11-02</td>\n      <td>TFS</td>\n      <td>24.049999</td>\n      <td>online</td>\n      <td>I2</td>\n      <td>NaN</td>\n      <td>3</td>\n    </tr>\n    <tr>\n      <th>3</th>\n      <td>user8</td>\n      <td>2018-10-29</td>\n      <td>MAD</td>\n      <td>59.709999</td>\n      <td>online</td>\n      <td>I2</td>\n      <td>NaN</td>\n      <td>4</td>\n    </tr>\n    <tr>\n      <th>4</th>\n      <td>user7</td>\n      <td>2018-11-01</td>\n      <td>LPA</td>\n      <td>37.299999</td>\n      <td>call center</td>\n      <td>I2</td>\n      <td>NaN</td>\n      <td>5</td>\n    </tr>\n    <tr>\n      <th>...</th>\n      <td>...</td>\n      <td>...</td>\n      <td>...</td>\n      <td>...</td>\n      <td>...</td>\n      <td>...</td>\n      <td>...</td>\n      <td>...</td>\n    </tr>\n    <tr>\n      <th>995</th>\n      <td>user2</td>\n      <td>2018-11-01</td>\n      <td>JMK</td>\n      <td>99.849998</td>\n      <td>online</td>\n      <td>I2</td>\n      <td>NaN</td>\n      <td>996</td>\n    </tr>\n    <tr>\n      <th>996</th>\n      <td>user10</td>\n      <td>2018-11-01</td>\n      <td>SVQ</td>\n      <td>34.610001</td>\n      <td>online</td>\n      <td>I2</td>\n      <td>NaN</td>\n      <td>997</td>\n    </tr>\n    <tr>\n      <th>997</th>\n      <td>user4</td>\n      <td>2018-10-30</td>\n      <td>MAD</td>\n      <td>49.880001</td>\n      <td>online</td>\n      <td>I2</td>\n      <td>NaN</td>\n      <td>998</td>\n    </tr>\n    <tr>\n      <th>998</th>\n      <td>user10</td>\n      <td>2018-11-02</td>\n      <td>CDG</td>\n      <td>152.960007</td>\n      <td>online</td>\n      <td>I2</td>\n      <td>NaN</td>\n      <td>999</td>\n    </tr>\n    <tr>\n      <th>999</th>\n      <td>user6</td>\n      <td>2018-11-01</td>\n      <td>MAD</td>\n      <td>98.339996</td>\n      <td>online</td>\n      <td>I2</td>\n      <td>NaN</td>\n      <td>1000</td>\n    </tr>\n  </tbody>\n</table>\n<p>1000 rows × 8 columns</p>\n</div>"
     },
     "execution_count": 2,
     "metadata": {},
     "output_type": "execute_result"
    }
   ],
   "source": [
    "dat = pd.read_csv('../data/userbase.csv', sep = \";\")\n",
    "dat"
   ]
  },
  {
   "cell_type": "markdown",
   "metadata": {
    "id": "1yUQMawgHeMQ"
   },
   "source": [
    "## Check number of categories"
   ]
  },
  {
   "cell_type": "markdown",
   "metadata": {
    "id": "NZpE7iR4HeMQ"
   },
   "source": [
    "Let's count the number of categories of each categorical variable of the dataset."
   ]
  },
  {
   "cell_type": "code",
   "execution_count": 3,
   "metadata": {
    "id": "Edmd3R7qHeMQ",
    "outputId": "581e0c00-0e0c-41f0-e6c0-99bab29bd827",
    "ExecuteTime": {
     "end_time": "2023-09-17T16:05:40.606042900Z",
     "start_time": "2023-09-17T16:05:40.596738700Z"
    }
   },
   "outputs": [
    {
     "data": {
      "text/plain": "['user',\n 'booking_date',\n 'origin_airport',\n 'sales channel',\n 'company',\n 'user_country']"
     },
     "execution_count": 3,
     "metadata": {},
     "output_type": "execute_result"
    }
   ],
   "source": [
    "categorical_variables = dat.columns[dat.dtypes == object].tolist()\n",
    "categorical_variables"
   ]
  },
  {
   "cell_type": "code",
   "execution_count": 4,
   "metadata": {
    "id": "hK_fjyNxHeMR",
    "outputId": "7dd2afdb-b472-4009-99fe-7ef08ba3cba3",
    "ExecuteTime": {
     "end_time": "2023-09-17T16:05:44.059529400Z",
     "start_time": "2023-09-17T16:05:44.049504300Z"
    }
   },
   "outputs": [
    {
     "data": {
      "text/plain": "user              10\nbooking_date       6\norigin_airport    52\nsales channel      3\ncompany            1\nuser_country       2\ndtype: int64"
     },
     "execution_count": 4,
     "metadata": {},
     "output_type": "execute_result"
    }
   ],
   "source": [
    "dat[categorical_variables].apply(lambda x: len(x.unique()))"
   ]
  },
  {
   "cell_type": "markdown",
   "metadata": {
    "id": "hLAS_hxtHeMS"
   },
   "source": [
    "origin_airport has 53 categories. This could be too much..."
   ]
  },
  {
   "cell_type": "markdown",
   "metadata": {
    "id": "8hfo6Q9CHeMT"
   },
   "source": [
    "## Group less frequent categories"
   ]
  },
  {
   "cell_type": "markdown",
   "metadata": {
    "id": "seOAMhTeHeMU"
   },
   "source": [
    "One approach to group categories is to put all the least frequent values on a miscellaneous or OTHERS group. For that, we have to first check the frequency of each category."
   ]
  },
  {
   "cell_type": "code",
   "execution_count": 5,
   "metadata": {
    "scrolled": false,
    "id": "PSsQSyzWHeMU",
    "outputId": "662f6616-28b8-48a7-9006-82c37b6cd615",
    "ExecuteTime": {
     "end_time": "2023-09-17T16:05:46.205221900Z",
     "start_time": "2023-09-17T16:05:46.192924200Z"
    }
   },
   "outputs": [
    {
     "data": {
      "text/plain": "origin_airport\nMAD    50.2\nPMI     5.3\nTFN     5.2\nLPA     4.0\nSVQ     3.4\nSCQ     3.1\nTXL     2.5\nAMS     2.1\nTFS     2.0\nLGW     1.9\nAGP     1.7\nVGO     1.6\nALC     1.4\nIBZ     1.2\nCDG     1.1\nDUB     1.1\nACE     1.0\nSPC     1.0\nFUE     0.9\nMAH     0.8\nCPH     0.8\nNAP     0.7\nNTE     0.6\nNCE     0.5\nDUS     0.5\nMAN     0.5\nXRY     0.5\nLYS     0.5\nSTR     0.4\nJMK     0.4\nTLS     0.4\nFRA     0.2\nGIG     0.2\nLGA     0.2\nCAG     0.2\nBRU     0.2\nRNS     0.2\nSDU     0.1\nKRK     0.1\nCWB     0.1\nBPS     0.1\nCMH     0.1\nGRX     0.1\nOVD     0.1\nRIX     0.1\nMIA     0.1\nBHX     0.1\nCLT     0.1\nPHL     0.1\nGRU     0.1\nCGR     0.1\nBOD     0.1\nName: count, dtype: float64"
     },
     "execution_count": 5,
     "metadata": {},
     "output_type": "execute_result"
    }
   ],
   "source": [
    "frequencies = 100*dat['origin_airport'].value_counts()/dat.shape[0]\n",
    "frequencies"
   ]
  },
  {
   "cell_type": "markdown",
   "metadata": {
    "id": "CDdJsgq7HeMV"
   },
   "source": [
    "Now let's check which categories do not surpass a certain frequency threshold."
   ]
  },
  {
   "cell_type": "code",
   "execution_count": 6,
   "metadata": {
    "id": "5WvLW2aHHeMV",
    "outputId": "74799971-4122-41e5-aff0-99ef1d5f39d1",
    "ExecuteTime": {
     "end_time": "2023-09-17T16:06:00.850229600Z",
     "start_time": "2023-09-17T16:06:00.368788500Z"
    }
   },
   "outputs": [
    {
     "ename": "NameError",
     "evalue": "name 'untouchable' is not defined",
     "output_type": "error",
     "traceback": [
      "\u001B[1;31m---------------------------------------------------------------------------\u001B[0m",
      "\u001B[1;31mNameError\u001B[0m                                 Traceback (most recent call last)",
      "Cell \u001B[1;32mIn[6], line 3\u001B[0m\n\u001B[0;32m      1\u001B[0m threshold \u001B[38;5;241m=\u001B[39m \u001B[38;5;241m0.5\u001B[39m\n\u001B[0;32m      2\u001B[0m least_frequent \u001B[38;5;241m=\u001B[39m frequencies\u001B[38;5;241m.\u001B[39mindex[frequencies \u001B[38;5;241m<\u001B[39m threshold]\u001B[38;5;241m.\u001B[39mto_list()\n\u001B[1;32m----> 3\u001B[0m \u001B[38;5;28mset\u001B[39m(least_frequent) \u001B[38;5;241m-\u001B[39m \u001B[43muntouchable\u001B[49m\n\u001B[0;32m      4\u001B[0m least_frequent\n",
      "\u001B[1;31mNameError\u001B[0m: name 'untouchable' is not defined"
     ]
    }
   ],
   "source": [
    "threshold = 0.5\n",
    "least_frequent = frequencies.index[frequencies < threshold].to_list()\n",
    "set(least_frequent) - untouchable\n",
    "least_frequent"
   ]
  },
  {
   "cell_type": "markdown",
   "metadata": {
    "id": "svwBf9-oHeMV"
   },
   "source": [
    "Now let's goup these categories into *OTHERS*."
   ]
  },
  {
   "cell_type": "code",
   "execution_count": 7,
   "metadata": {
    "id": "bhrBa6FJHeMV",
    "ExecuteTime": {
     "end_time": "2023-09-17T16:06:20.078189900Z",
     "start_time": "2023-09-17T16:06:20.057410400Z"
    }
   },
   "outputs": [
    {
     "name": "stderr",
     "output_type": "stream",
     "text": [
      "C:\\Users\\jorge\\AppData\\Local\\Temp\\ipykernel_17096\\3403377233.py:2: SettingWithCopyWarning: \n",
      "A value is trying to be set on a copy of a slice from a DataFrame\n",
      "\n",
      "See the caveats in the documentation: https://pandas.pydata.org/pandas-docs/stable/user_guide/indexing.html#returning-a-view-versus-a-copy\n",
      "  dat_new['origin_airport'][np.isin(dat_new['origin_airport'] , least_frequent)] = 'OTHERS'\n"
     ]
    },
    {
     "data": {
      "text/plain": "       user booking_date origin_airport       price sales channel company  \\\n0     user5   2018-11-01            MAD   58.200001        online      I2   \n1     user7   2018-11-01            DUB  147.500000        online      I2   \n2     user4   2018-11-02            TFS   24.049999        online      I2   \n3     user8   2018-10-29            MAD   59.709999        online      I2   \n4     user7   2018-11-01            LPA   37.299999   call center      I2   \n..      ...          ...            ...         ...           ...     ...   \n995   user2   2018-11-01         OTHERS   99.849998        online      I2   \n996  user10   2018-11-01            SVQ   34.610001        online      I2   \n997   user4   2018-10-30            MAD   49.880001        online      I2   \n998  user10   2018-11-02            CDG  152.960007        online      I2   \n999   user6   2018-11-01            MAD   98.339996        online      I2   \n\n    user_country  index  \n0            NaN      1  \n1            NaN      2  \n2            NaN      3  \n3            NaN      4  \n4            NaN      5  \n..           ...    ...  \n995          NaN    996  \n996          NaN    997  \n997          NaN    998  \n998          NaN    999  \n999          NaN   1000  \n\n[1000 rows x 8 columns]",
      "text/html": "<div>\n<style scoped>\n    .dataframe tbody tr th:only-of-type {\n        vertical-align: middle;\n    }\n\n    .dataframe tbody tr th {\n        vertical-align: top;\n    }\n\n    .dataframe thead th {\n        text-align: right;\n    }\n</style>\n<table border=\"1\" class=\"dataframe\">\n  <thead>\n    <tr style=\"text-align: right;\">\n      <th></th>\n      <th>user</th>\n      <th>booking_date</th>\n      <th>origin_airport</th>\n      <th>price</th>\n      <th>sales channel</th>\n      <th>company</th>\n      <th>user_country</th>\n      <th>index</th>\n    </tr>\n  </thead>\n  <tbody>\n    <tr>\n      <th>0</th>\n      <td>user5</td>\n      <td>2018-11-01</td>\n      <td>MAD</td>\n      <td>58.200001</td>\n      <td>online</td>\n      <td>I2</td>\n      <td>NaN</td>\n      <td>1</td>\n    </tr>\n    <tr>\n      <th>1</th>\n      <td>user7</td>\n      <td>2018-11-01</td>\n      <td>DUB</td>\n      <td>147.500000</td>\n      <td>online</td>\n      <td>I2</td>\n      <td>NaN</td>\n      <td>2</td>\n    </tr>\n    <tr>\n      <th>2</th>\n      <td>user4</td>\n      <td>2018-11-02</td>\n      <td>TFS</td>\n      <td>24.049999</td>\n      <td>online</td>\n      <td>I2</td>\n      <td>NaN</td>\n      <td>3</td>\n    </tr>\n    <tr>\n      <th>3</th>\n      <td>user8</td>\n      <td>2018-10-29</td>\n      <td>MAD</td>\n      <td>59.709999</td>\n      <td>online</td>\n      <td>I2</td>\n      <td>NaN</td>\n      <td>4</td>\n    </tr>\n    <tr>\n      <th>4</th>\n      <td>user7</td>\n      <td>2018-11-01</td>\n      <td>LPA</td>\n      <td>37.299999</td>\n      <td>call center</td>\n      <td>I2</td>\n      <td>NaN</td>\n      <td>5</td>\n    </tr>\n    <tr>\n      <th>...</th>\n      <td>...</td>\n      <td>...</td>\n      <td>...</td>\n      <td>...</td>\n      <td>...</td>\n      <td>...</td>\n      <td>...</td>\n      <td>...</td>\n    </tr>\n    <tr>\n      <th>995</th>\n      <td>user2</td>\n      <td>2018-11-01</td>\n      <td>OTHERS</td>\n      <td>99.849998</td>\n      <td>online</td>\n      <td>I2</td>\n      <td>NaN</td>\n      <td>996</td>\n    </tr>\n    <tr>\n      <th>996</th>\n      <td>user10</td>\n      <td>2018-11-01</td>\n      <td>SVQ</td>\n      <td>34.610001</td>\n      <td>online</td>\n      <td>I2</td>\n      <td>NaN</td>\n      <td>997</td>\n    </tr>\n    <tr>\n      <th>997</th>\n      <td>user4</td>\n      <td>2018-10-30</td>\n      <td>MAD</td>\n      <td>49.880001</td>\n      <td>online</td>\n      <td>I2</td>\n      <td>NaN</td>\n      <td>998</td>\n    </tr>\n    <tr>\n      <th>998</th>\n      <td>user10</td>\n      <td>2018-11-02</td>\n      <td>CDG</td>\n      <td>152.960007</td>\n      <td>online</td>\n      <td>I2</td>\n      <td>NaN</td>\n      <td>999</td>\n    </tr>\n    <tr>\n      <th>999</th>\n      <td>user6</td>\n      <td>2018-11-01</td>\n      <td>MAD</td>\n      <td>98.339996</td>\n      <td>online</td>\n      <td>I2</td>\n      <td>NaN</td>\n      <td>1000</td>\n    </tr>\n  </tbody>\n</table>\n<p>1000 rows × 8 columns</p>\n</div>"
     },
     "execution_count": 7,
     "metadata": {},
     "output_type": "execute_result"
    }
   ],
   "source": [
    "dat_new = dat.copy()\n",
    "dat_new['origin_airport'][np.isin(dat_new['origin_airport'] , least_frequent)] = 'OTHERS'\n",
    "dat_new"
   ]
  },
  {
   "cell_type": "code",
   "execution_count": 8,
   "metadata": {
    "id": "Q1AwYREEHeMW",
    "ExecuteTime": {
     "end_time": "2023-09-17T16:06:23.496382400Z",
     "start_time": "2023-09-17T16:06:23.481603900Z"
    }
   },
   "outputs": [
    {
     "data": {
      "text/plain": "origin_airport\nMAD       50.2\nPMI        5.3\nTFN        5.2\nLPA        4.0\nOTHERS     3.9\nSVQ        3.4\nSCQ        3.1\nTXL        2.5\nAMS        2.1\nTFS        2.0\nLGW        1.9\nAGP        1.7\nVGO        1.6\nALC        1.4\nIBZ        1.2\nCDG        1.1\nDUB        1.1\nACE        1.0\nSPC        1.0\nFUE        0.9\nMAH        0.8\nCPH        0.8\nNAP        0.7\nNTE        0.6\nLYS        0.5\nXRY        0.5\nMAN        0.5\nDUS        0.5\nNCE        0.5\nName: count, dtype: float64"
     },
     "execution_count": 8,
     "metadata": {},
     "output_type": "execute_result"
    }
   ],
   "source": [
    "100*dat_new['origin_airport'].value_counts()/dat.shape[0]"
   ]
  },
  {
   "cell_type": "markdown",
   "metadata": {
    "id": "a19Toi1hHeMW"
   },
   "source": [
    "Putting all together."
   ]
  },
  {
   "cell_type": "code",
   "execution_count": null,
   "metadata": {
    "id": "Bmi4PUIyHeMW"
   },
   "outputs": [],
   "source": []
  },
  {
   "cell_type": "markdown",
   "metadata": {
    "id": "6JOmOGgEHeMW"
   },
   "source": [
    "**Exercise**: Implement the code to be able to carry out the previous computation for all categorical variables in dat. Then use use to implement your own custom function to group categories."
   ]
  },
  {
   "cell_type": "markdown",
   "metadata": {
    "id": "jzl_wO3lHeMW"
   },
   "source": [
    "## Define Custom Function"
   ]
  },
  {
   "cell_type": "markdown",
   "metadata": {
    "id": "ftqXHYgTHeMW"
   },
   "source": [
    "Let's create our own custom function to group categories.\n",
    "\n",
    "**EXERCISE**"
   ]
  },
  {
   "cell_type": "code",
   "execution_count": 9,
   "metadata": {
    "id": "2azeaEF-HeMW",
    "ExecuteTime": {
     "end_time": "2023-09-17T16:06:30.737170200Z",
     "start_time": "2023-09-17T16:06:30.721569Z"
    }
   },
   "outputs": [],
   "source": [
    "def group_column(X, threshold = 0.1):\n",
    "    frequencies = 100*X.value_counts()/dat.shape[0]\n",
    "    least_frequent = frequencies.index[frequencies < threshold].to_list()\n",
    "    X[np.isin(X , least_frequent)] = 'OTHERS'\n",
    "    return X"
   ]
  },
  {
   "cell_type": "code",
   "execution_count": 10,
   "metadata": {
    "id": "Y5eFuFu7HeMW",
    "ExecuteTime": {
     "end_time": "2023-09-17T16:06:31.656768400Z",
     "start_time": "2023-09-17T16:06:31.644169300Z"
    }
   },
   "outputs": [
    {
     "name": "stderr",
     "output_type": "stream",
     "text": [
      "C:\\Users\\jorge\\AppData\\Local\\Temp\\ipykernel_17096\\894434045.py:4: SettingWithCopyWarning: \n",
      "A value is trying to be set on a copy of a slice from a DataFrame\n",
      "\n",
      "See the caveats in the documentation: https://pandas.pydata.org/pandas-docs/stable/user_guide/indexing.html#returning-a-view-versus-a-copy\n",
      "  X[np.isin(X , least_frequent)] = 'OTHERS'\n"
     ]
    },
    {
     "data": {
      "text/plain": "0      online\n1      online\n2      online\n3      online\n4      OTHERS\n        ...  \n995    online\n996    online\n997    online\n998    online\n999    online\nName: sales channel, Length: 1000, dtype: object"
     },
     "execution_count": 10,
     "metadata": {},
     "output_type": "execute_result"
    }
   ],
   "source": [
    "group_column(dat['sales channel'], threshold = 10)"
   ]
  },
  {
   "cell_type": "code",
   "execution_count": 11,
   "metadata": {
    "id": "kIlzqAkNHeMX",
    "ExecuteTime": {
     "end_time": "2023-09-17T16:06:33.620868200Z",
     "start_time": "2023-09-17T16:06:33.608083Z"
    }
   },
   "outputs": [],
   "source": [
    "def group_categories(X, threshold = 0.1):\n",
    "    categorical_variables = dat.columns[np.logical_or(dat.dtypes == object, dat.dtypes == str)].tolist()\n",
    "    for c in categorical_variables:\n",
    "        X[c] = group_column(X[c],\n",
    "                           threshold = threshold)\n",
    "    return X\n"
   ]
  },
  {
   "cell_type": "code",
   "execution_count": 12,
   "metadata": {
    "id": "3TcYocr2HeMX",
    "outputId": "e33a0660-9497-46d6-f992-edcb7f4727c7",
    "ExecuteTime": {
     "end_time": "2023-09-17T16:06:35.050715900Z",
     "start_time": "2023-09-17T16:06:35.008555400Z"
    }
   },
   "outputs": [
    {
     "name": "stderr",
     "output_type": "stream",
     "text": [
      "C:\\Users\\jorge\\AppData\\Local\\Temp\\ipykernel_17096\\894434045.py:4: SettingWithCopyWarning: \n",
      "A value is trying to be set on a copy of a slice from a DataFrame\n",
      "\n",
      "See the caveats in the documentation: https://pandas.pydata.org/pandas-docs/stable/user_guide/indexing.html#returning-a-view-versus-a-copy\n",
      "  X[np.isin(X , least_frequent)] = 'OTHERS'\n",
      "C:\\Users\\jorge\\AppData\\Local\\Temp\\ipykernel_17096\\894434045.py:4: SettingWithCopyWarning: \n",
      "A value is trying to be set on a copy of a slice from a DataFrame\n",
      "\n",
      "See the caveats in the documentation: https://pandas.pydata.org/pandas-docs/stable/user_guide/indexing.html#returning-a-view-versus-a-copy\n",
      "  X[np.isin(X , least_frequent)] = 'OTHERS'\n",
      "C:\\Users\\jorge\\AppData\\Local\\Temp\\ipykernel_17096\\894434045.py:4: SettingWithCopyWarning: \n",
      "A value is trying to be set on a copy of a slice from a DataFrame\n",
      "\n",
      "See the caveats in the documentation: https://pandas.pydata.org/pandas-docs/stable/user_guide/indexing.html#returning-a-view-versus-a-copy\n",
      "  X[np.isin(X , least_frequent)] = 'OTHERS'\n",
      "C:\\Users\\jorge\\AppData\\Local\\Temp\\ipykernel_17096\\894434045.py:4: SettingWithCopyWarning: \n",
      "A value is trying to be set on a copy of a slice from a DataFrame\n",
      "\n",
      "See the caveats in the documentation: https://pandas.pydata.org/pandas-docs/stable/user_guide/indexing.html#returning-a-view-versus-a-copy\n",
      "  X[np.isin(X , least_frequent)] = 'OTHERS'\n",
      "C:\\Users\\jorge\\AppData\\Local\\Temp\\ipykernel_17096\\894434045.py:4: SettingWithCopyWarning: \n",
      "A value is trying to be set on a copy of a slice from a DataFrame\n",
      "\n",
      "See the caveats in the documentation: https://pandas.pydata.org/pandas-docs/stable/user_guide/indexing.html#returning-a-view-versus-a-copy\n",
      "  X[np.isin(X , least_frequent)] = 'OTHERS'\n",
      "C:\\Users\\jorge\\AppData\\Local\\Temp\\ipykernel_17096\\894434045.py:4: SettingWithCopyWarning: \n",
      "A value is trying to be set on a copy of a slice from a DataFrame\n",
      "\n",
      "See the caveats in the documentation: https://pandas.pydata.org/pandas-docs/stable/user_guide/indexing.html#returning-a-view-versus-a-copy\n",
      "  X[np.isin(X , least_frequent)] = 'OTHERS'\n"
     ]
    },
    {
     "data": {
      "text/plain": "       user booking_date origin_airport       price sales channel company  \\\n0     user5   2018-11-01            MAD   58.200001        online      I2   \n1     user7   2018-11-01            DUB  147.500000        online      I2   \n2     user4   2018-11-02            TFS   24.049999        online      I2   \n3     user8   2018-10-29            MAD   59.709999        online      I2   \n4     user7   2018-11-01            LPA   37.299999        OTHERS      I2   \n..      ...          ...            ...         ...           ...     ...   \n995   user2   2018-11-01            JMK   99.849998        online      I2   \n996  user10   2018-11-01            SVQ   34.610001        online      I2   \n997   user4   2018-10-30            MAD   49.880001        online      I2   \n998  user10   2018-11-02            CDG  152.960007        online      I2   \n999   user6   2018-11-01            MAD   98.339996        online      I2   \n\n    user_country  index  \n0            NaN      1  \n1            NaN      2  \n2            NaN      3  \n3            NaN      4  \n4            NaN      5  \n..           ...    ...  \n995          NaN    996  \n996          NaN    997  \n997          NaN    998  \n998          NaN    999  \n999          NaN   1000  \n\n[1000 rows x 8 columns]",
      "text/html": "<div>\n<style scoped>\n    .dataframe tbody tr th:only-of-type {\n        vertical-align: middle;\n    }\n\n    .dataframe tbody tr th {\n        vertical-align: top;\n    }\n\n    .dataframe thead th {\n        text-align: right;\n    }\n</style>\n<table border=\"1\" class=\"dataframe\">\n  <thead>\n    <tr style=\"text-align: right;\">\n      <th></th>\n      <th>user</th>\n      <th>booking_date</th>\n      <th>origin_airport</th>\n      <th>price</th>\n      <th>sales channel</th>\n      <th>company</th>\n      <th>user_country</th>\n      <th>index</th>\n    </tr>\n  </thead>\n  <tbody>\n    <tr>\n      <th>0</th>\n      <td>user5</td>\n      <td>2018-11-01</td>\n      <td>MAD</td>\n      <td>58.200001</td>\n      <td>online</td>\n      <td>I2</td>\n      <td>NaN</td>\n      <td>1</td>\n    </tr>\n    <tr>\n      <th>1</th>\n      <td>user7</td>\n      <td>2018-11-01</td>\n      <td>DUB</td>\n      <td>147.500000</td>\n      <td>online</td>\n      <td>I2</td>\n      <td>NaN</td>\n      <td>2</td>\n    </tr>\n    <tr>\n      <th>2</th>\n      <td>user4</td>\n      <td>2018-11-02</td>\n      <td>TFS</td>\n      <td>24.049999</td>\n      <td>online</td>\n      <td>I2</td>\n      <td>NaN</td>\n      <td>3</td>\n    </tr>\n    <tr>\n      <th>3</th>\n      <td>user8</td>\n      <td>2018-10-29</td>\n      <td>MAD</td>\n      <td>59.709999</td>\n      <td>online</td>\n      <td>I2</td>\n      <td>NaN</td>\n      <td>4</td>\n    </tr>\n    <tr>\n      <th>4</th>\n      <td>user7</td>\n      <td>2018-11-01</td>\n      <td>LPA</td>\n      <td>37.299999</td>\n      <td>OTHERS</td>\n      <td>I2</td>\n      <td>NaN</td>\n      <td>5</td>\n    </tr>\n    <tr>\n      <th>...</th>\n      <td>...</td>\n      <td>...</td>\n      <td>...</td>\n      <td>...</td>\n      <td>...</td>\n      <td>...</td>\n      <td>...</td>\n      <td>...</td>\n    </tr>\n    <tr>\n      <th>995</th>\n      <td>user2</td>\n      <td>2018-11-01</td>\n      <td>JMK</td>\n      <td>99.849998</td>\n      <td>online</td>\n      <td>I2</td>\n      <td>NaN</td>\n      <td>996</td>\n    </tr>\n    <tr>\n      <th>996</th>\n      <td>user10</td>\n      <td>2018-11-01</td>\n      <td>SVQ</td>\n      <td>34.610001</td>\n      <td>online</td>\n      <td>I2</td>\n      <td>NaN</td>\n      <td>997</td>\n    </tr>\n    <tr>\n      <th>997</th>\n      <td>user4</td>\n      <td>2018-10-30</td>\n      <td>MAD</td>\n      <td>49.880001</td>\n      <td>online</td>\n      <td>I2</td>\n      <td>NaN</td>\n      <td>998</td>\n    </tr>\n    <tr>\n      <th>998</th>\n      <td>user10</td>\n      <td>2018-11-02</td>\n      <td>CDG</td>\n      <td>152.960007</td>\n      <td>online</td>\n      <td>I2</td>\n      <td>NaN</td>\n      <td>999</td>\n    </tr>\n    <tr>\n      <th>999</th>\n      <td>user6</td>\n      <td>2018-11-01</td>\n      <td>MAD</td>\n      <td>98.339996</td>\n      <td>online</td>\n      <td>I2</td>\n      <td>NaN</td>\n      <td>1000</td>\n    </tr>\n  </tbody>\n</table>\n<p>1000 rows × 8 columns</p>\n</div>"
     },
     "execution_count": 12,
     "metadata": {},
     "output_type": "execute_result"
    }
   ],
   "source": [
    "dat_new = group_categories(dat, threshold = 0.2)\n",
    "dat_new"
   ]
  },
  {
   "cell_type": "code",
   "execution_count": 13,
   "metadata": {
    "id": "0gq62IeQHeMX",
    "ExecuteTime": {
     "end_time": "2023-09-17T16:06:37.295760200Z",
     "start_time": "2023-09-17T16:06:37.285728Z"
    }
   },
   "outputs": [],
   "source": [
    "def group_categories_pro(X, threshold = 0.1):\n",
    "    categorical_variables = dat.columns[np.logical_or(dat.dtypes == object, dat.dtypes == str)].tolist()\n",
    "    X[categorical_variables] = X[categorical_variables].apply(group_column)\n",
    "    return X\n"
   ]
  },
  {
   "cell_type": "code",
   "execution_count": 14,
   "metadata": {
    "id": "Zr9pA9wRHeMX",
    "ExecuteTime": {
     "end_time": "2023-09-17T16:06:38.097585400Z",
     "start_time": "2023-09-17T16:06:38.081512300Z"
    }
   },
   "outputs": [
    {
     "data": {
      "text/plain": "       user booking_date origin_airport       price sales channel company  \\\n0     user5   2018-11-01            MAD   58.200001        online      I2   \n1     user7   2018-11-01            DUB  147.500000        online      I2   \n2     user4   2018-11-02            TFS   24.049999        online      I2   \n3     user8   2018-10-29            MAD   59.709999        online      I2   \n4     user7   2018-11-01            LPA   37.299999        OTHERS      I2   \n..      ...          ...            ...         ...           ...     ...   \n995   user2   2018-11-01            JMK   99.849998        online      I2   \n996  user10   2018-11-01            SVQ   34.610001        online      I2   \n997   user4   2018-10-30            MAD   49.880001        online      I2   \n998  user10   2018-11-02            CDG  152.960007        online      I2   \n999   user6   2018-11-01            MAD   98.339996        online      I2   \n\n    user_country  index  \n0            NaN      1  \n1            NaN      2  \n2            NaN      3  \n3            NaN      4  \n4            NaN      5  \n..           ...    ...  \n995          NaN    996  \n996          NaN    997  \n997          NaN    998  \n998          NaN    999  \n999          NaN   1000  \n\n[1000 rows x 8 columns]",
      "text/html": "<div>\n<style scoped>\n    .dataframe tbody tr th:only-of-type {\n        vertical-align: middle;\n    }\n\n    .dataframe tbody tr th {\n        vertical-align: top;\n    }\n\n    .dataframe thead th {\n        text-align: right;\n    }\n</style>\n<table border=\"1\" class=\"dataframe\">\n  <thead>\n    <tr style=\"text-align: right;\">\n      <th></th>\n      <th>user</th>\n      <th>booking_date</th>\n      <th>origin_airport</th>\n      <th>price</th>\n      <th>sales channel</th>\n      <th>company</th>\n      <th>user_country</th>\n      <th>index</th>\n    </tr>\n  </thead>\n  <tbody>\n    <tr>\n      <th>0</th>\n      <td>user5</td>\n      <td>2018-11-01</td>\n      <td>MAD</td>\n      <td>58.200001</td>\n      <td>online</td>\n      <td>I2</td>\n      <td>NaN</td>\n      <td>1</td>\n    </tr>\n    <tr>\n      <th>1</th>\n      <td>user7</td>\n      <td>2018-11-01</td>\n      <td>DUB</td>\n      <td>147.500000</td>\n      <td>online</td>\n      <td>I2</td>\n      <td>NaN</td>\n      <td>2</td>\n    </tr>\n    <tr>\n      <th>2</th>\n      <td>user4</td>\n      <td>2018-11-02</td>\n      <td>TFS</td>\n      <td>24.049999</td>\n      <td>online</td>\n      <td>I2</td>\n      <td>NaN</td>\n      <td>3</td>\n    </tr>\n    <tr>\n      <th>3</th>\n      <td>user8</td>\n      <td>2018-10-29</td>\n      <td>MAD</td>\n      <td>59.709999</td>\n      <td>online</td>\n      <td>I2</td>\n      <td>NaN</td>\n      <td>4</td>\n    </tr>\n    <tr>\n      <th>4</th>\n      <td>user7</td>\n      <td>2018-11-01</td>\n      <td>LPA</td>\n      <td>37.299999</td>\n      <td>OTHERS</td>\n      <td>I2</td>\n      <td>NaN</td>\n      <td>5</td>\n    </tr>\n    <tr>\n      <th>...</th>\n      <td>...</td>\n      <td>...</td>\n      <td>...</td>\n      <td>...</td>\n      <td>...</td>\n      <td>...</td>\n      <td>...</td>\n      <td>...</td>\n    </tr>\n    <tr>\n      <th>995</th>\n      <td>user2</td>\n      <td>2018-11-01</td>\n      <td>JMK</td>\n      <td>99.849998</td>\n      <td>online</td>\n      <td>I2</td>\n      <td>NaN</td>\n      <td>996</td>\n    </tr>\n    <tr>\n      <th>996</th>\n      <td>user10</td>\n      <td>2018-11-01</td>\n      <td>SVQ</td>\n      <td>34.610001</td>\n      <td>online</td>\n      <td>I2</td>\n      <td>NaN</td>\n      <td>997</td>\n    </tr>\n    <tr>\n      <th>997</th>\n      <td>user4</td>\n      <td>2018-10-30</td>\n      <td>MAD</td>\n      <td>49.880001</td>\n      <td>online</td>\n      <td>I2</td>\n      <td>NaN</td>\n      <td>998</td>\n    </tr>\n    <tr>\n      <th>998</th>\n      <td>user10</td>\n      <td>2018-11-02</td>\n      <td>CDG</td>\n      <td>152.960007</td>\n      <td>online</td>\n      <td>I2</td>\n      <td>NaN</td>\n      <td>999</td>\n    </tr>\n    <tr>\n      <th>999</th>\n      <td>user6</td>\n      <td>2018-11-01</td>\n      <td>MAD</td>\n      <td>98.339996</td>\n      <td>online</td>\n      <td>I2</td>\n      <td>NaN</td>\n      <td>1000</td>\n    </tr>\n  </tbody>\n</table>\n<p>1000 rows × 8 columns</p>\n</div>"
     },
     "execution_count": 14,
     "metadata": {},
     "output_type": "execute_result"
    }
   ],
   "source": [
    "dat_new = group_categories_pro(dat, threshold = 1)\n",
    "dat_new"
   ]
  }
 ],
 "metadata": {
  "kernelspec": {
   "display_name": "Python 3",
   "language": "python",
   "name": "python3"
  },
  "language_info": {
   "codemirror_mode": {
    "name": "ipython",
    "version": 3
   },
   "file_extension": ".py",
   "mimetype": "text/x-python",
   "name": "python",
   "nbconvert_exporter": "python",
   "pygments_lexer": "ipython3",
   "version": "3.7.3"
  },
  "colab": {
   "provenance": []
  }
 },
 "nbformat": 4,
 "nbformat_minor": 0
}
