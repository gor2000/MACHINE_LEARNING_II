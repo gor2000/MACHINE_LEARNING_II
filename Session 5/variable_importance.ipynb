{
 "cells": [
  {
   "cell_type": "code",
   "execution_count": 1,
   "metadata": {
    "id": "Gj88TL2yKCrn",
    "ExecuteTime": {
     "end_time": "2023-09-17T16:18:25.043998400Z",
     "start_time": "2023-09-17T16:18:23.899056200Z"
    }
   },
   "outputs": [],
   "source": [
    "# Load Libraries\n",
    "%matplotlib inline\n",
    "import numpy as np\n",
    "import matplotlib.pyplot as plt\n",
    "from scipy import stats\n",
    "import pandas as pd\n",
    "\n",
    "from sklearn.model_selection import train_test_split"
   ]
  },
  {
   "cell_type": "markdown",
   "metadata": {
    "id": "fsVJ1354KCrp"
   },
   "source": [
    "# Variable Importance"
   ]
  },
  {
   "cell_type": "markdown",
   "metadata": {
    "id": "GN7YLdD3KCrq"
   },
   "source": [
    "Feature importance refers to a class of techniques for assigning scores to input features to a predictive model that indicates the relative importance of each feature when making a prediction.\n",
    "\n",
    "Feature importance scores can be calculated for problems that involve predicting a numerical value, called regression, and those problems that involve predicting a class label, called classification.\n",
    "\n",
    "The scores are useful and can be used in a range of situations in a predictive modeling problem, such as:\n",
    "\n",
    "    - Better understanding the data.\n",
    "    - Better understanding a model.\n",
    "    - Reducing the number of input features.\n",
    "    \n"
   ]
  },
  {
   "cell_type": "markdown",
   "metadata": {
    "id": "UhW2KHs1KCrr"
   },
   "source": [
    "## Load Data"
   ]
  },
  {
   "cell_type": "code",
   "execution_count": 2,
   "metadata": {
    "colab": {
     "base_uri": "https://localhost:8080/",
     "height": 206
    },
    "id": "8BRX_l1jKCrr",
    "executionInfo": {
     "status": "ok",
     "timestamp": 1694359722178,
     "user_tz": -120,
     "elapsed": 7,
     "user": {
      "displayName": "Jesus Prada",
      "userId": "01990672692810654269"
     }
    },
    "outputId": "2f627fd6-eed1-4287-9c3c-218709394f6d",
    "ExecuteTime": {
     "end_time": "2023-09-17T16:18:26.319155600Z",
     "start_time": "2023-09-17T16:18:26.295132200Z"
    }
   },
   "outputs": [
    {
     "data": {
      "text/plain": "               model   mpg  cyl   disp   hp  drat     wt   qsec  vs  am  gear  \\\n0          Mazda RX4  21.0    6  160.0  110  3.90  2.620  16.46   0   1     4   \n1      Mazda RX4 Wag  21.0    6  160.0  110  3.90  2.875  17.02   0   1     4   \n2         Datsun 710  22.8    4  108.0   93  3.85  2.320  18.61   1   1     4   \n3     Hornet 4 Drive  21.4    6  258.0  110  3.08  3.215  19.44   1   0     3   \n4  Hornet Sportabout  18.7    8  360.0  175  3.15  3.440  17.02   0   0     3   \n\n   carb  \n0     4  \n1     4  \n2     1  \n3     1  \n4     2  ",
      "text/html": "<div>\n<style scoped>\n    .dataframe tbody tr th:only-of-type {\n        vertical-align: middle;\n    }\n\n    .dataframe tbody tr th {\n        vertical-align: top;\n    }\n\n    .dataframe thead th {\n        text-align: right;\n    }\n</style>\n<table border=\"1\" class=\"dataframe\">\n  <thead>\n    <tr style=\"text-align: right;\">\n      <th></th>\n      <th>model</th>\n      <th>mpg</th>\n      <th>cyl</th>\n      <th>disp</th>\n      <th>hp</th>\n      <th>drat</th>\n      <th>wt</th>\n      <th>qsec</th>\n      <th>vs</th>\n      <th>am</th>\n      <th>gear</th>\n      <th>carb</th>\n    </tr>\n  </thead>\n  <tbody>\n    <tr>\n      <th>0</th>\n      <td>Mazda RX4</td>\n      <td>21.0</td>\n      <td>6</td>\n      <td>160.0</td>\n      <td>110</td>\n      <td>3.90</td>\n      <td>2.620</td>\n      <td>16.46</td>\n      <td>0</td>\n      <td>1</td>\n      <td>4</td>\n      <td>4</td>\n    </tr>\n    <tr>\n      <th>1</th>\n      <td>Mazda RX4 Wag</td>\n      <td>21.0</td>\n      <td>6</td>\n      <td>160.0</td>\n      <td>110</td>\n      <td>3.90</td>\n      <td>2.875</td>\n      <td>17.02</td>\n      <td>0</td>\n      <td>1</td>\n      <td>4</td>\n      <td>4</td>\n    </tr>\n    <tr>\n      <th>2</th>\n      <td>Datsun 710</td>\n      <td>22.8</td>\n      <td>4</td>\n      <td>108.0</td>\n      <td>93</td>\n      <td>3.85</td>\n      <td>2.320</td>\n      <td>18.61</td>\n      <td>1</td>\n      <td>1</td>\n      <td>4</td>\n      <td>1</td>\n    </tr>\n    <tr>\n      <th>3</th>\n      <td>Hornet 4 Drive</td>\n      <td>21.4</td>\n      <td>6</td>\n      <td>258.0</td>\n      <td>110</td>\n      <td>3.08</td>\n      <td>3.215</td>\n      <td>19.44</td>\n      <td>1</td>\n      <td>0</td>\n      <td>3</td>\n      <td>1</td>\n    </tr>\n    <tr>\n      <th>4</th>\n      <td>Hornet Sportabout</td>\n      <td>18.7</td>\n      <td>8</td>\n      <td>360.0</td>\n      <td>175</td>\n      <td>3.15</td>\n      <td>3.440</td>\n      <td>17.02</td>\n      <td>0</td>\n      <td>0</td>\n      <td>3</td>\n      <td>2</td>\n    </tr>\n  </tbody>\n</table>\n</div>"
     },
     "execution_count": 2,
     "metadata": {},
     "output_type": "execute_result"
    }
   ],
   "source": [
    "dat = pd.read_csv('../data/mtcars.csv', sep = \",\")\n",
    "dat.head()"
   ]
  },
  {
   "cell_type": "markdown",
   "metadata": {
    "id": "FSWZjx-FKCrr"
   },
   "source": [
    "Let's use only numeric variables as input and *mpg* as target."
   ]
  },
  {
   "cell_type": "code",
   "execution_count": 3,
   "metadata": {
    "id": "SE1iLPcaKCrr",
    "ExecuteTime": {
     "end_time": "2023-09-17T16:18:28.328910300Z",
     "start_time": "2023-09-17T16:18:28.315007100Z"
    }
   },
   "outputs": [],
   "source": [
    "X = dat.drop(['mpg', 'model'], axis = 1)\n",
    "y = dat['mpg']"
   ]
  },
  {
   "cell_type": "markdown",
   "metadata": {
    "id": "l_37TvEgKCrs"
   },
   "source": [
    "Let's split the data into train and validation for this notebook purposes."
   ]
  },
  {
   "cell_type": "code",
   "execution_count": 4,
   "metadata": {
    "id": "Gr6vdnQJKCrs",
    "ExecuteTime": {
     "end_time": "2023-09-17T16:18:30.352734800Z",
     "start_time": "2023-09-17T16:18:30.337136300Z"
    }
   },
   "outputs": [],
   "source": [
    "X_train, X_val, y_train, y_val = train_test_split(X, y, test_size=0.3, random_state=1);\n"
   ]
  },
  {
   "cell_type": "markdown",
   "metadata": {
    "id": "yv9DX16rKCrt"
   },
   "source": [
    "## Decision Trees Variable Importance"
   ]
  },
  {
   "cell_type": "markdown",
   "metadata": {
    "id": "zrqsLfU_KCru"
   },
   "source": [
    "Decision trees have their own method to compute variable importance, based on the reduction in the criterion used to select split points, like Gini or entropy.\n",
    "\n",
    "This same approach can be used for ensembles of decision trees, such as the random forest."
   ]
  },
  {
   "cell_type": "code",
   "execution_count": 5,
   "metadata": {
    "id": "ZC-5oP9KKCru",
    "ExecuteTime": {
     "end_time": "2023-09-17T16:18:33.977321400Z",
     "start_time": "2023-09-17T16:18:33.918719700Z"
    }
   },
   "outputs": [],
   "source": [
    "from sklearn.tree import DecisionTreeRegressor"
   ]
  },
  {
   "cell_type": "code",
   "execution_count": 6,
   "metadata": {
    "colab": {
     "base_uri": "https://localhost:8080/",
     "height": 363
    },
    "id": "v65Cgc65KCru",
    "executionInfo": {
     "status": "ok",
     "timestamp": 1694359729865,
     "user_tz": -120,
     "elapsed": 295,
     "user": {
      "displayName": "Jesus Prada",
      "userId": "01990672692810654269"
     }
    },
    "outputId": "9d418d23-164a-473c-e136-62f3add4cfcd",
    "ExecuteTime": {
     "end_time": "2023-09-17T16:18:38.649243200Z",
     "start_time": "2023-09-17T16:18:38.623084200Z"
    }
   },
   "outputs": [
    {
     "data": {
      "text/plain": "  variable           imp\n4       wt  1.000000e+00\n2       hp  5.062278e-01\n5     qsec  2.469548e-02\n1     disp  3.689802e-03\n3     drat  8.806037e-04\n8     gear  3.929967e-04\n9     carb  4.964283e-16\n0      cyl  0.000000e+00\n6       vs  0.000000e+00\n7       am  0.000000e+00",
      "text/html": "<div>\n<style scoped>\n    .dataframe tbody tr th:only-of-type {\n        vertical-align: middle;\n    }\n\n    .dataframe tbody tr th {\n        vertical-align: top;\n    }\n\n    .dataframe thead th {\n        text-align: right;\n    }\n</style>\n<table border=\"1\" class=\"dataframe\">\n  <thead>\n    <tr style=\"text-align: right;\">\n      <th></th>\n      <th>variable</th>\n      <th>imp</th>\n    </tr>\n  </thead>\n  <tbody>\n    <tr>\n      <th>4</th>\n      <td>wt</td>\n      <td>1.000000e+00</td>\n    </tr>\n    <tr>\n      <th>2</th>\n      <td>hp</td>\n      <td>5.062278e-01</td>\n    </tr>\n    <tr>\n      <th>5</th>\n      <td>qsec</td>\n      <td>2.469548e-02</td>\n    </tr>\n    <tr>\n      <th>1</th>\n      <td>disp</td>\n      <td>3.689802e-03</td>\n    </tr>\n    <tr>\n      <th>3</th>\n      <td>drat</td>\n      <td>8.806037e-04</td>\n    </tr>\n    <tr>\n      <th>8</th>\n      <td>gear</td>\n      <td>3.929967e-04</td>\n    </tr>\n    <tr>\n      <th>9</th>\n      <td>carb</td>\n      <td>4.964283e-16</td>\n    </tr>\n    <tr>\n      <th>0</th>\n      <td>cyl</td>\n      <td>0.000000e+00</td>\n    </tr>\n    <tr>\n      <th>6</th>\n      <td>vs</td>\n      <td>0.000000e+00</td>\n    </tr>\n    <tr>\n      <th>7</th>\n      <td>am</td>\n      <td>0.000000e+00</td>\n    </tr>\n  </tbody>\n</table>\n</div>"
     },
     "execution_count": 6,
     "metadata": {},
     "output_type": "execute_result"
    }
   ],
   "source": [
    "# 3) Define the model\n",
    "model = DecisionTreeRegressor(random_state = 0)\n",
    "\n",
    "# 4) Train the model\n",
    "model.fit(X_train, y_train)\n",
    "\n",
    "# get importance\n",
    "importance = pd.DataFrame({'variable' : X.columns.values, 'imp' : model.feature_importances_/np.max(model.feature_importances_)}).sort_values(by = 'imp', ascending = False)\n",
    "importance"
   ]
  },
  {
   "cell_type": "markdown",
   "metadata": {
    "id": "jZapXUuzKCrv"
   },
   "source": [
    "If we want to reduce our dataset to only three input variables we will do."
   ]
  },
  {
   "cell_type": "code",
   "execution_count": 7,
   "metadata": {
    "colab": {
     "base_uri": "https://localhost:8080/",
     "height": 212
    },
    "id": "fAs33rfzKCrv",
    "executionInfo": {
     "status": "error",
     "timestamp": 1694429669238,
     "user_tz": -120,
     "elapsed": 13,
     "user": {
      "displayName": "Jesus Prada",
      "userId": "01990672692810654269"
     }
    },
    "outputId": "078f28b4-82b0-44ec-80e9-3c46d5b8af3d",
    "ExecuteTime": {
     "end_time": "2023-09-17T16:18:47.441297300Z",
     "start_time": "2023-09-17T16:18:47.429250Z"
    }
   },
   "outputs": [
    {
     "data": {
      "text/plain": "['wt', 'hp', 'qsec']"
     },
     "execution_count": 7,
     "metadata": {},
     "output_type": "execute_result"
    }
   ],
   "source": [
    "n_vars = 3\n",
    "important_vars = importance.variable.values[0:n_vars].tolist()\n",
    "important_vars"
   ]
  },
  {
   "cell_type": "markdown",
   "metadata": {
    "id": "QAc8yYr_KCrv"
   },
   "source": [
    "**Important note:** This means that they are more important variables than price **for this decision tree**. You cannot assume that this is a generic importance that could be applied to other models."
   ]
  },
  {
   "cell_type": "markdown",
   "metadata": {
    "id": "QPLzcS7zKCrv"
   },
   "source": [
    "## Generic Variable Importance"
   ]
  },
  {
   "cell_type": "markdown",
   "metadata": {
    "id": "1TCGWHjUKCrw"
   },
   "source": [
    "Permutation feature importance is a technique for calculating relative importance scores that is independent of the model used.\n",
    "\n",
    "First, a model, the more data agnostic and basic possible, is fit on the dataset. Then the model is used to make predictions on a dataset, although the values of a feature in the dataset are modified. This is repeated for each feature in the dataset. Then this whole process is repeated 3, 5, 10 or more times. The result is a mean importance score for each input feature."
   ]
  },
  {
   "cell_type": "code",
   "execution_count": 8,
   "metadata": {
    "id": "x9yk-sZXKCrw",
    "ExecuteTime": {
     "end_time": "2023-09-17T16:18:52.859201200Z",
     "start_time": "2023-09-17T16:18:52.806761400Z"
    }
   },
   "outputs": [],
   "source": [
    "from sklearn.inspection import permutation_importance"
   ]
  },
  {
   "cell_type": "code",
   "execution_count": 9,
   "metadata": {
    "id": "rT8iYe-8KCrw",
    "ExecuteTime": {
     "end_time": "2023-09-17T16:18:53.940914200Z",
     "start_time": "2023-09-17T16:18:53.934367Z"
    }
   },
   "outputs": [],
   "source": [
    "from sklearn.linear_model import LinearRegression as model_constructor"
   ]
  },
  {
   "cell_type": "code",
   "execution_count": 10,
   "metadata": {
    "colab": {
     "base_uri": "https://localhost:8080/",
     "height": 363
    },
    "id": "kkEDXIUzKCrw",
    "executionInfo": {
     "status": "ok",
     "timestamp": 1694359744284,
     "user_tz": -120,
     "elapsed": 6,
     "user": {
      "displayName": "Jesus Prada",
      "userId": "01990672692810654269"
     }
    },
    "outputId": "ecf5f194-2e43-4fa8-9f88-6d5093d34a6d",
    "ExecuteTime": {
     "end_time": "2023-09-17T16:18:58.920578400Z",
     "start_time": "2023-09-17T16:18:58.848417300Z"
    }
   },
   "outputs": [
    {
     "data": {
      "text/plain": "  variable       imp\n4       wt  1.000000\n2       hp  0.554354\n9     carb  0.361234\n8     gear  0.312700\n1     disp  0.274731\n3     drat  0.137531\n6       vs  0.125779\n5     qsec  0.115322\n0      cyl  0.032733\n7       am  0.030779",
      "text/html": "<div>\n<style scoped>\n    .dataframe tbody tr th:only-of-type {\n        vertical-align: middle;\n    }\n\n    .dataframe tbody tr th {\n        vertical-align: top;\n    }\n\n    .dataframe thead th {\n        text-align: right;\n    }\n</style>\n<table border=\"1\" class=\"dataframe\">\n  <thead>\n    <tr style=\"text-align: right;\">\n      <th></th>\n      <th>variable</th>\n      <th>imp</th>\n    </tr>\n  </thead>\n  <tbody>\n    <tr>\n      <th>4</th>\n      <td>wt</td>\n      <td>1.000000</td>\n    </tr>\n    <tr>\n      <th>2</th>\n      <td>hp</td>\n      <td>0.554354</td>\n    </tr>\n    <tr>\n      <th>9</th>\n      <td>carb</td>\n      <td>0.361234</td>\n    </tr>\n    <tr>\n      <th>8</th>\n      <td>gear</td>\n      <td>0.312700</td>\n    </tr>\n    <tr>\n      <th>1</th>\n      <td>disp</td>\n      <td>0.274731</td>\n    </tr>\n    <tr>\n      <th>3</th>\n      <td>drat</td>\n      <td>0.137531</td>\n    </tr>\n    <tr>\n      <th>6</th>\n      <td>vs</td>\n      <td>0.125779</td>\n    </tr>\n    <tr>\n      <th>5</th>\n      <td>qsec</td>\n      <td>0.115322</td>\n    </tr>\n    <tr>\n      <th>0</th>\n      <td>cyl</td>\n      <td>0.032733</td>\n    </tr>\n    <tr>\n      <th>7</th>\n      <td>am</td>\n      <td>0.030779</td>\n    </tr>\n  </tbody>\n</table>\n</div>"
     },
     "execution_count": 10,
     "metadata": {},
     "output_type": "execute_result"
    }
   ],
   "source": [
    "# 3) Define the model\n",
    "model = model_constructor()\n",
    "\n",
    "# 4) Train the model\n",
    "model.fit(X_train, y_train)\n",
    "\n",
    "# perform permutation importance\n",
    "importance = permutation_importance(model,\n",
    "                                    X_val,\n",
    "                                    y_val,\n",
    "                                    random_state = 1)\n",
    "\n",
    "# get importance\n",
    "importance = pd.DataFrame({'variable' : X.columns.values, 'imp' : np.abs(importance.importances_mean)/np.max(np.abs(importance.importances_mean))}).sort_values(by = 'imp', ascending = False)\n",
    "importance"
   ]
  },
  {
   "cell_type": "markdown",
   "metadata": {
    "id": "nsMx95KXKCrx"
   },
   "source": [
    "If we want to reduce our dataset to only three input variables we will do."
   ]
  },
  {
   "cell_type": "code",
   "execution_count": 11,
   "metadata": {
    "colab": {
     "base_uri": "https://localhost:8080/"
    },
    "id": "RAhtf8Q3KCrx",
    "executionInfo": {
     "status": "ok",
     "timestamp": 1694359747982,
     "user_tz": -120,
     "elapsed": 228,
     "user": {
      "displayName": "Jesus Prada",
      "userId": "01990672692810654269"
     }
    },
    "outputId": "f0a52cca-bb77-43ad-ee40-de9c6aa91ded",
    "ExecuteTime": {
     "end_time": "2023-09-17T16:19:01.562043400Z",
     "start_time": "2023-09-17T16:19:01.548519600Z"
    }
   },
   "outputs": [
    {
     "data": {
      "text/plain": "['wt', 'hp', 'carb']"
     },
     "execution_count": 11,
     "metadata": {},
     "output_type": "execute_result"
    }
   ],
   "source": [
    "n_vars = 3\n",
    "important_vars = importance.variable.values[0:n_vars].tolist()\n",
    "important_vars"
   ]
  },
  {
   "cell_type": "markdown",
   "metadata": {
    "id": "b0E7bK-wKCrx"
   },
   "source": [
    "Different!!! This is a more generic variable importance."
   ]
  },
  {
   "cell_type": "markdown",
   "metadata": {
    "id": "gB7XW7vlKCrx"
   },
   "source": [
    "## Define Custom Function"
   ]
  },
  {
   "cell_type": "code",
   "execution_count": 12,
   "metadata": {
    "id": "WPNsKR2CKCry",
    "ExecuteTime": {
     "end_time": "2023-09-17T16:19:03.215687400Z",
     "start_time": "2023-09-17T16:19:03.202134600Z"
    }
   },
   "outputs": [],
   "source": [
    "def important_vars(X_train, y_train, model_constructor,\n",
    "                   X_val = None, y_val = None,\n",
    "                   method = 'generic', p = 0.5):\n",
    "    if method == 'generic':\n",
    "\n",
    "        # 3) Define the model\n",
    "        model = model_constructor()\n",
    "\n",
    "        # 4) Train the model\n",
    "        model.fit(X_train, y_train)\n",
    "\n",
    "        # Perform permutation importance\n",
    "        importance = permutation_importance(model, X_val, y_val, random_state = 1) # In real life use validation!!!\n",
    "\n",
    "        # Get importance\n",
    "        importance = pd.DataFrame({'variable' : X.columns.values, 'imp' : np.abs(importance.importances_mean)/np.max(np.abs(importance.importances_mean))}).sort_values(by = 'imp', ascending = False)\n",
    "\n",
    "    elif method == 'tree':\n",
    "        # 3) Define the model\n",
    "        model = DecisionTreeRegressor(random_state = 0)\n",
    "\n",
    "        # 4) Train the model\n",
    "        model.fit(X_train, y_train)\n",
    "\n",
    "        # Get importance\n",
    "        importance = pd.DataFrame({'variable' : X.columns.values, 'imp' : model.feature_importances_/np.max(model.feature_importances_)}).sort_values(by = 'imp', ascending = False)\n",
    "\n",
    "\n",
    "    # Get important vars\n",
    "    important_vars = importance.variable.values[0:int(X.shape[1]*p)].tolist()\n",
    "\n",
    "    # Select important vars\n",
    "    X_train = X_train[important_vars]\n",
    "    if not X_val is None:\n",
    "        X_val = X_val[important_vars]\n",
    "\n",
    "    #Return results\n",
    "    return X_train, X_val"
   ]
  },
  {
   "cell_type": "code",
   "execution_count": 13,
   "metadata": {
    "id": "ireRnk3KKCry",
    "ExecuteTime": {
     "end_time": "2023-09-17T16:19:05.490693200Z",
     "start_time": "2023-09-17T16:19:05.476381200Z"
    }
   },
   "outputs": [],
   "source": [
    "from sklearn.linear_model import LinearRegression as model_constructor"
   ]
  },
  {
   "cell_type": "code",
   "execution_count": 14,
   "metadata": {
    "id": "-v7wL6THKCry",
    "outputId": "e6cc80c6-b1d9-4de9-e686-6a3b0717a6c3",
    "colab": {
     "base_uri": "https://localhost:8080/",
     "height": 739
    },
    "executionInfo": {
     "status": "ok",
     "timestamp": 1694359791407,
     "user_tz": -120,
     "elapsed": 263,
     "user": {
      "displayName": "Jesus Prada",
      "userId": "01990672692810654269"
     }
    },
    "ExecuteTime": {
     "end_time": "2023-09-17T16:19:06.594694Z",
     "start_time": "2023-09-17T16:19:06.522876700Z"
    }
   },
   "outputs": [
    {
     "data": {
      "text/plain": "       wt   hp  carb  gear   disp\n24  3.845  175     2     3  400.0\n10  3.440  123     4     4  167.6\n20  2.465   97     1     3  120.1\n26  2.140   91     2     5  120.3\n4   3.440  175     2     3  360.0\n2   2.320   93     1     4  108.0\n25  1.935   66     1     4   79.0\n6   3.570  245     4     3  360.0\n13  3.780  180     3     3  275.8\n7   3.190   62     2     4  146.7\n29  2.770  175     6     5  145.0\n1   2.875  110     4     4  160.0\n16  5.345  230     4     3  440.0\n0   2.620  110     4     4  160.0\n15  5.424  215     4     3  460.0\n31  2.780  109     2     4  121.0\n30  3.570  335     8     5  301.0\n9   3.440  123     4     4  167.6\n8   3.150   95     2     4  140.8\n12  3.730  180     3     3  275.8\n11  4.070  180     3     3  275.8\n5   3.460  105     1     3  225.0",
      "text/html": "<div>\n<style scoped>\n    .dataframe tbody tr th:only-of-type {\n        vertical-align: middle;\n    }\n\n    .dataframe tbody tr th {\n        vertical-align: top;\n    }\n\n    .dataframe thead th {\n        text-align: right;\n    }\n</style>\n<table border=\"1\" class=\"dataframe\">\n  <thead>\n    <tr style=\"text-align: right;\">\n      <th></th>\n      <th>wt</th>\n      <th>hp</th>\n      <th>carb</th>\n      <th>gear</th>\n      <th>disp</th>\n    </tr>\n  </thead>\n  <tbody>\n    <tr>\n      <th>24</th>\n      <td>3.845</td>\n      <td>175</td>\n      <td>2</td>\n      <td>3</td>\n      <td>400.0</td>\n    </tr>\n    <tr>\n      <th>10</th>\n      <td>3.440</td>\n      <td>123</td>\n      <td>4</td>\n      <td>4</td>\n      <td>167.6</td>\n    </tr>\n    <tr>\n      <th>20</th>\n      <td>2.465</td>\n      <td>97</td>\n      <td>1</td>\n      <td>3</td>\n      <td>120.1</td>\n    </tr>\n    <tr>\n      <th>26</th>\n      <td>2.140</td>\n      <td>91</td>\n      <td>2</td>\n      <td>5</td>\n      <td>120.3</td>\n    </tr>\n    <tr>\n      <th>4</th>\n      <td>3.440</td>\n      <td>175</td>\n      <td>2</td>\n      <td>3</td>\n      <td>360.0</td>\n    </tr>\n    <tr>\n      <th>2</th>\n      <td>2.320</td>\n      <td>93</td>\n      <td>1</td>\n      <td>4</td>\n      <td>108.0</td>\n    </tr>\n    <tr>\n      <th>25</th>\n      <td>1.935</td>\n      <td>66</td>\n      <td>1</td>\n      <td>4</td>\n      <td>79.0</td>\n    </tr>\n    <tr>\n      <th>6</th>\n      <td>3.570</td>\n      <td>245</td>\n      <td>4</td>\n      <td>3</td>\n      <td>360.0</td>\n    </tr>\n    <tr>\n      <th>13</th>\n      <td>3.780</td>\n      <td>180</td>\n      <td>3</td>\n      <td>3</td>\n      <td>275.8</td>\n    </tr>\n    <tr>\n      <th>7</th>\n      <td>3.190</td>\n      <td>62</td>\n      <td>2</td>\n      <td>4</td>\n      <td>146.7</td>\n    </tr>\n    <tr>\n      <th>29</th>\n      <td>2.770</td>\n      <td>175</td>\n      <td>6</td>\n      <td>5</td>\n      <td>145.0</td>\n    </tr>\n    <tr>\n      <th>1</th>\n      <td>2.875</td>\n      <td>110</td>\n      <td>4</td>\n      <td>4</td>\n      <td>160.0</td>\n    </tr>\n    <tr>\n      <th>16</th>\n      <td>5.345</td>\n      <td>230</td>\n      <td>4</td>\n      <td>3</td>\n      <td>440.0</td>\n    </tr>\n    <tr>\n      <th>0</th>\n      <td>2.620</td>\n      <td>110</td>\n      <td>4</td>\n      <td>4</td>\n      <td>160.0</td>\n    </tr>\n    <tr>\n      <th>15</th>\n      <td>5.424</td>\n      <td>215</td>\n      <td>4</td>\n      <td>3</td>\n      <td>460.0</td>\n    </tr>\n    <tr>\n      <th>31</th>\n      <td>2.780</td>\n      <td>109</td>\n      <td>2</td>\n      <td>4</td>\n      <td>121.0</td>\n    </tr>\n    <tr>\n      <th>30</th>\n      <td>3.570</td>\n      <td>335</td>\n      <td>8</td>\n      <td>5</td>\n      <td>301.0</td>\n    </tr>\n    <tr>\n      <th>9</th>\n      <td>3.440</td>\n      <td>123</td>\n      <td>4</td>\n      <td>4</td>\n      <td>167.6</td>\n    </tr>\n    <tr>\n      <th>8</th>\n      <td>3.150</td>\n      <td>95</td>\n      <td>2</td>\n      <td>4</td>\n      <td>140.8</td>\n    </tr>\n    <tr>\n      <th>12</th>\n      <td>3.730</td>\n      <td>180</td>\n      <td>3</td>\n      <td>3</td>\n      <td>275.8</td>\n    </tr>\n    <tr>\n      <th>11</th>\n      <td>4.070</td>\n      <td>180</td>\n      <td>3</td>\n      <td>3</td>\n      <td>275.8</td>\n    </tr>\n    <tr>\n      <th>5</th>\n      <td>3.460</td>\n      <td>105</td>\n      <td>1</td>\n      <td>3</td>\n      <td>225.0</td>\n    </tr>\n  </tbody>\n</table>\n</div>"
     },
     "execution_count": 14,
     "metadata": {},
     "output_type": "execute_result"
    }
   ],
   "source": [
    "X_train_new, X_val_new = important_vars(X_train, y_train,\n",
    "                                       model_constructor = model_constructor,\n",
    "                                       X_val = X_val, y_val = y_val,\n",
    "                                       p = 0.5,  method = 'generic')\n",
    "X_train_new"
   ]
  },
  {
   "cell_type": "code",
   "execution_count": 15,
   "metadata": {
    "id": "-GpIvHJYKCry",
    "outputId": "027e226e-5669-497a-9252-5113d2d90aee",
    "colab": {
     "base_uri": "https://localhost:8080/",
     "height": 739
    },
    "executionInfo": {
     "status": "ok",
     "timestamp": 1694359828977,
     "user_tz": -120,
     "elapsed": 233,
     "user": {
      "displayName": "Jesus Prada",
      "userId": "01990672692810654269"
     }
    },
    "ExecuteTime": {
     "end_time": "2023-09-17T16:19:08.573680700Z",
     "start_time": "2023-09-17T16:19:08.560838500Z"
    }
   },
   "outputs": [
    {
     "data": {
      "text/plain": "       wt   hp   qsec   disp  drat\n24  3.845  175  17.05  400.0  3.08\n10  3.440  123  18.90  167.6  3.92\n20  2.465   97  20.01  120.1  3.70\n26  2.140   91  16.70  120.3  4.43\n4   3.440  175  17.02  360.0  3.15\n2   2.320   93  18.61  108.0  3.85\n25  1.935   66  18.90   79.0  4.08\n6   3.570  245  15.84  360.0  3.21\n13  3.780  180  18.00  275.8  3.07\n7   3.190   62  20.00  146.7  3.69\n29  2.770  175  15.50  145.0  3.62\n1   2.875  110  17.02  160.0  3.90\n16  5.345  230  17.42  440.0  3.23\n0   2.620  110  16.46  160.0  3.90\n15  5.424  215  17.82  460.0  3.00\n31  2.780  109  18.60  121.0  4.11\n30  3.570  335  14.60  301.0  3.54\n9   3.440  123  18.30  167.6  3.92\n8   3.150   95  22.90  140.8  3.92\n12  3.730  180  17.60  275.8  3.07\n11  4.070  180  17.40  275.8  3.07\n5   3.460  105  20.22  225.0  2.76",
      "text/html": "<div>\n<style scoped>\n    .dataframe tbody tr th:only-of-type {\n        vertical-align: middle;\n    }\n\n    .dataframe tbody tr th {\n        vertical-align: top;\n    }\n\n    .dataframe thead th {\n        text-align: right;\n    }\n</style>\n<table border=\"1\" class=\"dataframe\">\n  <thead>\n    <tr style=\"text-align: right;\">\n      <th></th>\n      <th>wt</th>\n      <th>hp</th>\n      <th>qsec</th>\n      <th>disp</th>\n      <th>drat</th>\n    </tr>\n  </thead>\n  <tbody>\n    <tr>\n      <th>24</th>\n      <td>3.845</td>\n      <td>175</td>\n      <td>17.05</td>\n      <td>400.0</td>\n      <td>3.08</td>\n    </tr>\n    <tr>\n      <th>10</th>\n      <td>3.440</td>\n      <td>123</td>\n      <td>18.90</td>\n      <td>167.6</td>\n      <td>3.92</td>\n    </tr>\n    <tr>\n      <th>20</th>\n      <td>2.465</td>\n      <td>97</td>\n      <td>20.01</td>\n      <td>120.1</td>\n      <td>3.70</td>\n    </tr>\n    <tr>\n      <th>26</th>\n      <td>2.140</td>\n      <td>91</td>\n      <td>16.70</td>\n      <td>120.3</td>\n      <td>4.43</td>\n    </tr>\n    <tr>\n      <th>4</th>\n      <td>3.440</td>\n      <td>175</td>\n      <td>17.02</td>\n      <td>360.0</td>\n      <td>3.15</td>\n    </tr>\n    <tr>\n      <th>2</th>\n      <td>2.320</td>\n      <td>93</td>\n      <td>18.61</td>\n      <td>108.0</td>\n      <td>3.85</td>\n    </tr>\n    <tr>\n      <th>25</th>\n      <td>1.935</td>\n      <td>66</td>\n      <td>18.90</td>\n      <td>79.0</td>\n      <td>4.08</td>\n    </tr>\n    <tr>\n      <th>6</th>\n      <td>3.570</td>\n      <td>245</td>\n      <td>15.84</td>\n      <td>360.0</td>\n      <td>3.21</td>\n    </tr>\n    <tr>\n      <th>13</th>\n      <td>3.780</td>\n      <td>180</td>\n      <td>18.00</td>\n      <td>275.8</td>\n      <td>3.07</td>\n    </tr>\n    <tr>\n      <th>7</th>\n      <td>3.190</td>\n      <td>62</td>\n      <td>20.00</td>\n      <td>146.7</td>\n      <td>3.69</td>\n    </tr>\n    <tr>\n      <th>29</th>\n      <td>2.770</td>\n      <td>175</td>\n      <td>15.50</td>\n      <td>145.0</td>\n      <td>3.62</td>\n    </tr>\n    <tr>\n      <th>1</th>\n      <td>2.875</td>\n      <td>110</td>\n      <td>17.02</td>\n      <td>160.0</td>\n      <td>3.90</td>\n    </tr>\n    <tr>\n      <th>16</th>\n      <td>5.345</td>\n      <td>230</td>\n      <td>17.42</td>\n      <td>440.0</td>\n      <td>3.23</td>\n    </tr>\n    <tr>\n      <th>0</th>\n      <td>2.620</td>\n      <td>110</td>\n      <td>16.46</td>\n      <td>160.0</td>\n      <td>3.90</td>\n    </tr>\n    <tr>\n      <th>15</th>\n      <td>5.424</td>\n      <td>215</td>\n      <td>17.82</td>\n      <td>460.0</td>\n      <td>3.00</td>\n    </tr>\n    <tr>\n      <th>31</th>\n      <td>2.780</td>\n      <td>109</td>\n      <td>18.60</td>\n      <td>121.0</td>\n      <td>4.11</td>\n    </tr>\n    <tr>\n      <th>30</th>\n      <td>3.570</td>\n      <td>335</td>\n      <td>14.60</td>\n      <td>301.0</td>\n      <td>3.54</td>\n    </tr>\n    <tr>\n      <th>9</th>\n      <td>3.440</td>\n      <td>123</td>\n      <td>18.30</td>\n      <td>167.6</td>\n      <td>3.92</td>\n    </tr>\n    <tr>\n      <th>8</th>\n      <td>3.150</td>\n      <td>95</td>\n      <td>22.90</td>\n      <td>140.8</td>\n      <td>3.92</td>\n    </tr>\n    <tr>\n      <th>12</th>\n      <td>3.730</td>\n      <td>180</td>\n      <td>17.60</td>\n      <td>275.8</td>\n      <td>3.07</td>\n    </tr>\n    <tr>\n      <th>11</th>\n      <td>4.070</td>\n      <td>180</td>\n      <td>17.40</td>\n      <td>275.8</td>\n      <td>3.07</td>\n    </tr>\n    <tr>\n      <th>5</th>\n      <td>3.460</td>\n      <td>105</td>\n      <td>20.22</td>\n      <td>225.0</td>\n      <td>2.76</td>\n    </tr>\n  </tbody>\n</table>\n</div>"
     },
     "execution_count": 15,
     "metadata": {},
     "output_type": "execute_result"
    }
   ],
   "source": [
    "X_train_new, X_val_new = important_vars(X_train, y_train,\n",
    "                                       model_constructor = None,\n",
    "                                       X_val = X_val, y_val = y_val,\n",
    "                                       p = 0.5,  method = 'tree')\n",
    "X_train_new"
   ]
  }
 ],
 "metadata": {
  "kernelspec": {
   "display_name": "Python 3",
   "language": "python",
   "name": "python3"
  },
  "language_info": {
   "codemirror_mode": {
    "name": "ipython",
    "version": 3
   },
   "file_extension": ".py",
   "mimetype": "text/x-python",
   "name": "python",
   "nbconvert_exporter": "python",
   "pygments_lexer": "ipython3",
   "version": "3.8.5"
  },
  "colab": {
   "provenance": []
  }
 },
 "nbformat": 4,
 "nbformat_minor": 0
}
