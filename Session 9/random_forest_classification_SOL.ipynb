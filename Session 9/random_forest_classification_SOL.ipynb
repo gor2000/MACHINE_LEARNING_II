{
 "cells": [
  {
   "cell_type": "code",
   "execution_count": 12,
   "metadata": {
    "id": "zAIy5xxhR1jq",
    "executionInfo": {
     "status": "ok",
     "timestamp": 1694962192906,
     "user_tz": -120,
     "elapsed": 1756,
     "user": {
      "displayName": "Jesus Prada",
      "userId": "01990672692810654269"
     }
    },
    "ExecuteTime": {
     "end_time": "2023-09-18T17:55:31.521658Z",
     "start_time": "2023-09-18T17:55:31.511631500Z"
    }
   },
   "outputs": [],
   "source": [
    "# Load libraries\n",
    "import numpy as np;\n",
    "import pandas as pd\n",
    "\n",
    "from timeit import default_timer\n",
    "\n",
    "from sklearn.model_selection import train_test_split"
   ]
  },
  {
   "cell_type": "markdown",
   "metadata": {
    "id": "AKjW1IzZR1jr"
   },
   "source": [
    "# Random Forest Exercise"
   ]
  },
  {
   "cell_type": "markdown",
   "metadata": {
    "id": "jYLRg47NR1jt"
   },
   "source": [
    "In this exercise you will have to implement code in the section *Fill with Your Code* to create a random forest to predict the target column of the Breast cancer dataset.\n",
    "\n",
    "The code that is already written in this notebook **CANNOT BE CHANGED**. You can only add code in the *Fill with Your Code* section.\n",
    "\n",
    "You must achieve in the last cell of this notebook an **F1-score over test of at least 0.35**."
   ]
  },
  {
   "cell_type": "markdown",
   "metadata": {
    "id": "3TXeFiq2R1ju"
   },
   "source": [
    "## Key Hyperparameters"
   ]
  },
  {
   "cell_type": "code",
   "execution_count": 13,
   "metadata": {
    "id": "g8m-6BLHR1ju",
    "executionInfo": {
     "status": "ok",
     "timestamp": 1694962193176,
     "user_tz": -120,
     "elapsed": 273,
     "user": {
      "displayName": "Jesus Prada",
      "userId": "01990672692810654269"
     }
    },
    "ExecuteTime": {
     "end_time": "2023-09-18T17:55:32.786850600Z",
     "start_time": "2023-09-18T17:55:32.765843200Z"
    }
   },
   "outputs": [],
   "source": [
    "# [1] Import model\n",
    "from sklearn.ensemble import RandomForestClassifier as model_constructor"
   ]
  },
  {
   "cell_type": "markdown",
   "metadata": {
    "id": "HksBrd2FR1jv"
   },
   "source": [
    "## Data"
   ]
  },
  {
   "cell_type": "code",
   "execution_count": 22,
   "metadata": {
    "id": "SQBkGWWER1jw",
    "executionInfo": {
     "status": "ok",
     "timestamp": 1694962433535,
     "user_tz": -120,
     "elapsed": 251,
     "user": {
      "displayName": "Jesus Prada",
      "userId": "01990672692810654269"
     }
    },
    "ExecuteTime": {
     "end_time": "2023-09-18T18:05:40.798312800Z",
     "start_time": "2023-09-18T18:05:40.752925Z"
    }
   },
   "outputs": [],
   "source": [
    "import io\n",
    "dat = pd.read_csv('../data/healthcare.csv', sep = \";\")\n",
    "y = dat['exitus']\n",
    "X = dat.drop(['exitus', 'date'], axis = 1)"
   ]
  },
  {
   "cell_type": "code",
   "execution_count": 23,
   "outputs": [
    {
     "data": {
      "text/plain": "          date  severity  mortality_ratio    age  num_proc  ambulatory  \\\n0      2016-01         4         0.408730  12596        21           0   \n1      2016-01         4         0.306931  20973        22           0   \n2      2016-01         4         0.278481  19611        19           0   \n3      2016-01         3         0.150289  13583        22           0   \n4      2016-01         1         0.016573  18042         2           0   \n...        ...       ...              ...    ...       ...         ...   \n32701  2016-12         2         0.028365  23619         2           0   \n32702  2016-12         1         0.000606   3935         1           0   \n32703  2016-12         2         0.040452  30163         4           0   \n32704  2016-12         2         0.000000  29012         4           0   \n32705  2016-12         1         0.000000  13244         1           1   \n\n       origin  expected_length tip_grd  tip_adm  exitus  \n0           1              151       Q      1.0       0  \n1           1               99       Q      1.0       0  \n2           1               87       Q      1.0       0  \n3           1              100       Q      1.0       0  \n4           1               44       Q      1.0       0  \n...       ...              ...     ...      ...     ...  \n32701       1                2       M      1.0       0  \n32702       1                2       M      1.0       0  \n32703       1                2       M      1.0       0  \n32704       1                0       M      1.0       0  \n32705       1                0       Q      1.0       0  \n\n[32706 rows x 11 columns]",
      "text/html": "<div>\n<style scoped>\n    .dataframe tbody tr th:only-of-type {\n        vertical-align: middle;\n    }\n\n    .dataframe tbody tr th {\n        vertical-align: top;\n    }\n\n    .dataframe thead th {\n        text-align: right;\n    }\n</style>\n<table border=\"1\" class=\"dataframe\">\n  <thead>\n    <tr style=\"text-align: right;\">\n      <th></th>\n      <th>date</th>\n      <th>severity</th>\n      <th>mortality_ratio</th>\n      <th>age</th>\n      <th>num_proc</th>\n      <th>ambulatory</th>\n      <th>origin</th>\n      <th>expected_length</th>\n      <th>tip_grd</th>\n      <th>tip_adm</th>\n      <th>exitus</th>\n    </tr>\n  </thead>\n  <tbody>\n    <tr>\n      <th>0</th>\n      <td>2016-01</td>\n      <td>4</td>\n      <td>0.408730</td>\n      <td>12596</td>\n      <td>21</td>\n      <td>0</td>\n      <td>1</td>\n      <td>151</td>\n      <td>Q</td>\n      <td>1.0</td>\n      <td>0</td>\n    </tr>\n    <tr>\n      <th>1</th>\n      <td>2016-01</td>\n      <td>4</td>\n      <td>0.306931</td>\n      <td>20973</td>\n      <td>22</td>\n      <td>0</td>\n      <td>1</td>\n      <td>99</td>\n      <td>Q</td>\n      <td>1.0</td>\n      <td>0</td>\n    </tr>\n    <tr>\n      <th>2</th>\n      <td>2016-01</td>\n      <td>4</td>\n      <td>0.278481</td>\n      <td>19611</td>\n      <td>19</td>\n      <td>0</td>\n      <td>1</td>\n      <td>87</td>\n      <td>Q</td>\n      <td>1.0</td>\n      <td>0</td>\n    </tr>\n    <tr>\n      <th>3</th>\n      <td>2016-01</td>\n      <td>3</td>\n      <td>0.150289</td>\n      <td>13583</td>\n      <td>22</td>\n      <td>0</td>\n      <td>1</td>\n      <td>100</td>\n      <td>Q</td>\n      <td>1.0</td>\n      <td>0</td>\n    </tr>\n    <tr>\n      <th>4</th>\n      <td>2016-01</td>\n      <td>1</td>\n      <td>0.016573</td>\n      <td>18042</td>\n      <td>2</td>\n      <td>0</td>\n      <td>1</td>\n      <td>44</td>\n      <td>Q</td>\n      <td>1.0</td>\n      <td>0</td>\n    </tr>\n    <tr>\n      <th>...</th>\n      <td>...</td>\n      <td>...</td>\n      <td>...</td>\n      <td>...</td>\n      <td>...</td>\n      <td>...</td>\n      <td>...</td>\n      <td>...</td>\n      <td>...</td>\n      <td>...</td>\n      <td>...</td>\n    </tr>\n    <tr>\n      <th>32701</th>\n      <td>2016-12</td>\n      <td>2</td>\n      <td>0.028365</td>\n      <td>23619</td>\n      <td>2</td>\n      <td>0</td>\n      <td>1</td>\n      <td>2</td>\n      <td>M</td>\n      <td>1.0</td>\n      <td>0</td>\n    </tr>\n    <tr>\n      <th>32702</th>\n      <td>2016-12</td>\n      <td>1</td>\n      <td>0.000606</td>\n      <td>3935</td>\n      <td>1</td>\n      <td>0</td>\n      <td>1</td>\n      <td>2</td>\n      <td>M</td>\n      <td>1.0</td>\n      <td>0</td>\n    </tr>\n    <tr>\n      <th>32703</th>\n      <td>2016-12</td>\n      <td>2</td>\n      <td>0.040452</td>\n      <td>30163</td>\n      <td>4</td>\n      <td>0</td>\n      <td>1</td>\n      <td>2</td>\n      <td>M</td>\n      <td>1.0</td>\n      <td>0</td>\n    </tr>\n    <tr>\n      <th>32704</th>\n      <td>2016-12</td>\n      <td>2</td>\n      <td>0.000000</td>\n      <td>29012</td>\n      <td>4</td>\n      <td>0</td>\n      <td>1</td>\n      <td>0</td>\n      <td>M</td>\n      <td>1.0</td>\n      <td>0</td>\n    </tr>\n    <tr>\n      <th>32705</th>\n      <td>2016-12</td>\n      <td>1</td>\n      <td>0.000000</td>\n      <td>13244</td>\n      <td>1</td>\n      <td>1</td>\n      <td>1</td>\n      <td>0</td>\n      <td>Q</td>\n      <td>1.0</td>\n      <td>0</td>\n    </tr>\n  </tbody>\n</table>\n<p>32706 rows × 11 columns</p>\n</div>"
     },
     "execution_count": 23,
     "metadata": {},
     "output_type": "execute_result"
    }
   ],
   "source": [
    "dat"
   ],
   "metadata": {
    "collapsed": false,
    "ExecuteTime": {
     "end_time": "2023-09-18T18:05:42.112581900Z",
     "start_time": "2023-09-18T18:05:42.068852400Z"
    }
   }
  },
  {
   "cell_type": "markdown",
   "source": [
    "# Fill with Your Code"
   ],
   "metadata": {
    "id": "zpnDvkp0nu1_"
   }
  },
  {
   "cell_type": "code",
   "source": [
    "from sklearn.preprocessing import OneHotEncoder\n",
    "\n",
    "### One Hot Encoding\n",
    "categorical_vars = ['severity', 'origin', 'ambulatory', 'tip_grd', 'tip_adm']\n",
    "non_categorical_vars = list(set(X.columns) - set(categorical_vars))\n",
    "\n",
    "# 3 defining the model\n",
    "ohe = OneHotEncoder(sparse_output = False)\n",
    "\n",
    "# 4) Training model\n",
    "ohe.fit(X)\n",
    "\n",
    "# 5) Predicting\n",
    "dat_ohe = pd.DataFrame(ohe.fit_transform(X[categorical_vars]))\n",
    "\n",
    "# Optional\n",
    "dat_ohe.columns = ohe.get_feature_names_out()\n",
    "\n",
    "# Combine numerical and categorical\n",
    "dat = pd.concat((X[non_categorical_vars], dat_ohe), axis=1)\n",
    "\n",
    "dat"
   ],
   "metadata": {
    "id": "WDmM6oSRSC9-",
    "colab": {
     "base_uri": "https://localhost:8080/"
    },
    "executionInfo": {
     "status": "ok",
     "timestamp": 1694962446339,
     "user_tz": -120,
     "elapsed": 10444,
     "user": {
      "displayName": "Jesus Prada",
      "userId": "01990672692810654269"
     }
    },
    "outputId": "0341395e-8b61-47bd-821a-f5e694576933",
    "ExecuteTime": {
     "end_time": "2023-09-18T17:55:35.329749600Z",
     "start_time": "2023-09-18T17:55:35.276408600Z"
    }
   },
   "execution_count": 15,
   "outputs": [
    {
     "data": {
      "text/plain": "       expected_length  num_proc    age  mortality_ratio  severity_1  \\\n0                  151        21  12596         0.408730         0.0   \n1                   99        22  20973         0.306931         0.0   \n2                   87        19  19611         0.278481         0.0   \n3                  100        22  13583         0.150289         0.0   \n4                   44         2  18042         0.016573         1.0   \n...                ...       ...    ...              ...         ...   \n32701                2         2  23619         0.028365         0.0   \n32702                2         1   3935         0.000606         1.0   \n32703                2         4  30163         0.040452         0.0   \n32704                0         4  29012         0.000000         0.0   \n32705                0         1  13244         0.000000         1.0   \n\n       severity_2  severity_3  severity_4  origin_1  origin_2  ...  origin_9  \\\n0             0.0         0.0         1.0       1.0       0.0  ...       0.0   \n1             0.0         0.0         1.0       1.0       0.0  ...       0.0   \n2             0.0         0.0         1.0       1.0       0.0  ...       0.0   \n3             0.0         1.0         0.0       1.0       0.0  ...       0.0   \n4             0.0         0.0         0.0       1.0       0.0  ...       0.0   \n...           ...         ...         ...       ...       ...  ...       ...   \n32701         1.0         0.0         0.0       1.0       0.0  ...       0.0   \n32702         0.0         0.0         0.0       1.0       0.0  ...       0.0   \n32703         1.0         0.0         0.0       1.0       0.0  ...       0.0   \n32704         1.0         0.0         0.0       1.0       0.0  ...       0.0   \n32705         0.0         0.0         0.0       1.0       0.0  ...       0.0   \n\n       ambulatory_0  ambulatory_1  tip_grd_M  tip_grd_Q  tip_grd_nan  \\\n0               1.0           0.0        0.0        1.0          0.0   \n1               1.0           0.0        0.0        1.0          0.0   \n2               1.0           0.0        0.0        1.0          0.0   \n3               1.0           0.0        0.0        1.0          0.0   \n4               1.0           0.0        0.0        1.0          0.0   \n...             ...           ...        ...        ...          ...   \n32701           1.0           0.0        1.0        0.0          0.0   \n32702           1.0           0.0        1.0        0.0          0.0   \n32703           1.0           0.0        1.0        0.0          0.0   \n32704           1.0           0.0        1.0        0.0          0.0   \n32705           0.0           1.0        0.0        1.0          0.0   \n\n       tip_adm_1.0  tip_adm_2.0  tip_adm_3.0  tip_adm_nan  \n0              1.0          0.0          0.0          0.0  \n1              1.0          0.0          0.0          0.0  \n2              1.0          0.0          0.0          0.0  \n3              1.0          0.0          0.0          0.0  \n4              1.0          0.0          0.0          0.0  \n...            ...          ...          ...          ...  \n32701          1.0          0.0          0.0          0.0  \n32702          1.0          0.0          0.0          0.0  \n32703          1.0          0.0          0.0          0.0  \n32704          1.0          0.0          0.0          0.0  \n32705          1.0          0.0          0.0          0.0  \n\n[32706 rows x 25 columns]",
      "text/html": "<div>\n<style scoped>\n    .dataframe tbody tr th:only-of-type {\n        vertical-align: middle;\n    }\n\n    .dataframe tbody tr th {\n        vertical-align: top;\n    }\n\n    .dataframe thead th {\n        text-align: right;\n    }\n</style>\n<table border=\"1\" class=\"dataframe\">\n  <thead>\n    <tr style=\"text-align: right;\">\n      <th></th>\n      <th>expected_length</th>\n      <th>num_proc</th>\n      <th>age</th>\n      <th>mortality_ratio</th>\n      <th>severity_1</th>\n      <th>severity_2</th>\n      <th>severity_3</th>\n      <th>severity_4</th>\n      <th>origin_1</th>\n      <th>origin_2</th>\n      <th>...</th>\n      <th>origin_9</th>\n      <th>ambulatory_0</th>\n      <th>ambulatory_1</th>\n      <th>tip_grd_M</th>\n      <th>tip_grd_Q</th>\n      <th>tip_grd_nan</th>\n      <th>tip_adm_1.0</th>\n      <th>tip_adm_2.0</th>\n      <th>tip_adm_3.0</th>\n      <th>tip_adm_nan</th>\n    </tr>\n  </thead>\n  <tbody>\n    <tr>\n      <th>0</th>\n      <td>151</td>\n      <td>21</td>\n      <td>12596</td>\n      <td>0.408730</td>\n      <td>0.0</td>\n      <td>0.0</td>\n      <td>0.0</td>\n      <td>1.0</td>\n      <td>1.0</td>\n      <td>0.0</td>\n      <td>...</td>\n      <td>0.0</td>\n      <td>1.0</td>\n      <td>0.0</td>\n      <td>0.0</td>\n      <td>1.0</td>\n      <td>0.0</td>\n      <td>1.0</td>\n      <td>0.0</td>\n      <td>0.0</td>\n      <td>0.0</td>\n    </tr>\n    <tr>\n      <th>1</th>\n      <td>99</td>\n      <td>22</td>\n      <td>20973</td>\n      <td>0.306931</td>\n      <td>0.0</td>\n      <td>0.0</td>\n      <td>0.0</td>\n      <td>1.0</td>\n      <td>1.0</td>\n      <td>0.0</td>\n      <td>...</td>\n      <td>0.0</td>\n      <td>1.0</td>\n      <td>0.0</td>\n      <td>0.0</td>\n      <td>1.0</td>\n      <td>0.0</td>\n      <td>1.0</td>\n      <td>0.0</td>\n      <td>0.0</td>\n      <td>0.0</td>\n    </tr>\n    <tr>\n      <th>2</th>\n      <td>87</td>\n      <td>19</td>\n      <td>19611</td>\n      <td>0.278481</td>\n      <td>0.0</td>\n      <td>0.0</td>\n      <td>0.0</td>\n      <td>1.0</td>\n      <td>1.0</td>\n      <td>0.0</td>\n      <td>...</td>\n      <td>0.0</td>\n      <td>1.0</td>\n      <td>0.0</td>\n      <td>0.0</td>\n      <td>1.0</td>\n      <td>0.0</td>\n      <td>1.0</td>\n      <td>0.0</td>\n      <td>0.0</td>\n      <td>0.0</td>\n    </tr>\n    <tr>\n      <th>3</th>\n      <td>100</td>\n      <td>22</td>\n      <td>13583</td>\n      <td>0.150289</td>\n      <td>0.0</td>\n      <td>0.0</td>\n      <td>1.0</td>\n      <td>0.0</td>\n      <td>1.0</td>\n      <td>0.0</td>\n      <td>...</td>\n      <td>0.0</td>\n      <td>1.0</td>\n      <td>0.0</td>\n      <td>0.0</td>\n      <td>1.0</td>\n      <td>0.0</td>\n      <td>1.0</td>\n      <td>0.0</td>\n      <td>0.0</td>\n      <td>0.0</td>\n    </tr>\n    <tr>\n      <th>4</th>\n      <td>44</td>\n      <td>2</td>\n      <td>18042</td>\n      <td>0.016573</td>\n      <td>1.0</td>\n      <td>0.0</td>\n      <td>0.0</td>\n      <td>0.0</td>\n      <td>1.0</td>\n      <td>0.0</td>\n      <td>...</td>\n      <td>0.0</td>\n      <td>1.0</td>\n      <td>0.0</td>\n      <td>0.0</td>\n      <td>1.0</td>\n      <td>0.0</td>\n      <td>1.0</td>\n      <td>0.0</td>\n      <td>0.0</td>\n      <td>0.0</td>\n    </tr>\n    <tr>\n      <th>...</th>\n      <td>...</td>\n      <td>...</td>\n      <td>...</td>\n      <td>...</td>\n      <td>...</td>\n      <td>...</td>\n      <td>...</td>\n      <td>...</td>\n      <td>...</td>\n      <td>...</td>\n      <td>...</td>\n      <td>...</td>\n      <td>...</td>\n      <td>...</td>\n      <td>...</td>\n      <td>...</td>\n      <td>...</td>\n      <td>...</td>\n      <td>...</td>\n      <td>...</td>\n      <td>...</td>\n    </tr>\n    <tr>\n      <th>32701</th>\n      <td>2</td>\n      <td>2</td>\n      <td>23619</td>\n      <td>0.028365</td>\n      <td>0.0</td>\n      <td>1.0</td>\n      <td>0.0</td>\n      <td>0.0</td>\n      <td>1.0</td>\n      <td>0.0</td>\n      <td>...</td>\n      <td>0.0</td>\n      <td>1.0</td>\n      <td>0.0</td>\n      <td>1.0</td>\n      <td>0.0</td>\n      <td>0.0</td>\n      <td>1.0</td>\n      <td>0.0</td>\n      <td>0.0</td>\n      <td>0.0</td>\n    </tr>\n    <tr>\n      <th>32702</th>\n      <td>2</td>\n      <td>1</td>\n      <td>3935</td>\n      <td>0.000606</td>\n      <td>1.0</td>\n      <td>0.0</td>\n      <td>0.0</td>\n      <td>0.0</td>\n      <td>1.0</td>\n      <td>0.0</td>\n      <td>...</td>\n      <td>0.0</td>\n      <td>1.0</td>\n      <td>0.0</td>\n      <td>1.0</td>\n      <td>0.0</td>\n      <td>0.0</td>\n      <td>1.0</td>\n      <td>0.0</td>\n      <td>0.0</td>\n      <td>0.0</td>\n    </tr>\n    <tr>\n      <th>32703</th>\n      <td>2</td>\n      <td>4</td>\n      <td>30163</td>\n      <td>0.040452</td>\n      <td>0.0</td>\n      <td>1.0</td>\n      <td>0.0</td>\n      <td>0.0</td>\n      <td>1.0</td>\n      <td>0.0</td>\n      <td>...</td>\n      <td>0.0</td>\n      <td>1.0</td>\n      <td>0.0</td>\n      <td>1.0</td>\n      <td>0.0</td>\n      <td>0.0</td>\n      <td>1.0</td>\n      <td>0.0</td>\n      <td>0.0</td>\n      <td>0.0</td>\n    </tr>\n    <tr>\n      <th>32704</th>\n      <td>0</td>\n      <td>4</td>\n      <td>29012</td>\n      <td>0.000000</td>\n      <td>0.0</td>\n      <td>1.0</td>\n      <td>0.0</td>\n      <td>0.0</td>\n      <td>1.0</td>\n      <td>0.0</td>\n      <td>...</td>\n      <td>0.0</td>\n      <td>1.0</td>\n      <td>0.0</td>\n      <td>1.0</td>\n      <td>0.0</td>\n      <td>0.0</td>\n      <td>1.0</td>\n      <td>0.0</td>\n      <td>0.0</td>\n      <td>0.0</td>\n    </tr>\n    <tr>\n      <th>32705</th>\n      <td>0</td>\n      <td>1</td>\n      <td>13244</td>\n      <td>0.000000</td>\n      <td>1.0</td>\n      <td>0.0</td>\n      <td>0.0</td>\n      <td>0.0</td>\n      <td>1.0</td>\n      <td>0.0</td>\n      <td>...</td>\n      <td>0.0</td>\n      <td>0.0</td>\n      <td>1.0</td>\n      <td>0.0</td>\n      <td>1.0</td>\n      <td>0.0</td>\n      <td>1.0</td>\n      <td>0.0</td>\n      <td>0.0</td>\n      <td>0.0</td>\n    </tr>\n  </tbody>\n</table>\n<p>32706 rows × 25 columns</p>\n</div>"
     },
     "execution_count": 15,
     "metadata": {},
     "output_type": "execute_result"
    }
   ]
  },
  {
   "cell_type": "code",
   "execution_count": 16,
   "outputs": [],
   "source": [
    "### Fill missing values\n",
    "from fancyimpute import IterativeImputer as MICE # pip install fancyimpute\n",
    "numerical_vars = list(set(dat.columns) - {'exitus', 'dataset'})\n",
    "model = MICE()\n",
    "dat[numerical_vars] = model.fit_transform(dat[numerical_vars])"
   ],
   "metadata": {
    "collapsed": false,
    "ExecuteTime": {
     "end_time": "2023-09-18T17:55:39.684170Z",
     "start_time": "2023-09-18T17:55:38.442687500Z"
    }
   }
  },
  {
   "cell_type": "code",
   "execution_count": 17,
   "metadata": {
    "id": "KzdRRqZKR1jx",
    "executionInfo": {
     "status": "ok",
     "timestamp": 1694962557989,
     "user_tz": -120,
     "elapsed": 277,
     "user": {
      "displayName": "Jesus Prada",
      "userId": "01990672692810654269"
     }
    },
    "ExecuteTime": {
     "end_time": "2023-09-18T17:55:41.127111700Z",
     "start_time": "2023-09-18T17:55:41.062969600Z"
    }
   },
   "outputs": [],
   "source": [
    "perc_values = [0.7, 0.15, 0.15]\n",
    "X_train, X_valtest, y_train, y_valtest = train_test_split(dat, y, stratify = y, test_size=perc_values[1] + perc_values[2], random_state=1);\n",
    "X_val, X_test, y_val, y_test = train_test_split(X_valtest, y_valtest, stratify = y_valtest, test_size= perc_values[2] / (perc_values[1] + perc_values[2]), random_state=1)"
   ]
  },
  {
   "cell_type": "code",
   "execution_count": 18,
   "metadata": {
    "id": "caChYdK1R1j0",
    "colab": {
     "base_uri": "https://localhost:8080/"
    },
    "executionInfo": {
     "status": "ok",
     "timestamp": 1694962715587,
     "user_tz": -120,
     "elapsed": 154819,
     "user": {
      "displayName": "Jesus Prada",
      "userId": "01990672692810654269"
     }
    },
    "outputId": "b1156bba-8005-4b43-fc2d-3a829b2d5d9f",
    "ExecuteTime": {
     "end_time": "2023-09-18T17:57:14.666816500Z",
     "start_time": "2023-09-18T17:55:42.779722200Z"
    }
   },
   "outputs": [
    {
     "name": "stdout",
     "output_type": "stream",
     "text": [
      "Iteracion = 1\n",
      "Metric train = 0.01 - Metric validation = 0.00.\n",
      "Iteracion = 2\n",
      "Metric train = 0.19 - Metric validation = 0.25.\n",
      "Iteracion = 3\n",
      "Metric train = 0.93 - Metric validation = 0.35.\n",
      "Iteracion = 4\n",
      "Metric train = 0.00 - Metric validation = 0.00.\n",
      "Iteracion = 5\n",
      "Metric train = 0.21 - Metric validation = 0.26.\n",
      "Iteracion = 6\n",
      "Metric train = 1.00 - Metric validation = 0.35.\n",
      "Iteracion = 7\n",
      "Metric train = 0.00 - Metric validation = 0.00.\n",
      "Iteracion = 8\n",
      "Metric train = 0.22 - Metric validation = 0.27.\n",
      "Iteracion = 9\n",
      "Metric train = 1.00 - Metric validation = 0.35.\n",
      "Iteracion = 10\n",
      "Metric train = 0.12 - Metric validation = 0.18.\n",
      "Iteracion = 11\n",
      "Metric train = 0.25 - Metric validation = 0.17.\n",
      "Iteracion = 12\n",
      "Metric train = 0.94 - Metric validation = 0.31.\n",
      "Iteracion = 13\n",
      "Metric train = 0.02 - Metric validation = 0.01.\n",
      "Iteracion = 14\n",
      "Metric train = 0.24 - Metric validation = 0.25.\n",
      "Iteracion = 15\n",
      "Metric train = 1.00 - Metric validation = 0.37.\n",
      "Iteracion = 16\n",
      "Metric train = 0.00 - Metric validation = 0.00.\n",
      "Iteracion = 17\n",
      "Metric train = 0.24 - Metric validation = 0.25.\n",
      "Iteracion = 18\n",
      "Metric train = 1.00 - Metric validation = 0.35.\n",
      "Iteracion = 19\n",
      "Metric train = 0.02 - Metric validation = 0.03.\n",
      "Iteracion = 20\n",
      "Metric train = 0.22 - Metric validation = 0.23.\n",
      "Iteracion = 21\n",
      "Metric train = 0.93 - Metric validation = 0.32.\n",
      "Iteracion = 22\n",
      "Metric train = 0.01 - Metric validation = 0.01.\n",
      "Iteracion = 23\n",
      "Metric train = 0.26 - Metric validation = 0.26.\n",
      "Iteracion = 24\n",
      "Metric train = 1.00 - Metric validation = 0.35.\n",
      "Iteracion = 25\n",
      "Metric train = 0.02 - Metric validation = 0.03.\n",
      "Iteracion = 26\n",
      "Metric train = 0.27 - Metric validation = 0.29.\n",
      "Iteracion = 27\n",
      "Metric train = 1.00 - Metric validation = 0.37.\n"
     ]
    }
   ],
   "source": [
    "from sklearn.ensemble import RandomForestClassifier as model_constructor\n",
    "from sklearn.metrics import f1_score as metric\n",
    "\n",
    "# Random Forest\n",
    "n_estimators_values = [10, 100, 1000];\n",
    "max_features_values = [2, 5, 10]\n",
    "max_samples_values = [100, 1000, X_train.shape[0]]\n",
    "\n",
    "params_grid = {'max_features': max_features_values,\n",
    "              'n_estimators': n_estimators_values,\n",
    "               'max_samples': max_samples_values}\n",
    "\n",
    "num_iter = 1;\n",
    "grid_results = pd.DataFrame(columns = ('max_features',\n",
    "                                       'n_estimators',\n",
    "                                       'max_samples',\n",
    "                                       'metric_train',\n",
    "                                       'metric_val'))\n",
    "\n",
    "for max_features in params_grid['max_features']:\n",
    "    for n_estimators in params_grid['n_estimators']:\n",
    "        for max_samples in params_grid['max_samples']:\n",
    "\n",
    "                        # Print trace\n",
    "                        print('Iteracion = ' + str(num_iter))\n",
    "\n",
    "                        # [3] Define model\n",
    "                        model = model_constructor(max_features = max_features,\n",
    "                                                  n_estimators = n_estimators,\n",
    "                                                  max_samples = max_samples,\n",
    "                                                  random_state = 0)\n",
    "\n",
    "                        # [4] Train model\n",
    "                        model.fit(X_train, y_train)\n",
    "\n",
    "\n",
    "                        # [5] Predict\n",
    "                        pred_train = model.predict(X_train) # predict!\n",
    "                        pred_val = model.predict(X_val) # predict!\n",
    "\n",
    "                        # [6] Compute metric\n",
    "                        metric_train = metric(y_train, pred_train)\n",
    "                        metric_val = metric(y_val, pred_val)\n",
    "\n",
    "                        # print error\n",
    "                        print('Metric train = %.2f - Metric validation = %.2f.'\n",
    "                              % (metric_train, metric_val))\n",
    "\n",
    "                        # Save iteration results\n",
    "                        grid_results.loc[num_iter]=[ max_features,\n",
    "                                                    n_estimators,\n",
    "                                                    max_samples,\n",
    "                                                 metric_train,\n",
    "                                                 metric_val]\n",
    "                        num_iter += 1\n",
    "\n",
    "\n"
   ]
  },
  {
   "cell_type": "code",
   "source": [
    "grid_results = grid_results.sort_values(by = ['metric_val', 'metric_train'], ascending = [False, True])\n",
    "best_model = grid_results.iloc[0]\n",
    "best_model"
   ],
   "metadata": {
    "colab": {
     "base_uri": "https://localhost:8080/"
    },
    "id": "welouvnKpRhT",
    "executionInfo": {
     "status": "ok",
     "timestamp": 1694963168224,
     "user_tz": -120,
     "elapsed": 291,
     "user": {
      "displayName": "Jesus Prada",
      "userId": "01990672692810654269"
     }
    },
    "outputId": "6a0f4d88-0408-4317-80e7-b7267ac8b34d"
   },
   "execution_count": 42,
   "outputs": [
    {
     "output_type": "execute_result",
     "data": {
      "text/plain": [
       "max_features      10.000000\n",
       "n_estimators    1000.000000\n",
       "max_samples     1000.000000\n",
       "metric_train       0.267299\n",
       "metric_val         0.291845\n",
       "Name: 26, dtype: float64"
      ]
     },
     "metadata": {},
     "execution_count": 42
    }
   ]
  },
  {
   "cell_type": "markdown",
   "metadata": {
    "id": "YOUDcDL5R1j1"
   },
   "source": [
    "## Final Model"
   ]
  },
  {
   "cell_type": "markdown",
   "metadata": {
    "id": "OpwnIwIAR1j1"
   },
   "source": [
    "Validation has served its purpose, let's combine it with train to get more training data."
   ]
  },
  {
   "cell_type": "code",
   "execution_count": 28,
   "metadata": {
    "id": "E1ReuZUUR1j2",
    "colab": {
     "base_uri": "https://localhost:8080/"
    },
    "executionInfo": {
     "status": "ok",
     "timestamp": 1694962832914,
     "user_tz": -120,
     "elapsed": 252,
     "user": {
      "displayName": "Jesus Prada",
      "userId": "01990672692810654269"
     }
    },
    "outputId": "a14f63a7-5a1d-4d24-fd45-d2ee89fffec3"
   },
   "outputs": [
    {
     "output_type": "stream",
     "name": "stdout",
     "text": [
      "Old train data size = (22894, 25)\n",
      "Old train target size = (22894,)\n",
      "New train data size = (27800, 25)\n",
      "New train target size = (27800,)\n"
     ]
    }
   ],
   "source": [
    "print('Old train data size = ' + str(X_train.shape))\n",
    "print('Old train target size = ' + str(y_train.shape))\n",
    "\n",
    "# Combine train and validación\n",
    "X_train = np.concatenate((X_train, X_val), axis = 0)\n",
    "y_train = np.concatenate((y_train, y_val), axis = 0)\n",
    "\n",
    "print('New train data size = ' + str(X_train.shape))\n",
    "print('New train target size = ' + str(y_train.shape))"
   ]
  },
  {
   "cell_type": "code",
   "execution_count": 20,
   "metadata": {
    "id": "Etu_FMMkR1j2",
    "colab": {
     "base_uri": "https://localhost:8080/"
    },
    "executionInfo": {
     "status": "ok",
     "timestamp": 1694963180546,
     "user_tz": -120,
     "elapsed": 7411,
     "user": {
      "displayName": "Jesus Prada",
      "userId": "01990672692810654269"
     }
    },
    "outputId": "b561409b-41ed-4762-904d-59a1568334ed",
    "ExecuteTime": {
     "end_time": "2023-09-18T18:04:32.146001200Z",
     "start_time": "2023-09-18T18:04:32.124658300Z"
    }
   },
   "outputs": [
    {
     "ename": "NameError",
     "evalue": "name 'best_model' is not defined",
     "output_type": "error",
     "traceback": [
      "\u001B[1;31m---------------------------------------------------------------------------\u001B[0m",
      "\u001B[1;31mNameError\u001B[0m                                 Traceback (most recent call last)",
      "Cell \u001B[1;32mIn[20], line 6\u001B[0m\n\u001B[0;32m      1\u001B[0m \u001B[38;5;66;03m# [3] Define model\u001B[39;00m\n\u001B[0;32m      2\u001B[0m model \u001B[38;5;241m=\u001B[39m model_constructor(criterion \u001B[38;5;241m=\u001B[39m \u001B[38;5;124m'\u001B[39m\u001B[38;5;124mgini\u001B[39m\u001B[38;5;124m'\u001B[39m,\n\u001B[0;32m      3\u001B[0m                           max_depth \u001B[38;5;241m=\u001B[39m \u001B[38;5;28;01mNone\u001B[39;00m,\n\u001B[0;32m      4\u001B[0m                           min_samples_split \u001B[38;5;241m=\u001B[39m \u001B[38;5;241m2\u001B[39m,\n\u001B[0;32m      5\u001B[0m                           min_samples_leaf \u001B[38;5;241m=\u001B[39m \u001B[38;5;241m1\u001B[39m,\n\u001B[1;32m----> 6\u001B[0m                           max_features \u001B[38;5;241m=\u001B[39m \u001B[38;5;28mint\u001B[39m(\u001B[43mbest_model\u001B[49m\u001B[38;5;241m.\u001B[39mmax_features),\n\u001B[0;32m      7\u001B[0m                           n_estimators \u001B[38;5;241m=\u001B[39m  \u001B[38;5;28mint\u001B[39m(best_model\u001B[38;5;241m.\u001B[39mn_estimators),\n\u001B[0;32m      8\u001B[0m                           max_samples \u001B[38;5;241m=\u001B[39m \u001B[38;5;28mint\u001B[39m(best_model\u001B[38;5;241m.\u001B[39mmax_samples),\n\u001B[0;32m      9\u001B[0m                           random_state \u001B[38;5;241m=\u001B[39m \u001B[38;5;241m0\u001B[39m) \u001B[38;5;66;03m# Use same random_state as in training!!!\u001B[39;00m\n\u001B[0;32m     11\u001B[0m \u001B[38;5;66;03m# [4] Train model\u001B[39;00m\n\u001B[0;32m     12\u001B[0m model\u001B[38;5;241m.\u001B[39mfit(X_train, y_train)\n",
      "\u001B[1;31mNameError\u001B[0m: name 'best_model' is not defined"
     ]
    }
   ],
   "source": [
    "# [3] Define model\n",
    "model = model_constructor(criterion = 'gini',\n",
    "                          max_depth = None,\n",
    "                          min_samples_split = 2,\n",
    "                          min_samples_leaf = 1,\n",
    "                          max_features = int(best_model.max_features),\n",
    "                          n_estimators =  int(best_model.n_estimators),\n",
    "                          max_samples = int(best_model.max_samples),\n",
    "                          random_state = 0) # Use same random_state as in training!!!\n",
    "\n",
    "# [4] Train model\n",
    "model.fit(X_train, y_train)\n",
    "\n",
    "# [5] Predict\n",
    "pred_train = model.predict(X_train)\n",
    "pred_test = model.predict(X_test)\n",
    "\n",
    "# [6] Compute metric\n",
    "metric_train = metric(y_train, pred_train)\n",
    "metric_test = metric(y_test, pred_test)\n",
    "\n"
   ]
  },
  {
   "cell_type": "code",
   "execution_count": null,
   "metadata": {
    "id": "lp34PgirR1j2"
   },
   "outputs": [],
   "source": [
    "# print error\n",
    "print('AUC train = %.2f - AUC test = %.2f'\n",
    "      % (metric_train, metric_test))"
   ]
  },
  {
   "cell_type": "code",
   "source": [],
   "metadata": {
    "id": "k1wGTMJOpzcr"
   },
   "execution_count": null,
   "outputs": []
  }
 ],
 "metadata": {
  "kernelspec": {
   "display_name": "Python 3",
   "language": "python",
   "name": "python3"
  },
  "language_info": {
   "codemirror_mode": {
    "name": "ipython",
    "version": 3
   },
   "file_extension": ".py",
   "mimetype": "text/x-python",
   "name": "python",
   "nbconvert_exporter": "python",
   "pygments_lexer": "ipython3",
   "version": "3.8.5"
  },
  "colab": {
   "provenance": [
    {
     "file_id": "1YILhgx_tcyf_UF-8wWXV17z_eq4uqdwa",
     "timestamp": 1694962116181
    }
   ]
  }
 },
 "nbformat": 4,
 "nbformat_minor": 0
}
